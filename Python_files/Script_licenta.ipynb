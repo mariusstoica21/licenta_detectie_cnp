{
 "cells": [
  {
   "cell_type": "markdown",
   "id": "06dda61b",
   "metadata": {},
   "source": [
    "<h1>Script licență</h1>"
   ]
  },
  {
   "cell_type": "markdown",
   "id": "feb6d287",
   "metadata": {},
   "source": [
    "Acest script are ca scop preluarea imaginii cu actul de identitate ales, folosind aplicația desktop, pentru a fi procesat, detecția și localizarea cifrelor din CNP, preluarea fiecărei cifre și crearea unui dataset folosit pentru a prezice aceste cifre folosind rețeaua neuronală convoluțională, salvarea rezultatelor în urma aplicării convoluțiilor și max-pooling pe fiecare dintre cele 13 cifre, convertirea pixelilor din zecimal în fixed point și crearea unui fișier de input care ar urma să fie trimis la placa de dezvoltare.  "
   ]
  },
  {
   "cell_type": "code",
   "execution_count": 290,
   "id": "bc246a2d",
   "metadata": {},
   "outputs": [],
   "source": [
    "import tensorflow as tf\n",
    "from tensorflow import keras\n",
    "from tensorflow.keras import datasets, layers, models\n",
    "import matplotlib.pyplot as plt\n",
    "%matplotlib inline\n",
    "import numpy as np"
   ]
  },
  {
   "cell_type": "code",
   "execution_count": 291,
   "id": "f67497d6",
   "metadata": {},
   "outputs": [],
   "source": [
    "import pytesseract\n",
    "import numpy as np\n",
    "import cv2\n",
    "import matplotlib as plt\n",
    "from PIL import Image"
   ]
  },
  {
   "cell_type": "markdown",
   "id": "89f7a88c",
   "metadata": {},
   "source": [
    "Script-ul se va rula în întregime, folosind comanda \"Run All\". Execuția script-ului se va opri pentru a fi selectată imaginea care se dorește a fi procesată din aplicația desktop. Odată selectată imaginea, aceasta va fi salvată în folderul chosen_image cu denumirea buletin.jpg. În momentul în care este salvată, execuția scriptului va continua."
   ]
  },
  {
   "cell_type": "code",
   "execution_count": 292,
   "id": "e183f547",
   "metadata": {},
   "outputs": [
    {
     "name": "stdout",
     "output_type": "stream",
     "text": [
      "exists\n"
     ]
    }
   ],
   "source": [
    "import os.path\n",
    "import time\n",
    "\n",
    "file_path = \"C:\\\\Users\\\\Marius\\\\Documents\\\\Embarcadero\\\\Studio\\\\PC2Basys3\\\\Win32\\\\Debug\\\\chosen_image\\\\buletin.jpg\"\n",
    "ok = 0\n",
    "\n",
    "while not os.path.exists(file_path):\n",
    "    time.sleep(1)\n",
    "\n",
    "if os.path.isfile(file_path):\n",
    "    print('exists')\n",
    "    ok = 1\n",
    "else:\n",
    "    print('does not exit')\n",
    "    ok = 0"
   ]
  },
  {
   "cell_type": "code",
   "execution_count": 293,
   "id": "b4a778f1",
   "metadata": {},
   "outputs": [
    {
     "name": "stdout",
     "output_type": "stream",
     "text": [
      "1\n"
     ]
    }
   ],
   "source": [
    "print(ok)"
   ]
  },
  {
   "cell_type": "markdown",
   "id": "1e489d4d",
   "metadata": {},
   "source": [
    "În momentul în care este aleasă imaginea cu buletinul, vor fi salvați parametrii corespunzători imaginii în fișierul config.txt. Parametrii imaginii sunt fx și fy (coeficienții cu care se va face resize la imagine pentru a fi detectate cu ușurință cifrele din CNP) și threshold-ul pentru care se face binarizarea imaginilor cu cifrele."
   ]
  },
  {
   "cell_type": "code",
   "execution_count": 294,
   "id": "d6112117",
   "metadata": {},
   "outputs": [],
   "source": [
    "myfile = open('C:\\\\Users\\\\Marius\\\\Documents\\\\Embarcadero\\\\Studio\\\\PC2Basys3\\\\Win32\\\\Debug\\\\chosen_image\\\\config.txt')   # Windows\n",
    "mytxt = myfile.read()\n",
    "myfile.close()"
   ]
  },
  {
   "cell_type": "code",
   "execution_count": 295,
   "id": "64760698",
   "metadata": {},
   "outputs": [
    {
     "name": "stdout",
     "output_type": "stream",
     "text": [
      "2\n",
      "2\n",
      "140\n",
      "\n"
     ]
    }
   ],
   "source": [
    "print(mytxt)"
   ]
  },
  {
   "cell_type": "code",
   "execution_count": 296,
   "id": "d5f7ea3c",
   "metadata": {},
   "outputs": [],
   "source": [
    "fx_val = float(mytxt.splitlines()[0])\n",
    "fy_val = float(mytxt.splitlines()[1])\n",
    "threshold = int(mytxt.splitlines()[2])"
   ]
  },
  {
   "cell_type": "code",
   "execution_count": 297,
   "id": "545b5e97",
   "metadata": {},
   "outputs": [],
   "source": [
    "img = cv2.imread(file_path)"
   ]
  },
  {
   "cell_type": "code",
   "execution_count": 298,
   "id": "1921dc94",
   "metadata": {},
   "outputs": [
    {
     "data": {
      "text/plain": [
       "(293, 482, 3)"
      ]
     },
     "execution_count": 298,
     "metadata": {},
     "output_type": "execute_result"
    }
   ],
   "source": [
    "img.shape"
   ]
  },
  {
   "cell_type": "markdown",
   "id": "742208af",
   "metadata": {},
   "source": [
    "buletinBeianAdriana.jpg fx = 2.5 fy = 2.5 threshold = 140 rezultat: 13/13 <br>\n",
    "buletinBeianDragos.jpg fx = 2.0 fy = 2.0 threshold = 140 rezultat 10/13 (3 greseli la 7 in loc de 1) <br>\n",
    "buletinTatarLiliana.jpg fx = 2.0 fy = 2.0 threshold = 140 rezultat: 10/13 (2 greseli la 7 in loc de 1) <br>\n",
    "buletinStoicaMarius.jpg fx = 1.5 fy = 1.5 threshold = 120 rezultat 8/13 (2 greseli la 7 in loc de 1) <br> \n",
    "buletinKissSandor.jpg fx = 1.2 fy = 1.2 threshold = 120 rezultat 8/13 (3 greseli la 7 in loc de 1) <br>\n"
   ]
  },
  {
   "cell_type": "markdown",
   "id": "1eb8e7ae",
   "metadata": {},
   "source": [
    "Imaginea a fost redimensionată, având ca și parametrii fx și fy, preluați din fișierul de configurare. Parametrii fx și fy au valori diferite pentru imagini diferite. Valorile vor fi stabilite prin încercări multiple, de la 0.5, fiind incrementat cu câte 0.5, uneori ajungând chiar până la 3.0. "
   ]
  },
  {
   "cell_type": "code",
   "execution_count": 299,
   "id": "6217795d",
   "metadata": {},
   "outputs": [],
   "source": [
    "img = cv2.resize(img,None,fx = fx_val,fy = fy_val)"
   ]
  },
  {
   "cell_type": "code",
   "execution_count": 300,
   "id": "f7423636",
   "metadata": {},
   "outputs": [
    {
     "data": {
      "text/plain": [
       "(586, 964, 3)"
      ]
     },
     "execution_count": 300,
     "metadata": {},
     "output_type": "execute_result"
    }
   ],
   "source": [
    "img.shape"
   ]
  },
  {
   "cell_type": "markdown",
   "id": "9a57460a",
   "metadata": {},
   "source": [
    "În cele ce urmează sunt implementate funcții de preprocesare a imaginii, înainte de a aplica algoritmul OCR."
   ]
  },
  {
   "cell_type": "code",
   "execution_count": 301,
   "id": "ea4a7f97",
   "metadata": {},
   "outputs": [],
   "source": [
    "# get grayscale image\n",
    "def get_grayscale(image):\n",
    "    return cv2.cvtColor(image, cv2.COLOR_BGR2GRAY)\n",
    "\n",
    "#canny edge detection\n",
    "def canny(image):\n",
    "    return cv2.Canny(image, 100, 200)\n"
   ]
  },
  {
   "cell_type": "markdown",
   "id": "56797891",
   "metadata": {},
   "source": [
    "Funcția get_grayscale face ca o imagine RGB cu 3 canale de culoare, să devină o imagine grayscale, cu un singur canal de culoare. Funcția thresholding preia imaginea grayscale și o binarizează, folosind un threshold. Funcția opening are rolul de a elimina zgomotele din imagine. Funcția canny are rolul de a detecta muchiile."
   ]
  },
  {
   "cell_type": "code",
   "execution_count": 302,
   "id": "1c98c008",
   "metadata": {},
   "outputs": [],
   "source": [
    "gray = get_grayscale(img)\n",
    "canny = canny(gray)"
   ]
  },
  {
   "cell_type": "markdown",
   "id": "05bf6e22",
   "metadata": {},
   "source": [
    "În folderul Tesseract-OCR a fost instalată aplicația tesseract. Pentru a putea fi folosit tesseract în aplicația de față, este necesară încărcarea executabilului din folderul Tesseract-OCR."
   ]
  },
  {
   "cell_type": "code",
   "execution_count": 303,
   "id": "a2357285",
   "metadata": {},
   "outputs": [],
   "source": [
    "pytesseract.pytesseract.tesseract_cmd = r\"C:\\Program Files\\Tesseract-OCR\\tesseract.exe\""
   ]
  },
  {
   "cell_type": "code",
   "execution_count": 304,
   "id": "db541572",
   "metadata": {},
   "outputs": [],
   "source": [
    "img.shape\n",
    "hImage = img.shape[0]\n",
    "wImage = img.shape[1]"
   ]
  },
  {
   "cell_type": "code",
   "execution_count": 305,
   "id": "a4467cba",
   "metadata": {},
   "outputs": [
    {
     "data": {
      "text/plain": [
       "(586, 964)"
      ]
     },
     "execution_count": 305,
     "metadata": {},
     "output_type": "execute_result"
    }
   ],
   "source": [
    "hImage,wImage"
   ]
  },
  {
   "cell_type": "markdown",
   "id": "dc9820f4",
   "metadata": {},
   "source": [
    "Folosind funcția image_to_boxes, aplicată pe imaginea canny, au fost detectate multe dintre caracterele din imagine."
   ]
  },
  {
   "cell_type": "code",
   "execution_count": 306,
   "id": "82109457",
   "metadata": {},
   "outputs": [],
   "source": [
    "boxes = pytesseract.image_to_boxes(canny)"
   ]
  },
  {
   "cell_type": "code",
   "execution_count": 307,
   "id": "1b652dfd",
   "metadata": {},
   "outputs": [
    {
     "name": "stdout",
     "output_type": "stream",
     "text": [
      "R 7 542 35 577 0\n",
      "O 37 541 71 577 0\n",
      "U 75 541 102 576 0\n",
      "M 106 540 141 575 0\n",
      "A 143 540 174 575 0\n",
      "N 177 539 205 575 0\n",
      "I 210 539 218 574 0\n",
      "E 223 538 249 574 0\n",
      "| 288 531 289 579 0\n",
      "} 288 531 301 579 0\n",
      "? 314 556 324 575 0\n",
      ". 339 534 347 546 0\n",
      "0 350 534 382 579 0\n",
      "j 400 529 429 586 0\n",
      "u 417 522 449 565 0\n",
      "s 465 527 507 576 0\n",
      "| 564 515 600 586 0\n",
      "/ 635 569 665 584 0\n",
      "| 700 515 724 586 0\n",
      "R 738 532 768 567 0\n",
      "O 771 531 805 567 0\n",
      "M 808 530 844 566 0\n",
      "A 844 530 877 565 0\n",
      "N 880 529 910 564 0\n",
      "I 914 529 923 564 0\n",
      "A 925 528 956 563 0\n",
      "G 478 489 494 507 0\n",
      "A 497 489 511 506 0\n",
      "R 515 489 529 506 0\n",
      "T 530 490 546 506 0\n",
      "E 549 489 561 506 0\n",
      "O 575 488 589 505 0\n",
      "E 591 487 605 505 0\n",
      "I 617 486 641 506 0\n",
      "D 635 486 646 506 0\n",
      "E 645 487 659 504 0\n",
      "N 662 487 677 504 0\n",
      "T 680 487 694 504 0\n",
      "T 705 486 720 503 0\n",
      "A 720 487 734 505 0\n",
      "T 736 486 752 502 0\n",
      "E 754 485 768 503 0\n",
      "o 849 481 863 497 0\n",
      "e 865 481 887 497 0\n",
      "r 890 480 943 497 0\n",
      "T 920 470 928 513 0\n",
      "y 927 470 946 513 0\n",
      "o 291 475 305 491 0\n",
      "n 306 475 316 490 0\n",
      "e 315 475 332 510 0\n",
      "e 331 473 362 509 0\n",
      "t 361 473 385 511 0\n",
      "r 384 473 397 489 0\n",
      "e 398 472 411 489 0\n",
      "c 495 463 499 465 0\n",
      "a 492 459 516 476 0\n",
      "p 514 441 523 458 0\n",
      "a 517 460 539 476 0\n",
      "| 561 459 563 475 0\n",
      "M 559 459 577 484 0\n",
      "S 578 459 593 483 0\n",
      "u 609 458 615 473 0\n",
      "- 617 459 636 473 0\n",
      "7 645 458 664 484 0\n",
      "S 663 457 700 484 0\n",
      "P 684 455 702 484 0\n",
      "B 700 457 718 483 0\n",
      "O 719 456 737 483 0\n",
      "1 738 455 749 482 0\n",
      "a 891 460 922 477 0\n",
      "e 279 439 292 455 0\n",
      "n 293 439 319 455 0\n",
      "2 326 434 343 461 0\n",
      "9 344 433 361 461 0\n",
      "5 361 434 377 459 0\n",
      "1 378 433 389 458 0\n",
      "1 393 434 403 459 0\n",
      "0 407 433 425 459 0\n",
      "2 424 433 441 459 0\n",
      "2 440 432 458 459 0\n",
      "6 459 431 476 458 0\n",
      "0 477 432 494 459 0\n",
      "0 496 435 510 459 0\n",
      "6 514 431 530 458 0\n",
      "8 532 431 550 457 0\n",
      ", 542 431 550 461 0\n",
      "K 738 411 758 436 0\n",
      "O 758 410 776 437 0\n",
      "P 776 411 794 435 0\n",
      "I 795 410 808 435 0\n",
      "O 809 410 826 434 0\n",
      "i 279 377 336 424 0\n",
      "t 327 377 350 424 0\n",
      "a 368 376 398 422 0\n",
      "e 382 405 425 422 0\n",
      "S 427 395 442 425 0\n",
      "a 442 395 450 425 0\n",
      "i 431 404 478 419 0\n",
      ") 464 395 482 425 0\n",
      "P 279 358 290 373 0\n",
      "r 291 358 297 369 0\n",
      "o 298 357 308 369 0\n",
      "n 309 357 319 369 0\n",
      "u 323 352 334 373 0\n",
      "m 321 356 348 368 0\n",
      "o 349 356 359 369 0\n",
      "P 361 355 379 371 0\n",
      "r 379 355 386 367 0\n",
      "e 387 355 397 367 0\n",
      "n 398 355 408 367 0\n",
      "o 409 355 420 367 0\n",
      "a 424 355 428 364 0\n",
      "n 422 352 487 370 0\n",
      "F 445 345 454 377 0\n",
      "i 453 345 462 377 0\n",
      "r 461 345 470 377 0\n",
      "s 469 345 478 377 0\n",
      "t 477 345 486 377 0\n",
      "m 493 351 505 368 0\n",
      "b 491 352 528 368 0\n",
      "a 515 351 523 368 0\n",
      "r 523 351 534 368 0\n",
      "g 525 351 541 365 0\n",
      "| 1 240 31 344 0\n",
      "L 277 305 309 354 0\n",
      "I 296 301 311 358 0\n",
      "L 311 325 340 350 0\n",
      "I 330 301 345 358 0\n",
      "A 341 325 359 350 0\n",
      "N 359 325 393 350 0\n",
      "N 359 325 377 350 0\n",
      "A 376 325 393 349 0\n",
      "C 394 335 408 341 0\n",
      "C 413 310 421 354 0\n",
      "G 409 323 442 349 0\n",
      "A 432 334 437 341 0\n",
      "B 444 323 461 348 0\n",
      "R 465 310 484 354 0\n",
      "I 463 322 511 347 0\n",
      "E 499 337 501 343 0\n",
      "L 512 321 545 347 0\n",
      "A 534 332 539 340 0\n",
      "L 303 304 323 321 0\n",
      "j 323 301 326 320 0\n",
      "O 327 306 337 320 0\n",
      "n 339 306 349 317 0\n",
      "l 350 304 355 320 0\n",
      "e 356 305 372 320 0\n",
      "i 367 300 376 321 0\n",
      "N 373 306 386 319 0\n",
      "o 386 304 409 319 0\n",
      "v 398 300 410 321 0\n",
      "e 410 304 421 316 0\n",
      "m 421 304 433 315 0\n",
      "a 433 304 447 317 0\n",
      "M 447 303 462 318 0\n",
      "a 463 303 474 314 0\n",
      "r 474 300 489 321 0\n",
      "n 475 302 505 317 0\n",
      "i 506 300 517 321 0\n",
      "e 518 301 557 315 0\n",
      "I 537 293 543 327 0\n",
      "H 542 293 552 327 0\n",
      "t 564 301 569 316 0\n",
      "e 570 301 575 312 0\n",
      ", 801 294 834 300 0\n",
      "S 843 292 856 306 0\n",
      "a 842 293 875 306 0\n",
      "H 867 292 879 306 0\n",
      "0 876 292 887 305 0\n",
      "R 277 276 301 323 0\n",
      "e 294 275 311 293 0\n",
      "m 312 275 330 293 0\n",
      "a 332 275 346 299 0\n",
      "n 348 273 365 293 0\n",
      "d 366 273 382 299 0\n",
      "/ 395 273 410 299 0\n",
      "R 424 271 440 297 0\n",
      "O 441 272 458 297 0\n",
      "U 461 271 477 297 0\n",
      "L 271 243 287 275 0\n",
      "a 275 254 309 271 0\n",
      "s 297 243 309 275 0\n",
      "n 315 253 336 266 0\n",
      "a 327 250 335 271 0\n",
      "g 337 250 346 265 0\n",
      "t 348 253 353 267 0\n",
      "o 354 253 364 265 0\n",
      "r 365 254 370 264 0\n",
      "o 372 253 384 265 0\n",
      "j 383 251 389 267 0\n",
      "U 391 250 402 271 0\n",
      "i 390 252 416 268 0\n",
      "o 409 250 418 271 0\n",
      "y 417 251 428 264 0\n",
      "d 435 251 447 266 0\n",
      "e 447 251 457 263 0\n",
      "a 463 248 475 263 0\n",
      "a 475 250 486 263 0\n",
      "l 484 248 493 263 0\n",
      "s 492 248 501 263 0\n",
      "y 492 254 508 262 0\n",
      "e 513 222 562 262 0\n",
      "a 565 222 593 264 0\n",
      "S 580 248 604 261 0\n",
      "O 594 245 617 261 0\n",
      "C 621 247 636 259 0\n",
      "L 645 246 650 260 0\n",
      "3 683 245 688 260 0\n",
      "H 276 225 294 250 0\n",
      "u 295 225 312 244 0\n",
      "n 314 224 330 243 0\n",
      ", 332 224 339 231 0\n",
      "T 349 223 365 248 0\n",
      "i 365 223 377 248 0\n",
      "r 379 217 391 248 0\n",
      "g 377 217 407 241 0\n",
      "u 409 222 441 245 0\n",
      "F 442 228 448 236 0\n",
      "i 445 221 454 245 0\n",
      "u 455 221 473 241 0\n",
      "r 474 221 487 239 0\n",
      "e 487 220 503 239 0\n",
      "s 504 212 520 239 0\n",
      "J 528 219 541 244 0\n",
      "u 543 217 560 241 0\n",
      "d 562 218 579 244 0\n",
      ") 574 217 579 244 0\n",
      ", 581 219 587 225 0\n",
      "f 595 217 610 242 0\n",
      "u 608 217 634 242 0\n",
      "r 635 202 650 246 0\n",
      "e 635 217 681 235 0\n",
      "s 649 206 683 229 0\n",
      "D 273 203 287 219 0\n",
      "o 288 203 299 215 0\n",
      "m 298 195 307 219 0\n",
      "n 299 203 316 215 0\n",
      "b 317 203 318 217 0\n",
      "e 319 202 334 218 0\n",
      "t 330 195 336 219 0\n",
      "l 335 201 342 218 0\n",
      "l 341 195 352 219 0\n",
      "u 343 202 359 217 0\n",
      "~ 360 199 367 217 0\n",
      "A 370 195 379 219 0\n",
      "c 366 201 391 218 0\n",
      "e 391 201 398 213 0\n",
      "o 399 201 409 213 0\n",
      "s 410 195 421 219 0\n",
      "s 409 199 441 213 0\n",
      "o 431 195 443 219 0\n",
      "s 441 199 449 214 0\n",
      "a 452 206 458 207 0\n",
      "d 448 199 473 216 0\n",
      "h 474 195 485 219 0\n",
      "e 474 199 503 214 0\n",
      "r 493 195 501 219 0\n",
      "r 501 195 512 219 0\n",
      "e 504 195 524 211 0\n",
      "s 519 195 524 219 0\n",
      "S 255 166 290 197 0\n",
      "a 290 173 307 191 0\n",
      "t 299 162 315 207 0\n",
      ". 307 172 328 196 0\n",
      "_ 324 139 340 165 0\n",
      "f 339 138 358 196 0\n",
      "i 354 138 386 197 0\n",
      "n 388 170 405 189 0\n",
      "e 406 170 422 189 0\n",
      "y 422 162 437 189 0\n",
      "t 438 169 462 195 0\n",
      "C 472 167 498 195 0\n",
      "o 498 167 516 188 0\n",
      "m 504 165 535 211 0\n",
      ", 537 165 544 176 0\n",
      "L 554 165 572 195 0\n",
      "i 576 186 581 191 0\n",
      "v 571 165 600 186 0\n",
      "e 599 165 616 183 0\n",
      "z 616 164 647 183 0\n",
      "e 636 175 642 179 0\n",
      "n 647 163 665 195 0\n",
      "D 647 163 688 189 0\n",
      "J 697 162 710 187 0\n",
      "u 713 162 730 181 0\n",
      "d 726 161 740 187 0\n",
      ". 731 161 779 187 0\n",
      "M 770 150 785 185 0\n",
      "u 784 150 807 185 0\n",
      "r 806 150 820 185 0\n",
      "e 787 159 851 179 0\n",
      "s 836 150 852 177 0\n",
      "A 283 139 299 159 0\n",
      "R 300 139 315 158 0\n",
      ". 315 139 340 165 0\n",
      "S 33 116 47 141 0\n",
      "y 43 111 59 146 0\n",
      "s 48 115 79 142 0\n",
      ") 69 111 82 146 0\n",
      "M 200 111 217 136 0\n",
      "I 210 107 222 141 0\n",
      "S 218 111 234 135 0\n",
      "} 230 107 236 141 0\n",
      "c 273 116 307 133 0\n",
      "e 307 115 358 164 0\n",
      "t 357 108 383 161 0\n",
      "e 405 112 433 131 0\n",
      "a 425 115 430 119 0\n",
      "p 439 108 449 124 0\n",
      "a 449 111 471 125 0\n",
      "s 461 100 468 168 0\n",
      "t 465 111 507 127 0\n",
      "y 506 104 555 126 0\n",
      "v 687 105 725 117 0\n",
      "e 726 108 738 120 0\n",
      "B 755 107 761 116 0\n",
      "I 772 111 779 116 0\n",
      "F 848 108 854 115 0\n",
      "R 853 108 854 115 0\n",
      "L 873 100 894 110 0\n",
      "t 923 101 935 113 0\n",
      "S 273 85 288 110 0\n",
      "P 290 85 306 109 0\n",
      "C 308 85 322 109 0\n",
      "L 321 83 338 110 0\n",
      "E 324 83 355 109 0\n",
      "P 357 83 374 110 0\n",
      "T 384 82 400 107 0\n",
      "e 399 76 416 101 0\n",
      ". 418 81 424 88 0\n",
      "i 426 81 444 106 0\n",
      "u 446 80 462 99 0\n",
      "r 464 79 493 98 0\n",
      "e 479 71 495 107 0\n",
      "s 495 71 509 97 0\n",
      "2 646 67 662 115 0\n",
      "9 646 74 682 101 0\n",
      ". 682 74 689 80 0\n",
      "0 691 73 709 100 0\n",
      "1 710 73 721 99 0\n",
      ". 725 73 731 79 0\n",
      "1 733 73 745 98 0\n",
      "6 753 67 763 115 0\n",
      "- 747 70 815 115 0\n",
      "0 782 67 797 115 0\n",
      "2 796 67 812 115 0\n",
      ". 815 70 823 77 0\n",
      "1 825 69 835 95 0\n",
      "1 839 69 851 94 0\n",
      ". 849 67 865 115 0\n",
      "2 864 67 879 115 0\n",
      "0 854 67 915 95 0\n",
      "2 893 67 913 115 0\n",
      "4 916 67 927 93 0\n",
      "X 44 41 57 65 0\n",
      "O 67 40 82 64 0\n",
      "R 90 38 107 64 0\n",
      "O 112 39 129 63 0\n",
      "U 136 38 153 62 0\n",
      "T 161 37 176 61 0\n",
      "A 183 36 199 60 0\n",
      "T 208 36 222 60 0\n",
      "A 231 35 247 59 0\n",
      "R 255 34 271 59 0\n",
      "< 279 36 295 58 0\n",
      "< 302 35 319 57 0\n",
      "L 327 32 343 56 0\n",
      "I 351 31 365 55 0\n",
      "L 374 31 390 55 0\n",
      "I 398 30 413 54 0\n",
      "A 421 29 437 53 0\n",
      "N 445 28 462 53 0\n",
      "A 469 28 485 52 0\n",
      "< 494 29 511 51 0\n",
      "G 517 26 534 50 0\n",
      "A 540 25 557 49 0\n",
      "B 564 25 582 49 0\n",
      "R 590 24 606 48 0\n",
      "I 614 23 629 47 0\n",
      "E 638 22 654 47 0\n",
      "L 662 21 681 46 0\n",
      "A 685 21 703 45 0\n",
      "K 710 23 729 44 0\n",
      "c 735 21 752 43 0\n",
      "K 758 20 777 42 0\n",
      "e 783 20 801 42 0\n",
      "e 808 20 826 41 0\n",
      "e 831 18 850 41 0\n",
      "e 856 18 874 39 0\n",
      "e 881 17 898 39 0\n",
      "M 41 0 58 9 0\n",
      "R 62 0 74 9 0\n",
      "A 66 0 81 8 0\n",
      "D 88 0 105 9 0\n",
      "P 98 0 110 9 0\n",
      "m 113 0 127 9 0\n",
      "a 134 0 152 8 0\n",
      "m 160 0 175 7 0\n",
      "a 168 0 180 9 0\n",
      "m 183 0 199 7 0\n",
      ". 209 0 217 5 0\n",
      ". 242 0 247 3 0\n",
      "_ 254 0 270 3 0\n",
      ". 276 1 288 2 0\n",
      "\n"
     ]
    }
   ],
   "source": [
    "print(boxes)"
   ]
  },
  {
   "cell_type": "markdown",
   "id": "fe6ff531",
   "metadata": {},
   "source": [
    "Caracterele au fost introduse într-un array unidimensional."
   ]
  },
  {
   "cell_type": "code",
   "execution_count": 308,
   "id": "7e128388",
   "metadata": {},
   "outputs": [],
   "source": [
    "l = []\n",
    "for b in boxes.splitlines():\n",
    "    b = b.split(' ')\n",
    "    l.append(b[0])"
   ]
  },
  {
   "cell_type": "code",
   "execution_count": 309,
   "id": "8d89bddb",
   "metadata": {},
   "outputs": [
    {
     "name": "stdout",
     "output_type": "stream",
     "text": [
      "['R', 'O', 'U', 'M', 'A', 'N', 'I', 'E', '|', '}', '?', '.', '0', 'j', 'u', 's', '|', '/', '|', 'R', 'O', 'M', 'A', 'N', 'I', 'A', 'G', 'A', 'R', 'T', 'E', 'O', 'E', 'I', 'D', 'E', 'N', 'T', 'T', 'A', 'T', 'E', 'o', 'e', 'r', 'T', 'y', 'o', 'n', 'e', 'e', 't', 'r', 'e', 'c', 'a', 'p', 'a', '|', 'M', 'S', 'u', '-', '7', 'S', 'P', 'B', 'O', '1', 'a', 'e', 'n', '2', '9', '5', '1', '1', '0', '2', '2', '6', '0', '0', '6', '8', ',', 'K', 'O', 'P', 'I', 'O', 'i', 't', 'a', 'e', 'S', 'a', 'i', ')', 'P', 'r', 'o', 'n', 'u', 'm', 'o', 'P', 'r', 'e', 'n', 'o', 'a', 'n', 'F', 'i', 'r', 's', 't', 'm', 'b', 'a', 'r', 'g', '|', 'L', 'I', 'L', 'I', 'A', 'N', 'N', 'A', 'C', 'C', 'G', 'A', 'B', 'R', 'I', 'E', 'L', 'A', 'L', 'j', 'O', 'n', 'l', 'e', 'i', 'N', 'o', 'v', 'e', 'm', 'a', 'M', 'a', 'r', 'n', 'i', 'e', 'I', 'H', 't', 'e', ',', 'S', 'a', 'H', '0', 'R', 'e', 'm', 'a', 'n', 'd', '/', 'R', 'O', 'U', 'L', 'a', 's', 'n', 'a', 'g', 't', 'o', 'r', 'o', 'j', 'U', 'i', 'o', 'y', 'd', 'e', 'a', 'a', 'l', 's', 'y', 'e', 'a', 'S', 'O', 'C', 'L', '3', 'H', 'u', 'n', ',', 'T', 'i', 'r', 'g', 'u', 'F', 'i', 'u', 'r', 'e', 's', 'J', 'u', 'd', ')', ',', 'f', 'u', 'r', 'e', 's', 'D', 'o', 'm', 'n', 'b', 'e', 't', 'l', 'l', 'u', '~', 'A', 'c', 'e', 'o', 's', 's', 'o', 's', 'a', 'd', 'h', 'e', 'r', 'r', 'e', 's', 'S', 'a', 't', '.', '_', 'f', 'i', 'n', 'e', 'y', 't', 'C', 'o', 'm', ',', 'L', 'i', 'v', 'e', 'z', 'e', 'n', 'D', 'J', 'u', 'd', '.', 'M', 'u', 'r', 'e', 's', 'A', 'R', '.', 'S', 'y', 's', ')', 'M', 'I', 'S', '}', 'c', 'e', 't', 'e', 'a', 'p', 'a', 's', 't', 'y', 'v', 'e', 'B', 'I', 'F', 'R', 'L', 't', 'S', 'P', 'C', 'L', 'E', 'P', 'T', 'e', '.', 'i', 'u', 'r', 'e', 's', '2', '9', '.', '0', '1', '.', '1', '6', '-', '0', '2', '.', '1', '1', '.', '2', '0', '2', '4', 'X', 'O', 'R', 'O', 'U', 'T', 'A', 'T', 'A', 'R', '<', '<', 'L', 'I', 'L', 'I', 'A', 'N', 'A', '<', 'G', 'A', 'B', 'R', 'I', 'E', 'L', 'A', 'K', 'c', 'K', 'e', 'e', 'e', 'e', 'e', 'M', 'R', 'A', 'D', 'P', 'm', 'a', 'm', 'a', 'm', '.', '.', '_', '.']\n"
     ]
    }
   ],
   "source": [
    "print(l)"
   ]
  },
  {
   "cell_type": "code",
   "execution_count": 310,
   "id": "76b4c7de",
   "metadata": {},
   "outputs": [],
   "source": [
    "l = []\n",
    "for b in boxes.splitlines():\n",
    "    b = b.split(' ')\n",
    "    l.append(b[0])"
   ]
  },
  {
   "cell_type": "code",
   "execution_count": 311,
   "id": "f0f0f095",
   "metadata": {},
   "outputs": [
    {
     "name": "stdout",
     "output_type": "stream",
     "text": [
      "['R', 'O', 'U', 'M', 'A', 'N', 'I', 'E', '|', '}', '?', '.', '0', 'j', 'u', 's', '|', '/', '|', 'R', 'O', 'M', 'A', 'N', 'I', 'A', 'G', 'A', 'R', 'T', 'E', 'O', 'E', 'I', 'D', 'E', 'N', 'T', 'T', 'A', 'T', 'E', 'o', 'e', 'r', 'T', 'y', 'o', 'n', 'e', 'e', 't', 'r', 'e', 'c', 'a', 'p', 'a', '|', 'M', 'S', 'u', '-', '7', 'S', 'P', 'B', 'O', '1', 'a', 'e', 'n', '2', '9', '5', '1', '1', '0', '2', '2', '6', '0', '0', '6', '8', ',', 'K', 'O', 'P', 'I', 'O', 'i', 't', 'a', 'e', 'S', 'a', 'i', ')', 'P', 'r', 'o', 'n', 'u', 'm', 'o', 'P', 'r', 'e', 'n', 'o', 'a', 'n', 'F', 'i', 'r', 's', 't', 'm', 'b', 'a', 'r', 'g', '|', 'L', 'I', 'L', 'I', 'A', 'N', 'N', 'A', 'C', 'C', 'G', 'A', 'B', 'R', 'I', 'E', 'L', 'A', 'L', 'j', 'O', 'n', 'l', 'e', 'i', 'N', 'o', 'v', 'e', 'm', 'a', 'M', 'a', 'r', 'n', 'i', 'e', 'I', 'H', 't', 'e', ',', 'S', 'a', 'H', '0', 'R', 'e', 'm', 'a', 'n', 'd', '/', 'R', 'O', 'U', 'L', 'a', 's', 'n', 'a', 'g', 't', 'o', 'r', 'o', 'j', 'U', 'i', 'o', 'y', 'd', 'e', 'a', 'a', 'l', 's', 'y', 'e', 'a', 'S', 'O', 'C', 'L', '3', 'H', 'u', 'n', ',', 'T', 'i', 'r', 'g', 'u', 'F', 'i', 'u', 'r', 'e', 's', 'J', 'u', 'd', ')', ',', 'f', 'u', 'r', 'e', 's', 'D', 'o', 'm', 'n', 'b', 'e', 't', 'l', 'l', 'u', '~', 'A', 'c', 'e', 'o', 's', 's', 'o', 's', 'a', 'd', 'h', 'e', 'r', 'r', 'e', 's', 'S', 'a', 't', '.', '_', 'f', 'i', 'n', 'e', 'y', 't', 'C', 'o', 'm', ',', 'L', 'i', 'v', 'e', 'z', 'e', 'n', 'D', 'J', 'u', 'd', '.', 'M', 'u', 'r', 'e', 's', 'A', 'R', '.', 'S', 'y', 's', ')', 'M', 'I', 'S', '}', 'c', 'e', 't', 'e', 'a', 'p', 'a', 's', 't', 'y', 'v', 'e', 'B', 'I', 'F', 'R', 'L', 't', 'S', 'P', 'C', 'L', 'E', 'P', 'T', 'e', '.', 'i', 'u', 'r', 'e', 's', '2', '9', '.', '0', '1', '.', '1', '6', '-', '0', '2', '.', '1', '1', '.', '2', '0', '2', '4', 'X', 'O', 'R', 'O', 'U', 'T', 'A', 'T', 'A', 'R', '<', '<', 'L', 'I', 'L', 'I', 'A', 'N', 'A', '<', 'G', 'A', 'B', 'R', 'I', 'E', 'L', 'A', 'K', 'c', 'K', 'e', 'e', 'e', 'e', 'e', 'M', 'R', 'A', 'D', 'P', 'm', 'a', 'm', 'a', 'm', '.', '.', '_', '.']\n"
     ]
    }
   ],
   "source": [
    "print(l)"
   ]
  },
  {
   "cell_type": "markdown",
   "id": "7a15aeda",
   "metadata": {},
   "source": [
    "Algoritmul de mai jos are rolul de a detecta codul numeric personal din buletin. Array-ul unidimensional de caractere este parcurs. Dacă se ajunge la un caracter numeric, se marchează începutul unui șir de numere, folosind variabila okLeft, și se salvează indexul poziției de început, în variabila left. Dacă șirul de numere citit aparține CNP-ului, vor fi citite 13 numere, urmate de un caracter care nu este numeric. Se salvează și indexul poziției ultimei cifre care aparține CNP-ului."
   ]
  },
  {
   "cell_type": "code",
   "execution_count": 312,
   "id": "be08d13d",
   "metadata": {},
   "outputs": [
    {
     "name": "stdout",
     "output_type": "stream",
     "text": [
      "72 84\n"
     ]
    }
   ],
   "source": [
    "cnt = 0\n",
    "maxx = 0\n",
    "count = 0\n",
    "okLeft = 0\n",
    "maxLeft = maxRight = 0\n",
    "for i in l:\n",
    "    if i.isnumeric() :\n",
    "        if okLeft == 0:\n",
    "            left = cnt\n",
    "            okLeft = 1\n",
    "        count = count + 1\n",
    "    else :\n",
    "        if count > maxx:\n",
    "            maxx = count\n",
    "            maxLeft = left\n",
    "            maxRight = cnt - 1\n",
    "            if count == 13:\n",
    "                break\n",
    "        count = 0\n",
    "        okLeft = 0\n",
    "    cnt = cnt + 1          \n",
    "print(maxLeft,maxRight)"
   ]
  },
  {
   "cell_type": "code",
   "execution_count": 313,
   "id": "19a762df",
   "metadata": {},
   "outputs": [
    {
     "name": "stdout",
     "output_type": "stream",
     "text": [
      "2\n",
      "9\n",
      "5\n",
      "1\n",
      "1\n",
      "0\n",
      "2\n",
      "2\n",
      "6\n",
      "0\n",
      "0\n",
      "6\n",
      "8\n"
     ]
    }
   ],
   "source": [
    "cnt = 0\n",
    "for i in l:\n",
    "    if cnt >= maxLeft and cnt <= maxRight:\n",
    "        print(i)\n",
    "    cnt = cnt + 1"
   ]
  },
  {
   "cell_type": "markdown",
   "id": "417c07ae",
   "metadata": {},
   "source": [
    "Cifrele din CNP au fost detectate și localizate. Pentru fiecare cifră, se preiau coordonatele x,y, width-ul și height-ul. Fiecare cifră va fi încadrată într-o imagine de 18X18. Scopul este crearea unei imagini de 28X28, astfel încât cifra șă fie cât mai mult centrată în imagine. Dacă cifra nu este centrată în imagine, clasificarea va fi greu de realizat. În jurul celor 18X18 pixeli cu cifra vor fi introduși pixeli negri pentru a umple imaginea de 28X28. Cifrele detectate au culoarea negru pe fundal alb. A fost necesară modificarea imaginii într-una cu cifre albe pe fundal negru, de aici scăderea fiecărei valori din imagine cu 255. Cele 13 imagini cu cifrele din serie vor fi salvate pentru a fi utilizate în rețeaua neuronală convoluțională.  "
   ]
  },
  {
   "cell_type": "code",
   "execution_count": 314,
   "id": "4114f2f3",
   "metadata": {},
   "outputs": [
    {
     "name": "stdout",
     "output_type": "stream",
     "text": [
      "586\n",
      "['2', '326', '434', '343', '461', '0']\n",
      "['9', '344', '433', '361', '461', '0']\n",
      "['5', '361', '434', '377', '459', '0']\n",
      "['1', '378', '433', '389', '458', '0']\n",
      "['1', '393', '434', '403', '459', '0']\n",
      "['0', '407', '433', '425', '459', '0']\n",
      "['2', '424', '433', '441', '459', '0']\n",
      "['2', '440', '432', '458', '459', '0']\n",
      "['6', '459', '431', '476', '458', '0']\n",
      "['0', '477', '432', '494', '459', '0']\n",
      "['0', '496', '435', '510', '459', '0']\n",
      "['6', '514', '431', '530', '458', '0']\n",
      "['8', '532', '431', '550', '457', '0']\n"
     ]
    }
   ],
   "source": [
    "cnt = 0\n",
    "count = 0\n",
    "\n",
    "width = 18\n",
    "height = 18\n",
    "\n",
    "dim = (width,height)\n",
    "\n",
    "cnp = ''\n",
    "\n",
    "print(hImage)\n",
    "for b in boxes.splitlines():\n",
    "    b = b.split(' ')\n",
    "    if cnt >= maxLeft and cnt <= maxRight:\n",
    "        x,y,w,h = int(b[1]),int(b[2]),int(b[3]),int(b[4])\n",
    "        p1 = x\n",
    "        p2 = hImage - y\n",
    "        p3 = w\n",
    "        p4 = hImage - h\n",
    "        roi = img[hImage - h:hImage - y,x:w]\n",
    "        resized = cv2.resize(roi, dim, interpolation = cv2.INTER_AREA)\n",
    "        resized = cv2.cvtColor(resized, cv2.COLOR_BGR2GRAY)\n",
    "        resized = 255 - resized\n",
    "        canvas = np.zeros((28,28),dtype=int)\n",
    "        canvas[5:23, 5:23] = resized\n",
    "        name = \"cnp\" + str(count) + \".jpg\"\n",
    "        cv2.imwrite(name,canvas)\n",
    "        cnp += b[0]\n",
    "        #image = cv2.rectangle(img,(p1,p2),(p3,p4),(255,0,0),1)\n",
    "        #cv2.putText(img,b[0],(x,hImage - y + 25),cv2.FONT_HERSHEY_COMPLEX,1,(50,255,255),2)\n",
    "        #img[hImage - h:hImage - y,x:w] = cv2.blur(img[hImage - h:hImage - y,x:w], (23, 23))\n",
    "        print(b)\n",
    "        count = count + 1\n",
    "    cnt = cnt + 1\n",
    "#cv2.rectangle(img,(p1f,p2f),(p3f,p4f),(255,0,0),-1)\n",
    "#cv2.imshow('Result',img)\n",
    "# img = cv2.resize(img,None,fx = 0.5,fy = 0.5)\n",
    "# cv2.imwrite('C:\\\\Users\\\\Marius\\\\Documents\\\\Embarcadero\\\\Studio\\\\PC2Basys3\\\\Win32\\\\Debug\\\\edited_image\\\\edited.jpg', img)\n",
    "# cv2.waitKey(0)  "
   ]
  },
  {
   "cell_type": "code",
   "execution_count": 315,
   "id": "77c89a4a",
   "metadata": {},
   "outputs": [],
   "source": [
    "start_point = (0, 0) \n",
    "end_point = (370, 100) \n",
    "  \n",
    "# Blue color in BGR \n",
    "color = (0, 0, 0) \n",
    "  \n",
    "# Line thickness of 2 px \n",
    "thickness = 2\n",
    "  \n",
    "# Using cv2.rectangle() method \n",
    "# Draw a rectangle with blue line borders of thickness of 2 px \n",
    "image = cv2.rectangle(img, start_point, end_point, color, -1) "
   ]
  },
  {
   "cell_type": "code",
   "execution_count": 316,
   "id": "f2644938",
   "metadata": {},
   "outputs": [],
   "source": [
    "# font\n",
    "font = cv2.FONT_HERSHEY_SIMPLEX\n",
    "  \n",
    "# org\n",
    "org = (10, 50)\n",
    "  \n",
    "# fontScale\n",
    "fontScale = 1\n",
    "   \n",
    "# Blue color in BGR\n",
    "color = (255, 255, 255)\n",
    "  \n",
    "# Line thickness of 2 px\n",
    "thickness = 2\n",
    "   \n",
    "# Using cv2.putText() method\n",
    "image = cv2.putText(image, 'CNP ' + cnp, org, font, \n",
    "                   fontScale, color, thickness, cv2.LINE_AA)"
   ]
  },
  {
   "cell_type": "code",
   "execution_count": 317,
   "id": "fae855b0",
   "metadata": {},
   "outputs": [
    {
     "data": {
      "text/plain": [
       "-1"
      ]
     },
     "execution_count": 317,
     "metadata": {},
     "output_type": "execute_result"
    }
   ],
   "source": [
    "img = cv2.resize(image,None,fx = 0.5,fy = 0.5)\n",
    "cv2.imwrite('C:\\\\Users\\\\Marius\\\\Documents\\\\Embarcadero\\\\Studio\\\\PC2Basys3\\\\Win32\\\\Debug\\\\edited_image\\\\edited.jpg', img)\n",
    "cv2.waitKey(0)  "
   ]
  },
  {
   "cell_type": "markdown",
   "id": "00dc94be",
   "metadata": {},
   "source": [
    "Threshold-ul poate fi o problema: la buletinMama.jpg este 140, la lili este 120"
   ]
  },
  {
   "cell_type": "markdown",
   "id": "00cc081a",
   "metadata": {},
   "source": [
    "Cele 13 imagini cu cifrele CNP-ului sunt citite din folder și adăugate în array-ul test_arr1. Imaginile sunt binarizate, folosind threshold-ul din fișierul de configurare. Fiecare imagine are o altă valoare de threshold."
   ]
  },
  {
   "cell_type": "code",
   "execution_count": 318,
   "id": "7abc3a13",
   "metadata": {},
   "outputs": [
    {
     "name": "stdout",
     "output_type": "stream",
     "text": [
      "[[[0 0 0 ... 0 0 0]\n",
      "  [0 0 0 ... 0 0 0]\n",
      "  [0 0 0 ... 0 0 0]\n",
      "  ...\n",
      "  [0 0 0 ... 0 0 0]\n",
      "  [0 0 0 ... 0 0 0]\n",
      "  [0 0 0 ... 0 0 0]]\n",
      "\n",
      " [[0 0 0 ... 0 0 0]\n",
      "  [0 0 0 ... 0 0 0]\n",
      "  [0 0 0 ... 0 0 0]\n",
      "  ...\n",
      "  [0 0 0 ... 0 0 0]\n",
      "  [0 0 0 ... 0 0 0]\n",
      "  [0 0 0 ... 0 0 0]]\n",
      "\n",
      " [[0 0 0 ... 0 0 0]\n",
      "  [0 0 0 ... 0 0 0]\n",
      "  [0 0 0 ... 0 0 0]\n",
      "  ...\n",
      "  [0 0 0 ... 0 0 0]\n",
      "  [0 0 0 ... 0 0 0]\n",
      "  [0 0 0 ... 0 0 0]]\n",
      "\n",
      " ...\n",
      "\n",
      " [[0 0 0 ... 0 0 0]\n",
      "  [0 0 0 ... 0 0 0]\n",
      "  [0 0 0 ... 0 0 0]\n",
      "  ...\n",
      "  [0 0 0 ... 0 0 0]\n",
      "  [0 0 0 ... 0 0 0]\n",
      "  [0 0 0 ... 0 0 0]]\n",
      "\n",
      " [[0 0 0 ... 0 0 0]\n",
      "  [0 0 0 ... 0 0 0]\n",
      "  [0 0 0 ... 0 0 0]\n",
      "  ...\n",
      "  [0 0 0 ... 0 0 0]\n",
      "  [0 0 0 ... 0 0 0]\n",
      "  [0 0 0 ... 0 0 0]]\n",
      "\n",
      " [[0 0 0 ... 0 0 0]\n",
      "  [0 0 0 ... 0 0 0]\n",
      "  [0 0 0 ... 0 0 0]\n",
      "  ...\n",
      "  [0 0 0 ... 0 0 0]\n",
      "  [0 0 0 ... 0 0 0]\n",
      "  [0 0 0 ... 0 0 0]]]\n"
     ]
    }
   ],
   "source": [
    "import cv2\n",
    "\n",
    "count = 0\n",
    "test1 = []\n",
    "\n",
    "while (count != 13):\n",
    "    name = \"cnp\" + str(count) + \".jpg\"\n",
    "    img = cv2.imread(name,0)\n",
    "    test1.append(img)\n",
    "    count = count + 1\n",
    "    \n",
    "test_arr1 = np.array(test1)\n",
    "test_arr1 = np.where(test_arr1 < threshold, 0, test_arr1)\n",
    "print(test_arr1)"
   ]
  },
  {
   "cell_type": "markdown",
   "id": "b62af401",
   "metadata": {},
   "source": [
    "Imaginile au valori cuprinse între 0 și 255. Pentru a fi introduse în rețeaua neuronală convoluțională, valorile trebuie să fie normalizate între 0 și 1."
   ]
  },
  {
   "cell_type": "code",
   "execution_count": 319,
   "id": "1cedc03d",
   "metadata": {},
   "outputs": [
    {
     "name": "stdout",
     "output_type": "stream",
     "text": [
      "[[[0. 0. 0. ... 0. 0. 0.]\n",
      "  [0. 0. 0. ... 0. 0. 0.]\n",
      "  [0. 0. 0. ... 0. 0. 0.]\n",
      "  ...\n",
      "  [0. 0. 0. ... 0. 0. 0.]\n",
      "  [0. 0. 0. ... 0. 0. 0.]\n",
      "  [0. 0. 0. ... 0. 0. 0.]]\n",
      "\n",
      " [[0. 0. 0. ... 0. 0. 0.]\n",
      "  [0. 0. 0. ... 0. 0. 0.]\n",
      "  [0. 0. 0. ... 0. 0. 0.]\n",
      "  ...\n",
      "  [0. 0. 0. ... 0. 0. 0.]\n",
      "  [0. 0. 0. ... 0. 0. 0.]\n",
      "  [0. 0. 0. ... 0. 0. 0.]]\n",
      "\n",
      " [[0. 0. 0. ... 0. 0. 0.]\n",
      "  [0. 0. 0. ... 0. 0. 0.]\n",
      "  [0. 0. 0. ... 0. 0. 0.]\n",
      "  ...\n",
      "  [0. 0. 0. ... 0. 0. 0.]\n",
      "  [0. 0. 0. ... 0. 0. 0.]\n",
      "  [0. 0. 0. ... 0. 0. 0.]]\n",
      "\n",
      " ...\n",
      "\n",
      " [[0. 0. 0. ... 0. 0. 0.]\n",
      "  [0. 0. 0. ... 0. 0. 0.]\n",
      "  [0. 0. 0. ... 0. 0. 0.]\n",
      "  ...\n",
      "  [0. 0. 0. ... 0. 0. 0.]\n",
      "  [0. 0. 0. ... 0. 0. 0.]\n",
      "  [0. 0. 0. ... 0. 0. 0.]]\n",
      "\n",
      " [[0. 0. 0. ... 0. 0. 0.]\n",
      "  [0. 0. 0. ... 0. 0. 0.]\n",
      "  [0. 0. 0. ... 0. 0. 0.]\n",
      "  ...\n",
      "  [0. 0. 0. ... 0. 0. 0.]\n",
      "  [0. 0. 0. ... 0. 0. 0.]\n",
      "  [0. 0. 0. ... 0. 0. 0.]]\n",
      "\n",
      " [[0. 0. 0. ... 0. 0. 0.]\n",
      "  [0. 0. 0. ... 0. 0. 0.]\n",
      "  [0. 0. 0. ... 0. 0. 0.]\n",
      "  ...\n",
      "  [0. 0. 0. ... 0. 0. 0.]\n",
      "  [0. 0. 0. ... 0. 0. 0.]\n",
      "  [0. 0. 0. ... 0. 0. 0.]]]\n"
     ]
    }
   ],
   "source": [
    "test_arr1 = test_arr1/255\n",
    "print(test_arr1)"
   ]
  },
  {
   "cell_type": "markdown",
   "id": "3c02d7fb",
   "metadata": {},
   "source": [
    "Array-ul test_arr1 va avea 13 imagini cu dimensiunea de 28X28 pixeli normalizați."
   ]
  },
  {
   "cell_type": "code",
   "execution_count": 320,
   "id": "ffd08d49",
   "metadata": {},
   "outputs": [
    {
     "name": "stdout",
     "output_type": "stream",
     "text": [
      "(13, 28, 28)\n"
     ]
    }
   ],
   "source": [
    "print(test_arr1.shape)"
   ]
  },
  {
   "cell_type": "markdown",
   "id": "9e267be3",
   "metadata": {},
   "source": [
    "Se face o redimensionare a array-ul test_arr1, pentru a avea o reprezentare pe canale de culoare, chiar dacă are un singur canal, fiind o imagine grayscale. Această redimensionare este necesară înainte de a realiza predicția cifrelor folosind rețeua neuronală convoluțională."
   ]
  },
  {
   "cell_type": "code",
   "execution_count": 321,
   "id": "b9c88265",
   "metadata": {},
   "outputs": [
    {
     "data": {
      "text/plain": [
       "(13, 28, 28, 1)"
      ]
     },
     "execution_count": 321,
     "metadata": {},
     "output_type": "execute_result"
    }
   ],
   "source": [
    "test_arr1 = test_arr1.reshape(-1,28,28,1)\n",
    "test_arr1.shape"
   ]
  },
  {
   "cell_type": "code",
   "execution_count": 322,
   "id": "91032044",
   "metadata": {},
   "outputs": [
    {
     "data": {
      "text/plain": [
       "<matplotlib.image.AxesImage at 0x1c9834e4a90>"
      ]
     },
     "execution_count": 322,
     "metadata": {},
     "output_type": "execute_result"
    },
    {
     "data": {
      "image/png": "[encoded data removed]",
      "text/plain": [
       "<Figure size 432x288 with 1 Axes>"
      ]
     },
     "metadata": {
      "needs_background": "light"
     },
     "output_type": "display_data"
    }
   ],
   "source": [
    "import matplotlib.pyplot as plt\n",
    "plt.imshow(test_arr1[12])"
   ]
  },
  {
   "cell_type": "code",
   "execution_count": 323,
   "id": "3202201e",
   "metadata": {},
   "outputs": [
    {
     "data": {
      "text/plain": [
       "<matplotlib.image.AxesImage at 0x1c983c03fd0>"
      ]
     },
     "execution_count": 323,
     "metadata": {},
     "output_type": "execute_result"
    },
    {
     "data": {
      "image/png": "[encoded data removed]",
      "text/plain": [
       "<Figure size 432x288 with 1 Axes>"
      ]
     },
     "metadata": {
      "needs_background": "light"
     },
     "output_type": "display_data"
    }
   ],
   "source": [
    "plt.imshow(test_arr1[1])"
   ]
  },
  {
   "cell_type": "code",
   "execution_count": 324,
   "id": "7384f0d4",
   "metadata": {},
   "outputs": [
    {
     "name": "stdout",
     "output_type": "stream",
     "text": [
      "0\n",
      "1\n",
      "2\n",
      "3\n",
      "4\n",
      "5\n",
      "6\n",
      "7\n",
      "8\n",
      "9\n",
      "10\n",
      "11\n",
      "12\n"
     ]
    }
   ],
   "source": [
    "import matplotlib\n",
    "\n",
    "test_arr1 = test_arr1.reshape(-1,28,28)\n",
    "count = 0\n",
    "\n",
    "for i in range(13):\n",
    "    print(count)\n",
    "    name = \"test_arr\" + str(count) + \".jpg\"\n",
    "    matplotlib.image.imsave(name, test_arr1[i])\n",
    "    count = count + 1\n",
    "test_arr1 = test_arr1.reshape(-1,28,28,1)"
   ]
  },
  {
   "cell_type": "code",
   "execution_count": 325,
   "id": "20247a23",
   "metadata": {},
   "outputs": [
    {
     "name": "stdout",
     "output_type": "stream",
     "text": [
      "[[[0.        ]\n",
      "  [0.        ]\n",
      "  [0.        ]\n",
      "  [0.        ]\n",
      "  [0.        ]\n",
      "  [0.        ]\n",
      "  [0.        ]\n",
      "  [0.        ]\n",
      "  [0.        ]\n",
      "  [0.        ]\n",
      "  [0.        ]\n",
      "  [0.        ]\n",
      "  [0.        ]\n",
      "  [0.        ]\n",
      "  [0.        ]\n",
      "  [0.        ]\n",
      "  [0.        ]\n",
      "  [0.        ]\n",
      "  [0.        ]\n",
      "  [0.        ]\n",
      "  [0.        ]\n",
      "  [0.        ]\n",
      "  [0.        ]\n",
      "  [0.        ]\n",
      "  [0.        ]\n",
      "  [0.        ]\n",
      "  [0.        ]\n",
      "  [0.        ]]\n",
      "\n",
      " [[0.        ]\n",
      "  [0.        ]\n",
      "  [0.        ]\n",
      "  [0.        ]\n",
      "  [0.        ]\n",
      "  [0.        ]\n",
      "  [0.        ]\n",
      "  [0.        ]\n",
      "  [0.        ]\n",
      "  [0.        ]\n",
      "  [0.        ]\n",
      "  [0.        ]\n",
      "  [0.        ]\n",
      "  [0.        ]\n",
      "  [0.        ]\n",
      "  [0.        ]\n",
      "  [0.        ]\n",
      "  [0.        ]\n",
      "  [0.        ]\n",
      "  [0.        ]\n",
      "  [0.        ]\n",
      "  [0.        ]\n",
      "  [0.        ]\n",
      "  [0.        ]\n",
      "  [0.        ]\n",
      "  [0.        ]\n",
      "  [0.        ]\n",
      "  [0.        ]]\n",
      "\n",
      " [[0.        ]\n",
      "  [0.        ]\n",
      "  [0.        ]\n",
      "  [0.        ]\n",
      "  [0.        ]\n",
      "  [0.        ]\n",
      "  [0.        ]\n",
      "  [0.        ]\n",
      "  [0.        ]\n",
      "  [0.        ]\n",
      "  [0.        ]\n",
      "  [0.        ]\n",
      "  [0.        ]\n",
      "  [0.        ]\n",
      "  [0.        ]\n",
      "  [0.        ]\n",
      "  [0.        ]\n",
      "  [0.        ]\n",
      "  [0.        ]\n",
      "  [0.        ]\n",
      "  [0.        ]\n",
      "  [0.        ]\n",
      "  [0.        ]\n",
      "  [0.        ]\n",
      "  [0.        ]\n",
      "  [0.        ]\n",
      "  [0.        ]\n",
      "  [0.        ]]\n",
      "\n",
      " [[0.        ]\n",
      "  [0.        ]\n",
      "  [0.        ]\n",
      "  [0.        ]\n",
      "  [0.        ]\n",
      "  [0.        ]\n",
      "  [0.        ]\n",
      "  [0.        ]\n",
      "  [0.        ]\n",
      "  [0.        ]\n",
      "  [0.        ]\n",
      "  [0.        ]\n",
      "  [0.        ]\n",
      "  [0.        ]\n",
      "  [0.        ]\n",
      "  [0.        ]\n",
      "  [0.        ]\n",
      "  [0.        ]\n",
      "  [0.        ]\n",
      "  [0.        ]\n",
      "  [0.        ]\n",
      "  [0.        ]\n",
      "  [0.        ]\n",
      "  [0.        ]\n",
      "  [0.        ]\n",
      "  [0.        ]\n",
      "  [0.        ]\n",
      "  [0.        ]]\n",
      "\n",
      " [[0.        ]\n",
      "  [0.        ]\n",
      "  [0.        ]\n",
      "  [0.        ]\n",
      "  [0.        ]\n",
      "  [0.        ]\n",
      "  [0.        ]\n",
      "  [0.        ]\n",
      "  [0.        ]\n",
      "  [0.        ]\n",
      "  [0.        ]\n",
      "  [0.        ]\n",
      "  [0.        ]\n",
      "  [0.        ]\n",
      "  [0.        ]\n",
      "  [0.        ]\n",
      "  [0.        ]\n",
      "  [0.        ]\n",
      "  [0.        ]\n",
      "  [0.        ]\n",
      "  [0.        ]\n",
      "  [0.        ]\n",
      "  [0.        ]\n",
      "  [0.        ]\n",
      "  [0.        ]\n",
      "  [0.        ]\n",
      "  [0.        ]\n",
      "  [0.        ]]\n",
      "\n",
      " [[0.        ]\n",
      "  [0.        ]\n",
      "  [0.        ]\n",
      "  [0.        ]\n",
      "  [0.        ]\n",
      "  [0.        ]\n",
      "  [0.        ]\n",
      "  [0.        ]\n",
      "  [0.        ]\n",
      "  [0.        ]\n",
      "  [0.        ]\n",
      "  [0.        ]\n",
      "  [0.        ]\n",
      "  [0.        ]\n",
      "  [0.        ]\n",
      "  [0.        ]\n",
      "  [0.        ]\n",
      "  [0.        ]\n",
      "  [0.        ]\n",
      "  [0.        ]\n",
      "  [0.        ]\n",
      "  [0.        ]\n",
      "  [0.        ]\n",
      "  [0.        ]\n",
      "  [0.        ]\n",
      "  [0.        ]\n",
      "  [0.        ]\n",
      "  [0.        ]]\n",
      "\n",
      " [[0.        ]\n",
      "  [0.        ]\n",
      "  [0.        ]\n",
      "  [0.        ]\n",
      "  [0.        ]\n",
      "  [0.        ]\n",
      "  [0.        ]\n",
      "  [0.        ]\n",
      "  [0.        ]\n",
      "  [0.        ]\n",
      "  [0.56078431]\n",
      "  [0.57647059]\n",
      "  [0.58039216]\n",
      "  [0.58039216]\n",
      "  [0.57647059]\n",
      "  [0.57254902]\n",
      "  [0.55686275]\n",
      "  [0.        ]\n",
      "  [0.        ]\n",
      "  [0.        ]\n",
      "  [0.        ]\n",
      "  [0.        ]\n",
      "  [0.        ]\n",
      "  [0.        ]\n",
      "  [0.        ]\n",
      "  [0.        ]\n",
      "  [0.        ]\n",
      "  [0.        ]]\n",
      "\n",
      " [[0.        ]\n",
      "  [0.        ]\n",
      "  [0.        ]\n",
      "  [0.        ]\n",
      "  [0.        ]\n",
      "  [0.        ]\n",
      "  [0.        ]\n",
      "  [0.        ]\n",
      "  [0.        ]\n",
      "  [0.55294118]\n",
      "  [0.56470588]\n",
      "  [0.54901961]\n",
      "  [0.        ]\n",
      "  [0.        ]\n",
      "  [0.        ]\n",
      "  [0.        ]\n",
      "  [0.54901961]\n",
      "  [0.58039216]\n",
      "  [0.62352941]\n",
      "  [0.59215686]\n",
      "  [0.56470588]\n",
      "  [0.        ]\n",
      "  [0.        ]\n",
      "  [0.        ]\n",
      "  [0.        ]\n",
      "  [0.        ]\n",
      "  [0.        ]\n",
      "  [0.        ]]\n",
      "\n",
      " [[0.        ]\n",
      "  [0.        ]\n",
      "  [0.        ]\n",
      "  [0.        ]\n",
      "  [0.        ]\n",
      "  [0.        ]\n",
      "  [0.        ]\n",
      "  [0.        ]\n",
      "  [0.        ]\n",
      "  [0.        ]\n",
      "  [0.        ]\n",
      "  [0.        ]\n",
      "  [0.        ]\n",
      "  [0.        ]\n",
      "  [0.        ]\n",
      "  [0.        ]\n",
      "  [0.        ]\n",
      "  [0.55686275]\n",
      "  [0.62352941]\n",
      "  [0.62745098]\n",
      "  [0.58431373]\n",
      "  [0.        ]\n",
      "  [0.        ]\n",
      "  [0.        ]\n",
      "  [0.        ]\n",
      "  [0.        ]\n",
      "  [0.        ]\n",
      "  [0.        ]]\n",
      "\n",
      " [[0.        ]\n",
      "  [0.        ]\n",
      "  [0.        ]\n",
      "  [0.        ]\n",
      "  [0.        ]\n",
      "  [0.        ]\n",
      "  [0.        ]\n",
      "  [0.        ]\n",
      "  [0.        ]\n",
      "  [0.        ]\n",
      "  [0.        ]\n",
      "  [0.        ]\n",
      "  [0.        ]\n",
      "  [0.        ]\n",
      "  [0.        ]\n",
      "  [0.        ]\n",
      "  [0.        ]\n",
      "  [0.        ]\n",
      "  [0.59607843]\n",
      "  [0.63529412]\n",
      "  [0.61176471]\n",
      "  [0.56078431]\n",
      "  [0.        ]\n",
      "  [0.        ]\n",
      "  [0.        ]\n",
      "  [0.        ]\n",
      "  [0.        ]\n",
      "  [0.        ]]\n",
      "\n",
      " [[0.        ]\n",
      "  [0.        ]\n",
      "  [0.        ]\n",
      "  [0.        ]\n",
      "  [0.        ]\n",
      "  [0.        ]\n",
      "  [0.        ]\n",
      "  [0.        ]\n",
      "  [0.        ]\n",
      "  [0.        ]\n",
      "  [0.        ]\n",
      "  [0.        ]\n",
      "  [0.        ]\n",
      "  [0.        ]\n",
      "  [0.        ]\n",
      "  [0.        ]\n",
      "  [0.        ]\n",
      "  [0.        ]\n",
      "  [0.61568627]\n",
      "  [0.6627451 ]\n",
      "  [0.63921569]\n",
      "  [0.59607843]\n",
      "  [0.        ]\n",
      "  [0.        ]\n",
      "  [0.        ]\n",
      "  [0.        ]\n",
      "  [0.        ]\n",
      "  [0.        ]]\n",
      "\n",
      " [[0.        ]\n",
      "  [0.        ]\n",
      "  [0.        ]\n",
      "  [0.        ]\n",
      "  [0.        ]\n",
      "  [0.        ]\n",
      "  [0.        ]\n",
      "  [0.        ]\n",
      "  [0.        ]\n",
      "  [0.        ]\n",
      "  [0.        ]\n",
      "  [0.        ]\n",
      "  [0.        ]\n",
      "  [0.        ]\n",
      "  [0.        ]\n",
      "  [0.        ]\n",
      "  [0.        ]\n",
      "  [0.55686275]\n",
      "  [0.62745098]\n",
      "  [0.64313725]\n",
      "  [0.6       ]\n",
      "  [0.        ]\n",
      "  [0.        ]\n",
      "  [0.        ]\n",
      "  [0.        ]\n",
      "  [0.        ]\n",
      "  [0.        ]\n",
      "  [0.        ]]\n",
      "\n",
      " [[0.        ]\n",
      "  [0.        ]\n",
      "  [0.        ]\n",
      "  [0.        ]\n",
      "  [0.        ]\n",
      "  [0.        ]\n",
      "  [0.        ]\n",
      "  [0.        ]\n",
      "  [0.        ]\n",
      "  [0.        ]\n",
      "  [0.        ]\n",
      "  [0.        ]\n",
      "  [0.        ]\n",
      "  [0.        ]\n",
      "  [0.        ]\n",
      "  [0.        ]\n",
      "  [0.58431373]\n",
      "  [0.61176471]\n",
      "  [0.61176471]\n",
      "  [0.58431373]\n",
      "  [0.        ]\n",
      "  [0.        ]\n",
      "  [0.        ]\n",
      "  [0.        ]\n",
      "  [0.        ]\n",
      "  [0.        ]\n",
      "  [0.        ]\n",
      "  [0.        ]]\n",
      "\n",
      " [[0.        ]\n",
      "  [0.        ]\n",
      "  [0.        ]\n",
      "  [0.        ]\n",
      "  [0.        ]\n",
      "  [0.        ]\n",
      "  [0.        ]\n",
      "  [0.        ]\n",
      "  [0.        ]\n",
      "  [0.        ]\n",
      "  [0.        ]\n",
      "  [0.        ]\n",
      "  [0.        ]\n",
      "  [0.        ]\n",
      "  [0.56862745]\n",
      "  [0.60784314]\n",
      "  [0.62352941]\n",
      "  [0.60392157]\n",
      "  [0.        ]\n",
      "  [0.        ]\n",
      "  [0.        ]\n",
      "  [0.        ]\n",
      "  [0.        ]\n",
      "  [0.        ]\n",
      "  [0.        ]\n",
      "  [0.        ]\n",
      "  [0.        ]\n",
      "  [0.        ]]\n",
      "\n",
      " [[0.        ]\n",
      "  [0.        ]\n",
      "  [0.        ]\n",
      "  [0.        ]\n",
      "  [0.        ]\n",
      "  [0.        ]\n",
      "  [0.        ]\n",
      "  [0.        ]\n",
      "  [0.        ]\n",
      "  [0.        ]\n",
      "  [0.        ]\n",
      "  [0.        ]\n",
      "  [0.56862745]\n",
      "  [0.60784314]\n",
      "  [0.62352941]\n",
      "  [0.61568627]\n",
      "  [0.56470588]\n",
      "  [0.        ]\n",
      "  [0.        ]\n",
      "  [0.        ]\n",
      "  [0.        ]\n",
      "  [0.        ]\n",
      "  [0.        ]\n",
      "  [0.        ]\n",
      "  [0.        ]\n",
      "  [0.        ]\n",
      "  [0.        ]\n",
      "  [0.        ]]\n",
      "\n",
      " [[0.        ]\n",
      "  [0.        ]\n",
      "  [0.        ]\n",
      "  [0.        ]\n",
      "  [0.        ]\n",
      "  [0.        ]\n",
      "  [0.        ]\n",
      "  [0.        ]\n",
      "  [0.        ]\n",
      "  [0.        ]\n",
      "  [0.56862745]\n",
      "  [0.58039216]\n",
      "  [0.58823529]\n",
      "  [0.59215686]\n",
      "  [0.55686275]\n",
      "  [0.        ]\n",
      "  [0.        ]\n",
      "  [0.        ]\n",
      "  [0.        ]\n",
      "  [0.        ]\n",
      "  [0.        ]\n",
      "  [0.        ]\n",
      "  [0.        ]\n",
      "  [0.        ]\n",
      "  [0.        ]\n",
      "  [0.        ]\n",
      "  [0.        ]\n",
      "  [0.        ]]\n",
      "\n",
      " [[0.        ]\n",
      "  [0.        ]\n",
      "  [0.        ]\n",
      "  [0.        ]\n",
      "  [0.        ]\n",
      "  [0.        ]\n",
      "  [0.        ]\n",
      "  [0.        ]\n",
      "  [0.55294118]\n",
      "  [0.59607843]\n",
      "  [0.62352941]\n",
      "  [0.60784314]\n",
      "  [0.55686275]\n",
      "  [0.        ]\n",
      "  [0.        ]\n",
      "  [0.        ]\n",
      "  [0.        ]\n",
      "  [0.        ]\n",
      "  [0.        ]\n",
      "  [0.        ]\n",
      "  [0.        ]\n",
      "  [0.        ]\n",
      "  [0.        ]\n",
      "  [0.        ]\n",
      "  [0.        ]\n",
      "  [0.        ]\n",
      "  [0.        ]\n",
      "  [0.        ]]\n",
      "\n",
      " [[0.        ]\n",
      "  [0.        ]\n",
      "  [0.        ]\n",
      "  [0.        ]\n",
      "  [0.        ]\n",
      "  [0.        ]\n",
      "  [0.        ]\n",
      "  [0.58823529]\n",
      "  [0.62745098]\n",
      "  [0.6       ]\n",
      "  [0.56078431]\n",
      "  [0.        ]\n",
      "  [0.        ]\n",
      "  [0.        ]\n",
      "  [0.        ]\n",
      "  [0.        ]\n",
      "  [0.        ]\n",
      "  [0.        ]\n",
      "  [0.        ]\n",
      "  [0.        ]\n",
      "  [0.        ]\n",
      "  [0.        ]\n",
      "  [0.        ]\n",
      "  [0.        ]\n",
      "  [0.        ]\n",
      "  [0.        ]\n",
      "  [0.        ]\n",
      "  [0.        ]]\n",
      "\n",
      " [[0.        ]\n",
      "  [0.        ]\n",
      "  [0.        ]\n",
      "  [0.        ]\n",
      "  [0.        ]\n",
      "  [0.        ]\n",
      "  [0.        ]\n",
      "  [0.62352941]\n",
      "  [0.63137255]\n",
      "  [0.55686275]\n",
      "  [0.        ]\n",
      "  [0.        ]\n",
      "  [0.        ]\n",
      "  [0.        ]\n",
      "  [0.        ]\n",
      "  [0.        ]\n",
      "  [0.        ]\n",
      "  [0.        ]\n",
      "  [0.        ]\n",
      "  [0.        ]\n",
      "  [0.        ]\n",
      "  [0.        ]\n",
      "  [0.        ]\n",
      "  [0.        ]\n",
      "  [0.        ]\n",
      "  [0.        ]\n",
      "  [0.        ]\n",
      "  [0.        ]]\n",
      "\n",
      " [[0.        ]\n",
      "  [0.        ]\n",
      "  [0.        ]\n",
      "  [0.        ]\n",
      "  [0.        ]\n",
      "  [0.        ]\n",
      "  [0.        ]\n",
      "  [0.62745098]\n",
      "  [0.65882353]\n",
      "  [0.58039216]\n",
      "  [0.        ]\n",
      "  [0.        ]\n",
      "  [0.        ]\n",
      "  [0.        ]\n",
      "  [0.        ]\n",
      "  [0.        ]\n",
      "  [0.        ]\n",
      "  [0.        ]\n",
      "  [0.        ]\n",
      "  [0.        ]\n",
      "  [0.        ]\n",
      "  [0.        ]\n",
      "  [0.        ]\n",
      "  [0.        ]\n",
      "  [0.        ]\n",
      "  [0.        ]\n",
      "  [0.        ]\n",
      "  [0.        ]]\n",
      "\n",
      " [[0.        ]\n",
      "  [0.        ]\n",
      "  [0.        ]\n",
      "  [0.        ]\n",
      "  [0.        ]\n",
      "  [0.        ]\n",
      "  [0.        ]\n",
      "  [0.60784314]\n",
      "  [0.64705882]\n",
      "  [0.60784314]\n",
      "  [0.57647059]\n",
      "  [0.56862745]\n",
      "  [0.56862745]\n",
      "  [0.55686275]\n",
      "  [0.55294118]\n",
      "  [0.55686275]\n",
      "  [0.56078431]\n",
      "  [0.57254902]\n",
      "  [0.55686275]\n",
      "  [0.        ]\n",
      "  [0.        ]\n",
      "  [0.        ]\n",
      "  [0.        ]\n",
      "  [0.        ]\n",
      "  [0.        ]\n",
      "  [0.        ]\n",
      "  [0.        ]\n",
      "  [0.        ]]\n",
      "\n",
      " [[0.        ]\n",
      "  [0.        ]\n",
      "  [0.        ]\n",
      "  [0.        ]\n",
      "  [0.        ]\n",
      "  [0.        ]\n",
      "  [0.        ]\n",
      "  [0.        ]\n",
      "  [0.56470588]\n",
      "  [0.55294118]\n",
      "  [0.        ]\n",
      "  [0.        ]\n",
      "  [0.        ]\n",
      "  [0.55294118]\n",
      "  [0.56862745]\n",
      "  [0.58039216]\n",
      "  [0.58039216]\n",
      "  [0.56470588]\n",
      "  [0.        ]\n",
      "  [0.        ]\n",
      "  [0.        ]\n",
      "  [0.        ]\n",
      "  [0.        ]\n",
      "  [0.        ]\n",
      "  [0.        ]\n",
      "  [0.        ]\n",
      "  [0.        ]\n",
      "  [0.        ]]\n",
      "\n",
      " [[0.        ]\n",
      "  [0.        ]\n",
      "  [0.        ]\n",
      "  [0.        ]\n",
      "  [0.        ]\n",
      "  [0.        ]\n",
      "  [0.        ]\n",
      "  [0.        ]\n",
      "  [0.        ]\n",
      "  [0.        ]\n",
      "  [0.        ]\n",
      "  [0.        ]\n",
      "  [0.        ]\n",
      "  [0.        ]\n",
      "  [0.        ]\n",
      "  [0.        ]\n",
      "  [0.        ]\n",
      "  [0.        ]\n",
      "  [0.        ]\n",
      "  [0.        ]\n",
      "  [0.        ]\n",
      "  [0.        ]\n",
      "  [0.        ]\n",
      "  [0.        ]\n",
      "  [0.        ]\n",
      "  [0.        ]\n",
      "  [0.        ]\n",
      "  [0.        ]]\n",
      "\n",
      " [[0.        ]\n",
      "  [0.        ]\n",
      "  [0.        ]\n",
      "  [0.        ]\n",
      "  [0.        ]\n",
      "  [0.        ]\n",
      "  [0.        ]\n",
      "  [0.        ]\n",
      "  [0.        ]\n",
      "  [0.        ]\n",
      "  [0.        ]\n",
      "  [0.        ]\n",
      "  [0.        ]\n",
      "  [0.        ]\n",
      "  [0.        ]\n",
      "  [0.        ]\n",
      "  [0.        ]\n",
      "  [0.        ]\n",
      "  [0.        ]\n",
      "  [0.        ]\n",
      "  [0.        ]\n",
      "  [0.        ]\n",
      "  [0.        ]\n",
      "  [0.        ]\n",
      "  [0.        ]\n",
      "  [0.        ]\n",
      "  [0.        ]\n",
      "  [0.        ]]\n",
      "\n",
      " [[0.        ]\n",
      "  [0.        ]\n",
      "  [0.        ]\n",
      "  [0.        ]\n",
      "  [0.        ]\n",
      "  [0.        ]\n",
      "  [0.        ]\n",
      "  [0.        ]\n",
      "  [0.        ]\n",
      "  [0.        ]\n",
      "  [0.        ]\n",
      "  [0.        ]\n",
      "  [0.        ]\n",
      "  [0.        ]\n",
      "  [0.        ]\n",
      "  [0.        ]\n",
      "  [0.        ]\n",
      "  [0.        ]\n",
      "  [0.        ]\n",
      "  [0.        ]\n",
      "  [0.        ]\n",
      "  [0.        ]\n",
      "  [0.        ]\n",
      "  [0.        ]\n",
      "  [0.        ]\n",
      "  [0.        ]\n",
      "  [0.        ]\n",
      "  [0.        ]]\n",
      "\n",
      " [[0.        ]\n",
      "  [0.        ]\n",
      "  [0.        ]\n",
      "  [0.        ]\n",
      "  [0.        ]\n",
      "  [0.        ]\n",
      "  [0.        ]\n",
      "  [0.        ]\n",
      "  [0.        ]\n",
      "  [0.        ]\n",
      "  [0.        ]\n",
      "  [0.        ]\n",
      "  [0.        ]\n",
      "  [0.        ]\n",
      "  [0.        ]\n",
      "  [0.        ]\n",
      "  [0.        ]\n",
      "  [0.        ]\n",
      "  [0.        ]\n",
      "  [0.        ]\n",
      "  [0.        ]\n",
      "  [0.        ]\n",
      "  [0.        ]\n",
      "  [0.        ]\n",
      "  [0.        ]\n",
      "  [0.        ]\n",
      "  [0.        ]\n",
      "  [0.        ]]\n",
      "\n",
      " [[0.        ]\n",
      "  [0.        ]\n",
      "  [0.        ]\n",
      "  [0.        ]\n",
      "  [0.        ]\n",
      "  [0.        ]\n",
      "  [0.        ]\n",
      "  [0.        ]\n",
      "  [0.        ]\n",
      "  [0.        ]\n",
      "  [0.        ]\n",
      "  [0.        ]\n",
      "  [0.        ]\n",
      "  [0.        ]\n",
      "  [0.        ]\n",
      "  [0.        ]\n",
      "  [0.        ]\n",
      "  [0.        ]\n",
      "  [0.        ]\n",
      "  [0.        ]\n",
      "  [0.        ]\n",
      "  [0.        ]\n",
      "  [0.        ]\n",
      "  [0.        ]\n",
      "  [0.        ]\n",
      "  [0.        ]\n",
      "  [0.        ]\n",
      "  [0.        ]]\n",
      "\n",
      " [[0.        ]\n",
      "  [0.        ]\n",
      "  [0.        ]\n",
      "  [0.        ]\n",
      "  [0.        ]\n",
      "  [0.        ]\n",
      "  [0.        ]\n",
      "  [0.        ]\n",
      "  [0.        ]\n",
      "  [0.        ]\n",
      "  [0.        ]\n",
      "  [0.        ]\n",
      "  [0.        ]\n",
      "  [0.        ]\n",
      "  [0.        ]\n",
      "  [0.        ]\n",
      "  [0.        ]\n",
      "  [0.        ]\n",
      "  [0.        ]\n",
      "  [0.        ]\n",
      "  [0.        ]\n",
      "  [0.        ]\n",
      "  [0.        ]\n",
      "  [0.        ]\n",
      "  [0.        ]\n",
      "  [0.        ]\n",
      "  [0.        ]\n",
      "  [0.        ]]]\n"
     ]
    }
   ],
   "source": [
    "print(test_arr1[0])"
   ]
  },
  {
   "cell_type": "markdown",
   "id": "79a84a62",
   "metadata": {},
   "source": [
    "Modelul rețelei neuronale a fost salvat și este încărcat din fișirul 'my_model'."
   ]
  },
  {
   "cell_type": "code",
   "execution_count": 326,
   "id": "c2173162",
   "metadata": {},
   "outputs": [],
   "source": [
    "from tensorflow import keras\n",
    "model = keras.models.load_model('my_model2')"
   ]
  },
  {
   "cell_type": "code",
   "execution_count": 327,
   "id": "53f57ced",
   "metadata": {},
   "outputs": [
    {
     "name": "stdout",
     "output_type": "stream",
     "text": [
      "Model: \"sequential\"\n",
      "_________________________________________________________________\n",
      "Layer (type)                 Output Shape              Param #   \n",
      "=================================================================\n",
      "conv2d (Conv2D)              (None, 26, 26, 32)        320       \n",
      "_________________________________________________________________\n",
      "max_pooling2d (MaxPooling2D) (None, 13, 13, 32)        0         \n",
      "_________________________________________________________________\n",
      "conv2d_1 (Conv2D)            (None, 11, 11, 64)        18496     \n",
      "_________________________________________________________________\n",
      "max_pooling2d_1 (MaxPooling2 (None, 5, 5, 64)          0         \n",
      "_________________________________________________________________\n",
      "conv2d_2 (Conv2D)            (None, 3, 3, 64)          36928     \n",
      "_________________________________________________________________\n",
      "flatten (Flatten)            (None, 576)               0         \n",
      "_________________________________________________________________\n",
      "dense (Dense)                (None, 10)                5770      \n",
      "=================================================================\n",
      "Total params: 61,514\n",
      "Trainable params: 61,514\n",
      "Non-trainable params: 0\n",
      "_________________________________________________________________\n"
     ]
    }
   ],
   "source": [
    "model.summary()"
   ]
  },
  {
   "cell_type": "markdown",
   "id": "2311e9cc",
   "metadata": {},
   "source": [
    "Se va face o predicție a imaginilor din CNP apelând metoda predict, având ca și parametru dataset-ul de imagini cu cele 13 cifre ale CNP-ului. "
   ]
  },
  {
   "cell_type": "code",
   "execution_count": 328,
   "id": "4f52f4f8",
   "metadata": {},
   "outputs": [
    {
     "name": "stdout",
     "output_type": "stream",
     "text": [
      "WARNING:tensorflow:9 out of the last 9 calls to <function Model.make_predict_function.<locals>.predict_function at 0x000001C9869AF3A0> triggered tf.function retracing. Tracing is expensive and the excessive number of tracings could be due to (1) creating @tf.function repeatedly in a loop, (2) passing tensors with different shapes, (3) passing Python objects instead of tensors. For (1), please define your @tf.function outside of the loop. For (2), @tf.function has experimental_relax_shapes=True option that relaxes argument shapes that can avoid unnecessary retracing. For (3), please refer to https://www.tensorflow.org/tutorials/customization/performance#python_or_tensor_args and https://www.tensorflow.org/api_docs/python/tf/function for  more details.\n"
     ]
    }
   ],
   "source": [
    "y_pred = model.predict(test_arr1)"
   ]
  },
  {
   "cell_type": "code",
   "execution_count": 329,
   "id": "046a1976",
   "metadata": {},
   "outputs": [
    {
     "data": {
      "text/plain": [
       "array([9.2276459e-06, 6.0050108e-05, 1.9017863e-01, 1.3785511e-02,\n",
       "       6.7433393e-07, 3.7488658e-07, 5.6686622e-07, 2.4601817e-04,\n",
       "       5.7895780e-03, 1.2942990e-05], dtype=float32)"
      ]
     },
     "execution_count": 329,
     "metadata": {},
     "output_type": "execute_result"
    }
   ],
   "source": [
    "y_pred[0]"
   ]
  },
  {
   "cell_type": "code",
   "execution_count": 330,
   "id": "a5188c97",
   "metadata": {},
   "outputs": [
    {
     "data": {
      "text/plain": [
       "8"
      ]
     },
     "execution_count": 330,
     "metadata": {},
     "output_type": "execute_result"
    }
   ],
   "source": [
    "np.argmax(y_pred[12])"
   ]
  },
  {
   "cell_type": "markdown",
   "id": "8a3bc9bd",
   "metadata": {},
   "source": [
    "Rezultatele predicției, adică valorile maxime ale y_pred, sunt salvate și scrise în fișierul resulted_cnp.txt."
   ]
  },
  {
   "cell_type": "code",
   "execution_count": 331,
   "id": "cc64508b",
   "metadata": {},
   "outputs": [
    {
     "name": "stdout",
     "output_type": "stream",
     "text": [
      "2957702260068\n"
     ]
    }
   ],
   "source": [
    "resulted_cnp = ''\n",
    "for i in range(13):\n",
    "    resulted_cnp = resulted_cnp + (str(np.argmax(y_pred[i])))\n",
    "print(resulted_cnp)"
   ]
  },
  {
   "cell_type": "code",
   "execution_count": 332,
   "id": "04fdf4f6",
   "metadata": {},
   "outputs": [],
   "source": [
    "text_file = open(\"E:\\\\Licenta\\\\Script licenta\\\\resulted_cnp.txt\", \"w\")\n",
    "text_file.write(\"%s\" % resulted_cnp)\n",
    "text_file.close()"
   ]
  },
  {
   "cell_type": "code",
   "execution_count": 333,
   "id": "696a6c72",
   "metadata": {},
   "outputs": [],
   "source": [
    "num_layer = 5 # Dense(1) layer\n",
    "layer = model.layers[num_layer]"
   ]
  },
  {
   "cell_type": "markdown",
   "id": "844d6730",
   "metadata": {},
   "source": [
    "În intermediate_output sunt stocate rezultatele de după aplicarea layer-elor de convoluție și max-pooling pe cele 13 imagini cu cifrele CNP-ului, fiecare având dimensiunea de 576. Fiecare dintre cele 13 va fi, pe rând, o intrare a rețelei neuronale artificiale din VHDL. "
   ]
  },
  {
   "cell_type": "code",
   "execution_count": 334,
   "id": "f34d8e8d",
   "metadata": {},
   "outputs": [
    {
     "name": "stdout",
     "output_type": "stream",
     "text": [
      "WARNING:tensorflow:10 out of the last 10 calls to <function Model.make_predict_function.<locals>.predict_function at 0x000001C9869C9C10> triggered tf.function retracing. Tracing is expensive and the excessive number of tracings could be due to (1) creating @tf.function repeatedly in a loop, (2) passing tensors with different shapes, (3) passing Python objects instead of tensors. For (1), please define your @tf.function outside of the loop. For (2), @tf.function has experimental_relax_shapes=True option that relaxes argument shapes that can avoid unnecessary retracing. For (3), please refer to https://www.tensorflow.org/tutorials/customization/performance#python_or_tensor_args and https://www.tensorflow.org/api_docs/python/tf/function for  more details.\n"
     ]
    }
   ],
   "source": [
    "from keras.models import Model\n",
    "\n",
    "layer_name = 'flatten'\n",
    "intermediate_layer_model = Model(inputs=model.input,\n",
    "                                 outputs=model.get_layer(layer_name).output)\n",
    "intermediate_output = intermediate_layer_model.predict(test_arr1)"
   ]
  },
  {
   "cell_type": "code",
   "execution_count": 335,
   "id": "90389013",
   "metadata": {},
   "outputs": [
    {
     "name": "stdout",
     "output_type": "stream",
     "text": [
      "(13, 576)\n"
     ]
    }
   ],
   "source": [
    "print(intermediate_output.shape)"
   ]
  },
  {
   "cell_type": "code",
   "execution_count": 336,
   "id": "3cf0cc5b",
   "metadata": {},
   "outputs": [
    {
     "name": "stdout",
     "output_type": "stream",
     "text": [
      "[0.0000000e+00 0.0000000e+00 0.0000000e+00 3.9118117e-01 0.0000000e+00\n",
      " 0.0000000e+00 0.0000000e+00 0.0000000e+00 0.0000000e+00 0.0000000e+00\n",
      " 0.0000000e+00 1.5877576e+00 2.9269421e-01 5.2239823e-01 2.0599081e-01\n",
      " 0.0000000e+00 0.0000000e+00 2.9726326e-01 0.0000000e+00 1.3834760e-02\n",
      " 0.0000000e+00 2.1514297e-01 0.0000000e+00 0.0000000e+00 0.0000000e+00\n",
      " 4.8462570e-01 3.4495912e+00 1.3906932e+00 0.0000000e+00 0.0000000e+00\n",
      " 1.0813909e+00 3.1276181e-01 0.0000000e+00 0.0000000e+00 1.8278196e+00\n",
      " 2.8078442e+00 0.0000000e+00 0.0000000e+00 0.0000000e+00 1.6516967e-01\n",
      " 0.0000000e+00 0.0000000e+00 0.0000000e+00 0.0000000e+00 0.0000000e+00\n",
      " 0.0000000e+00 0.0000000e+00 0.0000000e+00 0.0000000e+00 0.0000000e+00\n",
      " 0.0000000e+00 6.9180650e-01 0.0000000e+00 0.0000000e+00 0.0000000e+00\n",
      " 0.0000000e+00 0.0000000e+00 6.8745488e-01 0.0000000e+00 0.0000000e+00\n",
      " 0.0000000e+00 0.0000000e+00 0.0000000e+00 1.6078289e+00 0.0000000e+00\n",
      " 0.0000000e+00 0.0000000e+00 4.4198906e-01 0.0000000e+00 0.0000000e+00\n",
      " 0.0000000e+00 0.0000000e+00 0.0000000e+00 0.0000000e+00 0.0000000e+00\n",
      " 0.0000000e+00 1.3819833e-01 2.3306228e-01 1.8788373e-01 0.0000000e+00\n",
      " 0.0000000e+00 1.2207425e+00 0.0000000e+00 0.0000000e+00 0.0000000e+00\n",
      " 6.0298163e-01 0.0000000e+00 0.0000000e+00 0.0000000e+00 1.3875717e-01\n",
      " 4.0257630e+00 1.1260712e+00 0.0000000e+00 3.1278831e-01 3.8990340e+00\n",
      " 0.0000000e+00 0.0000000e+00 0.0000000e+00 3.5392389e-01 1.5758682e+00\n",
      " 0.0000000e+00 0.0000000e+00 0.0000000e+00 2.9375753e+00 1.2029018e+00\n",
      " 0.0000000e+00 0.0000000e+00 9.4710165e-01 0.0000000e+00 0.0000000e+00\n",
      " 0.0000000e+00 0.0000000e+00 0.0000000e+00 0.0000000e+00 2.0304318e-01\n",
      " 1.2447608e+00 0.0000000e+00 0.0000000e+00 0.0000000e+00 0.0000000e+00\n",
      " 1.3104494e+00 1.3606477e+00 0.0000000e+00 0.0000000e+00 4.0518993e-01\n",
      " 0.0000000e+00 5.6708753e-01 8.2135469e-01 0.0000000e+00 0.0000000e+00\n",
      " 0.0000000e+00 6.0909259e-01 0.0000000e+00 0.0000000e+00 0.0000000e+00\n",
      " 0.0000000e+00 0.0000000e+00 1.3244175e+00 0.0000000e+00 0.0000000e+00\n",
      " 1.3483340e-01 0.0000000e+00 0.0000000e+00 0.0000000e+00 0.0000000e+00\n",
      " 5.5130357e-01 0.0000000e+00 0.0000000e+00 0.0000000e+00 1.7492789e+00\n",
      " 0.0000000e+00 0.0000000e+00 0.0000000e+00 0.0000000e+00 1.3026749e+00\n",
      " 2.6899591e-01 2.3015699e-01 0.0000000e+00 3.0155766e+00 0.0000000e+00\n",
      " 6.1450332e-01 0.0000000e+00 0.0000000e+00 1.5471847e-01 0.0000000e+00\n",
      " 0.0000000e+00 0.0000000e+00 2.6136246e+00 2.1392503e+00 0.0000000e+00\n",
      " 0.0000000e+00 3.2850726e+00 0.0000000e+00 0.0000000e+00 0.0000000e+00\n",
      " 0.0000000e+00 0.0000000e+00 9.0497345e-01 4.7334462e-01 1.0728142e+00\n",
      " 0.0000000e+00 0.0000000e+00 0.0000000e+00 0.0000000e+00 2.4640188e+00\n",
      " 1.2356437e+00 0.0000000e+00 0.0000000e+00 2.2190480e+00 0.0000000e+00\n",
      " 4.6709278e-01 0.0000000e+00 0.0000000e+00 0.0000000e+00 0.0000000e+00\n",
      " 0.0000000e+00 0.0000000e+00 0.0000000e+00 0.0000000e+00 0.0000000e+00\n",
      " 4.9126437e-01 0.0000000e+00 0.0000000e+00 7.4985349e-01 1.5926981e-01\n",
      " 7.7183628e-01 5.3009078e-02 0.0000000e+00 0.0000000e+00 0.0000000e+00\n",
      " 0.0000000e+00 4.5834744e-01 0.0000000e+00 1.7932871e-01 0.0000000e+00\n",
      " 1.8728023e+00 5.9540057e-01 1.0576998e+00 1.0882071e+00 0.0000000e+00\n",
      " 0.0000000e+00 4.9677578e-01 1.6314621e-01 7.8851289e-01 0.0000000e+00\n",
      " 0.0000000e+00 1.4902939e+00 2.4269481e-01 8.8327661e-02 0.0000000e+00\n",
      " 6.9686197e-02 6.3571000e-01 5.4253452e-02 0.0000000e+00 0.0000000e+00\n",
      " 0.0000000e+00 0.0000000e+00 0.0000000e+00 6.3250101e-01 0.0000000e+00\n",
      " 0.0000000e+00 0.0000000e+00 0.0000000e+00 0.0000000e+00 0.0000000e+00\n",
      " 0.0000000e+00 0.0000000e+00 0.0000000e+00 0.0000000e+00 0.0000000e+00\n",
      " 7.7436441e-01 0.0000000e+00 0.0000000e+00 8.3009851e-01 0.0000000e+00\n",
      " 0.0000000e+00 0.0000000e+00 0.0000000e+00 0.0000000e+00 2.5030088e-01\n",
      " 0.0000000e+00 0.0000000e+00 0.0000000e+00 0.0000000e+00 4.5640650e-01\n",
      " 0.0000000e+00 1.4917050e-03 4.9544474e-01 0.0000000e+00 9.9417746e-01\n",
      " 1.1751831e+00 0.0000000e+00 0.0000000e+00 0.0000000e+00 0.0000000e+00\n",
      " 0.0000000e+00 0.0000000e+00 0.0000000e+00 1.3433219e+00 2.1013079e+00\n",
      " 0.0000000e+00 0.0000000e+00 0.0000000e+00 1.2652645e-01 0.0000000e+00\n",
      " 0.0000000e+00 0.0000000e+00 3.9012101e-01 1.2541507e-01 0.0000000e+00\n",
      " 4.5498139e-01 1.4726888e+00 0.0000000e+00 0.0000000e+00 5.5180633e-01\n",
      " 1.7564501e+00 4.2652580e-01 1.8173102e-01 0.0000000e+00 1.9549799e+00\n",
      " 0.0000000e+00 0.0000000e+00 8.9752889e-01 0.0000000e+00 0.0000000e+00\n",
      " 0.0000000e+00 9.6024579e-01 0.0000000e+00 0.0000000e+00 0.0000000e+00\n",
      " 0.0000000e+00 0.0000000e+00 3.8724223e-01 0.0000000e+00 0.0000000e+00\n",
      " 0.0000000e+00 7.4090505e-01 1.3654830e+00 0.0000000e+00 9.3988128e-02\n",
      " 0.0000000e+00 8.5885882e-01 0.0000000e+00 9.0031570e-01 0.0000000e+00\n",
      " 3.8775244e-01 0.0000000e+00 0.0000000e+00 2.4751726e-01 1.6454173e+00\n",
      " 0.0000000e+00 1.6986279e+00 0.0000000e+00 3.0013841e-01 0.0000000e+00\n",
      " 0.0000000e+00 0.0000000e+00 0.0000000e+00 0.0000000e+00 0.0000000e+00\n",
      " 0.0000000e+00 1.5536125e+00 4.8699325e-01 2.6782382e+00 0.0000000e+00\n",
      " 0.0000000e+00 0.0000000e+00 7.7992427e-01 0.0000000e+00 0.0000000e+00\n",
      " 0.0000000e+00 6.4860398e-01 4.6909609e-01 0.0000000e+00 3.3592263e-01\n",
      " 8.6249316e-01 0.0000000e+00 0.0000000e+00 0.0000000e+00 1.8369805e+00\n",
      " 9.4811237e-01 1.8427569e+00 0.0000000e+00 0.0000000e+00 0.0000000e+00\n",
      " 0.0000000e+00 0.0000000e+00 3.4148389e-01 0.0000000e+00 0.0000000e+00\n",
      " 1.1887385e+00 0.0000000e+00 0.0000000e+00 0.0000000e+00 0.0000000e+00\n",
      " 3.5046977e-01 0.0000000e+00 0.0000000e+00 2.4094154e-01 0.0000000e+00\n",
      " 8.1764477e-01 0.0000000e+00 0.0000000e+00 0.0000000e+00 0.0000000e+00\n",
      " 0.0000000e+00 0.0000000e+00 0.0000000e+00 2.4620421e+00 7.7383995e-01\n",
      " 0.0000000e+00 1.6725318e+00 0.0000000e+00 0.0000000e+00 2.2382821e-01\n",
      " 0.0000000e+00 0.0000000e+00 6.1846238e-01 1.8105783e+00 0.0000000e+00\n",
      " 0.0000000e+00 0.0000000e+00 0.0000000e+00 0.0000000e+00 0.0000000e+00\n",
      " 1.1958490e-01 0.0000000e+00 8.5788232e-01 1.2555093e+00 0.0000000e+00\n",
      " 0.0000000e+00 2.3188752e-01 4.6388772e-01 0.0000000e+00 0.0000000e+00\n",
      " 1.3707699e+00 0.0000000e+00 0.0000000e+00 1.7786934e+00 3.0980413e+00\n",
      " 0.0000000e+00 0.0000000e+00 1.6749122e+00 4.2394352e-01 0.0000000e+00\n",
      " 1.8792362e+00 9.1332920e-02 0.0000000e+00 0.0000000e+00 0.0000000e+00\n",
      " 1.3853724e+00 0.0000000e+00 0.0000000e+00 0.0000000e+00 0.0000000e+00\n",
      " 0.0000000e+00 0.0000000e+00 0.0000000e+00 0.0000000e+00 1.0070713e+00\n",
      " 0.0000000e+00 1.9341533e-01 0.0000000e+00 0.0000000e+00 4.1172606e-01\n",
      " 1.7174194e+00 1.4721740e-02 0.0000000e+00 0.0000000e+00 0.0000000e+00\n",
      " 0.0000000e+00 0.0000000e+00 1.3129230e+00 1.2837282e+00 0.0000000e+00\n",
      " 0.0000000e+00 0.0000000e+00 0.0000000e+00 0.0000000e+00 2.0278792e+00\n",
      " 0.0000000e+00 7.8521478e-01 3.1011901e+00 3.5534400e-01 0.0000000e+00\n",
      " 0.0000000e+00 0.0000000e+00 0.0000000e+00 0.0000000e+00 6.0391468e-01\n",
      " 0.0000000e+00 6.2677115e-01 2.4876411e+00 0.0000000e+00 7.7556223e-01\n",
      " 8.8034980e-02 3.1996301e-01 0.0000000e+00 0.0000000e+00 0.0000000e+00\n",
      " 0.0000000e+00 0.0000000e+00 2.4029589e+00 1.9980953e+00 0.0000000e+00\n",
      " 0.0000000e+00 1.3814521e+00 0.0000000e+00 0.0000000e+00 1.3351713e+00\n",
      " 0.0000000e+00 0.0000000e+00 0.0000000e+00 0.0000000e+00 4.1976905e-01\n",
      " 0.0000000e+00 0.0000000e+00 6.5051550e-01 3.2066185e-02 0.0000000e+00\n",
      " 0.0000000e+00 0.0000000e+00 0.0000000e+00 1.2293966e+00 0.0000000e+00\n",
      " 0.0000000e+00 0.0000000e+00 0.0000000e+00 5.5979061e-01 0.0000000e+00\n",
      " 9.2248422e-01 0.0000000e+00 0.0000000e+00 1.0222990e-01 0.0000000e+00\n",
      " 0.0000000e+00 0.0000000e+00 0.0000000e+00 0.0000000e+00 0.0000000e+00\n",
      " 2.8303783e+00 0.0000000e+00 0.0000000e+00 1.8570186e+00 5.6013328e-01\n",
      " 0.0000000e+00 6.4686739e-01 0.0000000e+00 0.0000000e+00 9.1100387e-02\n",
      " 0.0000000e+00 0.0000000e+00 0.0000000e+00 1.7816204e+00 0.0000000e+00\n",
      " 8.9447844e-01 0.0000000e+00 0.0000000e+00 6.0723728e-01 2.0111001e-01\n",
      " 0.0000000e+00 0.0000000e+00 3.8354278e-02 0.0000000e+00 0.0000000e+00\n",
      " 0.0000000e+00 1.4245501e+00 0.0000000e+00 0.0000000e+00 0.0000000e+00\n",
      " 2.0487466e-01 7.3904407e-01 6.9995654e-01 1.8952987e-01 8.3075054e-02\n",
      " 1.0899359e-01 0.0000000e+00 0.0000000e+00 0.0000000e+00 0.0000000e+00\n",
      " 0.0000000e+00 9.2629099e-01 2.8678241e-01 0.0000000e+00 0.0000000e+00\n",
      " 0.0000000e+00 0.0000000e+00 0.0000000e+00 1.9353046e+00 0.0000000e+00\n",
      " 7.8019518e-01 0.0000000e+00 4.9708045e-01 0.0000000e+00 1.5836017e+00\n",
      " 6.1847574e-01] 576\n"
     ]
    }
   ],
   "source": [
    "print(intermediate_output[0],len(intermediate_output[0]))"
   ]
  },
  {
   "cell_type": "code",
   "execution_count": 337,
   "id": "0d80b250",
   "metadata": {},
   "outputs": [],
   "source": [
    "input1 = intermediate_output[0]"
   ]
  },
  {
   "cell_type": "code",
   "execution_count": 338,
   "id": "c0355997",
   "metadata": {},
   "outputs": [
    {
     "name": "stdout",
     "output_type": "stream",
     "text": [
      "[0.0000000e+00 0.0000000e+00 0.0000000e+00 3.9118117e-01 0.0000000e+00\n",
      " 0.0000000e+00 0.0000000e+00 0.0000000e+00 0.0000000e+00 0.0000000e+00\n",
      " 0.0000000e+00 1.5877576e+00 2.9269421e-01 5.2239823e-01 2.0599081e-01\n",
      " 0.0000000e+00 0.0000000e+00 2.9726326e-01 0.0000000e+00 1.3834760e-02\n",
      " 0.0000000e+00 2.1514297e-01 0.0000000e+00 0.0000000e+00 0.0000000e+00\n",
      " 4.8462570e-01 3.4495912e+00 1.3906932e+00 0.0000000e+00 0.0000000e+00\n",
      " 1.0813909e+00 3.1276181e-01 0.0000000e+00 0.0000000e+00 1.8278196e+00\n",
      " 2.8078442e+00 0.0000000e+00 0.0000000e+00 0.0000000e+00 1.6516967e-01\n",
      " 0.0000000e+00 0.0000000e+00 0.0000000e+00 0.0000000e+00 0.0000000e+00\n",
      " 0.0000000e+00 0.0000000e+00 0.0000000e+00 0.0000000e+00 0.0000000e+00\n",
      " 0.0000000e+00 6.9180650e-01 0.0000000e+00 0.0000000e+00 0.0000000e+00\n",
      " 0.0000000e+00 0.0000000e+00 6.8745488e-01 0.0000000e+00 0.0000000e+00\n",
      " 0.0000000e+00 0.0000000e+00 0.0000000e+00 1.6078289e+00 0.0000000e+00\n",
      " 0.0000000e+00 0.0000000e+00 4.4198906e-01 0.0000000e+00 0.0000000e+00\n",
      " 0.0000000e+00 0.0000000e+00 0.0000000e+00 0.0000000e+00 0.0000000e+00\n",
      " 0.0000000e+00 1.3819833e-01 2.3306228e-01 1.8788373e-01 0.0000000e+00\n",
      " 0.0000000e+00 1.2207425e+00 0.0000000e+00 0.0000000e+00 0.0000000e+00\n",
      " 6.0298163e-01 0.0000000e+00 0.0000000e+00 0.0000000e+00 1.3875717e-01\n",
      " 4.0257630e+00 1.1260712e+00 0.0000000e+00 3.1278831e-01 3.8990340e+00\n",
      " 0.0000000e+00 0.0000000e+00 0.0000000e+00 3.5392389e-01 1.5758682e+00\n",
      " 0.0000000e+00 0.0000000e+00 0.0000000e+00 2.9375753e+00 1.2029018e+00\n",
      " 0.0000000e+00 0.0000000e+00 9.4710165e-01 0.0000000e+00 0.0000000e+00\n",
      " 0.0000000e+00 0.0000000e+00 0.0000000e+00 0.0000000e+00 2.0304318e-01\n",
      " 1.2447608e+00 0.0000000e+00 0.0000000e+00 0.0000000e+00 0.0000000e+00\n",
      " 1.3104494e+00 1.3606477e+00 0.0000000e+00 0.0000000e+00 4.0518993e-01\n",
      " 0.0000000e+00 5.6708753e-01 8.2135469e-01 0.0000000e+00 0.0000000e+00\n",
      " 0.0000000e+00 6.0909259e-01 0.0000000e+00 0.0000000e+00 0.0000000e+00\n",
      " 0.0000000e+00 0.0000000e+00 1.3244175e+00 0.0000000e+00 0.0000000e+00\n",
      " 1.3483340e-01 0.0000000e+00 0.0000000e+00 0.0000000e+00 0.0000000e+00\n",
      " 5.5130357e-01 0.0000000e+00 0.0000000e+00 0.0000000e+00 1.7492789e+00\n",
      " 0.0000000e+00 0.0000000e+00 0.0000000e+00 0.0000000e+00 1.3026749e+00\n",
      " 2.6899591e-01 2.3015699e-01 0.0000000e+00 3.0155766e+00 0.0000000e+00\n",
      " 6.1450332e-01 0.0000000e+00 0.0000000e+00 1.5471847e-01 0.0000000e+00\n",
      " 0.0000000e+00 0.0000000e+00 2.6136246e+00 2.1392503e+00 0.0000000e+00\n",
      " 0.0000000e+00 3.2850726e+00 0.0000000e+00 0.0000000e+00 0.0000000e+00\n",
      " 0.0000000e+00 0.0000000e+00 9.0497345e-01 4.7334462e-01 1.0728142e+00\n",
      " 0.0000000e+00 0.0000000e+00 0.0000000e+00 0.0000000e+00 2.4640188e+00\n",
      " 1.2356437e+00 0.0000000e+00 0.0000000e+00 2.2190480e+00 0.0000000e+00\n",
      " 4.6709278e-01 0.0000000e+00 0.0000000e+00 0.0000000e+00 0.0000000e+00\n",
      " 0.0000000e+00 0.0000000e+00 0.0000000e+00 0.0000000e+00 0.0000000e+00\n",
      " 4.9126437e-01 0.0000000e+00 0.0000000e+00 7.4985349e-01 1.5926981e-01\n",
      " 7.7183628e-01 5.3009078e-02 0.0000000e+00 0.0000000e+00 0.0000000e+00\n",
      " 0.0000000e+00 4.5834744e-01 0.0000000e+00 1.7932871e-01 0.0000000e+00\n",
      " 1.8728023e+00 5.9540057e-01 1.0576998e+00 1.0882071e+00 0.0000000e+00\n",
      " 0.0000000e+00 4.9677578e-01 1.6314621e-01 7.8851289e-01 0.0000000e+00\n",
      " 0.0000000e+00 1.4902939e+00 2.4269481e-01 8.8327661e-02 0.0000000e+00\n",
      " 6.9686197e-02 6.3571000e-01 5.4253452e-02 0.0000000e+00 0.0000000e+00\n",
      " 0.0000000e+00 0.0000000e+00 0.0000000e+00 6.3250101e-01 0.0000000e+00\n",
      " 0.0000000e+00 0.0000000e+00 0.0000000e+00 0.0000000e+00 0.0000000e+00\n",
      " 0.0000000e+00 0.0000000e+00 0.0000000e+00 0.0000000e+00 0.0000000e+00\n",
      " 7.7436441e-01 0.0000000e+00 0.0000000e+00 8.3009851e-01 0.0000000e+00\n",
      " 0.0000000e+00 0.0000000e+00 0.0000000e+00 0.0000000e+00 2.5030088e-01\n",
      " 0.0000000e+00 0.0000000e+00 0.0000000e+00 0.0000000e+00 4.5640650e-01\n",
      " 0.0000000e+00 1.4917050e-03 4.9544474e-01 0.0000000e+00 9.9417746e-01\n",
      " 1.1751831e+00 0.0000000e+00 0.0000000e+00 0.0000000e+00 0.0000000e+00\n",
      " 0.0000000e+00 0.0000000e+00 0.0000000e+00 1.3433219e+00 2.1013079e+00\n",
      " 0.0000000e+00 0.0000000e+00 0.0000000e+00 1.2652645e-01 0.0000000e+00\n",
      " 0.0000000e+00 0.0000000e+00 3.9012101e-01 1.2541507e-01 0.0000000e+00\n",
      " 4.5498139e-01 1.4726888e+00 0.0000000e+00 0.0000000e+00 5.5180633e-01\n",
      " 1.7564501e+00 4.2652580e-01 1.8173102e-01 0.0000000e+00 1.9549799e+00\n",
      " 0.0000000e+00 0.0000000e+00 8.9752889e-01 0.0000000e+00 0.0000000e+00\n",
      " 0.0000000e+00 9.6024579e-01 0.0000000e+00 0.0000000e+00 0.0000000e+00\n",
      " 0.0000000e+00 0.0000000e+00 3.8724223e-01 0.0000000e+00 0.0000000e+00\n",
      " 0.0000000e+00 7.4090505e-01 1.3654830e+00 0.0000000e+00 9.3988128e-02\n",
      " 0.0000000e+00 8.5885882e-01 0.0000000e+00 9.0031570e-01 0.0000000e+00\n",
      " 3.8775244e-01 0.0000000e+00 0.0000000e+00 2.4751726e-01 1.6454173e+00\n",
      " 0.0000000e+00 1.6986279e+00 0.0000000e+00 3.0013841e-01 0.0000000e+00\n",
      " 0.0000000e+00 0.0000000e+00 0.0000000e+00 0.0000000e+00 0.0000000e+00\n",
      " 0.0000000e+00 1.5536125e+00 4.8699325e-01 2.6782382e+00 0.0000000e+00\n",
      " 0.0000000e+00 0.0000000e+00 7.7992427e-01 0.0000000e+00 0.0000000e+00\n",
      " 0.0000000e+00 6.4860398e-01 4.6909609e-01 0.0000000e+00 3.3592263e-01\n",
      " 8.6249316e-01 0.0000000e+00 0.0000000e+00 0.0000000e+00 1.8369805e+00\n",
      " 9.4811237e-01 1.8427569e+00 0.0000000e+00 0.0000000e+00 0.0000000e+00\n",
      " 0.0000000e+00 0.0000000e+00 3.4148389e-01 0.0000000e+00 0.0000000e+00\n",
      " 1.1887385e+00 0.0000000e+00 0.0000000e+00 0.0000000e+00 0.0000000e+00\n",
      " 3.5046977e-01 0.0000000e+00 0.0000000e+00 2.4094154e-01 0.0000000e+00\n",
      " 8.1764477e-01 0.0000000e+00 0.0000000e+00 0.0000000e+00 0.0000000e+00\n",
      " 0.0000000e+00 0.0000000e+00 0.0000000e+00 2.4620421e+00 7.7383995e-01\n",
      " 0.0000000e+00 1.6725318e+00 0.0000000e+00 0.0000000e+00 2.2382821e-01\n",
      " 0.0000000e+00 0.0000000e+00 6.1846238e-01 1.8105783e+00 0.0000000e+00\n",
      " 0.0000000e+00 0.0000000e+00 0.0000000e+00 0.0000000e+00 0.0000000e+00\n",
      " 1.1958490e-01 0.0000000e+00 8.5788232e-01 1.2555093e+00 0.0000000e+00\n",
      " 0.0000000e+00 2.3188752e-01 4.6388772e-01 0.0000000e+00 0.0000000e+00\n",
      " 1.3707699e+00 0.0000000e+00 0.0000000e+00 1.7786934e+00 3.0980413e+00\n",
      " 0.0000000e+00 0.0000000e+00 1.6749122e+00 4.2394352e-01 0.0000000e+00\n",
      " 1.8792362e+00 9.1332920e-02 0.0000000e+00 0.0000000e+00 0.0000000e+00\n",
      " 1.3853724e+00 0.0000000e+00 0.0000000e+00 0.0000000e+00 0.0000000e+00\n",
      " 0.0000000e+00 0.0000000e+00 0.0000000e+00 0.0000000e+00 1.0070713e+00\n",
      " 0.0000000e+00 1.9341533e-01 0.0000000e+00 0.0000000e+00 4.1172606e-01\n",
      " 1.7174194e+00 1.4721740e-02 0.0000000e+00 0.0000000e+00 0.0000000e+00\n",
      " 0.0000000e+00 0.0000000e+00 1.3129230e+00 1.2837282e+00 0.0000000e+00\n",
      " 0.0000000e+00 0.0000000e+00 0.0000000e+00 0.0000000e+00 2.0278792e+00\n",
      " 0.0000000e+00 7.8521478e-01 3.1011901e+00 3.5534400e-01 0.0000000e+00\n",
      " 0.0000000e+00 0.0000000e+00 0.0000000e+00 0.0000000e+00 6.0391468e-01\n",
      " 0.0000000e+00 6.2677115e-01 2.4876411e+00 0.0000000e+00 7.7556223e-01\n",
      " 8.8034980e-02 3.1996301e-01 0.0000000e+00 0.0000000e+00 0.0000000e+00\n",
      " 0.0000000e+00 0.0000000e+00 2.4029589e+00 1.9980953e+00 0.0000000e+00\n",
      " 0.0000000e+00 1.3814521e+00 0.0000000e+00 0.0000000e+00 1.3351713e+00\n",
      " 0.0000000e+00 0.0000000e+00 0.0000000e+00 0.0000000e+00 4.1976905e-01\n",
      " 0.0000000e+00 0.0000000e+00 6.5051550e-01 3.2066185e-02 0.0000000e+00\n",
      " 0.0000000e+00 0.0000000e+00 0.0000000e+00 1.2293966e+00 0.0000000e+00\n",
      " 0.0000000e+00 0.0000000e+00 0.0000000e+00 5.5979061e-01 0.0000000e+00\n",
      " 9.2248422e-01 0.0000000e+00 0.0000000e+00 1.0222990e-01 0.0000000e+00\n",
      " 0.0000000e+00 0.0000000e+00 0.0000000e+00 0.0000000e+00 0.0000000e+00\n",
      " 2.8303783e+00 0.0000000e+00 0.0000000e+00 1.8570186e+00 5.6013328e-01\n",
      " 0.0000000e+00 6.4686739e-01 0.0000000e+00 0.0000000e+00 9.1100387e-02\n",
      " 0.0000000e+00 0.0000000e+00 0.0000000e+00 1.7816204e+00 0.0000000e+00\n",
      " 8.9447844e-01 0.0000000e+00 0.0000000e+00 6.0723728e-01 2.0111001e-01\n",
      " 0.0000000e+00 0.0000000e+00 3.8354278e-02 0.0000000e+00 0.0000000e+00\n",
      " 0.0000000e+00 1.4245501e+00 0.0000000e+00 0.0000000e+00 0.0000000e+00\n",
      " 2.0487466e-01 7.3904407e-01 6.9995654e-01 1.8952987e-01 8.3075054e-02\n",
      " 1.0899359e-01 0.0000000e+00 0.0000000e+00 0.0000000e+00 0.0000000e+00\n",
      " 0.0000000e+00 9.2629099e-01 2.8678241e-01 0.0000000e+00 0.0000000e+00\n",
      " 0.0000000e+00 0.0000000e+00 0.0000000e+00 1.9353046e+00 0.0000000e+00\n",
      " 7.8019518e-01 0.0000000e+00 4.9708045e-01 0.0000000e+00 1.5836017e+00\n",
      " 6.1847574e-01]\n"
     ]
    }
   ],
   "source": [
    "print(input1)"
   ]
  },
  {
   "cell_type": "code",
   "execution_count": 339,
   "id": "6168f011",
   "metadata": {},
   "outputs": [
    {
     "data": {
      "text/plain": [
       "576"
      ]
     },
     "execution_count": 339,
     "metadata": {},
     "output_type": "execute_result"
    }
   ],
   "source": [
    "len(intermediate_output[0])"
   ]
  },
  {
   "cell_type": "markdown",
   "id": "ca031c68",
   "metadata": {},
   "source": [
    "Valorile din intermediate_output au fost salvate în fișierul inputsAll."
   ]
  },
  {
   "cell_type": "code",
   "execution_count": 340,
   "id": "1a9949a2",
   "metadata": {},
   "outputs": [],
   "source": [
    "s = ''\n",
    "arrInputs = []\n",
    "for i in range(13):\n",
    "    for j in range(576):\n",
    "        s += str(intermediate_output[i][j])\n",
    "        arrInputs.append(intermediate_output[i][j])\n",
    "        s += ' '"
   ]
  },
  {
   "cell_type": "code",
   "execution_count": 341,
   "id": "1546accc",
   "metadata": {},
   "outputs": [
    {
     "name": "stdout",
     "output_type": "stream",
     "text": [
      "0.0 0.0 0.0 0.39118117 0.0 0.0 0.0 0.0 0.0 0.0 0.0 1.5877576 0.2926942 0.52239823 0.2059908 0.0 0.0 0.29726326 0.0 0.01383476 0.0 0.21514297 0.0 0.0 0.0 0.4846257 3.4495912 1.3906932 0.0 0.0 1.0813909 0.3127618 0.0 0.0 1.8278196 2.8078442 0.0 0.0 0.0 0.16516967 0.0 0.0 0.0 0.0 0.0 0.0 0.0 0.0 0.0 0.0 0.0 0.6918065 0.0 0.0 0.0 0.0 0.0 0.6874549 0.0 0.0 0.0 0.0 0.0 1.6078289 0.0 0.0 0.0 0.44198906 0.0 0.0 0.0 0.0 0.0 0.0 0.0 0.0 0.13819833 0.23306228 0.18788373 0.0 0.0 1.2207425 0.0 0.0 0.0 0.6029816 0.0 0.0 0.0 0.13875717 4.025763 1.1260712 0.0 0.3127883 3.899034 0.0 0.0 0.0 0.3539239 1.5758682 0.0 0.0 0.0 2.9375753 1.2029018 0.0 0.0 0.94710165 0.0 0.0 0.0 0.0 0.0 0.0 0.20304318 1.2447608 0.0 0.0 0.0 0.0 1.3104494 1.3606477 0.0 0.0 0.40518993 0.0 0.56708753 0.8213547 0.0 0.0 0.0 0.6090926 0.0 0.0 0.0 0.0 0.0 1.3244175 0.0 0.0 0.1348334 0.0 0.0 0.0 0.0 0.55130357 0.0 0.0 0.0 1.7492789 0.0 0.0 0.0 0.0 1.3026749 0.2689959 0.23015699 0.0 3.0155766 0.0 0.6145033 0.0 0.0 0.15471847 0.0 0.0 0.0 2.6136246 2.1392503 0.0 0.0 3.2850726 0.0 0.0 0.0 0.0 0.0 0.90497345 0.47334462 1.0728142 0.0 0.0 0.0 0.0 2.4640188 1.2356437 0.0 0.0 2.219048 0.0 0.46709278 0.0 0.0 0.0 0.0 0.0 0.0 0.0 0.0 0.0 0.49126437 0.0 0.0 0.7498535 0.15926981 0.7718363 0.053009078 0.0 0.0 0.0 0.0 0.45834744 0.0 0.17932871 0.0 1.8728023 0.5954006 1.0576998 1.0882071 0.0 0.0 0.49677578 0.16314621 0.7885129 0.0 0.0 1.4902939 0.24269481 0.08832766 0.0 0.0696862 0.63571 0.05425345 0.0 0.0 0.0 0.0 0.0 0.632501 0.0 0.0 0.0 0.0 0.0 0.0 0.0 0.0 0.0 0.0 0.0 0.7743644 0.0 0.0 0.8300985 0.0 0.0 0.0 0.0 0.0 0.25030088 0.0 0.0 0.0 0.0 0.4564065 0.0 0.001491705 0.49544474 0.0 0.99417746 1.175183 0.0 0.0 0.0 0.0 0.0 0.0 0.0 1.3433219 2.1013079 0.0 0.0 0.0 0.12652645 0.0 0.0 0.0 0.390121 0.12541507 0.0 0.4549814 1.4726888 0.0 0.0 0.55180633 1.75645 0.4265258 0.18173102 0.0 1.9549799 0.0 0.0 0.8975289 0.0 0.0 0.0 0.9602458 0.0 0.0 0.0 0.0 0.0 0.38724223 0.0 0.0 0.0 0.74090505 1.365483 0.0 0.09398813 0.0 0.8588588 0.0 0.9003157 0.0 0.38775244 0.0 0.0 0.24751726 1.6454173 0.0 1.698628 0.0 0.3001384 0.0 0.0 0.0 0.0 0.0 0.0 0.0 1.5536125 0.48699325 2.6782382 0.0 0.0 0.0 0.7799243 0.0 0.0 0.0 0.648604 0.4690961 0.0 0.33592263 0.86249316 0.0 0.0 0.0 1.8369805 0.94811237 1.8427569 0.0 0.0 0.0 0.0 0.0 0.3414839 0.0 0.0 1.1887385 0.0 0.0 0.0 0.0 0.35046977 0.0 0.0 0.24094154 0.0 0.8176448 0.0 0.0 0.0 0.0 0.0 0.0 0.0 2.462042 0.77383995 0.0 1.6725318 0.0 0.0 0.22382821 0.0 0.0 0.6184624 1.8105783 0.0 0.0 0.0 0.0 0.0 0.0 0.1195849 0.0 0.8578823 1.2555093 0.0 0.0 0.23188752 0.46388772 0.0 0.0 1.3707699 0.0 0.0 1.7786934 3.0980413 0.0 0.0 1.6749122 0.42394352 0.0 1.8792362 0.09133292 0.0 0.0 0.0 1.3853724 0.0 0.0 0.0 0.0 0.0 0.0 0.0 0.0 1.0070713 0.0 0.19341533 0.0 0.0 0.41172606 1.7174194 0.01472174 0.0 0.0 0.0 0.0 0.0 1.312923 1.2837282 0.0 0.0 0.0 0.0 0.0 2.0278792 0.0 0.7852148 3.10119 0.355344 0.0 0.0 0.0 0.0 0.0 0.6039147 0.0 0.62677115 2.487641 0.0 0.7755622 0.08803498 0.319963 0.0 0.0 0.0 0.0 0.0 2.4029589 1.9980953 0.0 0.0 1.3814521 0.0 0.0 1.3351713 0.0 0.0 0.0 0.0 0.41976905 0.0 0.0 0.6505155 0.032066185 0.0 0.0 0.0 0.0 1.2293966 0.0 0.0 0.0 0.0 0.5597906 0.0 0.9224842 0.0 0.0 0.1022299 0.0 0.0 0.0 0.0 0.0 0.0 2.8303783 0.0 0.0 1.8570186 0.5601333 0.0 0.6468674 0.0 0.0 0.09110039 0.0 0.0 0.0 1.7816204 0.0 0.89447844 0.0 0.0 0.6072373 0.20111 0.0 0.0 0.038354278 0.0 0.0 0.0 1.42455 0.0 0.0 0.0 0.20487466 0.7390441 0.69995654 0.18952987 0.083075054 0.10899359 0.0 0.0 0.0 0.0 0.0 0.926291 0.2867824 0.0 0.0 0.0 0.0 0.0 1.9353046 0.0 0.7801952 0.0 0.49708045 0.0 1.5836017 0.61847574 0.0 0.0 0.0 0.0 1.5576763 2.1363282 0.0 0.0 0.0 0.0 0.0 0.865141 0.0028445534 0.0533453 2.1850002 0.0 0.0 0.0 0.0 0.0 0.0 0.005498903 0.0 0.0 2.0663078 0.0 0.9128967 0.7730861 3.2365565 0.0 0.0 0.0 0.0 0.0 2.4932024 2.2775688 0.50557184 0.0 2.8596516 0.0 0.0 0.05955759 0.0 0.0 0.0 0.0 1.1675392 0.37891704 0.0 0.0 0.0 0.0 0.0 0.0 0.0 0.0 0.0 0.22961898 0.0 0.0 0.9483238 0.35021275 1.2747681 0.0 0.0 0.0 0.0 0.0 0.0 0.48003548 0.0 0.0 0.0 0.0 0.754794 0.0 0.03752781 0.217448 1.6422888 0.0 0.0 1.1900872 0.0 0.038838968 0.0 0.0 0.0 0.0 0.5856986 0.0 1.8769526 0.029203571 2.430607 0.0 2.214246 0.0 0.0 0.0 1.9254444 2.493704 0.0 0.0 0.0 0.8161291 0.0 0.0 0.0 0.21522881 0.0 0.0 0.0 0.019025672 0.0 0.4186447 0.55848765 0.0 0.0 0.0 0.0 0.0 0.05076248 0.66170627 0.0 0.0 0.110366985 0.0 0.0 0.0 0.0 0.0 0.0 0.0 0.0 0.10647935 0.0 0.0 0.0 0.0 0.06644947 0.0 0.40550527 0.0 0.0 0.0 0.0 1.755161 0.0 0.0 0.0 0.94582057 0.0 0.0 0.0 0.0 3.257307 0.0 1.4150019 0.0 4.825905 0.0 0.8882099 0.0 0.22489482 1.5331074 0.0 0.0 0.0 1.277405 1.3976451 0.0 0.0 1.2965107 0.0 0.0 0.0 0.0 0.0 1.558198 0.9658577 0.6010408 0.0 0.0 0.0 0.0 1.7510494 1.1419675 0.0 0.0 0.91834944 0.0 0.39515904 0.0 0.0 0.0 0.0 0.0 0.4579835 0.0 0.0 0.0 0.56163865 0.0 0.11405859 0.0 1.6022352 0.0 0.37324592 0.34146798 0.0 2.6803114 0.0 0.5057717 0.0 0.0 0.0 0.0 0.0 1.7872962 1.7502043 0.0 0.053701214 0.0 1.4153618 0.0 0.0 0.0 0.61817783 0.698463 0.0 0.19000976 1.3810428 0.802756 0.88579375 0.0 0.0 0.0 0.0 1.1925391 0.0 0.0 0.0 0.0 0.0 0.03134924 0.0 0.0 0.0 0.0 1.4024006 0.0 0.0 0.0 0.103926435 0.0 1.0518718 0.0 0.0 0.43686104 0.0 1.0811913 0.0 0.0 0.0 0.0 1.0903903 0.22572811 0.0 0.0 1.126902 0.9889723 0.0 0.0 0.0 2.884298 0.0 1.3824123 1.3020277 0.0 0.0 0.0 0.0 1.3573658 1.1605446 0.0 0.0 0.0 0.9171794 1.2704731 0.0 0.0 0.83699876 0.0 0.0 0.05063165 0.0 0.8788604 0.77915466 0.0 0.0 2.6194882 0.0 0.90527475 0.0 0.0 0.0 0.0 1.7317255 0.2419513 0.0 0.0 0.0 0.0 1.8269966 0.39928222 0.0 0.0 0.0 0.0 0.0 0.0 0.0 2.1247008 0.0 0.11691524 0.0 0.0 0.0 0.0 0.0 1.3948232 0.0 0.0 0.0 0.0 0.0 0.0 0.0 0.9010226 0.0 0.0 0.0 0.9789908 0.0 0.33265084 0.0 0.0 0.0 0.0 0.0 0.0 0.04636095 1.1464403 1.1461395 0.0 0.0 0.0 0.0 0.0 0.0 2.1414762 1.7562977 0.42097005 0.0 1.4364212 0.0 0.0 0.0 0.0 0.0 0.7409393 2.1240966 0.0 0.0 0.0 0.0 0.0 1.2494226 0.09940268 0.0 0.0 0.6347764 0.0 0.0 0.0 0.0 0.0 0.0 0.8477135 0.0 0.0 0.0 0.0 0.0 0.0 0.0 0.0 0.0 0.49394587 1.6352415 0.0 0.0 1.2797362 0.0 1.088422 0.0 1.0303236 0.0 0.42729595 0.0 0.7210065 1.2919391 0.0 0.5979703 0.0 0.0 0.0 0.0 0.0 1.4410666 1.2573687 0.0 0.0 0.0 1.5932555 0.7166041 0.18476918 0.0 0.0 0.0 0.0 0.0 0.0 0.0 0.38991877 0.14165245 1.3956959 0.0 0.0 0.0 0.0 0.018578175 0.76189756 0.0 0.0 0.0 0.9410573 0.0 0.0 0.0 1.5930678 0.0 1.9703891 0.0 0.022253096 0.0 0.0 0.0 0.0 0.0 0.0 0.0 0.013413658 0.3894543 0.0 0.0 0.0 0.0 0.41198134 0.0 0.7297817 0.0 1.9466306 0.0 0.0 0.18101554 0.0 0.0 0.0 0.0 0.13233614 0.22263376 0.0 1.0363816 0.35506338 0.0 0.0 0.0 2.6531734 0.42603824 1.3938193 0.0 1.507375 0.0 0.0 0.0 0.0 0.0 0.41878203 0.0 0.0 0.0 0.0 0.0 0.0 0.42587894 0.18860598 0.0 0.0 0.2004761 0.44495398 0.0 0.0 0.0 1.5388681 0.0 1.4293151 0.0 1.2044761 0.0 0.0 1.5179224 1.2564927 0.0 1.0200515 0.0 0.57107604 0.0 0.0 0.0 0.0 0.0 0.0 0.0 0.34094685 0.46163005 3.16898 0.0 0.0 0.0 0.050851926 0.0 0.0 0.0 0.0 0.6179747 0.0 0.0 0.6221345 0.0 0.0 0.0 1.6983492 0.42402348 1.3241017 0.0 0.38093454 0.0 0.0 0.0 0.6414243 0.0 0.5288621 0.0 0.0 0.0 0.0 0.0 1.3803768 0.41947943 0.0 0.0 0.0 0.0 0.0 0.0 0.0 0.0 0.0 0.0 0.0 2.4246125 1.0975376 0.0 1.056229 0.0 0.0 0.0 0.0 0.0 0.0 2.116849 0.0 0.0 0.0 0.0 0.0 0.0 0.47154516 0.0 0.0 0.54018515 0.11658599 0.21587749 0.7087039 2.2384546 0.0 0.23039138 0.51393336 0.0 0.0 1.1144363 4.895228 0.0 0.0 0.69913864 0.0 0.0 1.263824 0.0 0.0 0.0 0.0 0.0 0.0 0.0 0.0 0.0 0.0 0.0 0.0 0.0 2.12719 0.0 1.1419394 0.0 0.0 0.9828859 0.48187453 0.0 0.0 0.0 0.0 0.0 0.4943512 2.0183318 2.122062 0.0 0.0 0.0 0.0 0.0 3.181241 1.1304406 0.0 1.1114444 0.0 0.0 0.6394893 0.0 0.33029008 0.0 0.7163678 0.0 0.0 2.813647 0.0 1.9689074 0.59617066 3.1111617 0.0 0.0 0.0 0.0 0.0 2.5978456 3.8326533 0.0 0.0 0.0 0.0 0.0 0.63034856 0.0 0.47189674 0.0 0.13571022 0.0 0.0 0.0 0.43226948 0.0 0.0 0.0 0.0 0.0 0.0 1.9250696 0.26145738 0.0 0.0 0.084639356 0.0 0.0 0.0 0.0 0.0 0.0 0.0 0.0 0.43959612 0.0 0.0 0.0 0.0 0.0 4.0488014 0.57465464 0.0 0.6296645 0.0 0.0 0.0 0.0 1.2507836 0.0 0.5481685 0.0 0.0 2.1393774 0.0 2.4385555 1.255975 2.8201544 0.0 0.0 0.0 0.0 0.0 2.759466 3.8757083 0.0 0.0 0.0 0.0 0.0 0.26165596 0.0 1.7953937 0.0 0.34117606 0.0 0.0 0.0 0.0 0.3437829 0.14769715 0.0 0.0 0.0 0.0 1.8945036 0.0 0.0 0.0 0.0 0.0 0.22737661 0.0 0.0 0.0 0.0 0.97112894 0.0 0.0 0.0 0.0 0.0 0.0 0.0 0.15688048 0.05168834 0.24793877 0.5603975 0.0 0.0 1.0022014 0.0 0.95409876 0.0 0.0 0.056151446 0.0 0.0 1.6970018 2.3716288 1.2123944 0.6853475 0.0 0.0 0.0 0.0 0.0 1.9940393 2.3346608 0.0 0.40997323 0.0 0.0 0.0 0.2977408 0.0 0.47726658 0.0 0.0 0.0 1.0393512 0.9022925 0.0 0.0 2.7580664 0.0 0.0 0.0 0.0 1.5154425 0.15415789 0.0 0.0 0.0 0.0 0.0 0.35817936 0.0 0.0 0.0 0.5299239 0.0 0.0 0.0 0.0 0.0 0.0 0.0 0.0 1.0206867 0.0 0.0 0.0 0.0 3.0174494 0.0 2.2838707 0.0 0.7374484 0.0 0.0 0.0 1.808588 3.3111165 0.69485044 0.0 0.0 2.7024326 0.0 0.059171062 0.0 1.4673097 1.518723 0.0 0.30969527 0.0 2.769524 0.04968772 0.0 0.0 0.07181692 0.0 0.36128387 0.0 0.0 0.56163746 0.0 0.0 2.5808074 0.0 0.0 0.0 0.0 2.017895 0.0 0.0 0.0 0.0 0.0 0.0 0.0 0.0 0.0 0.0 0.0 0.0 0.3132607 0.0 0.94034386 2.150856 0.0 0.0 1.2799847 0.74366695 0.0 0.0 1.0809958 0.0 3.673526 0.0 1.5440257 0.94783586 1.6822599 0.0 0.0 0.0 0.3811329 4.1064663 0.0 0.0 0.0 3.9052382 0.0 0.49060497 0.0 1.444727 0.14190073 0.0 0.0 0.0 1.5139309 0.9345621 0.0 0.0 0.0 0.06316147 2.4746208 0.0 0.0 0.0 1.3817835 0.0 1.1549075 0.0 0.0 0.0 0.0 2.3832228 0.0 0.0 0.0 0.0 0.0 0.0 0.5912659 0.0 0.0 0.0 1.248792 0.0 0.0 0.0 0.0 0.0 0.0 0.0 3.9408102 1.2373686 1.0328728 0.0 0.0 0.0 2.7072442 0.0 0.20323835 0.0 1.0463396 0.0 2.1568868 0.0 1.5360322 2.1103208 1.1554328 0.0 0.0 0.04188198 0.57849455 0.0 0.0 2.6332798 2.3285518 0.0 0.0 0.0 1.5259886 0.0 0.0 0.0 0.0 0.0 1.8080305 0.0 0.0 0.0 0.0 0.0 1.2038345 0.0 0.0 0.0 0.0 0.13759172 0.0 0.0 0.0 0.0 0.0 0.0 0.17930216 0.0 0.0 0.0 1.4036632 0.0 0.0 0.0 0.0 0.0 0.0 0.45815688 0.0 0.60312366 1.628448 0.0 0.0 0.0 2.255995 0.0 0.0 0.0 1.1781421 0.0 1.2864616 0.0 0.77064586 0.40948337 0.6322196 0.0 0.0 0.025796235 1.728247 0.0 0.0 0.8260582 2.672483 0.0 0.0 0.0 3.1907468 0.481281 0.0 0.0 1.2314763 0.0 0.0 0.0 0.0 0.0 0.0 1.7077463 0.2508528 0.0 0.0 0.0 0.0 0.2815959 0.0 0.0 0.0 0.6038354 0.8369028 0.0 0.0 0.0 3.2520263 0.0 1.2996316 0.0 0.0 0.0 0.0 0.0 0.95318115 0.0 0.0 0.0 0.24874882 0.0 0.0 0.0 0.0 0.0 0.0 0.0 3.0398526 0.0 0.3767805 0.0 0.0 0.0 0.95580524 0.0 0.0 0.0 0.0 1.5375721 0.0 0.0 1.2478613 0.0 0.0 0.0 4.360582 2.144511 0.0 0.0 1.4291089 0.0 0.0 0.0 0.0 0.0 0.2919145 1.8665657 0.6054912 0.0 0.0 0.0 0.0 2.0097103 0.0 0.0 0.0 2.4614646 0.0 0.0 0.0 0.0 0.29690012 0.0 0.0 0.0 0.3151211 0.0 0.3267221 0.0 0.0 0.0 0.3518945 0.0 0.0 0.0 0.0 0.0 0.0 0.0 0.119706616 0.0 1.3557037 0.0 0.80780435 0.0 0.21386352 0.9073697 1.0296123 0.0 0.0 0.19474018 0.0 0.0 0.0 0.0 3.9165049 0.0 0.97391385 0.0 1.1794734 0.0 0.0 0.0 0.0 0.0 0.0 0.0 0.0 1.3478789 0.18111269 0.0 0.0 0.0 0.0 0.0 0.0 0.0 0.91496223 0.0 0.0 0.0 0.0 0.0 1.1596984 0.0 0.0 0.0 0.0 0.0 0.0 0.0 2.027513 0.0 0.114312604 0.0 0.0 0.23760611 0.119965605 0.0 0.0 0.0 0.19839123 0.0 1.2914742 0.0 1.7565242 0.0 2.1534116 0.0 0.0 0.3619101 0.0 0.0 0.0 1.667088 0.0 0.6581277 0.0 0.0 1.2938461 0.0 0.28464288 0.0 2.177606 2.4406865 0.0 0.0 0.0 0.0 0.0 0.0 0.0 0.48287272 0.92940634 0.6166454 0.0 0.0 0.0 0.0 0.0 0.0 1.7739097 0.0 0.0 0.16775022 0.0 0.0 0.069421366 0.0 0.0 0.0 0.0 0.0 1.2349987 0.0 1.170628 0.0 0.40371275 0.0 0.0 0.0 0.0 0.11825508 0.0 0.0 0.0 0.0 0.28671002 0.0 1.75265 0.6360263 1.2270865 0.0 0.0 0.0 0.0 2.5620155 0.0 1.4499491 0.0 1.4662396 0.0 0.0 0.0 1.002146 0.0 0.0 1.1189096 2.3934948 0.3020159 0.0 0.0 0.0 0.0 0.0 0.021123543 0.0 1.572271 2.8596072 0.01559785 0.0 0.0 0.0 0.0 0.49332947 0.9066718 0.0 0.0 1.2771114 0.0 0.17705804 0.0 0.0 0.0 0.0 0.0126374215 0.0 0.0 0.0 0.0 2.1083562 0.0 0.0 2.1584413 0.0 0.022571644 0.0 0.0 0.0 0.5323641 0.0 1.3721855 0.0 0.9212441 0.0 1.305857 0.0 0.45916033 0.0 0.24310261 0.0 0.0 0.26692158 0.0 0.0 0.0 0.0 1.0317234 0.0 0.0 0.0 1.7816043 1.4747818 0.0 0.0 0.0 0.0 2.0418081 0.0 0.0 0.34921294 0.0036217459 0.0 0.41757542 0.0 0.0 0.0 0.0 0.8552417 0.0 0.0 0.0 0.0 0.0 0.0 1.5202516 0.0 0.0 0.0 0.0 0.0 0.0 0.0 1.688843 0.0 0.6737705 0.37558118 0.0 0.40043396 0.55751765 0.0 0.0 0.0 0.5666309 0.0 1.236994 0.0 0.8265415 0.0 1.853622 0.0 0.5092147 0.0 0.44687387 0.0 0.0 0.5543965 0.0 0.33726308 0.0 0.0 1.3507426 0.0 0.0 0.0 1.4499953 1.5036632 0.0 0.0 0.0 0.0 2.0874813 0.0 0.0 0.0 0.026054818 1.467827 0.023515258 0.0 0.0 0.0 0.0 0.0 0.0 0.0 0.0 0.0 0.0 0.0 0.14091572 0.0 0.0 0.0 0.0 0.0 0.018111281 0.0 2.1561558 0.28342402 0.22465226 0.5194089 0.0 0.0 0.0 0.0 0.0 0.0 0.0 0.0 0.0 0.0 1.319963 0.27042532 0.9086161 0.0 0.0 0.0 0.0 0.30899036 0.0 0.04213739 0.0 0.95703846 0.0 0.0 0.0 0.9492061 0.0 0.0 0.20745017 1.2792007 0.6797049 0.32775816 0.0 0.0 1.5726566 0.0 0.41145444 0.0 1.1890117 1.8137614 0.23345336 0.0 0.0 0.0 0.43708915 0.0 0.0 0.0 0.0 0.63206106 0.0 0.0 0.0 1.1454198 0.0 0.09678401 0.0 0.0 0.0 0.0 0.20783198 0.0 1.2183074 0.0 1.2945735 0.0 0.105940245 0.0 0.0037242752 0.0 0.0 0.0 0.0 0.0 0.89724606 0.0 1.1187636 0.0 0.0054676607 0.0 0.0 0.0 0.42506295 0.0 0.0 0.49842033 0.0 0.0 1.0652463 0.19693172 0.6351528 0.0 0.5696138 0.41168916 0.0 0.39310068 0.0 0.0 0.7011083 0.0 0.0 0.6096542 0.0 0.0 0.0684541 0.8548309 0.0 0.0 0.0 0.0 0.0 0.5700129 0.0 0.0 0.0 0.0 0.0 0.0 0.0 0.0 0.0 0.0 0.0 0.0 2.3795836 0.0 1.7042804 0.0 0.0 0.0 1.5270215 1.0342548 0.97024274 0.0 0.03906604 0.0 0.0 0.0 0.5262702 0.0 1.4018999 0.0 1.3004317 0.0 0.0 0.0 0.21385211 0.0 0.45733178 0.0 0.0 0.0 2.0596857 0.7969595 0.0 0.0 0.47479635 0.0 0.0 1.787436 0.0 0.0 0.17703825 0.2372491 0.13229427 0.0 0.0 1.0836784 0.0 0.0 0.0 0.0 0.2614576 0.0 0.649304 0.0 0.0 0.0 0.27291718 0.0 0.0 0.0 1.3092045 0.0 0.1929035 0.0 0.0 0.0 1.4199322 0.0 0.87630635 0.0 0.0 0.106536716 0.0 0.10482782 0.12093133 0.0 0.7232186 0.0 0.0 0.0 1.259945 0.0 0.03560055 0.0 0.0 0.0 0.0 0.4181911 0.0 0.0 0.7186847 0.45301372 0.0 0.0 0.0 2.011452 0.058432616 0.0 1.2436417 0.5257957 0.303391 0.5090865 0.0 0.0 0.0 0.40804508 0.52014583 0.0 1.4822888 0.5952736 0.6014097 0.0 0.0 0.0 1.1159806 0.0 0.0 0.0 0.0 1.220746 0.0 0.0 0.0 0.0 1.445588 0.0 0.3603928 0.0 0.25777566 0.0 0.22843206 0.0 0.0 0.0 0.0 0.09348521 0.11877189 0.0 0.0 0.0 0.0 0.0 0.0 0.0 1.237004 0.0 0.6816641 0.0 0.7911628 0.0 0.38506135 0.2537131 0.0 0.0 0.098389 0.61124325 0.0 0.26029968 4.157017 0.0 1.2267317 0.0 1.9302868 0.07456044 0.3066329 0.0 0.0 0.0 0.0 0.0 0.0 0.8643908 0.0 0.0 0.0 0.0 0.0 0.0 0.0 0.0 0.3133188 0.0 0.63508534 0.55083174 0.0 0.21204054 0.8245754 0.0 0.0 0.0 0.0 0.0 0.47783333 0.0 1.8417959 0.0 1.004242 0.0 8.03275e-05 0.5074265 0.0 0.0 0.0 0.0 0.0 0.0 0.5583353 0.0 1.6453401 0.0 1.642078 0.0 0.13764355 0.0 0.0 0.0 0.0 0.7630637 0.0 1.5926231 0.0 0.0 2.3197308 0.0 1.6803602 0.0 2.149075 1.8983116 0.0 0.0 0.0 0.0 0.0 0.0 0.0 0.0 0.27686757 0.24171248 0.0 0.0 0.0 0.0 0.0 0.13340887 1.401009 0.0 1.1079429 0.0 0.0 0.0 0.0 0.0 0.0 0.0 0.0 0.0 1.2268672 0.0 1.0940264 0.0 1.5198249 0.0 0.0 0.0 0.0 0.0 0.0 0.0 0.0 0.0 0.0 0.0 1.7440393 1.1595728 0.0 0.0 0.0 0.25681886 0.0 1.9567703 0.0 1.9371574 0.0 1.6582494 0.0 0.0 0.33871865 0.7389134 0.6493787 0.0 0.9673118 2.053665 0.31192195 0.40889823 0.0 0.0 0.0 0.0 0.0 0.0 1.2326823 2.951271 0.0 0.0 0.0 0.0 0.0 0.6346283 0.8410039 0.0 0.0 1.0692497 0.0 0.569098 0.0 0.0 0.0 0.0 0.30979782 0.0 0.0 0.0 0.0 2.5101516 0.0 0.0 0.69271916 0.0 0.1972393 0.0 0.0 0.0 0.021535607 0.0 0.662511 0.0 0.7216608 0.0 1.3796535 0.0 0.882414 0.84367186 0.8338863 0.0 0.0 0.08143624 0.0 0.0 0.0 0.0 0.78247774 0.0 0.0 0.0 1.0344918 0.8658899 0.0 0.0 0.0 0.0 0.9772285 0.0 0.14236997 0.0 0.14283419 0.0 0.91534746 0.0 0.0 0.0 0.0 0.80697733 0.0 0.0 0.0 0.0 0.0 0.0 1.2101089 0.0 0.0 0.0 0.0 0.0 0.0 0.0 1.5478406 0.5400561 0.0 0.0 0.0 0.023362022 0.5798483 0.0 0.0 0.0 0.08744028 0.0 0.99716777 0.0 1.0373497 0.0 2.1230192 0.0 0.21591437 0.0 0.3722163 0.0 0.0 0.62617075 0.0 0.0 0.0 0.0 0.0 0.0 0.0 0.0 1.1417325 1.2542253 0.0 0.0 0.0 0.0 1.4186522 0.0 0.553903 0.0 0.39096135 0.80662876 0.77746814 0.0 0.0 0.0 0.0 0.0 0.0 0.0 0.0 0.0 0.0 0.0 0.08276161 0.0 0.0 0.0 0.0 0.0 0.09650256 0.0 1.2072889 0.0 0.0 0.8507652 0.0 0.0 0.0 0.0 0.0 0.0 0.0 0.0 0.0 0.0 1.2587191 0.20404111 0.70301956 0.0 0.0 0.0 0.0 1.1976484 0.0 0.2716469 0.0 0.5257896 0.0 0.0 0.0 0.25712252 0.0 0.0 0.25923532 1.2517685 0.7331237 0.0 0.0 0.0 0.72372746 0.0 0.57409567 0.0 0.93782836 2.1012702 0.9693159 0.0 0.0 0.0 0.4324445 0.0 0.0 0.0 0.0 0.82088095 0.0 0.0 0.0 0.040572606 0.0 0.0 0.0 0.0 0.0 0.0 0.8908371 0.13677499 1.4039712 0.0 1.745098 0.0 0.04932811 0.0 0.049458325 0.0 0.0 0.0 0.06607939 0.0 1.0147905 0.12248373 1.458214 0.0 0.17766047 0.0 0.0 0.0 0.8262567 0.0 0.0 1.1471399 0.0 0.0 1.4299307 0.42666498 0.6007741 0.0 1.1526769 0.64902145 0.0 0.17304677 0.0 0.0 1.3625702 0.0 0.0 1.2009182 0.0 0.0 0.0 0.95291966 0.0 0.0 0.0 0.0 0.0 0.400039 0.0 0.0 0.0 0.0 0.40252048 0.0 0.0 0.0 0.0 0.24380237 0.0 0.0 2.429185 0.0 1.8903848 0.0 0.0 0.0 1.4481224 1.459545 1.0976634 0.0 0.0 0.0 0.0 0.0 0.20559047 0.0 1.5269265 0.0 0.346304 0.0 0.25164315 0.0 0.64036536 0.0 0.34469098 0.0 0.0 0.0 2.2395682 1.0987608 0.0 0.0 0.15942 0.0 0.0 1.1894637 0.0 0.11226047 1.0463783 0.5568028 0.0 0.0 0.0 1.818354 0.0 0.21686637 0.0 0.0 0.48954037 0.0 0.0 0.0 0.0 0.22830944 0.6186994 0.0 0.0 0.0 0.46985734 0.0 0.0 0.0 0.23076618 0.0 1.625993 0.0 0.59242266 0.0 0.0 0.17540863 0.0 0.057400078 0.5603068 0.0 0.27808872 0.0 0.0 0.0 1.1248964 0.022536691 0.0 0.0 0.0 0.19351353 0.0 0.63983136 0.0 0.0 0.19786346 0.7994403 0.0 0.0 0.0 2.5086293 0.0 0.0 0.70026666 0.6012213 0.8445372 0.5124898 0.0 0.0 0.0 1.0184414 0.24236882 0.0 1.9365958 0.81523055 0.0 0.0 0.0 0.0 0.90631133 0.0 0.0 0.0 0.0 0.8175826 0.0 0.30071944 0.0 0.0 0.0 0.3667772 0.0 1.1777987 1.9349667 0.0 0.13064939 0.4906632 0.0 0.20645332 1.1339742 0.46753407 0.0 0.0 0.0 0.0 0.0 0.0 2.4869857 0.0 0.23050396 0.46870232 0.0 0.376201 0.0 0.74586457 0.46558967 2.0458267 0.0 0.016312063 0.0 0.0 0.0 0.24582908 1.6848515 0.0 0.0 1.0251118 0.042966142 0.0 0.0 0.1340408 0.0 0.0 0.0 0.18286702 0.0 0.0 1.996327 0.0 0.0 0.0 0.0 0.0 0.0 0.0 0.80347127 0.0 0.0 0.23603119 0.30323628 0.0 1.7570419 0.0 0.0 0.4694257 0.0 0.0 0.6622548 0.0 0.0 0.0 0.0 0.69336 0.0 0.14100812 0.0 0.0 0.0 0.0 1.4918227 0.0 1.5494369 0.0 0.73455054 0.0 0.4599028 0.0 0.0 0.0 0.0 2.2933056 0.0 2.301982 0.0 0.0 0.0 0.0 0.7639947 0.0 0.0 0.0 0.98215455 1.6607941 0.0 0.0 0.0 0.0 0.0 0.0 0.14629841 0.0 2.224926 0.9354655 0.0 0.0 0.0 0.0 0.0 0.0 1.621877 0.0 0.33903527 0.0 0.0 0.0 1.2512567 0.0 0.0 0.0 0.0 0.0 0.0 0.0 0.0653038 0.0 0.54294044 0.18023549 0.0 0.0 0.0 0.0 0.0 0.0 0.99999434 0.0 0.95446944 0.0 1.5844039 0.0 0.0 0.0 0.0 0.0 0.0 1.4456743 0.0 2.6385608 0.0 0.8452027 0.0 0.0 0.7809776 0.0 0.0 0.0 0.7556521 2.3318448 0.0038954802 0.0 0.014444131 0.0 2.0304296 0.0 0.19603139 0.0 1.8128417 2.92224 0.399743 0.0 0.0 0.0 0.0 0.0 1.1895386 0.0 0.0 0.68804353 0.0 0.0 0.0 0.0 0.0 2.0934207 0.0 0.85608846 0.0 0.0 0.58546567 1.3685333 0.0 0.0 0.0 1.2177986 0.0 0.0 0.0 0.0 1.6821848 0.0 0.47429734 0.0 0.0 0.0 0.0 0.0 0.0 0.0 0.0 0.5066115 1.3396809 0.0 0.0 0.0 0.0 0.0 0.0 0.1780653 0.0 1.4114336 0.0 0.2585188 0.0 0.0 0.0 0.8490205 4.0507655 0.0 0.0 0.0 0.45982757 0.0 1.3191736 1.4169343 0.0 0.0 0.0 0.0 0.0 0.0 0.0 0.53934443 0.0 0.0 0.0 3.0830884 0.0 1.9819044 1.4227815 0.0 0.0 0.0 0.07197566 1.591633 2.1569908 0.5804447 0.0 1.1294565 0.87227523 0.0 0.0 0.0 3.5183704 0.0 1.5301341 0.0 0.0 0.0 0.9404344 0.0 2.7112658 0.0 0.0 0.0 1.4040256 0.0 0.20758498 0.0 0.0 0.0 0.0 0.0 0.0 0.02288396 0.0 0.0 0.0 0.0 0.0 0.0 3.1095843 0.0 0.0 0.0 0.5492629 0.0 0.5062369 0.46969387 0.0 0.0 0.0 0.0 0.0 0.0 2.5162587 0.0 0.0 0.0 0.2730053 0.10590639 0.9865494 0.09878962 0.0 0.0 0.0 0.0 1.512457 0.41295215 1.5902935 0.0 0.0 0.15681835 0.0 0.0 0.52415895 0.0 2.016981 0.0 0.68229216 0.0 0.89275986 0.0 0.22198738 0.0 1.2912806 0.0 0.0 0.0 0.43253213 0.28141946 0.4690511 0.0 0.0 0.0 0.0 0.0 0.38017145 0.0 0.62576747 1.1418134 0.4802079 0.49752063 0.0 0.0 0.40554896 0.0 0.0 0.0 0.8629954 1.5992087 0.70289 0.0 0.0 0.0 0.0 0.0 0.0 0.0 0.0 0.0 0.0 0.0 0.0 0.0 0.0 1.2048085 0.7479441 2.1325827 0.0 0.0 1.2354549 0.0 1.1711664 0.0911103 0.0 0.0 0.0 1.1019064 1.1642859 0.0 1.7461108 0.0 0.0 0.0 0.5944236 0.0 0.0 0.0 0.0 0.0 0.0 1.7971222 0.9477111 0.0 0.0 0.0 0.0 0.4561699 1.3895835 0.8798171 0.0 1.6503037 1.3640136 0.0 0.65574557 0.0 0.0 0.0 2.9472408 0.0 0.0 0.0 0.0 0.022720445 0.0 0.0 0.0 0.0 1.9244471 0.0 0.0 0.0 0.0 1.0498716 0.0 0.8951733 0.0 1.5325838 0.0 0.0 2.7085626 0.79894966 0.0 0.0 0.0 0.0 3.6490147 0.0 0.0 0.6320911 2.8146281 0.44115317 0.21228784 0.0 3.1022565 0.0 0.0 0.9058402 0.0 0.0 0.0 0.0 2.5020478 0.0 0.0 0.0 2.0825114 0.0 0.5098043 0.0 0.0 0.72768444 1.2291187 0.46544075 0.36343196 0.0 0.6667759 0.0 0.03465155 0.73064864 0.5292006 0.0 0.0 0.0 0.0 0.0 0.0 0.0 0.0 0.0 0.0 0.0 0.0 0.0 0.0 1.5757641 1.4840533 0.0 0.0 0.0 0.0 0.0 3.576143 0.0 1.7245705 0.0 0.0 0.0 0.0 0.3818142 2.470006 0.0 0.0 0.28568557 1.2653604 0.0 0.5288035 0.0 0.6387687 0.0 0.0 0.0 0.9461065 0.0 0.0 0.0 1.1664234 0.0 0.0 0.0 0.0 0.0 0.70944124 0.044304352 0.0 0.0 0.62783855 0.51460373 0.84431475 0.0 1.202253 0.0 0.2875453 0.62956554 0.86484396 0.0 0.0 0.0 0.042111818 0.0 0.0 0.3112688 0.5949442 0.0 0.0 0.0 0.0 0.0 0.0 0.0 0.0 0.46313578 0.0 0.0 0.0 0.0 0.0 0.0 0.04318227 0.0 0.0 0.0 0.0 0.0 0.0 0.0 1.6170897 0.35809293 0.46239534 0.14200668 0.0 0.0 0.0 0.0 0.2178245 0.0 0.42169207 0.0 0.5687225 0.0 0.5191543 3.6514115 2.0930445 0.0 0.0 1.1902213 0.0 0.0 0.0 1.8757958 3.9028344 0.0 0.0 0.0 0.5592614 0.0 0.0 0.0 0.0 0.0 0.0 0.0 0.14565006 0.30470434 0.0 0.0 0.70021945 0.0 0.0 0.0 0.0 0.0 0.63875884 0.0 0.0 0.0 0.0 0.0 1.5551528 0.0 0.0 0.0 0.22776993 0.0 0.065398216 0.0 0.0 0.0 0.0 0.0 0.0 0.37296775 0.5246594 0.0 0.0 0.0 1.3131768 0.0 0.0 0.0 1.4616735 0.0 0.0 0.0 0.0 4.1209254 1.2467073 0.15416303 0.0 3.86733 0.0 0.0 0.0 0.35817614 1.9808954 0.0 0.0 0.0 3.0923245 1.3458225 0.0 0.0 0.86953735 0.0 0.0 0.0 0.0 0.0 0.20911829 0.23281267 1.3275006 0.0 0.0 0.0 0.0 1.5458287 1.3447195 0.0 0.0 0.23707543 0.0 0.0 0.8245168 0.0 0.0 0.0 0.0 0.0 0.0 0.0 0.0 0.0 0.60141134 0.0 0.0 0.25808296 0.0 0.09825677 0.0 0.0 1.1644312 0.0 0.0 0.0 1.9161121 0.0 0.0 0.0 0.0 2.119463 0.33494642 0.7705746 0.0 4.3745685 0.0 1.2831118 0.0 0.0 0.34951591 0.0 0.08965386 0.0 3.082336 2.720897 0.0 0.0 3.1791618 0.0 0.0 0.0 0.0 0.0 1.6897956 1.5647185 1.469512 0.0 0.0 0.0 0.0 2.6174538 1.546665 0.0 0.0 2.0451589 0.0 0.0 0.0 0.0 0.0 0.0 0.0 0.0 0.0 0.0 0.0 1.4205165 0.0 0.0 1.4419528 0.0 0.2861618 0.0 0.0 0.0 0.0 0.0 1.3218504 0.0 0.23770072 0.0 2.747838 0.19271956 1.1514281 1.4703768 0.0 0.0 0.0 1.054959 0.49287862 0.0 0.0 1.0595496 0.8330972 0.0 0.0 0.0 1.4919323 0.42921695 0.0 0.0 0.0 0.0 0.0 0.0 0.0 0.0 0.0 0.0 0.0 0.0 0.0 0.0 0.0 0.31427535 0.0 0.6157363 0.0 0.0 1.1138604 0.0 0.33416587 0.0 0.0 0.0 0.27446592 0.0 0.0 0.0 0.0 0.33705935 0.0 0.0 0.6940806 0.0 1.3206515 0.48883116 0.0 0.0 0.0 0.0 0.0 0.0 0.0 0.19212925 3.1480877 0.0 0.0 0.0 0.22682735 0.0 0.0 0.47372916 0.28120637 0.0 0.0 0.24358797 1.3734782 0.0 0.0 0.36313534 2.155866 1.0318708 0.0 0.0 2.4340465 0.0 0.0 0.0 0.0 0.0 0.0 0.91928303 0.0 0.0 0.0 0.0 0.0 0.43902975 0.0 0.0 0.0 1.0978518 0.7967057 0.0 0.15301454 0.0 0.76831883 0.0 0.44264245 0.0 0.033241987 0.0 0.0 0.0 2.2934177 0.0 1.2606171 0.0 0.47705355 0.0 0.0 0.0 0.0 0.0 0.0 0.0 1.1473192 0.0 3.4513142 0.0 0.0 0.0 0.27368945 0.0 0.0 0.0 1.2665447 0.75163025 0.0 0.0 1.2692599 0.0 0.0 0.0 2.4487894 0.867803 1.1398441 0.0 0.54399645 0.0 0.0 0.0 0.0 0.0 0.0 1.293353 0.0 0.0 0.0 0.0 0.3999009 0.0 0.0 0.0 0.0 1.25173 0.0 0.0 0.0 0.0 0.0 0.0 0.0 2.4421012 0.3729518 0.0 1.3736238 0.0 0.0 0.0 0.0 0.0 1.1658479 2.2021444 0.0 0.0 0.0 0.0 0.0 0.0 0.1844026 0.5829182 1.5812421 2.045674 0.0 0.0 0.64959484 0.045904674 0.0 0.0 0.85760385 0.0 0.0 2.340035 2.315824 1.3250521 0.0 1.8361669 0.0 0.0 2.3705606 0.0 0.0 0.0 0.0 3.3033817 0.0 0.0 0.0 0.0 0.0 0.0 0.0 0.0 1.3502215 0.0 0.0 0.0 0.0 0.1837527 1.7611698 0.0 0.0 0.0 0.0 0.0 0.0 1.6314635 0.96777844 0.0 0.0 0.0 0.0 0.0 2.7630246 0.2746612 0.77379036 2.3477535 0.8987163 0.0 0.0 0.0 0.0 0.0 0.67107195 0.046597417 0.17371872 3.3706408 0.0 0.51462126 1.7568698 0.5203781 0.0 0.0 0.0 0.0 0.0 2.2355976 2.127119 0.0 0.0 2.8059433 0.0 0.0 2.4845786 0.0 0.0 0.0 0.0 1.6567078 0.33366 0.0 0.0 0.34915352 0.0 0.0 0.0 0.0 1.3883744 0.0 0.0 0.7846946 0.0 0.33149427 0.0 1.0516701 0.0 0.0 0.0 0.0 0.0 0.0 0.0 0.0 0.0 0.31392995 0.37457553 0.0 2.84634 0.7677107 0.0 1.420667 1.2808497 0.0 0.0 0.0 0.0 0.0 1.3094822 0.0 0.6648019 1.3952886 0.0 0.76193553 0.6577977 0.0 0.0 0.0024040346 0.0 0.0 0.0 1.9064775 0.0 0.0 0.0 0.830893 0.0 0.0 1.5594964 0.0 0.2622012 0.0 0.0 0.0 0.6474766 0.0 0.5400493 0.5427919 0.0 0.0 0.0 0.0 0.46093038 0.5614687 0.0 2.6941814 0.0 0.0 0.0 0.76589763 0.0 0.0 0.0 0.0 0.07838643 0.0 0.0 0.0 0.0 0.0 0.0 0.0 1.5548433 0.17392276 0.66210485 0.28988707 0.0 0.0 0.0 0.0 0.14897962 0.0 0.066498764 0.0 0.20082603 0.0 0.41159958 2.5776873 1.3376739 0.0 0.0 0.5436608 0.25522688 0.0 0.0 1.4778972 2.6611753 0.0 0.0 0.0 0.0 0.0 0.0 0.0 0.0 0.0 0.0 0.0 0.097008616 0.0 0.0 0.0 0.29193002 0.0 0.0 0.0 0.0 0.0 0.40776688 0.02598691 0.40526718 0.0 0.0 0.0 1.216234 0.0 0.0 0.0 0.49000233 0.0 0.0 0.0 0.0 0.0 0.0 0.0 0.0 0.105717584 0.30687687 0.0 0.0 0.0 0.8641269 0.0 0.0 0.0 0.7679182 0.0 0.96535283 0.0 0.27145386 3.110899 1.1240778 0.0 0.55428743 2.6494687 0.0 0.0 0.0 0.53009003 1.1829997 0.0 0.0 0.0 2.0053618 0.52310395 0.0 0.0 0.6169032 0.0 0.0 0.0 0.0 0.0 0.0 0.0827785 0.9224122 0.0 0.0 0.0 0.0 0.29719317 0.5437293 0.47678626 0.0 0.0 0.0 0.8916616 0.7150166 0.0 0.31795883 0.0 0.6045977 0.0 0.0 0.0 0.0 0.7788739 1.5316631 0.0 0.0 0.3421342 0.0 0.0 0.0 0.0 0.5536039 0.0 0.0 0.0 1.8215548 0.0 0.0 0.0 0.0 1.564469 0.5788742 0.0 0.33162034 2.6439855 0.0 0.6768282 0.0 0.0 0.016288977 0.0 0.0 0.0 2.797871 1.6605185 0.0 0.0 2.7661314 0.0 0.0 0.0 0.0 0.0 1.1406609 0.25080472 1.4432449 0.0 0.0 0.0 0.0 1.6346078 0.13848495 0.0 0.0 1.7894132 0.0 0.43484458 0.0 0.0 0.0 0.0 0.0 0.0 0.0 0.0 0.0 0.7320338 0.0 0.0 0.75520134 0.0 0.2531989 0.14598647 0.0 0.0 0.0 0.0 1.131159 0.0036918633 0.022032173 0.0 2.498458 0.4270434 1.621153 1.0481842 0.0 0.0 0.0 0.28595585 0.81523883 0.0 0.0 0.93446076 0.7749591 0.0 0.0 0.0 0.4587586 0.0 0.0 0.0 0.0 0.0 0.0 0.58731246 0.0 0.0 0.0 0.0 0.0 0.0 0.0 0.0 0.0 0.0 0.0 1.2343872 0.0 0.0 0.9705543 0.0 0.15537593 0.0 0.0 0.0 0.0 0.0 0.0 0.0 0.0 0.3005881 0.0 0.0 0.96192336 0.0 0.71271646 0.5876681 0.0 0.0 0.0 0.0 0.0 0.0 0.0 1.1370267 2.543775 0.85903114 0.0 0.0 0.23832908 0.11098186 0.0 0.0 0.2394034 0.0 0.0 0.49389952 1.860493 0.0 0.0 1.3883487 1.075194 0.23022828 0.0 0.0 1.6928915 0.0 0.0 1.6229463 0.0 0.0 0.0 0.49381968 0.0 0.0 0.0 0.0 0.057809882 0.0 0.0 1.3475603 0.0 0.86715287 0.7484724 0.0 0.17320642 0.0 0.93122256 0.0 0.010789409 0.0 0.0 0.0 0.0 0.0 2.46141 0.0 1.3008455 0.0 0.22115174 0.0 0.0 0.0 0.0 0.0 0.0 0.0 1.154911 0.24537784 2.4866111 0.0 0.0 0.0 0.42118075 0.0 0.0 0.0 0.7896297 0.50785124 0.0 0.0 1.6870209 0.0 0.0 0.0 1.590826 0.6081029 1.0288309 0.0 0.6671453 0.0 0.0 0.0 0.10704315 0.0 0.0 0.92733955 0.0 0.0 0.0 0.0 0.88381225 0.0 0.0 0.5046011 0.0 1.2706121 0.0 0.0 0.0 0.0 0.0 0.0 0.0 3.0311947 0.009911076 0.0 2.1810713 0.0 0.0 0.24765323 0.0 0.0 1.1707942 2.9367518 0.003443284 0.0 0.0 0.0 0.0 0.0 0.0 0.0 0.8813574 1.4081147 0.0 0.0 0.08471208 0.13830271 0.0 0.0 1.3472382 0.0 0.0 2.1046653 2.995079 0.5799483 0.0 1.394022 0.0 0.0 2.1827545 0.4247229 0.0 0.0 0.0 2.757361 0.0 0.0 0.0 0.0 0.0 0.0 0.0 0.0 1.2789218 0.0 0.09642421 0.0 0.0 0.041410252 2.2490337 0.0 0.0 0.0 0.0 0.0 0.0 1.9183717 1.401406 0.0 0.0 0.0 0.0 0.0 2.1798766 0.0 0.43032998 2.4372966 0.43770725 0.0 0.0 0.0 0.0 0.0 1.3184613 0.0 0.0 2.8271074 0.0 1.2022457 0.96334857 0.8053056 0.0 0.0 0.0 0.0 0.0 2.5165253 2.039656 0.0 0.0 2.512726 0.0 0.0 1.6254482 0.0 0.0 0.0 0.0 1.0291891 0.0 0.0 0.5807879 0.0 0.0 0.0 0.0 0.0 0.82644635 0.0 0.0 0.0 0.0 0.77282375 0.24544536 1.1376135 0.0 0.0 0.0 0.0 0.0 0.0 0.0 0.0 0.0 1.5778244 0.0787103 0.0 2.1173067 0.25144535 0.0 1.325791 0.06779355 0.0 0.0 0.0 0.0 0.0 1.454157 0.0 0.43863535 0.581295 0.0 0.50212014 0.0 0.0 0.0 0.0 0.0 0.0 0.0 1.7758988 0.0 0.0 0.0 0.24677657 0.0 0.057189085 0.41757613 0.0 0.3354501 0.0 0.0 0.0 0.0 0.0 0.6260705 0.75284773 0.0 0.0 0.0 0.0 0.0 1.7002268 0.0 1.1942283 0.0 0.48473114 0.0 0.9257362 0.0 0.0 0.0 0.0 0.0 0.14496925 0.3771291 0.0 0.0 0.0 0.0 0.0 0.0 0.0 0.08530402 0.68377185 0.0 0.0 0.0 0.0 0.0 0.0 0.0 1.2082882 2.0157022 1.8440303 0.0 0.0 0.0 0.19934887 0.78458697 0.0 0.0 0.0 0.0 0.0 0.6860169 0.25747597 0.0 0.32981712 0.0 0.0 1.2659855 1.4389232 0.0 0.05857206 0.0 2.7751915 0.0 0.0 0.0 0.12210041 0.0 0.0 0.0 0.0 1.3542626 0.0 0.0 1.5355138 0.0 0.0 0.45607576 0.0 0.0 0.0 0.0 0.0 0.0 0.0 0.6970695 0.0 0.0 0.0 1.0381167 0.0 2.3292203 0.0 0.0 0.9028529 0.0 0.0 0.0 0.0 0.0 0.0 0.89590293 0.011843022 2.0148592 1.5230212 0.0 0.0 1.0905561 0.84528023 0.0 0.0 0.0 0.0 0.0 0.0 1.1310217 0.0 0.0 1.0961896 0.10870166 0.0 2.61475 0.0 0.0 0.15387401 0.0 1.2090648 0.0 0.0 0.0 0.0 0.0 0.0 0.0 0.0 2.3333364 0.0 0.0 1.6138282 0.0 0.0 0.0 0.0 0.0 0.0 0.0 0.0 0.0 0.0 0.0 0.0 0.0 0.0 2.2055376 0.0 1.6968685 0.9525996 0.0 0.75848037 0.0 0.0 0.35494426 0.0 0.0 0.0 0.506375 0.0 0.0 0.69272596 0.0 0.0 0.0 1.1024501 0.0 0.0 0.0 0.0 0.0 1.395534 1.3149574 0.20295726 0.3457123 0.19527742 0.0 0.0 0.14299129 0.0 1.0483862 0.7566998 1.8805572 0.0 0.0 0.0 0.0 1.5529116 0.10576722 0.0 0.0 0.0 0.43804267 0.33223066 0.0 0.87042403 0.0 0.29423982 0.0 0.0 0.0 0.0 0.0 0.20750915 0.0 0.76570326 1.7083784 0.0 0.72980887 0.0 0.0 0.18440315 0.023585182 0.0 0.12613374 1.5164721 0.0 0.0 0.0 0.0 0.19088443 0.0 0.0 1.6004069 0.0 1.9103636 0.0 0.0 0.27152568 2.4596415 0.0 0.0 0.0 0.0 0.0 1.4131203 1.7840849 0.3247039 0.0 2.3400214 0.0 0.0 0.78222567 0.0 0.0 0.0 0.0 2.870556 0.29583105 0.0 0.0 0.0 0.0 0.0 0.0 0.0 0.18224108 0.0 0.13843094 0.0 0.0 0.0 0.36970118 0.0 0.0 0.0 0.0 0.982655 0.0 0.0 1.0047176 0.0 0.0 0.0 0.0 0.0 0.775656 0.0 0.0 2.3951643 0.0 0.0 0.0 0.0 0.0 0.0 0.1458806 0.6699795 0.0 0.2816085 0.0 0.71433014 0.08662627 1.5650936 0.0 0.9825591 0.0 0.0 0.0 0.9510985 0.7161797 0.0 0.0 2.5496895 0.0 0.0 1.2926979 0.0 0.0 0.0 0.0 0.0 0.4892563 0.0 0.47273698 0.0 0.0 0.0 0.0 0.0 0.0 0.0 0.0 0.0 0.0 0.0 0.0 0.0 0.45768467 0.0 0.0 0.0 0.0 0.0 0.0 0.0 0.0 1.0342458 0.2202122 0.0 0.16728394 0.853682 0.0 0.0 0.94925016 0.0 2.049751 0.0 0.0 0.2582738 1.1304145 0.0 0.0 0.0 0.84145486 3.7973242 0.0 0.18771699 0.0 3.0124636 0.0 0.0 0.0 0.67862695 0.0 0.0 0.0 0.0 0.0 0.29965255 0.0 0.0 0.73877394 0.0 0.049872782 0.0 0.0 0.0 0.95665056 0.23637548 1.3897107 0.0 0.0 0.0 0.0 0.7969534 0.0 0.0 0.107917175 0.0 0.0 0.97954404 0.0 0.0 0.0 0.2324103 0.39330083 1.4437165 0.0 0.0 1.0135763 1.2596855 0.0 0.3093607 0.0 0.8435294 0.0 0.3857309 0.0 0.0 2.240766 0.0 0.0 0.0 0.0 0.0 0.0 0.0 0.92864394 0.21471427 0.0 0.1685296 0.0 0.36803943 0.5228359 0.0 0.0 1.0264076 1.0355273 0.0 0.0 2.0409842 0.0 0.0 0.0 0.0 0.0 0.0 1.7604486 0.0 0.0 0.0 0.14016028 0.0 0.0 0.0 0.0 0.0 0.39235312 0.17803454 0.0 0.0 0.0 0.7616569 0.0 0.7276073 0.0 0.0 0.8858751 0.0 1.3923428 0.6144886 0.0 0.0 0.0 0.0 0.0 1.579316 0.0 0.0 2.2373545 1.457034 0.0 0.0 2.5620754 0.0 0.49793917 1.2244974 0.020136463 0.0 0.24146634 0.0 1.2875445 0.0 0.0 0.22106375 0.0 0.0 1.89277 0.0 0.0 2.5080593 0.0 0.0 0.0 0.788936 1.1512344 0.0 0.0 0.0 1.1605865 0.0 0.041238215 0.0 0.0 0.0 0.0 0.95798147 0.0 0.0 0.0 0.0 0.0 0.56961125 0.0 0.0 0.0 0.0 0.5504078 0.0 0.0 0.0 2.554475 0.0 1.5190928 0.0 0.0 0.0 0.0 0.0 0.0 0.17943145 0.0 0.0 0.94632244 0.0 0.0 0.0 0.46498197 0.0 0.0 0.0 2.7947211 0.0 0.04428985 0.0 0.0 0.0 0.0 0.37462768 0.0 0.0 1.0902665 0.63731796 0.0 1.5898592 0.5563401 0.0 0.0 0.0 3.4309669 1.7988592 0.0 0.0 0.91688454 0.0 0.0 0.0 0.0 0.0 0.058955718 0.19972862 0.109084785 0.0 0.0 0.0 0.0 1.2455328 0.0 0.0 0.0 1.6627429 0.0 0.0 0.0 0.0 0.0 0.0 0.0 0.0 0.63209444 0.0 0.49460873 0.3682122 0.0 0.0 0.0 0.35488895 0.0 0.0 0.0 0.0 0.0 0.0 1.1078624 0.0 0.39305303 0.6929684 0.7588878 0.75435597 0.0 0.0 0.14859864 1.2161078 0.0 0.0015721326 0.0 0.0334527 0.0 0.02244022 1.3922516 0.0 0.0 0.6086431 0.29550767 0.0 0.0691026 1.0816214 0.0 0.0 0.0 1.6674868 0.06559752 0.0 0.81651413 0.0 0.0 0.0 0.0 0.0 0.0 0.0 0.543258 0.0 0.0 0.028982207 0.5190019 0.0 1.0739646 0.0 0.0 0.39194778 0.0 0.0 1.2949761 0.0 0.0 0.0 0.13270351 0.0 0.42487982 0.0 0.0 0.0 0.0 0.0 0.021487752 0.0 0.7054557 0.0 0.27836138 0.08783974 1.5208076 0.0 0.0 0.0 0.0 1.8175315 0.0 0.5365286 0.0 0.0 0.0 0.0 1.1632242 0.0 0.0 0.0 0.39650714 0.7297993 0.0 0.5034804 0.0 0.0 0.0 0.0 0.27817243 0.0 2.0423834 0.65313804 0.0 0.0 0.0 0.0 0.0 0.0 1.1463786 0.0 1.0995911 0.0 0.0 0.0 0.8287923 0.0 0.0 0.11915602 0.0 0.0 0.0 0.0 1.036355 0.0 0.9362767 0.0 0.0 0.43737683 0.0 0.0 0.0 0.0 1.1094514 0.0 0.105240986 0.0 1.8120936 0.0 0.0 0.0 0.0 0.13389544 0.0 0.7258219 0.0 2.414799 0.0 1.3328772 0.0 0.0 0.949723 0.0 0.9596228 0.0 1.058041 1.6889266 0.0 0.902238 0.0 0.0 0.0 0.0 0.0 0.0 1.8977432 1.1520352 0.57721776 0.16527817 0.0 0.0 0.0 0.0 0.7503363 0.0 0.0 0.0 0.0 0.0 0.0 0.0 0.0 1.034537 0.0 0.9471171 0.0 0.0 1.2189714 0.37466934 0.0 0.02448205 0.0 0.95128876 0.0 0.0077542304 0.0 0.0 0.28535032 0.0 0.18328254 0.0 0.0 0.0 0.14297849 0.0 0.0 0.0 0.0 0.45400432 0.064047135 0.0 0.0 0.0 0.0 0.121195756 0.0 0.44933194 0.0 1.4658419 0.0 0.0 0.0 0.0 0.0 0.3712791 2.037613 0.4489753 0.3415606 0.0 0.0 0.0 0.06057217 0.23134996 0.0 0.0 0.0 0.0 0.0 0.0 0.0 0.44593483 0.0 0.22160918 0.0 1.3114735 0.0 1.5350773 0.22403897 0.25006026 0.0 0.0 0.0 1.322287 1.0500405 0.64451593 0.0 0.0 0.0 0.0 0.0 0.0 1.5900047 0.0 1.1280693 0.0 0.0 0.0 0.62460226 0.0 0.7946634 0.0 0.0 0.0 0.3051843 0.0 0.0 0.0 0.0 0.0 0.0 0.0 0.0 1.1949543 0.0 0.0 0.0 0.007398881 0.0 0.0 2.364263 0.0 0.23084086 0.0 0.7441424 0.0 0.37596843 0.0 0.0 0.0 0.0 0.0 0.0 0.0 1.5872389 0.0 0.0 0.0 0.5261265 0.93066114 0.85438865 0.18147656 0.0 0.0 0.0 0.0 1.5395443 0.0 2.1955197 0.0 0.0 0.5617447 0.090998255 0.0 0.4740985 0.0 2.1681807 0.0 0.2727394 0.0 0.8574254 0.0 0.73854494 0.0 1.579395 0.0 0.0 0.0 0.0 0.26791084 0.94495696 0.0 0.0 0.0 0.0 0.0 0.079969324 0.0 1.0531571 0.929484 0.0 0.1829161 0.0 0.0 0.1317996 0.0 0.0 0.0 0.33133742 1.1809233 0.25729084 0.0 0.0 0.0 0.0 0.0 0.0 0.0 0.0 0.0 0.0 0.0 0.0 0.0 0.0 1.0102038 0.2245854 1.1896126 0.0 0.0 1.8048083 0.0 1.0508066 0.022263804 0.0 0.3791068 0.0 0.7799115 0.94426954 0.0 1.2390792 0.0 0.0 0.0 0.27405104 0.0 0.0 0.0 0.0 0.0 0.0 1.1818099 0.067557216 0.0 0.0 0.0 0.0 0.18921727 1.4277396 0.38954383 0.0 1.247153 0.6413435 0.0 0.93941003 0.0 0.0 0.0 2.3253036 0.0 0.0 0.0 0.0 0.0 0.0 0.0 0.0 0.0 1.3462403 0.0 0.0 0.0 0.0 0.73077387 0.0 0.8189698 0.0 0.25167623 0.0 0.0 2.1033878 1.0291758 0.0 0.0 0.0 0.0 2.864893 0.105561785 0.0 0.14235482 1.9120771 0.2557282 0.65205425 0.0 2.2621958 0.0 0.0 0.78125066 0.0 0.0 0.0 0.0 1.3591051 0.0 0.0 0.0 1.6521116 0.0 0.56720257 0.0 0.0 0.75818866 0.715003 0.0 0.0 0.29186836 0.8063022 0.0 0.0 0.27406842 0.4723554 0.0 0.4956794 0.0 0.0 0.0 0.0 0.0 0.0 0.0 0.0 0.0 0.0 0.0 0.0 1.2870972 1.5812477 0.0 0.0 0.0 0.0 0.19066444 1.8435067 0.0 1.710112 0.0 0.0 0.0 0.0 0.0 2.1149063 0.0 0.0 0.2845561 1.3507265 0.06041187 1.0092493 0.0 0.83724076 0.0 0.0 0.0 0.5610952 0.0 0.0 0.0 1.6141951 0.0 0.0 0.0 0.0 0.0 0.9002331 0.0 0.0 0.0 1.397512 0.8621426 0.87410474 0.0 0.7765718 0.0 0.0 0.70719635 0.9991671 0.0 0.0 0.0 0.0 0.0 0.0 0.16101287 0.6841234 0.0 0.0 0.0 0.0 0.0 0.0 0.099664345 0.0 0.0 0.0 0.0 0.0 0.0 0.0 0.0 0.0 0.0 0.6812159 0.0 0.6312359 0.14679143 0.0 0.0 0.40445653 0.0 0.0 0.3188592 0.0 0.0 0.0 0.0 1.6738634 0.0 0.2978946 2.273152 0.8139215 1.7603501 0.0 0.0 0.0 1.7133056 0.0 0.0 0.0 0.33115667 0.0 0.01776337 1.0398995 0.0 0.0 1.2889221 0.0 0.0 0.15370795 1.3017247 0.0 0.0 0.0 3.5789757 0.0 0.0 0.07892175 0.0 0.0 0.0 0.0 0.0 0.0 0.0 0.6925922 0.0 0.0 0.0 1.415751 0.0 0.43117428 0.0 0.0 0.0 0.0 0.0 2.300398 0.0 0.0 0.0 0.0 0.0 1.7572851 0.0 0.0 0.64990425 0.0 0.0 0.0 0.0 0.7451503 0.0 0.4909535 1.9054651 1.7268212 0.83208376 0.0 0.0 0.034365736 3.1132936 0.0 0.3326528 0.0 0.0 0.0 0.95351213 3.03655 0.0 0.0 1.2970144 0.69514585 0.0 0.0 0.0 0.0 0.0 0.0 1.1124105 0.0 0.08079525 0.95335424 0.0 0.0 0.0 0.0 0.0 0.0 0.0 1.6789223 0.0 0.0 0.0 0.6652219 0.0 1.3657925 0.0 0.0 0.0 0.0 0.0 1.3104264 0.0 0.04502371 0.0 0.0 0.0 0.5728662 0.0 0.0 0.3657996 0.0 0.0 0.090540014 0.0 0.0 0.0 1.023839 0.31947714 1.1017522 0.0 0.0 0.0 0.0 2.452482 0.0 1.6347461 0.0 1.125635 0.0 0.34482896 2.1626368 0.0 0.26650026 0.0 0.99059385 1.1113459 0.27148062 0.0 0.0 0.0 0.0 0.0 0.0 0.91275054 0.64872384 0.68288374 0.0 0.0 0.0 0.0 0.0 0.32342228 1.3011103 0.0 0.3297431 0.28549832 0.0 0.0 0.0 0.0 0.0 0.82996607 0.0 1.2176595 1.078039 0.0 1.2951043 2.627566 0.0 0.51449794 0.16511329 0.41351995 0.0 0.0 0.0 0.0 0.26223075 0.0 0.64332974 0.0 0.21543157 0.20663437 0.26647818 0.11131388 0.0 0.12007858 0.024948202 0.0 0.0 0.0 0.0 0.0 0.0 0.0 0.0 0.0 0.0 1.3432256 0.0 0.2806869 0.0 0.5507408 0.0 0.10515807 0.88370615 0.26415667 0.0 0.0 1.7609506 0.0 0.0 0.0 0.0 0.0 0.15590394 0.0 0.0 0.0 0.0 0.5674848 0.0 0.0 0.36086044 0.0 0.0 0.07058114 0.0 1.0940392 0.0 0.0 0.0 3.2852144 0.0 0.30045852 1.6959296 0.5552814 0.10931947 0.0 0.0 0.0 1.5422983 0.0 1.9982821 0.0 0.0 0.0 1.49034 0.0 0.52122146 0.0 0.0 0.0 0.0 0.25181353 0.0 0.0 0.0 0.5809422 0.0 0.0 0.0 1.417532 0.0 0.6821797 0.0 0.0 0.0 0.0 3.156049 0.0 0.0 0.0 2.0031166 0.0 0.4279812 0.0 0.0 0.0 0.0 0.06883621 0.0 0.0 0.0 0.0 0.0 0.0 1.5190318 0.0 0.0 0.0 0.0 0.0 0.0 0.0 0.0 0.62591857 0.0 0.65040606 0.6646 0.06935589 0.0 0.0 0.0 0.0 1.7854352 0.0 1.1403003 0.0 0.57430696 0.0 1.4111339 0.0 0.3774545 0.0 0.0 0.25091085 0.0 0.34418234 0.9856034 0.0 0.0 0.0 0.0 0.0 0.0 0.0 0.38928366 1.1417316 0.0 0.0 0.0 0.0 2.2291787 0.0 0.0 0.0 1.1020443 0.72137934 0.27034038 0.0 0.0 0.0 0.0 0.0 0.0 0.0 0.0 0.0 0.0 0.0 0.98541665 0.0 0.0 1.1995142 0.0 0.7401995 0.0 0.0 1.3320649 0.057064928 0.61037135 0.0 0.0 0.7314842 0.0 0.29130024 0.6089564 0.0 0.8153169 0.0 0.0 0.0 0.676919 0.0 0.0 0.0 0.0 0.0 0.0 0.6863277 0.9274087 0.0 0.0 0.0 0.0 0.47374117 0.0 1.4325352 0.0 1.2060285 0.33469576 0.60724854 0.0 0.0 0.0 0.0 1.6859715 0.05987242 0.37984443 0.0 0.81029046 0.0 0.45200324 0.7449569 0.0 0.0 0.8355732 0.0 0.0 0.0 0.0 1.0875056 0.0 1.4076517 0.0 0.9568806 0.0 0.90012026 0.22751029 0.60348433 0.0 0.0 0.0 0.4372966 2.0365942 0.2347446 0.08802406 0.52650243 0.0 0.0 0.0 0.0 1.8437349 0.0 0.23742302 1.5874194 0.0 0.0 0.0 0.0 0.42835733 0.0 0.0 0.0 2.034068 0.0 0.0 0.0 0.0 0.0 0.0 0.0 0.0 0.11396458 0.3770125 0.0 0.0 0.4980619 0.0 0.33760107 1.8476888 0.08190113 0.0 0.0 0.3471207 0.0 0.0 0.6478176 0.0 0.0 0.0 0.0 0.0 0.33579782 1.4389127 0.0 0.0 0.0 0.0 2.0998697 0.0 0.45205 0.31110013 0.0 0.0 0.0 0.21993238 0.5357272 1.8601216 0.0 0.040061947 0.16135037 0.50905657 0.0 0.0 0.0 2.2287598 0.0 0.0 0.0 0.0 0.0 1.208202 0.0 1.3859422 0.0 0.0 0.0 1.4416295 0.0 0.0 0.0 0.0 0.15923645 0.6116599 0.1447995 0.0 0.0 0.46225327 0.0 0.0 0.5514934 0.0 0.0 0.7136817 0.01635775 0.0 0.0 0.054765124 0.0 0.20796658 0.24235372 0.0 0.0 0.0 0.0 0.54866296 1.1934407 0.7600602 0.0 0.0 0.0 0.0 0.5269684 0.6418342 0.0 0.27582663 0.0 0.0 0.0 0.0 1.2213178 0.7807995 0.0 0.0 0.0 0.0 0.0 0.0 0.0 0.0 0.0 0.051482186 0.0 0.0 0.0 1.1401341 0.0 0.62048864 0.0 0.0 0.0 0.85878897 0.042503625 0.39788753 0.0 0.0 0.0 0.0 0.10533072 0.0 0.0 0.37843937 0.0 0.28053448 1.5093505 0.19718991 0.78883237 0.0 1.549239 0.0 0.0 0.0 0.0 0.0 0.0 0.0 0.0 0.0 0.0 0.037587624 1.5701603 0.0 0.0 0.16332452 0.0 0.0 0.0 0.0 0.0 0.0 0.0 0.0 0.0 0.0 0.39590597 1.8465985 0.0 0.26619166 0.4029879 0.0 0.0 0.0 0.0 0.0 0.0 0.0 0.0 0.49813998 0.32384887 1.1768606 0.2696958 0.0 0.0 0.91708875 0.0 0.0 0.17595452 0.0 0.4005116 0.0 0.0 0.6082597 0.0 0.0 0.17963086 0.81224966 0.0 0.60347307 0.006807931 0.05665486 0.34638378 0.0 1.5012429 0.0 0.0 0.0 0.0 0.5916187 0.0024193996 0.0 0.0 0.3531736 0.16846557 0.0 1.3421003 0.0 0.3087842 0.0 0.0 0.0 0.0 0.0 0.17796858 0.0 0.0 0.0 0.0 0.0 0.0 2.647925 0.0 1.378732 0.5181338 0.0 0.0 0.0 0.0 0.0 0.0 0.0 0.0 0.08421613 0.0 1.7911292 0.0 0.0 0.0 0.37607238 0.1309833 0.0 0.0 0.0 0.0 0.0 0.49693298 0.9231669 0.0 0.0 0.0 0.3708651 0.0 0.23328179 0.29191 0.07939391 0.7795289 1.6822683 0.51772666 0.4647082 0.0 0.0 1.0404001 0.18835968 0.0 0.0 0.0 0.7791094 0.0 0.0 0.18779534 0.37509915 0.19074854 0.0 0.0 0.0 0.0 0.0 0.0 0.0 1.9269135 0.0 0.0 0.86820394 0.0 0.04907747 0.0 0.0 0.0 0.9356434 1.4201484 0.7904743 0.0 0.0 0.0 0.0 0.0 0.0 0.6970917 1.1127366 1.2186793 0.0 0.0 0.6885646 0.0 0.0 0.0 0.0 0.0 0.0 1.0648608 0.93943274 1.3163226 0.0 1.2752353 0.2986557 0.0 2.550204 0.0 0.0 0.20990312 0.0 2.9830842 0.29706725 0.0 0.0 0.0 0.0 0.0 0.0 0.0 1.7208294 0.0 0.0 0.34646887 0.0 0.031272158 0.14150314 0.0 0.0 0.0 0.0 1.2312267 0.0 0.87316084 0.0 0.0 0.0 0.0 1.3337667 0.0 0.9959891 0.80505455 0.0 1.3015618 1.839573 0.0 0.0 0.0 0.0 0.0 0.82471293 0.24306528 0.35721222 1.4234359 0.0 0.0 0.25805518 0.0 0.0 0.11901495 0.0 0.0 0.0 0.3312861 0.0 0.44211617 0.0 2.4554884 0.0 0.0 1.4535799 0.0 0.0 0.0 0.0 2.0660837 0.12801147 0.0 0.3419657 0.19643632 0.0 0.0 0.0 0.0 1.9245019 0.0 0.0 2.8916874 0.0 0.0 0.0 0.8565495 0.0 0.0 0.0 0.0 0.0 1.2144411 0.0 0.0 0.0 1.0078906 1.0863615 0.39439598 1.2235905 0.6701567 0.0 0.20150545 0.50994885 0.0 0.3686589 0.0 0.0 0.6046599 0.5293506 0.0 0.0 0.26624933 0.0 1.54067 0.0 0.0 0.008454977 0.84458625 0.0 0.0 0.0 0.34983042 0.0 0.77104056 0.0 0.10748678 0.0 0.0 0.0 0.48712388 0.50785756 0.95494354 1.6345025 1.0686079 0.0 0.0 0.2680099 0.99932843 0.8610374 0.025167385 0.0 0.0 0.44733873 0.0 0.0 3.0756025 0.0 0.0 0.0 0.08103007 0.0 0.0 0.0 0.0 0.0 0.0 1.1641881 0.0 1.6772708 0.0 0.0 0.0 0.0725149 0.0 0.25894567 0.90595967 0.0 0.0 0.0 0.0 0.0 0.0 0.2547497 0.0 1.2721324 0.0 0.97149837 0.0 0.0 0.55340123 0.0 0.0 0.0 0.0 0.0 0.7002772 2.3526318 0.0 0.21532802 1.4613259 0.0 0.0 2.0425916 0.0 0.0 0.0 0.0 0.0 0.0 0.7093296 0.0 0.0 0.0 0.0 0.0 0.0 2.0627034 0.0 0.1546775 0.0 0.0 0.5051437 0.0 0.077165216 0.0 0.0 0.0 0.0 0.0 0.66436124 0.0 0.0 1.6863742 0.0 0.0 0.13508485 0.0 0.0 0.93420136 1.4872319 0.0 0.0 0.0 0.0 0.0 0.60158175 0.6041983 0.0 0.13635659 0.0 0.33309016 0.0 0.0 1.377392 0.0 0.0 0.33800822 0.16852613 0.0 0.52214724 0.33453012 0.0 0.64337116 0.21937649 0.0 0.0 0.35019466 0.09584538 1.0293729 0.0 0.0 0.0 0.0 0.0 0.0 0.05135535 0.0 0.0 0.0 0.0 1.2884612 0.634568 0.30132782 0.0 0.0 0.46660876 0.0 0.461222 0.0 0.0 2.10659 0.0 0.0 0.0 0.0 0.0 1.76745 0.0 1.3574902 0.0 0.0 0.0 0.0 0.63048434 0.0 0.0 1.5492357 0.0 0.0 0.0 2.0978374 0.0 0.0 0.0 0.0 0.6721912 0.0 1.0832571 0.0 0.0 1.0596342 0.97868735 0.0 1.4510227 0.91713685 0.0 0.30584058 0.0 1.6140547 0.04168666 0.0 0.0 0.40073887 0.0 0.0 0.0 0.0 0.0 0.28272524 0.82669204 0.0 0.0 0.0 0.0 0.0 1.0030047 0.40835968 0.0 0.0 1.7322884 0.0 1.1268896 0.0 0.0 0.0 0.0 0.0 0.34242323 0.28012434 0.0 0.0 0.0 0.0 0.0 0.0 0.6802864 0.0 0.22781087 0.0 0.0 0.0 0.0 0.0 0.0 0.0 0.0 0.0 0.5708487 0.0 2.665416 0.89953357 0.0 0.6472864 2.1603487 0.0 0.0 0.0 0.0 2.2681775 0.0 0.0 0.0 0.0 0.0 0.6437804 0.27067432 0.0 0.0 0.0 0.0 0.0 0.0 0.0 0.0 0.0 0.0 0.0 0.0 0.3022287 0.0 1.1349436 0.0 0.0 0.0 0.0 0.0 0.0 0.0 0.0 0.0 0.0 0.0 0.4395756 0.0 0.0 0.0 0.0 0.0 0.09048561 0.0 0.7440797 1.4592975 0.0 0.0 0.0 0.0 0.0 0.0 0.0 0.0 0.0 1.5898987 0.0 0.49254787 0.0 0.97819114 1.3986601 2.1141663 0.0 0.2661766 0.0 0.06070652 1.0873511 0.0 0.09381839 0.0 0.5706596 0.19120309 0.0 0.0 2.046696 0.0 0.0 0.0 0.0 0.0 0.0 1.3978032 0.0 0.0 0.0 0.0 0.0 2.341952 0.070182934 0.0 0.0 1.351465 0.0 0.26248312 0.0 0.0 0.0 0.0 0.0 0.0 0.0 0.0 0.0 0.0 1.6031786 0.1411813 0.1798969 0.0 0.50200534 0.6512347 0.0 0.0 0.0 0.0 0.0 0.0 0.6163706 0.0 0.0 0.8819348 0.0 0.0 0.018420868 1.5876367 0.0 0.2289527 0.0 2.111727 0.0 0.10198165 1.1039577 0.0 0.080578074 0.0 1.3837948 0.6720444 0.72575253 0.0 3.137205 0.0 0.0 0.0 0.0 0.0 0.0 1.552663 0.0 0.87549126 0.0 0.0 0.0 1.4912307 0.0050393455 0.0 0.0 1.6465333 0.0 0.1041154 0.0 0.0 0.0 0.0 0.0 0.0 0.7288325 0.0 0.0 0.0 0.0 0.0 0.0 0.0 0.0 1.0575504 0.0 0.0 0.0 0.0 1.8185431 0.0 0.10528143 2.7721899 0.0 1.5364686 0.0 0.0 0.048428364 2.126597 0.28977334 0.0 0.0 1.1661948 0.0 0.0 0.09164922 0.0 0.059586525 0.6290986 0.0 0.0 1.2822063 0.0 0.0 0.0 0.0 1.6548345 0.0 0.0 0.0 0.0 0.8863748 0.0 0.0 0.0 0.0 0.0 0.0 0.0 0.0 0.0 0.7041511 0.0 0.0 0.0 0.0 1.6522552 0.0 0.13455825 1.8340682 0.0 0.0 0.0 0.0 0.4050847 0.0 0.0 0.0 1.9080837 0.0 0.0 0.0 0.0 0.28953236 0.0 0.0 1.258904 0.3528748 0.0 0.0 0.0 0.0 0.6061915 0.0 0.23451677 0.0 0.75284874 0.0 0.122563235 0.94588315 0.0 0.0 0.0 0.25794065 0.0 1.9564788 0.0 0.0 0.0 0.4679301 0.0 0.0 0.0 0.055809874 0.0 0.0 0.0 0.0 0.0 0.4196316 0.05127615 0.0 0.0 0.0 0.0 0.7011248 0.0 0.0 0.0 0.0 0.7090513 0.0 0.0 1.7288057 0.0 0.9828167 1.0614021 1.5219847 0.048599668 1.2608191 0.0 0.0 0.76001513 1.5305656 0.0 0.5209459 0.0 0.0 0.0 0.63637334 0.0 0.0 0.0 0.0 0.0 0.0 1.2256569 0.0 0.8440967 0.0 0.0 0.0 1.0145845 0.0 0.0 0.0 0.0 0.0 0.9042612 1.9659601 0.0 0.0 0.10313431 0.17503926 0.0 0.0 0.0 0.0 1.9491465 0.0 0.0 0.0 0.0 0.0 0.0 0.0 0.0 0.0 0.0 0.0 1.0691082 0.0 0.0 0.0 0.19597809 0.6327202 2.716372 1.6246397 0.0 0.0 0.0 0.0 0.0 0.0 0.96339524 0.43908435 1.6039841 0.6971003 0.0 1.3546419 0.0 0.0 0.0 0.0 0.0 0.0 0.5004384 0.0 0.96086425 0.61432505 1.4166074 0.0 0.0 0.3730272 0.0 0.0 1.8152285 0.6660743 0.0 0.0 2.4384434 0.47664118 0.0 0.36141434 0.0 0.0 0.0 0.44042298 0.0 0.16741556 0.0 0.84773386 0.0 0.0 0.0 0.0 0.0 0.55722576 0.0 0.0 0.0 0.0 0.7124056 0.0 0.14528406 0.0 0.0 0.0 0.0 0.1328118 1.3733008 0.0 0.0 0.0 0.0 0.0 1.4635543 0.0 0.4361649 1.0517608 2.2658496 0.0087465625 0.0 2.1213791 0.0 0.0 0.0 0.063936874 0.0 0.0 0.74389756 0.0 1.5213501 0.0 0.74187356 0.0 0.8788637 0.0 0.0 0.0 1.6489565 0.0 0.0 0.0 0.0 1.2521751 0.14383838 0.11514923 0.0 1.2426288 0.0 0.0 0.0 0.0 0.0 0.91450584 2.1557894 0.39962232 0.0 0.0 0.0 0.0 1.2067106 0.0 0.0 0.0 0.7761434 0.0 0.0 0.0 0.0 1.2779703 0.0 0.31578642 0.0 0.0 0.0 0.0 1.2042867 0.0 0.25381097 0.0 0.0 0.0 0.93633735 0.33302152 0.0 1.4218162 0.0 0.0 0.0 3.0156493 0.0 0.0 0.0 0.0 1.804884 0.0 0.0 0.0 1.1682843 0.0 0.67985475 0.0 0.60534805 0.0 0.0 0.0 0.0 1.5535288 1.462741 0.5486018 0.0 1.7095277 0.0 0.0 0.0 0.0 0.0 2.9405708 0.36029178 1.8279462 0.0 0.0 0.0 0.0 2.3615062 0.0 0.0 0.0 1.3236296 0.0 0.38950667 0.0 \n"
     ]
    }
   ],
   "source": [
    "print(s)"
   ]
  },
  {
   "cell_type": "code",
   "execution_count": 342,
   "id": "c095d863",
   "metadata": {},
   "outputs": [
    {
     "name": "stdout",
     "output_type": "stream",
     "text": [
      "[0.0, 0.0, 0.0, 0.39118117, 0.0, 0.0, 0.0, 0.0, 0.0, 0.0, 0.0, 1.5877576, 0.2926942, 0.52239823, 0.2059908, 0.0, 0.0, 0.29726326, 0.0, 0.01383476, 0.0, 0.21514297, 0.0, 0.0, 0.0, 0.4846257, 3.4495912, 1.3906932, 0.0, 0.0, 1.0813909, 0.3127618, 0.0, 0.0, 1.8278196, 2.8078442, 0.0, 0.0, 0.0, 0.16516967, 0.0, 0.0, 0.0, 0.0, 0.0, 0.0, 0.0, 0.0, 0.0, 0.0, 0.0, 0.6918065, 0.0, 0.0, 0.0, 0.0, 0.0, 0.6874549, 0.0, 0.0, 0.0, 0.0, 0.0, 1.6078289, 0.0, 0.0, 0.0, 0.44198906, 0.0, 0.0, 0.0, 0.0, 0.0, 0.0, 0.0, 0.0, 0.13819833, 0.23306228, 0.18788373, 0.0, 0.0, 1.2207425, 0.0, 0.0, 0.0, 0.6029816, 0.0, 0.0, 0.0, 0.13875717, 4.025763, 1.1260712, 0.0, 0.3127883, 3.899034, 0.0, 0.0, 0.0, 0.3539239, 1.5758682, 0.0, 0.0, 0.0, 2.9375753, 1.2029018, 0.0, 0.0, 0.94710165, 0.0, 0.0, 0.0, 0.0, 0.0, 0.0, 0.20304318, 1.2447608, 0.0, 0.0, 0.0, 0.0, 1.3104494, 1.3606477, 0.0, 0.0, 0.40518993, 0.0, 0.56708753, 0.8213547, 0.0, 0.0, 0.0, 0.6090926, 0.0, 0.0, 0.0, 0.0, 0.0, 1.3244175, 0.0, 0.0, 0.1348334, 0.0, 0.0, 0.0, 0.0, 0.55130357, 0.0, 0.0, 0.0, 1.7492789, 0.0, 0.0, 0.0, 0.0, 1.3026749, 0.2689959, 0.23015699, 0.0, 3.0155766, 0.0, 0.6145033, 0.0, 0.0, 0.15471847, 0.0, 0.0, 0.0, 2.6136246, 2.1392503, 0.0, 0.0, 3.2850726, 0.0, 0.0, 0.0, 0.0, 0.0, 0.90497345, 0.47334462, 1.0728142, 0.0, 0.0, 0.0, 0.0, 2.4640188, 1.2356437, 0.0, 0.0, 2.219048, 0.0, 0.46709278, 0.0, 0.0, 0.0, 0.0, 0.0, 0.0, 0.0, 0.0, 0.0, 0.49126437, 0.0, 0.0, 0.7498535, 0.15926981, 0.7718363, 0.053009078, 0.0, 0.0, 0.0, 0.0, 0.45834744, 0.0, 0.17932871, 0.0, 1.8728023, 0.5954006, 1.0576998, 1.0882071, 0.0, 0.0, 0.49677578, 0.16314621, 0.7885129, 0.0, 0.0, 1.4902939, 0.24269481, 0.08832766, 0.0, 0.0696862, 0.63571, 0.05425345, 0.0, 0.0, 0.0, 0.0, 0.0, 0.632501, 0.0, 0.0, 0.0, 0.0, 0.0, 0.0, 0.0, 0.0, 0.0, 0.0, 0.0, 0.7743644, 0.0, 0.0, 0.8300985, 0.0, 0.0, 0.0, 0.0, 0.0, 0.25030088, 0.0, 0.0, 0.0, 0.0, 0.4564065, 0.0, 0.001491705, 0.49544474, 0.0, 0.99417746, 1.175183, 0.0, 0.0, 0.0, 0.0, 0.0, 0.0, 0.0, 1.3433219, 2.1013079, 0.0, 0.0, 0.0, 0.12652645, 0.0, 0.0, 0.0, 0.390121, 0.12541507, 0.0, 0.4549814, 1.4726888, 0.0, 0.0, 0.55180633, 1.75645, 0.4265258, 0.18173102, 0.0, 1.9549799, 0.0, 0.0, 0.8975289, 0.0, 0.0, 0.0, 0.9602458, 0.0, 0.0, 0.0, 0.0, 0.0, 0.38724223, 0.0, 0.0, 0.0, 0.74090505, 1.365483, 0.0, 0.09398813, 0.0, 0.8588588, 0.0, 0.9003157, 0.0, 0.38775244, 0.0, 0.0, 0.24751726, 1.6454173, 0.0, 1.698628, 0.0, 0.3001384, 0.0, 0.0, 0.0, 0.0, 0.0, 0.0, 0.0, 1.5536125, 0.48699325, 2.6782382, 0.0, 0.0, 0.0, 0.7799243, 0.0, 0.0, 0.0, 0.648604, 0.4690961, 0.0, 0.33592263, 0.86249316, 0.0, 0.0, 0.0, 1.8369805, 0.94811237, 1.8427569, 0.0, 0.0, 0.0, 0.0, 0.0, 0.3414839, 0.0, 0.0, 1.1887385, 0.0, 0.0, 0.0, 0.0, 0.35046977, 0.0, 0.0, 0.24094154, 0.0, 0.8176448, 0.0, 0.0, 0.0, 0.0, 0.0, 0.0, 0.0, 2.462042, 0.77383995, 0.0, 1.6725318, 0.0, 0.0, 0.22382821, 0.0, 0.0, 0.6184624, 1.8105783, 0.0, 0.0, 0.0, 0.0, 0.0, 0.0, 0.1195849, 0.0, 0.8578823, 1.2555093, 0.0, 0.0, 0.23188752, 0.46388772, 0.0, 0.0, 1.3707699, 0.0, 0.0, 1.7786934, 3.0980413, 0.0, 0.0, 1.6749122, 0.42394352, 0.0, 1.8792362, 0.09133292, 0.0, 0.0, 0.0, 1.3853724, 0.0, 0.0, 0.0, 0.0, 0.0, 0.0, 0.0, 0.0, 1.0070713, 0.0, 0.19341533, 0.0, 0.0, 0.41172606, 1.7174194, 0.01472174, 0.0, 0.0, 0.0, 0.0, 0.0, 1.312923, 1.2837282, 0.0, 0.0, 0.0, 0.0, 0.0, 2.0278792, 0.0, 0.7852148, 3.10119, 0.355344, 0.0, 0.0, 0.0, 0.0, 0.0, 0.6039147, 0.0, 0.62677115, 2.487641, 0.0, 0.7755622, 0.08803498, 0.319963, 0.0, 0.0, 0.0, 0.0, 0.0, 2.4029589, 1.9980953, 0.0, 0.0, 1.3814521, 0.0, 0.0, 1.3351713, 0.0, 0.0, 0.0, 0.0, 0.41976905, 0.0, 0.0, 0.6505155, 0.032066185, 0.0, 0.0, 0.0, 0.0, 1.2293966, 0.0, 0.0, 0.0, 0.0, 0.5597906, 0.0, 0.9224842, 0.0, 0.0, 0.1022299, 0.0, 0.0, 0.0, 0.0, 0.0, 0.0, 2.8303783, 0.0, 0.0, 1.8570186, 0.5601333, 0.0, 0.6468674, 0.0, 0.0, 0.09110039, 0.0, 0.0, 0.0, 1.7816204, 0.0, 0.89447844, 0.0, 0.0, 0.6072373, 0.20111, 0.0, 0.0, 0.038354278, 0.0, 0.0, 0.0, 1.42455, 0.0, 0.0, 0.0, 0.20487466, 0.7390441, 0.69995654, 0.18952987, 0.083075054, 0.10899359, 0.0, 0.0, 0.0, 0.0, 0.0, 0.926291, 0.2867824, 0.0, 0.0, 0.0, 0.0, 0.0, 1.9353046, 0.0, 0.7801952, 0.0, 0.49708045, 0.0, 1.5836017, 0.61847574, 0.0, 0.0, 0.0, 0.0, 1.5576763, 2.1363282, 0.0, 0.0, 0.0, 0.0, 0.0, 0.865141, 0.0028445534, 0.0533453, 2.1850002, 0.0, 0.0, 0.0, 0.0, 0.0, 0.0, 0.005498903, 0.0, 0.0, 2.0663078, 0.0, 0.9128967, 0.7730861, 3.2365565, 0.0, 0.0, 0.0, 0.0, 0.0, 2.4932024, 2.2775688, 0.50557184, 0.0, 2.8596516, 0.0, 0.0, 0.05955759, 0.0, 0.0, 0.0, 0.0, 1.1675392, 0.37891704, 0.0, 0.0, 0.0, 0.0, 0.0, 0.0, 0.0, 0.0, 0.0, 0.22961898, 0.0, 0.0, 0.9483238, 0.35021275, 1.2747681, 0.0, 0.0, 0.0, 0.0, 0.0, 0.0, 0.48003548, 0.0, 0.0, 0.0, 0.0, 0.754794, 0.0, 0.03752781, 0.217448, 1.6422888, 0.0, 0.0, 1.1900872, 0.0, 0.038838968, 0.0, 0.0, 0.0, 0.0, 0.5856986, 0.0, 1.8769526, 0.029203571, 2.430607, 0.0, 2.214246, 0.0, 0.0, 0.0, 1.9254444, 2.493704, 0.0, 0.0, 0.0, 0.8161291, 0.0, 0.0, 0.0, 0.21522881, 0.0, 0.0, 0.0, 0.019025672, 0.0, 0.4186447, 0.55848765, 0.0, 0.0, 0.0, 0.0, 0.0, 0.05076248, 0.66170627, 0.0, 0.0, 0.110366985, 0.0, 0.0, 0.0, 0.0, 0.0, 0.0, 0.0, 0.0, 0.10647935, 0.0, 0.0, 0.0, 0.0, 0.06644947, 0.0, 0.40550527, 0.0, 0.0, 0.0, 0.0, 1.755161, 0.0, 0.0, 0.0, 0.94582057, 0.0, 0.0, 0.0, 0.0, 3.257307, 0.0, 1.4150019, 0.0, 4.825905, 0.0, 0.8882099, 0.0, 0.22489482, 1.5331074, 0.0, 0.0, 0.0, 1.277405, 1.3976451, 0.0, 0.0, 1.2965107, 0.0, 0.0, 0.0, 0.0, 0.0, 1.558198, 0.9658577, 0.6010408, 0.0, 0.0, 0.0, 0.0, 1.7510494, 1.1419675, 0.0, 0.0, 0.91834944, 0.0, 0.39515904, 0.0, 0.0, 0.0, 0.0, 0.0, 0.4579835, 0.0, 0.0, 0.0, 0.56163865, 0.0, 0.11405859, 0.0, 1.6022352, 0.0, 0.37324592, 0.34146798, 0.0, 2.6803114, 0.0, 0.5057717, 0.0, 0.0, 0.0, 0.0, 0.0, 1.7872962, 1.7502043, 0.0, 0.053701214, 0.0, 1.4153618, 0.0, 0.0, 0.0, 0.61817783, 0.698463, 0.0, 0.19000976, 1.3810428, 0.802756, 0.88579375, 0.0, 0.0, 0.0, 0.0, 1.1925391, 0.0, 0.0, 0.0, 0.0, 0.0, 0.03134924, 0.0, 0.0, 0.0, 0.0, 1.4024006, 0.0, 0.0, 0.0, 0.103926435, 0.0, 1.0518718, 0.0, 0.0, 0.43686104, 0.0, 1.0811913, 0.0, 0.0, 0.0, 0.0, 1.0903903, 0.22572811, 0.0, 0.0, 1.126902, 0.9889723, 0.0, 0.0, 0.0, 2.884298, 0.0, 1.3824123, 1.3020277, 0.0, 0.0, 0.0, 0.0, 1.3573658, 1.1605446, 0.0, 0.0, 0.0, 0.9171794, 1.2704731, 0.0, 0.0, 0.83699876, 0.0, 0.0, 0.05063165, 0.0, 0.8788604, 0.77915466, 0.0, 0.0, 2.6194882, 0.0, 0.90527475, 0.0, 0.0, 0.0, 0.0, 1.7317255, 0.2419513, 0.0, 0.0, 0.0, 0.0, 1.8269966, 0.39928222, 0.0, 0.0, 0.0, 0.0, 0.0, 0.0, 0.0, 2.1247008, 0.0, 0.11691524, 0.0, 0.0, 0.0, 0.0, 0.0, 1.3948232, 0.0, 0.0, 0.0, 0.0, 0.0, 0.0, 0.0, 0.9010226, 0.0, 0.0, 0.0, 0.9789908, 0.0, 0.33265084, 0.0, 0.0, 0.0, 0.0, 0.0, 0.0, 0.04636095, 1.1464403, 1.1461395, 0.0, 0.0, 0.0, 0.0, 0.0, 0.0, 2.1414762, 1.7562977, 0.42097005, 0.0, 1.4364212, 0.0, 0.0, 0.0, 0.0, 0.0, 0.7409393, 2.1240966, 0.0, 0.0, 0.0, 0.0, 0.0, 1.2494226, 0.09940268, 0.0, 0.0, 0.6347764, 0.0, 0.0, 0.0, 0.0, 0.0, 0.0, 0.8477135, 0.0, 0.0, 0.0, 0.0, 0.0, 0.0, 0.0, 0.0, 0.0, 0.49394587, 1.6352415, 0.0, 0.0, 1.2797362, 0.0, 1.088422, 0.0, 1.0303236, 0.0, 0.42729595, 0.0, 0.7210065, 1.2919391, 0.0, 0.5979703, 0.0, 0.0, 0.0, 0.0, 0.0, 1.4410666, 1.2573687, 0.0, 0.0, 0.0, 1.5932555, 0.7166041, 0.18476918, 0.0, 0.0, 0.0, 0.0, 0.0, 0.0, 0.0, 0.38991877, 0.14165245, 1.3956959, 0.0, 0.0, 0.0, 0.0, 0.018578175, 0.76189756, 0.0, 0.0, 0.0, 0.9410573, 0.0, 0.0, 0.0, 1.5930678, 0.0, 1.9703891, 0.0, 0.022253096, 0.0, 0.0, 0.0, 0.0, 0.0, 0.0, 0.0, 0.013413658, 0.3894543, 0.0, 0.0, 0.0, 0.0, 0.41198134, 0.0, 0.7297817, 0.0, 1.9466306, 0.0, 0.0, 0.18101554, 0.0, 0.0, 0.0, 0.0, 0.13233614, 0.22263376, 0.0, 1.0363816, 0.35506338, 0.0, 0.0, 0.0, 2.6531734, 0.42603824, 1.3938193, 0.0, 1.507375, 0.0, 0.0, 0.0, 0.0, 0.0, 0.41878203, 0.0, 0.0, 0.0, 0.0, 0.0, 0.0, 0.42587894, 0.18860598, 0.0, 0.0, 0.2004761, 0.44495398, 0.0, 0.0, 0.0, 1.5388681, 0.0, 1.4293151, 0.0, 1.2044761, 0.0, 0.0, 1.5179224, 1.2564927, 0.0, 1.0200515, 0.0, 0.57107604, 0.0, 0.0, 0.0, 0.0, 0.0, 0.0, 0.0, 0.34094685, 0.46163005, 3.16898, 0.0, 0.0, 0.0, 0.050851926, 0.0, 0.0, 0.0, 0.0, 0.6179747, 0.0, 0.0, 0.6221345, 0.0, 0.0, 0.0, 1.6983492, 0.42402348, 1.3241017, 0.0, 0.38093454, 0.0, 0.0, 0.0, 0.6414243, 0.0, 0.5288621, 0.0, 0.0, 0.0, 0.0, 0.0, 1.3803768, 0.41947943, 0.0, 0.0, 0.0, 0.0, 0.0, 0.0, 0.0, 0.0, 0.0, 0.0, 0.0, 2.4246125, 1.0975376, 0.0, 1.056229, 0.0, 0.0, 0.0, 0.0, 0.0, 0.0, 2.116849, 0.0, 0.0, 0.0, 0.0, 0.0, 0.0, 0.47154516, 0.0, 0.0, 0.54018515, 0.11658599, 0.21587749, 0.7087039, 2.2384546, 0.0, 0.23039138, 0.51393336, 0.0, 0.0, 1.1144363, 4.895228, 0.0, 0.0, 0.69913864, 0.0, 0.0, 1.263824, 0.0, 0.0, 0.0, 0.0, 0.0, 0.0, 0.0, 0.0, 0.0, 0.0, 0.0, 0.0, 0.0, 2.12719, 0.0, 1.1419394, 0.0, 0.0, 0.9828859, 0.48187453, 0.0, 0.0, 0.0, 0.0, 0.0, 0.4943512, 2.0183318, 2.122062, 0.0, 0.0, 0.0, 0.0, 0.0, 3.181241, 1.1304406, 0.0, 1.1114444, 0.0, 0.0, 0.6394893, 0.0, 0.33029008, 0.0, 0.7163678, 0.0, 0.0, 2.813647, 0.0, 1.9689074, 0.59617066, 3.1111617, 0.0, 0.0, 0.0, 0.0, 0.0, 2.5978456, 3.8326533, 0.0, 0.0, 0.0, 0.0, 0.0, 0.63034856, 0.0, 0.47189674, 0.0, 0.13571022, 0.0, 0.0, 0.0, 0.43226948, 0.0, 0.0, 0.0, 0.0, 0.0, 0.0, 1.9250696, 0.26145738, 0.0, 0.0, 0.084639356, 0.0, 0.0, 0.0, 0.0, 0.0, 0.0, 0.0, 0.0, 0.43959612, 0.0, 0.0, 0.0, 0.0, 0.0, 4.0488014, 0.57465464, 0.0, 0.6296645, 0.0, 0.0, 0.0, 0.0, 1.2507836, 0.0, 0.5481685, 0.0, 0.0, 2.1393774, 0.0, 2.4385555, 1.255975, 2.8201544, 0.0, 0.0, 0.0, 0.0, 0.0, 2.759466, 3.8757083, 0.0, 0.0, 0.0, 0.0, 0.0, 0.26165596, 0.0, 1.7953937, 0.0, 0.34117606, 0.0, 0.0, 0.0, 0.0, 0.3437829, 0.14769715, 0.0, 0.0, 0.0, 0.0, 1.8945036, 0.0, 0.0, 0.0, 0.0, 0.0, 0.22737661, 0.0, 0.0, 0.0, 0.0, 0.97112894, 0.0, 0.0, 0.0, 0.0, 0.0, 0.0, 0.0, 0.15688048, 0.05168834, 0.24793877, 0.5603975, 0.0, 0.0, 1.0022014, 0.0, 0.95409876, 0.0, 0.0, 0.056151446, 0.0, 0.0, 1.6970018, 2.3716288, 1.2123944, 0.6853475, 0.0, 0.0, 0.0, 0.0, 0.0, 1.9940393, 2.3346608, 0.0, 0.40997323, 0.0, 0.0, 0.0, 0.2977408, 0.0, 0.47726658, 0.0, 0.0, 0.0, 1.0393512, 0.9022925, 0.0, 0.0, 2.7580664, 0.0, 0.0, 0.0, 0.0, 1.5154425, 0.15415789, 0.0, 0.0, 0.0, 0.0, 0.0, 0.35817936, 0.0, 0.0, 0.0, 0.5299239, 0.0, 0.0, 0.0, 0.0, 0.0, 0.0, 0.0, 0.0, 1.0206867, 0.0, 0.0, 0.0, 0.0, 3.0174494, 0.0, 2.2838707, 0.0, 0.7374484, 0.0, 0.0, 0.0, 1.808588, 3.3111165, 0.69485044, 0.0, 0.0, 2.7024326, 0.0, 0.059171062, 0.0, 1.4673097, 1.518723, 0.0, 0.30969527, 0.0, 2.769524, 0.04968772, 0.0, 0.0, 0.07181692, 0.0, 0.36128387, 0.0, 0.0, 0.56163746, 0.0, 0.0, 2.5808074, 0.0, 0.0, 0.0, 0.0, 2.017895, 0.0, 0.0, 0.0, 0.0, 0.0, 0.0, 0.0, 0.0, 0.0, 0.0, 0.0, 0.0, 0.3132607, 0.0, 0.94034386, 2.150856, 0.0, 0.0, 1.2799847, 0.74366695, 0.0, 0.0, 1.0809958, 0.0, 3.673526, 0.0, 1.5440257, 0.94783586, 1.6822599, 0.0, 0.0, 0.0, 0.3811329, 4.1064663, 0.0, 0.0, 0.0, 3.9052382, 0.0, 0.49060497, 0.0, 1.444727, 0.14190073, 0.0, 0.0, 0.0, 1.5139309, 0.9345621, 0.0, 0.0, 0.0, 0.06316147, 2.4746208, 0.0, 0.0, 0.0, 1.3817835, 0.0, 1.1549075, 0.0, 0.0, 0.0, 0.0, 2.3832228, 0.0, 0.0, 0.0, 0.0, 0.0, 0.0, 0.5912659, 0.0, 0.0, 0.0, 1.248792, 0.0, 0.0, 0.0, 0.0, 0.0, 0.0, 0.0, 3.9408102, 1.2373686, 1.0328728, 0.0, 0.0, 0.0, 2.7072442, 0.0, 0.20323835, 0.0, 1.0463396, 0.0, 2.1568868, 0.0, 1.5360322, 2.1103208, 1.1554328, 0.0, 0.0, 0.04188198, 0.57849455, 0.0, 0.0, 2.6332798, 2.3285518, 0.0, 0.0, 0.0, 1.5259886, 0.0, 0.0, 0.0, 0.0, 0.0, 1.8080305, 0.0, 0.0, 0.0, 0.0, 0.0, 1.2038345, 0.0, 0.0, 0.0, 0.0, 0.13759172, 0.0, 0.0, 0.0, 0.0, 0.0, 0.0, 0.17930216, 0.0, 0.0, 0.0, 1.4036632, 0.0, 0.0, 0.0, 0.0, 0.0, 0.0, 0.45815688, 0.0, 0.60312366, 1.628448, 0.0, 0.0, 0.0, 2.255995, 0.0, 0.0, 0.0, 1.1781421, 0.0, 1.2864616, 0.0, 0.77064586, 0.40948337, 0.6322196, 0.0, 0.0, 0.025796235, 1.728247, 0.0, 0.0, 0.8260582, 2.672483, 0.0, 0.0, 0.0, 3.1907468, 0.481281, 0.0, 0.0, 1.2314763, 0.0, 0.0, 0.0, 0.0, 0.0, 0.0, 1.7077463, 0.2508528, 0.0, 0.0, 0.0, 0.0, 0.2815959, 0.0, 0.0, 0.0, 0.6038354, 0.8369028, 0.0, 0.0, 0.0, 3.2520263, 0.0, 1.2996316, 0.0, 0.0, 0.0, 0.0, 0.0, 0.95318115, 0.0, 0.0, 0.0, 0.24874882, 0.0, 0.0, 0.0, 0.0, 0.0, 0.0, 0.0, 3.0398526, 0.0, 0.3767805, 0.0, 0.0, 0.0, 0.95580524, 0.0, 0.0, 0.0, 0.0, 1.5375721, 0.0, 0.0, 1.2478613, 0.0, 0.0, 0.0, 4.360582, 2.144511, 0.0, 0.0, 1.4291089, 0.0, 0.0, 0.0, 0.0, 0.0, 0.2919145, 1.8665657, 0.6054912, 0.0, 0.0, 0.0, 0.0, 2.0097103, 0.0, 0.0, 0.0, 2.4614646, 0.0, 0.0, 0.0, 0.0, 0.29690012, 0.0, 0.0, 0.0, 0.3151211, 0.0, 0.3267221, 0.0, 0.0, 0.0, 0.3518945, 0.0, 0.0, 0.0, 0.0, 0.0, 0.0, 0.0, 0.119706616, 0.0, 1.3557037, 0.0, 0.80780435, 0.0, 0.21386352, 0.9073697, 1.0296123, 0.0, 0.0, 0.19474018, 0.0, 0.0, 0.0, 0.0, 3.9165049, 0.0, 0.97391385, 0.0, 1.1794734, 0.0, 0.0, 0.0, 0.0, 0.0, 0.0, 0.0, 0.0, 1.3478789, 0.18111269, 0.0, 0.0, 0.0, 0.0, 0.0, 0.0, 0.0, 0.91496223, 0.0, 0.0, 0.0, 0.0, 0.0, 1.1596984, 0.0, 0.0, 0.0, 0.0, 0.0, 0.0, 0.0, 2.027513, 0.0, 0.114312604, 0.0, 0.0, 0.23760611, 0.119965605, 0.0, 0.0, 0.0, 0.19839123, 0.0, 1.2914742, 0.0, 1.7565242, 0.0, 2.1534116, 0.0, 0.0, 0.3619101, 0.0, 0.0, 0.0, 1.667088, 0.0, 0.6581277, 0.0, 0.0, 1.2938461, 0.0, 0.28464288, 0.0, 2.177606, 2.4406865, 0.0, 0.0, 0.0, 0.0, 0.0, 0.0, 0.0, 0.48287272, 0.92940634, 0.6166454, 0.0, 0.0, 0.0, 0.0, 0.0, 0.0, 1.7739097, 0.0, 0.0, 0.16775022, 0.0, 0.0, 0.069421366, 0.0, 0.0, 0.0, 0.0, 0.0, 1.2349987, 0.0, 1.170628, 0.0, 0.40371275, 0.0, 0.0, 0.0, 0.0, 0.11825508, 0.0, 0.0, 0.0, 0.0, 0.28671002, 0.0, 1.75265, 0.6360263, 1.2270865, 0.0, 0.0, 0.0, 0.0, 2.5620155, 0.0, 1.4499491, 0.0, 1.4662396, 0.0, 0.0, 0.0, 1.002146, 0.0, 0.0, 1.1189096, 2.3934948, 0.3020159, 0.0, 0.0, 0.0, 0.0, 0.0, 0.021123543, 0.0, 1.572271, 2.8596072, 0.01559785, 0.0, 0.0, 0.0, 0.0, 0.49332947, 0.9066718, 0.0, 0.0, 1.2771114, 0.0, 0.17705804, 0.0, 0.0, 0.0, 0.0, 0.0126374215, 0.0, 0.0, 0.0, 0.0, 2.1083562, 0.0, 0.0, 2.1584413, 0.0, 0.022571644, 0.0, 0.0, 0.0, 0.5323641, 0.0, 1.3721855, 0.0, 0.9212441, 0.0, 1.305857, 0.0, 0.45916033, 0.0, 0.24310261, 0.0, 0.0, 0.26692158, 0.0, 0.0, 0.0, 0.0, 1.0317234, 0.0, 0.0, 0.0, 1.7816043, 1.4747818, 0.0, 0.0, 0.0, 0.0, 2.0418081, 0.0, 0.0, 0.34921294, 0.0036217459, 0.0, 0.41757542, 0.0, 0.0, 0.0, 0.0, 0.8552417, 0.0, 0.0, 0.0, 0.0, 0.0, 0.0, 1.5202516, 0.0, 0.0, 0.0, 0.0, 0.0, 0.0, 0.0, 1.688843, 0.0, 0.6737705, 0.37558118, 0.0, 0.40043396, 0.55751765, 0.0, 0.0, 0.0, 0.5666309, 0.0, 1.236994, 0.0, 0.8265415, 0.0, 1.853622, 0.0, 0.5092147, 0.0, 0.44687387, 0.0, 0.0, 0.5543965, 0.0, 0.33726308, 0.0, 0.0, 1.3507426, 0.0, 0.0, 0.0, 1.4499953, 1.5036632, 0.0, 0.0, 0.0, 0.0, 2.0874813, 0.0, 0.0, 0.0, 0.026054818, 1.467827, 0.023515258, 0.0, 0.0, 0.0, 0.0, 0.0, 0.0, 0.0, 0.0, 0.0, 0.0, 0.0, 0.14091572, 0.0, 0.0, 0.0, 0.0, 0.0, 0.018111281, 0.0, 2.1561558, 0.28342402, 0.22465226, 0.5194089, 0.0, 0.0, 0.0, 0.0, 0.0, 0.0, 0.0, 0.0, 0.0, 0.0, 1.319963, 0.27042532, 0.9086161, 0.0, 0.0, 0.0, 0.0, 0.30899036, 0.0, 0.04213739, 0.0, 0.95703846, 0.0, 0.0, 0.0, 0.9492061, 0.0, 0.0, 0.20745017, 1.2792007, 0.6797049, 0.32775816, 0.0, 0.0, 1.5726566, 0.0, 0.41145444, 0.0, 1.1890117, 1.8137614, 0.23345336, 0.0, 0.0, 0.0, 0.43708915, 0.0, 0.0, 0.0, 0.0, 0.63206106, 0.0, 0.0, 0.0, 1.1454198, 0.0, 0.09678401, 0.0, 0.0, 0.0, 0.0, 0.20783198, 0.0, 1.2183074, 0.0, 1.2945735, 0.0, 0.105940245, 0.0, 0.0037242752, 0.0, 0.0, 0.0, 0.0, 0.0, 0.89724606, 0.0, 1.1187636, 0.0, 0.0054676607, 0.0, 0.0, 0.0, 0.42506295, 0.0, 0.0, 0.49842033, 0.0, 0.0, 1.0652463, 0.19693172, 0.6351528, 0.0, 0.5696138, 0.41168916, 0.0, 0.39310068, 0.0, 0.0, 0.7011083, 0.0, 0.0, 0.6096542, 0.0, 0.0, 0.0684541, 0.8548309, 0.0, 0.0, 0.0, 0.0, 0.0, 0.5700129, 0.0, 0.0, 0.0, 0.0, 0.0, 0.0, 0.0, 0.0, 0.0, 0.0, 0.0, 0.0, 2.3795836, 0.0, 1.7042804, 0.0, 0.0, 0.0, 1.5270215, 1.0342548, 0.97024274, 0.0, 0.03906604, 0.0, 0.0, 0.0, 0.5262702, 0.0, 1.4018999, 0.0, 1.3004317, 0.0, 0.0, 0.0, 0.21385211, 0.0, 0.45733178, 0.0, 0.0, 0.0, 2.0596857, 0.7969595, 0.0, 0.0, 0.47479635, 0.0, 0.0, 1.787436, 0.0, 0.0, 0.17703825, 0.2372491, 0.13229427, 0.0, 0.0, 1.0836784, 0.0, 0.0, 0.0, 0.0, 0.2614576, 0.0, 0.649304, 0.0, 0.0, 0.0, 0.27291718, 0.0, 0.0, 0.0, 1.3092045, 0.0, 0.1929035, 0.0, 0.0, 0.0, 1.4199322, 0.0, 0.87630635, 0.0, 0.0, 0.106536716, 0.0, 0.10482782, 0.12093133, 0.0, 0.7232186, 0.0, 0.0, 0.0, 1.259945, 0.0, 0.03560055, 0.0, 0.0, 0.0, 0.0, 0.4181911, 0.0, 0.0, 0.7186847, 0.45301372, 0.0, 0.0, 0.0, 2.011452, 0.058432616, 0.0, 1.2436417, 0.5257957, 0.303391, 0.5090865, 0.0, 0.0, 0.0, 0.40804508, 0.52014583, 0.0, 1.4822888, 0.5952736, 0.6014097, 0.0, 0.0, 0.0, 1.1159806, 0.0, 0.0, 0.0, 0.0, 1.220746, 0.0, 0.0, 0.0, 0.0, 1.445588, 0.0, 0.3603928, 0.0, 0.25777566, 0.0, 0.22843206, 0.0, 0.0, 0.0, 0.0, 0.09348521, 0.11877189, 0.0, 0.0, 0.0, 0.0, 0.0, 0.0, 0.0, 1.237004, 0.0, 0.6816641, 0.0, 0.7911628, 0.0, 0.38506135, 0.2537131, 0.0, 0.0, 0.098389, 0.61124325, 0.0, 0.26029968, 4.157017, 0.0, 1.2267317, 0.0, 1.9302868, 0.07456044, 0.3066329, 0.0, 0.0, 0.0, 0.0, 0.0, 0.0, 0.8643908, 0.0, 0.0, 0.0, 0.0, 0.0, 0.0, 0.0, 0.0, 0.3133188, 0.0, 0.63508534, 0.55083174, 0.0, 0.21204054, 0.8245754, 0.0, 0.0, 0.0, 0.0, 0.0, 0.47783333, 0.0, 1.8417959, 0.0, 1.004242, 0.0, 8.03275e-05, 0.5074265, 0.0, 0.0, 0.0, 0.0, 0.0, 0.0, 0.5583353, 0.0, 1.6453401, 0.0, 1.642078, 0.0, 0.13764355, 0.0, 0.0, 0.0, 0.0, 0.7630637, 0.0, 1.5926231, 0.0, 0.0, 2.3197308, 0.0, 1.6803602, 0.0, 2.149075, 1.8983116, 0.0, 0.0, 0.0, 0.0, 0.0, 0.0, 0.0, 0.0, 0.27686757, 0.24171248, 0.0, 0.0, 0.0, 0.0, 0.0, 0.13340887, 1.401009, 0.0, 1.1079429, 0.0, 0.0, 0.0, 0.0, 0.0, 0.0, 0.0, 0.0, 0.0, 1.2268672, 0.0, 1.0940264, 0.0, 1.5198249, 0.0, 0.0, 0.0, 0.0, 0.0, 0.0, 0.0, 0.0, 0.0, 0.0, 0.0, 1.7440393, 1.1595728, 0.0, 0.0, 0.0, 0.25681886, 0.0, 1.9567703, 0.0, 1.9371574, 0.0, 1.6582494, 0.0, 0.0, 0.33871865, 0.7389134, 0.6493787, 0.0, 0.9673118, 2.053665, 0.31192195, 0.40889823, 0.0, 0.0, 0.0, 0.0, 0.0, 0.0, 1.2326823, 2.951271, 0.0, 0.0, 0.0, 0.0, 0.0, 0.6346283, 0.8410039, 0.0, 0.0, 1.0692497, 0.0, 0.569098, 0.0, 0.0, 0.0, 0.0, 0.30979782, 0.0, 0.0, 0.0, 0.0, 2.5101516, 0.0, 0.0, 0.69271916, 0.0, 0.1972393, 0.0, 0.0, 0.0, 0.021535607, 0.0, 0.662511, 0.0, 0.7216608, 0.0, 1.3796535, 0.0, 0.882414, 0.84367186, 0.8338863, 0.0, 0.0, 0.08143624, 0.0, 0.0, 0.0, 0.0, 0.78247774, 0.0, 0.0, 0.0, 1.0344918, 0.8658899, 0.0, 0.0, 0.0, 0.0, 0.9772285, 0.0, 0.14236997, 0.0, 0.14283419, 0.0, 0.91534746, 0.0, 0.0, 0.0, 0.0, 0.80697733, 0.0, 0.0, 0.0, 0.0, 0.0, 0.0, 1.2101089, 0.0, 0.0, 0.0, 0.0, 0.0, 0.0, 0.0, 1.5478406, 0.5400561, 0.0, 0.0, 0.0, 0.023362022, 0.5798483, 0.0, 0.0, 0.0, 0.08744028, 0.0, 0.99716777, 0.0, 1.0373497, 0.0, 2.1230192, 0.0, 0.21591437, 0.0, 0.3722163, 0.0, 0.0, 0.62617075, 0.0, 0.0, 0.0, 0.0, 0.0, 0.0, 0.0, 0.0, 1.1417325, 1.2542253, 0.0, 0.0, 0.0, 0.0, 1.4186522, 0.0, 0.553903, 0.0, 0.39096135, 0.80662876, 0.77746814, 0.0, 0.0, 0.0, 0.0, 0.0, 0.0, 0.0, 0.0, 0.0, 0.0, 0.0, 0.08276161, 0.0, 0.0, 0.0, 0.0, 0.0, 0.09650256, 0.0, 1.2072889, 0.0, 0.0, 0.8507652, 0.0, 0.0, 0.0, 0.0, 0.0, 0.0, 0.0, 0.0, 0.0, 0.0, 1.2587191, 0.20404111, 0.70301956, 0.0, 0.0, 0.0, 0.0, 1.1976484, 0.0, 0.2716469, 0.0, 0.5257896, 0.0, 0.0, 0.0, 0.25712252, 0.0, 0.0, 0.25923532, 1.2517685, 0.7331237, 0.0, 0.0, 0.0, 0.72372746, 0.0, 0.57409567, 0.0, 0.93782836, 2.1012702, 0.9693159, 0.0, 0.0, 0.0, 0.4324445, 0.0, 0.0, 0.0, 0.0, 0.82088095, 0.0, 0.0, 0.0, 0.040572606, 0.0, 0.0, 0.0, 0.0, 0.0, 0.0, 0.8908371, 0.13677499, 1.4039712, 0.0, 1.745098, 0.0, 0.04932811, 0.0, 0.049458325, 0.0, 0.0, 0.0, 0.06607939, 0.0, 1.0147905, 0.12248373, 1.458214, 0.0, 0.17766047, 0.0, 0.0, 0.0, 0.8262567, 0.0, 0.0, 1.1471399, 0.0, 0.0, 1.4299307, 0.42666498, 0.6007741, 0.0, 1.1526769, 0.64902145, 0.0, 0.17304677, 0.0, 0.0, 1.3625702, 0.0, 0.0, 1.2009182, 0.0, 0.0, 0.0, 0.95291966, 0.0, 0.0, 0.0, 0.0, 0.0, 0.400039, 0.0, 0.0, 0.0, 0.0, 0.40252048, 0.0, 0.0, 0.0, 0.0, 0.24380237, 0.0, 0.0, 2.429185, 0.0, 1.8903848, 0.0, 0.0, 0.0, 1.4481224, 1.459545, 1.0976634, 0.0, 0.0, 0.0, 0.0, 0.0, 0.20559047, 0.0, 1.5269265, 0.0, 0.346304, 0.0, 0.25164315, 0.0, 0.64036536, 0.0, 0.34469098, 0.0, 0.0, 0.0, 2.2395682, 1.0987608, 0.0, 0.0, 0.15942, 0.0, 0.0, 1.1894637, 0.0, 0.11226047, 1.0463783, 0.5568028, 0.0, 0.0, 0.0, 1.818354, 0.0, 0.21686637, 0.0, 0.0, 0.48954037, 0.0, 0.0, 0.0, 0.0, 0.22830944, 0.6186994, 0.0, 0.0, 0.0, 0.46985734, 0.0, 0.0, 0.0, 0.23076618, 0.0, 1.625993, 0.0, 0.59242266, 0.0, 0.0, 0.17540863, 0.0, 0.057400078, 0.5603068, 0.0, 0.27808872, 0.0, 0.0, 0.0, 1.1248964, 0.022536691, 0.0, 0.0, 0.0, 0.19351353, 0.0, 0.63983136, 0.0, 0.0, 0.19786346, 0.7994403, 0.0, 0.0, 0.0, 2.5086293, 0.0, 0.0, 0.70026666, 0.6012213, 0.8445372, 0.5124898, 0.0, 0.0, 0.0, 1.0184414, 0.24236882, 0.0, 1.9365958, 0.81523055, 0.0, 0.0, 0.0, 0.0, 0.90631133, 0.0, 0.0, 0.0, 0.0, 0.8175826, 0.0, 0.30071944, 0.0, 0.0, 0.0, 0.3667772, 0.0, 1.1777987, 1.9349667, 0.0, 0.13064939, 0.4906632, 0.0, 0.20645332, 1.1339742, 0.46753407, 0.0, 0.0, 0.0, 0.0, 0.0, 0.0, 2.4869857, 0.0, 0.23050396, 0.46870232, 0.0, 0.376201, 0.0, 0.74586457, 0.46558967, 2.0458267, 0.0, 0.016312063, 0.0, 0.0, 0.0, 0.24582908, 1.6848515, 0.0, 0.0, 1.0251118, 0.042966142, 0.0, 0.0, 0.1340408, 0.0, 0.0, 0.0, 0.18286702, 0.0, 0.0, 1.996327, 0.0, 0.0, 0.0, 0.0, 0.0, 0.0, 0.0, 0.80347127, 0.0, 0.0, 0.23603119, 0.30323628, 0.0, 1.7570419, 0.0, 0.0, 0.4694257, 0.0, 0.0, 0.6622548, 0.0, 0.0, 0.0, 0.0, 0.69336, 0.0, 0.14100812, 0.0, 0.0, 0.0, 0.0, 1.4918227, 0.0, 1.5494369, 0.0, 0.73455054, 0.0, 0.4599028, 0.0, 0.0, 0.0, 0.0, 2.2933056, 0.0, 2.301982, 0.0, 0.0, 0.0, 0.0, 0.7639947, 0.0, 0.0, 0.0, 0.98215455, 1.6607941, 0.0, 0.0, 0.0, 0.0, 0.0, 0.0, 0.14629841, 0.0, 2.224926, 0.9354655, 0.0, 0.0, 0.0, 0.0, 0.0, 0.0, 1.621877, 0.0, 0.33903527, 0.0, 0.0, 0.0, 1.2512567, 0.0, 0.0, 0.0, 0.0, 0.0, 0.0, 0.0, 0.0653038, 0.0, 0.54294044, 0.18023549, 0.0, 0.0, 0.0, 0.0, 0.0, 0.0, 0.99999434, 0.0, 0.95446944, 0.0, 1.5844039, 0.0, 0.0, 0.0, 0.0, 0.0, 0.0, 1.4456743, 0.0, 2.6385608, 0.0, 0.8452027, 0.0, 0.0, 0.7809776, 0.0, 0.0, 0.0, 0.7556521, 2.3318448, 0.0038954802, 0.0, 0.014444131, 0.0, 2.0304296, 0.0, 0.19603139, 0.0, 1.8128417, 2.92224, 0.399743, 0.0, 0.0, 0.0, 0.0, 0.0, 1.1895386, 0.0, 0.0, 0.68804353, 0.0, 0.0, 0.0, 0.0, 0.0, 2.0934207, 0.0, 0.85608846, 0.0, 0.0, 0.58546567, 1.3685333, 0.0, 0.0, 0.0, 1.2177986, 0.0, 0.0, 0.0, 0.0, 1.6821848, 0.0, 0.47429734, 0.0, 0.0, 0.0, 0.0, 0.0, 0.0, 0.0, 0.0, 0.5066115, 1.3396809, 0.0, 0.0, 0.0, 0.0, 0.0, 0.0, 0.1780653, 0.0, 1.4114336, 0.0, 0.2585188, 0.0, 0.0, 0.0, 0.8490205, 4.0507655, 0.0, 0.0, 0.0, 0.45982757, 0.0, 1.3191736, 1.4169343, 0.0, 0.0, 0.0, 0.0, 0.0, 0.0, 0.0, 0.53934443, 0.0, 0.0, 0.0, 3.0830884, 0.0, 1.9819044, 1.4227815, 0.0, 0.0, 0.0, 0.07197566, 1.591633, 2.1569908, 0.5804447, 0.0, 1.1294565, 0.87227523, 0.0, 0.0, 0.0, 3.5183704, 0.0, 1.5301341, 0.0, 0.0, 0.0, 0.9404344, 0.0, 2.7112658, 0.0, 0.0, 0.0, 1.4040256, 0.0, 0.20758498, 0.0, 0.0, 0.0, 0.0, 0.0, 0.0, 0.02288396, 0.0, 0.0, 0.0, 0.0, 0.0, 0.0, 3.1095843, 0.0, 0.0, 0.0, 0.5492629, 0.0, 0.5062369, 0.46969387, 0.0, 0.0, 0.0, 0.0, 0.0, 0.0, 2.5162587, 0.0, 0.0, 0.0, 0.2730053, 0.10590639, 0.9865494, 0.09878962, 0.0, 0.0, 0.0, 0.0, 1.512457, 0.41295215, 1.5902935, 0.0, 0.0, 0.15681835, 0.0, 0.0, 0.52415895, 0.0, 2.016981, 0.0, 0.68229216, 0.0, 0.89275986, 0.0, 0.22198738, 0.0, 1.2912806, 0.0, 0.0, 0.0, 0.43253213, 0.28141946, 0.4690511, 0.0, 0.0, 0.0, 0.0, 0.0, 0.38017145, 0.0, 0.62576747, 1.1418134, 0.4802079, 0.49752063, 0.0, 0.0, 0.40554896, 0.0, 0.0, 0.0, 0.8629954, 1.5992087, 0.70289, 0.0, 0.0, 0.0, 0.0, 0.0, 0.0, 0.0, 0.0, 0.0, 0.0, 0.0, 0.0, 0.0, 0.0, 1.2048085, 0.7479441, 2.1325827, 0.0, 0.0, 1.2354549, 0.0, 1.1711664, 0.0911103, 0.0, 0.0, 0.0, 1.1019064, 1.1642859, 0.0, 1.7461108, 0.0, 0.0, 0.0, 0.5944236, 0.0, 0.0, 0.0, 0.0, 0.0, 0.0, 1.7971222, 0.9477111, 0.0, 0.0, 0.0, 0.0, 0.4561699, 1.3895835, 0.8798171, 0.0, 1.6503037, 1.3640136, 0.0, 0.65574557, 0.0, 0.0, 0.0, 2.9472408, 0.0, 0.0, 0.0, 0.0, 0.022720445, 0.0, 0.0, 0.0, 0.0, 1.9244471, 0.0, 0.0, 0.0, 0.0, 1.0498716, 0.0, 0.8951733, 0.0, 1.5325838, 0.0, 0.0, 2.7085626, 0.79894966, 0.0, 0.0, 0.0, 0.0, 3.6490147, 0.0, 0.0, 0.6320911, 2.8146281, 0.44115317, 0.21228784, 0.0, 3.1022565, 0.0, 0.0, 0.9058402, 0.0, 0.0, 0.0, 0.0, 2.5020478, 0.0, 0.0, 0.0, 2.0825114, 0.0, 0.5098043, 0.0, 0.0, 0.72768444, 1.2291187, 0.46544075, 0.36343196, 0.0, 0.6667759, 0.0, 0.03465155, 0.73064864, 0.5292006, 0.0, 0.0, 0.0, 0.0, 0.0, 0.0, 0.0, 0.0, 0.0, 0.0, 0.0, 0.0, 0.0, 0.0, 1.5757641, 1.4840533, 0.0, 0.0, 0.0, 0.0, 0.0, 3.576143, 0.0, 1.7245705, 0.0, 0.0, 0.0, 0.0, 0.3818142, 2.470006, 0.0, 0.0, 0.28568557, 1.2653604, 0.0, 0.5288035, 0.0, 0.6387687, 0.0, 0.0, 0.0, 0.9461065, 0.0, 0.0, 0.0, 1.1664234, 0.0, 0.0, 0.0, 0.0, 0.0, 0.70944124, 0.044304352, 0.0, 0.0, 0.62783855, 0.51460373, 0.84431475, 0.0, 1.202253, 0.0, 0.2875453, 0.62956554, 0.86484396, 0.0, 0.0, 0.0, 0.042111818, 0.0, 0.0, 0.3112688, 0.5949442, 0.0, 0.0, 0.0, 0.0, 0.0, 0.0, 0.0, 0.0, 0.46313578, 0.0, 0.0, 0.0, 0.0, 0.0, 0.0, 0.04318227, 0.0, 0.0, 0.0, 0.0, 0.0, 0.0, 0.0, 1.6170897, 0.35809293, 0.46239534, 0.14200668, 0.0, 0.0, 0.0, 0.0, 0.2178245, 0.0, 0.42169207, 0.0, 0.5687225, 0.0, 0.5191543, 3.6514115, 2.0930445, 0.0, 0.0, 1.1902213, 0.0, 0.0, 0.0, 1.8757958, 3.9028344, 0.0, 0.0, 0.0, 0.5592614, 0.0, 0.0, 0.0, 0.0, 0.0, 0.0, 0.0, 0.14565006, 0.30470434, 0.0, 0.0, 0.70021945, 0.0, 0.0, 0.0, 0.0, 0.0, 0.63875884, 0.0, 0.0, 0.0, 0.0, 0.0, 1.5551528, 0.0, 0.0, 0.0, 0.22776993, 0.0, 0.065398216, 0.0, 0.0, 0.0, 0.0, 0.0, 0.0, 0.37296775, 0.5246594, 0.0, 0.0, 0.0, 1.3131768, 0.0, 0.0, 0.0, 1.4616735, 0.0, 0.0, 0.0, 0.0, 4.1209254, 1.2467073, 0.15416303, 0.0, 3.86733, 0.0, 0.0, 0.0, 0.35817614, 1.9808954, 0.0, 0.0, 0.0, 3.0923245, 1.3458225, 0.0, 0.0, 0.86953735, 0.0, 0.0, 0.0, 0.0, 0.0, 0.20911829, 0.23281267, 1.3275006, 0.0, 0.0, 0.0, 0.0, 1.5458287, 1.3447195, 0.0, 0.0, 0.23707543, 0.0, 0.0, 0.8245168, 0.0, 0.0, 0.0, 0.0, 0.0, 0.0, 0.0, 0.0, 0.0, 0.60141134, 0.0, 0.0, 0.25808296, 0.0, 0.09825677, 0.0, 0.0, 1.1644312, 0.0, 0.0, 0.0, 1.9161121, 0.0, 0.0, 0.0, 0.0, 2.119463, 0.33494642, 0.7705746, 0.0, 4.3745685, 0.0, 1.2831118, 0.0, 0.0, 0.34951591, 0.0, 0.08965386, 0.0, 3.082336, 2.720897, 0.0, 0.0, 3.1791618, 0.0, 0.0, 0.0, 0.0, 0.0, 1.6897956, 1.5647185, 1.469512, 0.0, 0.0, 0.0, 0.0, 2.6174538, 1.546665, 0.0, 0.0, 2.0451589, 0.0, 0.0, 0.0, 0.0, 0.0, 0.0, 0.0, 0.0, 0.0, 0.0, 0.0, 1.4205165, 0.0, 0.0, 1.4419528, 0.0, 0.2861618, 0.0, 0.0, 0.0, 0.0, 0.0, 1.3218504, 0.0, 0.23770072, 0.0, 2.747838, 0.19271956, 1.1514281, 1.4703768, 0.0, 0.0, 0.0, 1.054959, 0.49287862, 0.0, 0.0, 1.0595496, 0.8330972, 0.0, 0.0, 0.0, 1.4919323, 0.42921695, 0.0, 0.0, 0.0, 0.0, 0.0, 0.0, 0.0, 0.0, 0.0, 0.0, 0.0, 0.0, 0.0, 0.0, 0.0, 0.31427535, 0.0, 0.6157363, 0.0, 0.0, 1.1138604, 0.0, 0.33416587, 0.0, 0.0, 0.0, 0.27446592, 0.0, 0.0, 0.0, 0.0, 0.33705935, 0.0, 0.0, 0.6940806, 0.0, 1.3206515, 0.48883116, 0.0, 0.0, 0.0, 0.0, 0.0, 0.0, 0.0, 0.19212925, 3.1480877, 0.0, 0.0, 0.0, 0.22682735, 0.0, 0.0, 0.47372916, 0.28120637, 0.0, 0.0, 0.24358797, 1.3734782, 0.0, 0.0, 0.36313534, 2.155866, 1.0318708, 0.0, 0.0, 2.4340465, 0.0, 0.0, 0.0, 0.0, 0.0, 0.0, 0.91928303, 0.0, 0.0, 0.0, 0.0, 0.0, 0.43902975, 0.0, 0.0, 0.0, 1.0978518, 0.7967057, 0.0, 0.15301454, 0.0, 0.76831883, 0.0, 0.44264245, 0.0, 0.033241987, 0.0, 0.0, 0.0, 2.2934177, 0.0, 1.2606171, 0.0, 0.47705355, 0.0, 0.0, 0.0, 0.0, 0.0, 0.0, 0.0, 1.1473192, 0.0, 3.4513142, 0.0, 0.0, 0.0, 0.27368945, 0.0, 0.0, 0.0, 1.2665447, 0.75163025, 0.0, 0.0, 1.2692599, 0.0, 0.0, 0.0, 2.4487894, 0.867803, 1.1398441, 0.0, 0.54399645, 0.0, 0.0, 0.0, 0.0, 0.0, 0.0, 1.293353, 0.0, 0.0, 0.0, 0.0, 0.3999009, 0.0, 0.0, 0.0, 0.0, 1.25173, 0.0, 0.0, 0.0, 0.0, 0.0, 0.0, 0.0, 2.4421012, 0.3729518, 0.0, 1.3736238, 0.0, 0.0, 0.0, 0.0, 0.0, 1.1658479, 2.2021444, 0.0, 0.0, 0.0, 0.0, 0.0, 0.0, 0.1844026, 0.5829182, 1.5812421, 2.045674, 0.0, 0.0, 0.64959484, 0.045904674, 0.0, 0.0, 0.85760385, 0.0, 0.0, 2.340035, 2.315824, 1.3250521, 0.0, 1.8361669, 0.0, 0.0, 2.3705606, 0.0, 0.0, 0.0, 0.0, 3.3033817, 0.0, 0.0, 0.0, 0.0, 0.0, 0.0, 0.0, 0.0, 1.3502215, 0.0, 0.0, 0.0, 0.0, 0.1837527, 1.7611698, 0.0, 0.0, 0.0, 0.0, 0.0, 0.0, 1.6314635, 0.96777844, 0.0, 0.0, 0.0, 0.0, 0.0, 2.7630246, 0.2746612, 0.77379036, 2.3477535, 0.8987163, 0.0, 0.0, 0.0, 0.0, 0.0, 0.67107195, 0.046597417, 0.17371872, 3.3706408, 0.0, 0.51462126, 1.7568698, 0.5203781, 0.0, 0.0, 0.0, 0.0, 0.0, 2.2355976, 2.127119, 0.0, 0.0, 2.8059433, 0.0, 0.0, 2.4845786, 0.0, 0.0, 0.0, 0.0, 1.6567078, 0.33366, 0.0, 0.0, 0.34915352, 0.0, 0.0, 0.0, 0.0, 1.3883744, 0.0, 0.0, 0.7846946, 0.0, 0.33149427, 0.0, 1.0516701, 0.0, 0.0, 0.0, 0.0, 0.0, 0.0, 0.0, 0.0, 0.0, 0.31392995, 0.37457553, 0.0, 2.84634, 0.7677107, 0.0, 1.420667, 1.2808497, 0.0, 0.0, 0.0, 0.0, 0.0, 1.3094822, 0.0, 0.6648019, 1.3952886, 0.0, 0.76193553, 0.6577977, 0.0, 0.0, 0.0024040346, 0.0, 0.0, 0.0, 1.9064775, 0.0, 0.0, 0.0, 0.830893, 0.0, 0.0, 1.5594964, 0.0, 0.2622012, 0.0, 0.0, 0.0, 0.6474766, 0.0, 0.5400493, 0.5427919, 0.0, 0.0, 0.0, 0.0, 0.46093038, 0.5614687, 0.0, 2.6941814, 0.0, 0.0, 0.0, 0.76589763, 0.0, 0.0, 0.0, 0.0, 0.07838643, 0.0, 0.0, 0.0, 0.0, 0.0, 0.0, 0.0, 1.5548433, 0.17392276, 0.66210485, 0.28988707, 0.0, 0.0, 0.0, 0.0, 0.14897962, 0.0, 0.066498764, 0.0, 0.20082603, 0.0, 0.41159958, 2.5776873, 1.3376739, 0.0, 0.0, 0.5436608, 0.25522688, 0.0, 0.0, 1.4778972, 2.6611753, 0.0, 0.0, 0.0, 0.0, 0.0, 0.0, 0.0, 0.0, 0.0, 0.0, 0.0, 0.097008616, 0.0, 0.0, 0.0, 0.29193002, 0.0, 0.0, 0.0, 0.0, 0.0, 0.40776688, 0.02598691, 0.40526718, 0.0, 0.0, 0.0, 1.216234, 0.0, 0.0, 0.0, 0.49000233, 0.0, 0.0, 0.0, 0.0, 0.0, 0.0, 0.0, 0.0, 0.105717584, 0.30687687, 0.0, 0.0, 0.0, 0.8641269, 0.0, 0.0, 0.0, 0.7679182, 0.0, 0.96535283, 0.0, 0.27145386, 3.110899, 1.1240778, 0.0, 0.55428743, 2.6494687, 0.0, 0.0, 0.0, 0.53009003, 1.1829997, 0.0, 0.0, 0.0, 2.0053618, 0.52310395, 0.0, 0.0, 0.6169032, 0.0, 0.0, 0.0, 0.0, 0.0, 0.0, 0.0827785, 0.9224122, 0.0, 0.0, 0.0, 0.0, 0.29719317, 0.5437293, 0.47678626, 0.0, 0.0, 0.0, 0.8916616, 0.7150166, 0.0, 0.31795883, 0.0, 0.6045977, 0.0, 0.0, 0.0, 0.0, 0.7788739, 1.5316631, 0.0, 0.0, 0.3421342, 0.0, 0.0, 0.0, 0.0, 0.5536039, 0.0, 0.0, 0.0, 1.8215548, 0.0, 0.0, 0.0, 0.0, 1.564469, 0.5788742, 0.0, 0.33162034, 2.6439855, 0.0, 0.6768282, 0.0, 0.0, 0.016288977, 0.0, 0.0, 0.0, 2.797871, 1.6605185, 0.0, 0.0, 2.7661314, 0.0, 0.0, 0.0, 0.0, 0.0, 1.1406609, 0.25080472, 1.4432449, 0.0, 0.0, 0.0, 0.0, 1.6346078, 0.13848495, 0.0, 0.0, 1.7894132, 0.0, 0.43484458, 0.0, 0.0, 0.0, 0.0, 0.0, 0.0, 0.0, 0.0, 0.0, 0.7320338, 0.0, 0.0, 0.75520134, 0.0, 0.2531989, 0.14598647, 0.0, 0.0, 0.0, 0.0, 1.131159, 0.0036918633, 0.022032173, 0.0, 2.498458, 0.4270434, 1.621153, 1.0481842, 0.0, 0.0, 0.0, 0.28595585, 0.81523883, 0.0, 0.0, 0.93446076, 0.7749591, 0.0, 0.0, 0.0, 0.4587586, 0.0, 0.0, 0.0, 0.0, 0.0, 0.0, 0.58731246, 0.0, 0.0, 0.0, 0.0, 0.0, 0.0, 0.0, 0.0, 0.0, 0.0, 0.0, 1.2343872, 0.0, 0.0, 0.9705543, 0.0, 0.15537593, 0.0, 0.0, 0.0, 0.0, 0.0, 0.0, 0.0, 0.0, 0.3005881, 0.0, 0.0, 0.96192336, 0.0, 0.71271646, 0.5876681, 0.0, 0.0, 0.0, 0.0, 0.0, 0.0, 0.0, 1.1370267, 2.543775, 0.85903114, 0.0, 0.0, 0.23832908, 0.11098186, 0.0, 0.0, 0.2394034, 0.0, 0.0, 0.49389952, 1.860493, 0.0, 0.0, 1.3883487, 1.075194, 0.23022828, 0.0, 0.0, 1.6928915, 0.0, 0.0, 1.6229463, 0.0, 0.0, 0.0, 0.49381968, 0.0, 0.0, 0.0, 0.0, 0.057809882, 0.0, 0.0, 1.3475603, 0.0, 0.86715287, 0.7484724, 0.0, 0.17320642, 0.0, 0.93122256, 0.0, 0.010789409, 0.0, 0.0, 0.0, 0.0, 0.0, 2.46141, 0.0, 1.3008455, 0.0, 0.22115174, 0.0, 0.0, 0.0, 0.0, 0.0, 0.0, 0.0, 1.154911, 0.24537784, 2.4866111, 0.0, 0.0, 0.0, 0.42118075, 0.0, 0.0, 0.0, 0.7896297, 0.50785124, 0.0, 0.0, 1.6870209, 0.0, 0.0, 0.0, 1.590826, 0.6081029, 1.0288309, 0.0, 0.6671453, 0.0, 0.0, 0.0, 0.10704315, 0.0, 0.0, 0.92733955, 0.0, 0.0, 0.0, 0.0, 0.88381225, 0.0, 0.0, 0.5046011, 0.0, 1.2706121, 0.0, 0.0, 0.0, 0.0, 0.0, 0.0, 0.0, 3.0311947, 0.009911076, 0.0, 2.1810713, 0.0, 0.0, 0.24765323, 0.0, 0.0, 1.1707942, 2.9367518, 0.003443284, 0.0, 0.0, 0.0, 0.0, 0.0, 0.0, 0.0, 0.8813574, 1.4081147, 0.0, 0.0, 0.08471208, 0.13830271, 0.0, 0.0, 1.3472382, 0.0, 0.0, 2.1046653, 2.995079, 0.5799483, 0.0, 1.394022, 0.0, 0.0, 2.1827545, 0.4247229, 0.0, 0.0, 0.0, 2.757361, 0.0, 0.0, 0.0, 0.0, 0.0, 0.0, 0.0, 0.0, 1.2789218, 0.0, 0.09642421, 0.0, 0.0, 0.041410252, 2.2490337, 0.0, 0.0, 0.0, 0.0, 0.0, 0.0, 1.9183717, 1.401406, 0.0, 0.0, 0.0, 0.0, 0.0, 2.1798766, 0.0, 0.43032998, 2.4372966, 0.43770725, 0.0, 0.0, 0.0, 0.0, 0.0, 1.3184613, 0.0, 0.0, 2.8271074, 0.0, 1.2022457, 0.96334857, 0.8053056, 0.0, 0.0, 0.0, 0.0, 0.0, 2.5165253, 2.039656, 0.0, 0.0, 2.512726, 0.0, 0.0, 1.6254482, 0.0, 0.0, 0.0, 0.0, 1.0291891, 0.0, 0.0, 0.5807879, 0.0, 0.0, 0.0, 0.0, 0.0, 0.82644635, 0.0, 0.0, 0.0, 0.0, 0.77282375, 0.24544536, 1.1376135, 0.0, 0.0, 0.0, 0.0, 0.0, 0.0, 0.0, 0.0, 0.0, 1.5778244, 0.0787103, 0.0, 2.1173067, 0.25144535, 0.0, 1.325791, 0.06779355, 0.0, 0.0, 0.0, 0.0, 0.0, 1.454157, 0.0, 0.43863535, 0.581295, 0.0, 0.50212014, 0.0, 0.0, 0.0, 0.0, 0.0, 0.0, 0.0, 1.7758988, 0.0, 0.0, 0.0, 0.24677657, 0.0, 0.057189085, 0.41757613, 0.0, 0.3354501, 0.0, 0.0, 0.0, 0.0, 0.0, 0.6260705, 0.75284773, 0.0, 0.0, 0.0, 0.0, 0.0, 1.7002268, 0.0, 1.1942283, 0.0, 0.48473114, 0.0, 0.9257362, 0.0, 0.0, 0.0, 0.0, 0.0, 0.14496925, 0.3771291, 0.0, 0.0, 0.0, 0.0, 0.0, 0.0, 0.0, 0.08530402, 0.68377185, 0.0, 0.0, 0.0, 0.0, 0.0, 0.0, 0.0, 1.2082882, 2.0157022, 1.8440303, 0.0, 0.0, 0.0, 0.19934887, 0.78458697, 0.0, 0.0, 0.0, 0.0, 0.0, 0.6860169, 0.25747597, 0.0, 0.32981712, 0.0, 0.0, 1.2659855, 1.4389232, 0.0, 0.05857206, 0.0, 2.7751915, 0.0, 0.0, 0.0, 0.12210041, 0.0, 0.0, 0.0, 0.0, 1.3542626, 0.0, 0.0, 1.5355138, 0.0, 0.0, 0.45607576, 0.0, 0.0, 0.0, 0.0, 0.0, 0.0, 0.0, 0.6970695, 0.0, 0.0, 0.0, 1.0381167, 0.0, 2.3292203, 0.0, 0.0, 0.9028529, 0.0, 0.0, 0.0, 0.0, 0.0, 0.0, 0.89590293, 0.011843022, 2.0148592, 1.5230212, 0.0, 0.0, 1.0905561, 0.84528023, 0.0, 0.0, 0.0, 0.0, 0.0, 0.0, 1.1310217, 0.0, 0.0, 1.0961896, 0.10870166, 0.0, 2.61475, 0.0, 0.0, 0.15387401, 0.0, 1.2090648, 0.0, 0.0, 0.0, 0.0, 0.0, 0.0, 0.0, 0.0, 2.3333364, 0.0, 0.0, 1.6138282, 0.0, 0.0, 0.0, 0.0, 0.0, 0.0, 0.0, 0.0, 0.0, 0.0, 0.0, 0.0, 0.0, 0.0, 2.2055376, 0.0, 1.6968685, 0.9525996, 0.0, 0.75848037, 0.0, 0.0, 0.35494426, 0.0, 0.0, 0.0, 0.506375, 0.0, 0.0, 0.69272596, 0.0, 0.0, 0.0, 1.1024501, 0.0, 0.0, 0.0, 0.0, 0.0, 1.395534, 1.3149574, 0.20295726, 0.3457123, 0.19527742, 0.0, 0.0, 0.14299129, 0.0, 1.0483862, 0.7566998, 1.8805572, 0.0, 0.0, 0.0, 0.0, 1.5529116, 0.10576722, 0.0, 0.0, 0.0, 0.43804267, 0.33223066, 0.0, 0.87042403, 0.0, 0.29423982, 0.0, 0.0, 0.0, 0.0, 0.0, 0.20750915, 0.0, 0.76570326, 1.7083784, 0.0, 0.72980887, 0.0, 0.0, 0.18440315, 0.023585182, 0.0, 0.12613374, 1.5164721, 0.0, 0.0, 0.0, 0.0, 0.19088443, 0.0, 0.0, 1.6004069, 0.0, 1.9103636, 0.0, 0.0, 0.27152568, 2.4596415, 0.0, 0.0, 0.0, 0.0, 0.0, 1.4131203, 1.7840849, 0.3247039, 0.0, 2.3400214, 0.0, 0.0, 0.78222567, 0.0, 0.0, 0.0, 0.0, 2.870556, 0.29583105, 0.0, 0.0, 0.0, 0.0, 0.0, 0.0, 0.0, 0.18224108, 0.0, 0.13843094, 0.0, 0.0, 0.0, 0.36970118, 0.0, 0.0, 0.0, 0.0, 0.982655, 0.0, 0.0, 1.0047176, 0.0, 0.0, 0.0, 0.0, 0.0, 0.775656, 0.0, 0.0, 2.3951643, 0.0, 0.0, 0.0, 0.0, 0.0, 0.0, 0.1458806, 0.6699795, 0.0, 0.2816085, 0.0, 0.71433014, 0.08662627, 1.5650936, 0.0, 0.9825591, 0.0, 0.0, 0.0, 0.9510985, 0.7161797, 0.0, 0.0, 2.5496895, 0.0, 0.0, 1.2926979, 0.0, 0.0, 0.0, 0.0, 0.0, 0.4892563, 0.0, 0.47273698, 0.0, 0.0, 0.0, 0.0, 0.0, 0.0, 0.0, 0.0, 0.0, 0.0, 0.0, 0.0, 0.0, 0.45768467, 0.0, 0.0, 0.0, 0.0, 0.0, 0.0, 0.0, 0.0, 1.0342458, 0.2202122, 0.0, 0.16728394, 0.853682, 0.0, 0.0, 0.94925016, 0.0, 2.049751, 0.0, 0.0, 0.2582738, 1.1304145, 0.0, 0.0, 0.0, 0.84145486, 3.7973242, 0.0, 0.18771699, 0.0, 3.0124636, 0.0, 0.0, 0.0, 0.67862695, 0.0, 0.0, 0.0, 0.0, 0.0, 0.29965255, 0.0, 0.0, 0.73877394, 0.0, 0.049872782, 0.0, 0.0, 0.0, 0.95665056, 0.23637548, 1.3897107, 0.0, 0.0, 0.0, 0.0, 0.7969534, 0.0, 0.0, 0.107917175, 0.0, 0.0, 0.97954404, 0.0, 0.0, 0.0, 0.2324103, 0.39330083, 1.4437165, 0.0, 0.0, 1.0135763, 1.2596855, 0.0, 0.3093607, 0.0, 0.8435294, 0.0, 0.3857309, 0.0, 0.0, 2.240766, 0.0, 0.0, 0.0, 0.0, 0.0, 0.0, 0.0, 0.92864394, 0.21471427, 0.0, 0.1685296, 0.0, 0.36803943, 0.5228359, 0.0, 0.0, 1.0264076, 1.0355273, 0.0, 0.0, 2.0409842, 0.0, 0.0, 0.0, 0.0, 0.0, 0.0, 1.7604486, 0.0, 0.0, 0.0, 0.14016028, 0.0, 0.0, 0.0, 0.0, 0.0, 0.39235312, 0.17803454, 0.0, 0.0, 0.0, 0.7616569, 0.0, 0.7276073, 0.0, 0.0, 0.8858751, 0.0, 1.3923428, 0.6144886, 0.0, 0.0, 0.0, 0.0, 0.0, 1.579316, 0.0, 0.0, 2.2373545, 1.457034, 0.0, 0.0, 2.5620754, 0.0, 0.49793917, 1.2244974, 0.020136463, 0.0, 0.24146634, 0.0, 1.2875445, 0.0, 0.0, 0.22106375, 0.0, 0.0, 1.89277, 0.0, 0.0, 2.5080593, 0.0, 0.0, 0.0, 0.788936, 1.1512344, 0.0, 0.0, 0.0, 1.1605865, 0.0, 0.041238215, 0.0, 0.0, 0.0, 0.0, 0.95798147, 0.0, 0.0, 0.0, 0.0, 0.0, 0.56961125, 0.0, 0.0, 0.0, 0.0, 0.5504078, 0.0, 0.0, 0.0, 2.554475, 0.0, 1.5190928, 0.0, 0.0, 0.0, 0.0, 0.0, 0.0, 0.17943145, 0.0, 0.0, 0.94632244, 0.0, 0.0, 0.0, 0.46498197, 0.0, 0.0, 0.0, 2.7947211, 0.0, 0.04428985, 0.0, 0.0, 0.0, 0.0, 0.37462768, 0.0, 0.0, 1.0902665, 0.63731796, 0.0, 1.5898592, 0.5563401, 0.0, 0.0, 0.0, 3.4309669, 1.7988592, 0.0, 0.0, 0.91688454, 0.0, 0.0, 0.0, 0.0, 0.0, 0.058955718, 0.19972862, 0.109084785, 0.0, 0.0, 0.0, 0.0, 1.2455328, 0.0, 0.0, 0.0, 1.6627429, 0.0, 0.0, 0.0, 0.0, 0.0, 0.0, 0.0, 0.0, 0.63209444, 0.0, 0.49460873, 0.3682122, 0.0, 0.0, 0.0, 0.35488895, 0.0, 0.0, 0.0, 0.0, 0.0, 0.0, 1.1078624, 0.0, 0.39305303, 0.6929684, 0.7588878, 0.75435597, 0.0, 0.0, 0.14859864, 1.2161078, 0.0, 0.0015721326, 0.0, 0.0334527, 0.0, 0.02244022, 1.3922516, 0.0, 0.0, 0.6086431, 0.29550767, 0.0, 0.0691026, 1.0816214, 0.0, 0.0, 0.0, 1.6674868, 0.06559752, 0.0, 0.81651413, 0.0, 0.0, 0.0, 0.0, 0.0, 0.0, 0.0, 0.543258, 0.0, 0.0, 0.028982207, 0.5190019, 0.0, 1.0739646, 0.0, 0.0, 0.39194778, 0.0, 0.0, 1.2949761, 0.0, 0.0, 0.0, 0.13270351, 0.0, 0.42487982, 0.0, 0.0, 0.0, 0.0, 0.0, 0.021487752, 0.0, 0.7054557, 0.0, 0.27836138, 0.08783974, 1.5208076, 0.0, 0.0, 0.0, 0.0, 1.8175315, 0.0, 0.5365286, 0.0, 0.0, 0.0, 0.0, 1.1632242, 0.0, 0.0, 0.0, 0.39650714, 0.7297993, 0.0, 0.5034804, 0.0, 0.0, 0.0, 0.0, 0.27817243, 0.0, 2.0423834, 0.65313804, 0.0, 0.0, 0.0, 0.0, 0.0, 0.0, 1.1463786, 0.0, 1.0995911, 0.0, 0.0, 0.0, 0.8287923, 0.0, 0.0, 0.11915602, 0.0, 0.0, 0.0, 0.0, 1.036355, 0.0, 0.9362767, 0.0, 0.0, 0.43737683, 0.0, 0.0, 0.0, 0.0, 1.1094514, 0.0, 0.105240986, 0.0, 1.8120936, 0.0, 0.0, 0.0, 0.0, 0.13389544, 0.0, 0.7258219, 0.0, 2.414799, 0.0, 1.3328772, 0.0, 0.0, 0.949723, 0.0, 0.9596228, 0.0, 1.058041, 1.6889266, 0.0, 0.902238, 0.0, 0.0, 0.0, 0.0, 0.0, 0.0, 1.8977432, 1.1520352, 0.57721776, 0.16527817, 0.0, 0.0, 0.0, 0.0, 0.7503363, 0.0, 0.0, 0.0, 0.0, 0.0, 0.0, 0.0, 0.0, 1.034537, 0.0, 0.9471171, 0.0, 0.0, 1.2189714, 0.37466934, 0.0, 0.02448205, 0.0, 0.95128876, 0.0, 0.0077542304, 0.0, 0.0, 0.28535032, 0.0, 0.18328254, 0.0, 0.0, 0.0, 0.14297849, 0.0, 0.0, 0.0, 0.0, 0.45400432, 0.064047135, 0.0, 0.0, 0.0, 0.0, 0.121195756, 0.0, 0.44933194, 0.0, 1.4658419, 0.0, 0.0, 0.0, 0.0, 0.0, 0.3712791, 2.037613, 0.4489753, 0.3415606, 0.0, 0.0, 0.0, 0.06057217, 0.23134996, 0.0, 0.0, 0.0, 0.0, 0.0, 0.0, 0.0, 0.44593483, 0.0, 0.22160918, 0.0, 1.3114735, 0.0, 1.5350773, 0.22403897, 0.25006026, 0.0, 0.0, 0.0, 1.322287, 1.0500405, 0.64451593, 0.0, 0.0, 0.0, 0.0, 0.0, 0.0, 1.5900047, 0.0, 1.1280693, 0.0, 0.0, 0.0, 0.62460226, 0.0, 0.7946634, 0.0, 0.0, 0.0, 0.3051843, 0.0, 0.0, 0.0, 0.0, 0.0, 0.0, 0.0, 0.0, 1.1949543, 0.0, 0.0, 0.0, 0.007398881, 0.0, 0.0, 2.364263, 0.0, 0.23084086, 0.0, 0.7441424, 0.0, 0.37596843, 0.0, 0.0, 0.0, 0.0, 0.0, 0.0, 0.0, 1.5872389, 0.0, 0.0, 0.0, 0.5261265, 0.93066114, 0.85438865, 0.18147656, 0.0, 0.0, 0.0, 0.0, 1.5395443, 0.0, 2.1955197, 0.0, 0.0, 0.5617447, 0.090998255, 0.0, 0.4740985, 0.0, 2.1681807, 0.0, 0.2727394, 0.0, 0.8574254, 0.0, 0.73854494, 0.0, 1.579395, 0.0, 0.0, 0.0, 0.0, 0.26791084, 0.94495696, 0.0, 0.0, 0.0, 0.0, 0.0, 0.079969324, 0.0, 1.0531571, 0.929484, 0.0, 0.1829161, 0.0, 0.0, 0.1317996, 0.0, 0.0, 0.0, 0.33133742, 1.1809233, 0.25729084, 0.0, 0.0, 0.0, 0.0, 0.0, 0.0, 0.0, 0.0, 0.0, 0.0, 0.0, 0.0, 0.0, 0.0, 1.0102038, 0.2245854, 1.1896126, 0.0, 0.0, 1.8048083, 0.0, 1.0508066, 0.022263804, 0.0, 0.3791068, 0.0, 0.7799115, 0.94426954, 0.0, 1.2390792, 0.0, 0.0, 0.0, 0.27405104, 0.0, 0.0, 0.0, 0.0, 0.0, 0.0, 1.1818099, 0.067557216, 0.0, 0.0, 0.0, 0.0, 0.18921727, 1.4277396, 0.38954383, 0.0, 1.247153, 0.6413435, 0.0, 0.93941003, 0.0, 0.0, 0.0, 2.3253036, 0.0, 0.0, 0.0, 0.0, 0.0, 0.0, 0.0, 0.0, 0.0, 1.3462403, 0.0, 0.0, 0.0, 0.0, 0.73077387, 0.0, 0.8189698, 0.0, 0.25167623, 0.0, 0.0, 2.1033878, 1.0291758, 0.0, 0.0, 0.0, 0.0, 2.864893, 0.105561785, 0.0, 0.14235482, 1.9120771, 0.2557282, 0.65205425, 0.0, 2.2621958, 0.0, 0.0, 0.78125066, 0.0, 0.0, 0.0, 0.0, 1.3591051, 0.0, 0.0, 0.0, 1.6521116, 0.0, 0.56720257, 0.0, 0.0, 0.75818866, 0.715003, 0.0, 0.0, 0.29186836, 0.8063022, 0.0, 0.0, 0.27406842, 0.4723554, 0.0, 0.4956794, 0.0, 0.0, 0.0, 0.0, 0.0, 0.0, 0.0, 0.0, 0.0, 0.0, 0.0, 0.0, 1.2870972, 1.5812477, 0.0, 0.0, 0.0, 0.0, 0.19066444, 1.8435067, 0.0, 1.710112, 0.0, 0.0, 0.0, 0.0, 0.0, 2.1149063, 0.0, 0.0, 0.2845561, 1.3507265, 0.06041187, 1.0092493, 0.0, 0.83724076, 0.0, 0.0, 0.0, 0.5610952, 0.0, 0.0, 0.0, 1.6141951, 0.0, 0.0, 0.0, 0.0, 0.0, 0.9002331, 0.0, 0.0, 0.0, 1.397512, 0.8621426, 0.87410474, 0.0, 0.7765718, 0.0, 0.0, 0.70719635, 0.9991671, 0.0, 0.0, 0.0, 0.0, 0.0, 0.0, 0.16101287, 0.6841234, 0.0, 0.0, 0.0, 0.0, 0.0, 0.0, 0.099664345, 0.0, 0.0, 0.0, 0.0, 0.0, 0.0, 0.0, 0.0, 0.0, 0.0, 0.6812159, 0.0, 0.6312359, 0.14679143, 0.0, 0.0, 0.40445653, 0.0, 0.0, 0.3188592, 0.0, 0.0, 0.0, 0.0, 1.6738634, 0.0, 0.2978946, 2.273152, 0.8139215, 1.7603501, 0.0, 0.0, 0.0, 1.7133056, 0.0, 0.0, 0.0, 0.33115667, 0.0, 0.01776337, 1.0398995, 0.0, 0.0, 1.2889221, 0.0, 0.0, 0.15370795, 1.3017247, 0.0, 0.0, 0.0, 3.5789757, 0.0, 0.0, 0.07892175, 0.0, 0.0, 0.0, 0.0, 0.0, 0.0, 0.0, 0.6925922, 0.0, 0.0, 0.0, 1.415751, 0.0, 0.43117428, 0.0, 0.0, 0.0, 0.0, 0.0, 2.300398, 0.0, 0.0, 0.0, 0.0, 0.0, 1.7572851, 0.0, 0.0, 0.64990425, 0.0, 0.0, 0.0, 0.0, 0.7451503, 0.0, 0.4909535, 1.9054651, 1.7268212, 0.83208376, 0.0, 0.0, 0.034365736, 3.1132936, 0.0, 0.3326528, 0.0, 0.0, 0.0, 0.95351213, 3.03655, 0.0, 0.0, 1.2970144, 0.69514585, 0.0, 0.0, 0.0, 0.0, 0.0, 0.0, 1.1124105, 0.0, 0.08079525, 0.95335424, 0.0, 0.0, 0.0, 0.0, 0.0, 0.0, 0.0, 1.6789223, 0.0, 0.0, 0.0, 0.6652219, 0.0, 1.3657925, 0.0, 0.0, 0.0, 0.0, 0.0, 1.3104264, 0.0, 0.04502371, 0.0, 0.0, 0.0, 0.5728662, 0.0, 0.0, 0.3657996, 0.0, 0.0, 0.090540014, 0.0, 0.0, 0.0, 1.023839, 0.31947714, 1.1017522, 0.0, 0.0, 0.0, 0.0, 2.452482, 0.0, 1.6347461, 0.0, 1.125635, 0.0, 0.34482896, 2.1626368, 0.0, 0.26650026, 0.0, 0.99059385, 1.1113459, 0.27148062, 0.0, 0.0, 0.0, 0.0, 0.0, 0.0, 0.91275054, 0.64872384, 0.68288374, 0.0, 0.0, 0.0, 0.0, 0.0, 0.32342228, 1.3011103, 0.0, 0.3297431, 0.28549832, 0.0, 0.0, 0.0, 0.0, 0.0, 0.82996607, 0.0, 1.2176595, 1.078039, 0.0, 1.2951043, 2.627566, 0.0, 0.51449794, 0.16511329, 0.41351995, 0.0, 0.0, 0.0, 0.0, 0.26223075, 0.0, 0.64332974, 0.0, 0.21543157, 0.20663437, 0.26647818, 0.11131388, 0.0, 0.12007858, 0.024948202, 0.0, 0.0, 0.0, 0.0, 0.0, 0.0, 0.0, 0.0, 0.0, 0.0, 1.3432256, 0.0, 0.2806869, 0.0, 0.5507408, 0.0, 0.10515807, 0.88370615, 0.26415667, 0.0, 0.0, 1.7609506, 0.0, 0.0, 0.0, 0.0, 0.0, 0.15590394, 0.0, 0.0, 0.0, 0.0, 0.5674848, 0.0, 0.0, 0.36086044, 0.0, 0.0, 0.07058114, 0.0, 1.0940392, 0.0, 0.0, 0.0, 3.2852144, 0.0, 0.30045852, 1.6959296, 0.5552814, 0.10931947, 0.0, 0.0, 0.0, 1.5422983, 0.0, 1.9982821, 0.0, 0.0, 0.0, 1.49034, 0.0, 0.52122146, 0.0, 0.0, 0.0, 0.0, 0.25181353, 0.0, 0.0, 0.0, 0.5809422, 0.0, 0.0, 0.0, 1.417532, 0.0, 0.6821797, 0.0, 0.0, 0.0, 0.0, 3.156049, 0.0, 0.0, 0.0, 2.0031166, 0.0, 0.4279812, 0.0, 0.0, 0.0, 0.0, 0.06883621, 0.0, 0.0, 0.0, 0.0, 0.0, 0.0, 1.5190318, 0.0, 0.0, 0.0, 0.0, 0.0, 0.0, 0.0, 0.0, 0.62591857, 0.0, 0.65040606, 0.6646, 0.06935589, 0.0, 0.0, 0.0, 0.0, 1.7854352, 0.0, 1.1403003, 0.0, 0.57430696, 0.0, 1.4111339, 0.0, 0.3774545, 0.0, 0.0, 0.25091085, 0.0, 0.34418234, 0.9856034, 0.0, 0.0, 0.0, 0.0, 0.0, 0.0, 0.0, 0.38928366, 1.1417316, 0.0, 0.0, 0.0, 0.0, 2.2291787, 0.0, 0.0, 0.0, 1.1020443, 0.72137934, 0.27034038, 0.0, 0.0, 0.0, 0.0, 0.0, 0.0, 0.0, 0.0, 0.0, 0.0, 0.0, 0.98541665, 0.0, 0.0, 1.1995142, 0.0, 0.7401995, 0.0, 0.0, 1.3320649, 0.057064928, 0.61037135, 0.0, 0.0, 0.7314842, 0.0, 0.29130024, 0.6089564, 0.0, 0.8153169, 0.0, 0.0, 0.0, 0.676919, 0.0, 0.0, 0.0, 0.0, 0.0, 0.0, 0.6863277, 0.9274087, 0.0, 0.0, 0.0, 0.0, 0.47374117, 0.0, 1.4325352, 0.0, 1.2060285, 0.33469576, 0.60724854, 0.0, 0.0, 0.0, 0.0, 1.6859715, 0.05987242, 0.37984443, 0.0, 0.81029046, 0.0, 0.45200324, 0.7449569, 0.0, 0.0, 0.8355732, 0.0, 0.0, 0.0, 0.0, 1.0875056, 0.0, 1.4076517, 0.0, 0.9568806, 0.0, 0.90012026, 0.22751029, 0.60348433, 0.0, 0.0, 0.0, 0.4372966, 2.0365942, 0.2347446, 0.08802406, 0.52650243, 0.0, 0.0, 0.0, 0.0, 1.8437349, 0.0, 0.23742302, 1.5874194, 0.0, 0.0, 0.0, 0.0, 0.42835733, 0.0, 0.0, 0.0, 2.034068, 0.0, 0.0, 0.0, 0.0, 0.0, 0.0, 0.0, 0.0, 0.11396458, 0.3770125, 0.0, 0.0, 0.4980619, 0.0, 0.33760107, 1.8476888, 0.08190113, 0.0, 0.0, 0.3471207, 0.0, 0.0, 0.6478176, 0.0, 0.0, 0.0, 0.0, 0.0, 0.33579782, 1.4389127, 0.0, 0.0, 0.0, 0.0, 2.0998697, 0.0, 0.45205, 0.31110013, 0.0, 0.0, 0.0, 0.21993238, 0.5357272, 1.8601216, 0.0, 0.040061947, 0.16135037, 0.50905657, 0.0, 0.0, 0.0, 2.2287598, 0.0, 0.0, 0.0, 0.0, 0.0, 1.208202, 0.0, 1.3859422, 0.0, 0.0, 0.0, 1.4416295, 0.0, 0.0, 0.0, 0.0, 0.15923645, 0.6116599, 0.1447995, 0.0, 0.0, 0.46225327, 0.0, 0.0, 0.5514934, 0.0, 0.0, 0.7136817, 0.01635775, 0.0, 0.0, 0.054765124, 0.0, 0.20796658, 0.24235372, 0.0, 0.0, 0.0, 0.0, 0.54866296, 1.1934407, 0.7600602, 0.0, 0.0, 0.0, 0.0, 0.5269684, 0.6418342, 0.0, 0.27582663, 0.0, 0.0, 0.0, 0.0, 1.2213178, 0.7807995, 0.0, 0.0, 0.0, 0.0, 0.0, 0.0, 0.0, 0.0, 0.0, 0.051482186, 0.0, 0.0, 0.0, 1.1401341, 0.0, 0.62048864, 0.0, 0.0, 0.0, 0.85878897, 0.042503625, 0.39788753, 0.0, 0.0, 0.0, 0.0, 0.10533072, 0.0, 0.0, 0.37843937, 0.0, 0.28053448, 1.5093505, 0.19718991, 0.78883237, 0.0, 1.549239, 0.0, 0.0, 0.0, 0.0, 0.0, 0.0, 0.0, 0.0, 0.0, 0.0, 0.037587624, 1.5701603, 0.0, 0.0, 0.16332452, 0.0, 0.0, 0.0, 0.0, 0.0, 0.0, 0.0, 0.0, 0.0, 0.0, 0.39590597, 1.8465985, 0.0, 0.26619166, 0.4029879, 0.0, 0.0, 0.0, 0.0, 0.0, 0.0, 0.0, 0.0, 0.49813998, 0.32384887, 1.1768606, 0.2696958, 0.0, 0.0, 0.91708875, 0.0, 0.0, 0.17595452, 0.0, 0.4005116, 0.0, 0.0, 0.6082597, 0.0, 0.0, 0.17963086, 0.81224966, 0.0, 0.60347307, 0.006807931, 0.05665486, 0.34638378, 0.0, 1.5012429, 0.0, 0.0, 0.0, 0.0, 0.5916187, 0.0024193996, 0.0, 0.0, 0.3531736, 0.16846557, 0.0, 1.3421003, 0.0, 0.3087842, 0.0, 0.0, 0.0, 0.0, 0.0, 0.17796858, 0.0, 0.0, 0.0, 0.0, 0.0, 0.0, 2.647925, 0.0, 1.378732, 0.5181338, 0.0, 0.0, 0.0, 0.0, 0.0, 0.0, 0.0, 0.0, 0.08421613, 0.0, 1.7911292, 0.0, 0.0, 0.0, 0.37607238, 0.1309833, 0.0, 0.0, 0.0, 0.0, 0.0, 0.49693298, 0.9231669, 0.0, 0.0, 0.0, 0.3708651, 0.0, 0.23328179, 0.29191, 0.07939391, 0.7795289, 1.6822683, 0.51772666, 0.4647082, 0.0, 0.0, 1.0404001, 0.18835968, 0.0, 0.0, 0.0, 0.7791094, 0.0, 0.0, 0.18779534, 0.37509915, 0.19074854, 0.0, 0.0, 0.0, 0.0, 0.0, 0.0, 0.0, 1.9269135, 0.0, 0.0, 0.86820394, 0.0, 0.04907747, 0.0, 0.0, 0.0, 0.9356434, 1.4201484, 0.7904743, 0.0, 0.0, 0.0, 0.0, 0.0, 0.0, 0.6970917, 1.1127366, 1.2186793, 0.0, 0.0, 0.6885646, 0.0, 0.0, 0.0, 0.0, 0.0, 0.0, 1.0648608, 0.93943274, 1.3163226, 0.0, 1.2752353, 0.2986557, 0.0, 2.550204, 0.0, 0.0, 0.20990312, 0.0, 2.9830842, 0.29706725, 0.0, 0.0, 0.0, 0.0, 0.0, 0.0, 0.0, 1.7208294, 0.0, 0.0, 0.34646887, 0.0, 0.031272158, 0.14150314, 0.0, 0.0, 0.0, 0.0, 1.2312267, 0.0, 0.87316084, 0.0, 0.0, 0.0, 0.0, 1.3337667, 0.0, 0.9959891, 0.80505455, 0.0, 1.3015618, 1.839573, 0.0, 0.0, 0.0, 0.0, 0.0, 0.82471293, 0.24306528, 0.35721222, 1.4234359, 0.0, 0.0, 0.25805518, 0.0, 0.0, 0.11901495, 0.0, 0.0, 0.0, 0.3312861, 0.0, 0.44211617, 0.0, 2.4554884, 0.0, 0.0, 1.4535799, 0.0, 0.0, 0.0, 0.0, 2.0660837, 0.12801147, 0.0, 0.3419657, 0.19643632, 0.0, 0.0, 0.0, 0.0, 1.9245019, 0.0, 0.0, 2.8916874, 0.0, 0.0, 0.0, 0.8565495, 0.0, 0.0, 0.0, 0.0, 0.0, 1.2144411, 0.0, 0.0, 0.0, 1.0078906, 1.0863615, 0.39439598, 1.2235905, 0.6701567, 0.0, 0.20150545, 0.50994885, 0.0, 0.3686589, 0.0, 0.0, 0.6046599, 0.5293506, 0.0, 0.0, 0.26624933, 0.0, 1.54067, 0.0, 0.0, 0.008454977, 0.84458625, 0.0, 0.0, 0.0, 0.34983042, 0.0, 0.77104056, 0.0, 0.10748678, 0.0, 0.0, 0.0, 0.48712388, 0.50785756, 0.95494354, 1.6345025, 1.0686079, 0.0, 0.0, 0.2680099, 0.99932843, 0.8610374, 0.025167385, 0.0, 0.0, 0.44733873, 0.0, 0.0, 3.0756025, 0.0, 0.0, 0.0, 0.08103007, 0.0, 0.0, 0.0, 0.0, 0.0, 0.0, 1.1641881, 0.0, 1.6772708, 0.0, 0.0, 0.0, 0.0725149, 0.0, 0.25894567, 0.90595967, 0.0, 0.0, 0.0, 0.0, 0.0, 0.0, 0.2547497, 0.0, 1.2721324, 0.0, 0.97149837, 0.0, 0.0, 0.55340123, 0.0, 0.0, 0.0, 0.0, 0.0, 0.7002772, 2.3526318, 0.0, 0.21532802, 1.4613259, 0.0, 0.0, 2.0425916, 0.0, 0.0, 0.0, 0.0, 0.0, 0.0, 0.7093296, 0.0, 0.0, 0.0, 0.0, 0.0, 0.0, 2.0627034, 0.0, 0.1546775, 0.0, 0.0, 0.5051437, 0.0, 0.077165216, 0.0, 0.0, 0.0, 0.0, 0.0, 0.66436124, 0.0, 0.0, 1.6863742, 0.0, 0.0, 0.13508485, 0.0, 0.0, 0.93420136, 1.4872319, 0.0, 0.0, 0.0, 0.0, 0.0, 0.60158175, 0.6041983, 0.0, 0.13635659, 0.0, 0.33309016, 0.0, 0.0, 1.377392, 0.0, 0.0, 0.33800822, 0.16852613, 0.0, 0.52214724, 0.33453012, 0.0, 0.64337116, 0.21937649, 0.0, 0.0, 0.35019466, 0.09584538, 1.0293729, 0.0, 0.0, 0.0, 0.0, 0.0, 0.0, 0.05135535, 0.0, 0.0, 0.0, 0.0, 1.2884612, 0.634568, 0.30132782, 0.0, 0.0, 0.46660876, 0.0, 0.461222, 0.0, 0.0, 2.10659, 0.0, 0.0, 0.0, 0.0, 0.0, 1.76745, 0.0, 1.3574902, 0.0, 0.0, 0.0, 0.0, 0.63048434, 0.0, 0.0, 1.5492357, 0.0, 0.0, 0.0, 2.0978374, 0.0, 0.0, 0.0, 0.0, 0.6721912, 0.0, 1.0832571, 0.0, 0.0, 1.0596342, 0.97868735, 0.0, 1.4510227, 0.91713685, 0.0, 0.30584058, 0.0, 1.6140547, 0.04168666, 0.0, 0.0, 0.40073887, 0.0, 0.0, 0.0, 0.0, 0.0, 0.28272524, 0.82669204, 0.0, 0.0, 0.0, 0.0, 0.0, 1.0030047, 0.40835968, 0.0, 0.0, 1.7322884, 0.0, 1.1268896, 0.0, 0.0, 0.0, 0.0, 0.0, 0.34242323, 0.28012434, 0.0, 0.0, 0.0, 0.0, 0.0, 0.0, 0.6802864, 0.0, 0.22781087, 0.0, 0.0, 0.0, 0.0, 0.0, 0.0, 0.0, 0.0, 0.0, 0.5708487, 0.0, 2.665416, 0.89953357, 0.0, 0.6472864, 2.1603487, 0.0, 0.0, 0.0, 0.0, 2.2681775, 0.0, 0.0, 0.0, 0.0, 0.0, 0.6437804, 0.27067432, 0.0, 0.0, 0.0, 0.0, 0.0, 0.0, 0.0, 0.0, 0.0, 0.0, 0.0, 0.0, 0.3022287, 0.0, 1.1349436, 0.0, 0.0, 0.0, 0.0, 0.0, 0.0, 0.0, 0.0, 0.0, 0.0, 0.0, 0.4395756, 0.0, 0.0, 0.0, 0.0, 0.0, 0.09048561, 0.0, 0.7440797, 1.4592975, 0.0, 0.0, 0.0, 0.0, 0.0, 0.0, 0.0, 0.0, 0.0, 1.5898987, 0.0, 0.49254787, 0.0, 0.97819114, 1.3986601, 2.1141663, 0.0, 0.2661766, 0.0, 0.06070652, 1.0873511, 0.0, 0.09381839, 0.0, 0.5706596, 0.19120309, 0.0, 0.0, 2.046696, 0.0, 0.0, 0.0, 0.0, 0.0, 0.0, 1.3978032, 0.0, 0.0, 0.0, 0.0, 0.0, 2.341952, 0.070182934, 0.0, 0.0, 1.351465, 0.0, 0.26248312, 0.0, 0.0, 0.0, 0.0, 0.0, 0.0, 0.0, 0.0, 0.0, 0.0, 1.6031786, 0.1411813, 0.1798969, 0.0, 0.50200534, 0.6512347, 0.0, 0.0, 0.0, 0.0, 0.0, 0.0, 0.6163706, 0.0, 0.0, 0.8819348, 0.0, 0.0, 0.018420868, 1.5876367, 0.0, 0.2289527, 0.0, 2.111727, 0.0, 0.10198165, 1.1039577, 0.0, 0.080578074, 0.0, 1.3837948, 0.6720444, 0.72575253, 0.0, 3.137205, 0.0, 0.0, 0.0, 0.0, 0.0, 0.0, 1.552663, 0.0, 0.87549126, 0.0, 0.0, 0.0, 1.4912307, 0.0050393455, 0.0, 0.0, 1.6465333, 0.0, 0.1041154, 0.0, 0.0, 0.0, 0.0, 0.0, 0.0, 0.7288325, 0.0, 0.0, 0.0, 0.0, 0.0, 0.0, 0.0, 0.0, 1.0575504, 0.0, 0.0, 0.0, 0.0, 1.8185431, 0.0, 0.10528143, 2.7721899, 0.0, 1.5364686, 0.0, 0.0, 0.048428364, 2.126597, 0.28977334, 0.0, 0.0, 1.1661948, 0.0, 0.0, 0.09164922, 0.0, 0.059586525, 0.6290986, 0.0, 0.0, 1.2822063, 0.0, 0.0, 0.0, 0.0, 1.6548345, 0.0, 0.0, 0.0, 0.0, 0.8863748, 0.0, 0.0, 0.0, 0.0, 0.0, 0.0, 0.0, 0.0, 0.0, 0.7041511, 0.0, 0.0, 0.0, 0.0, 1.6522552, 0.0, 0.13455825, 1.8340682, 0.0, 0.0, 0.0, 0.0, 0.4050847, 0.0, 0.0, 0.0, 1.9080837, 0.0, 0.0, 0.0, 0.0, 0.28953236, 0.0, 0.0, 1.258904, 0.3528748, 0.0, 0.0, 0.0, 0.0, 0.6061915, 0.0, 0.23451677, 0.0, 0.75284874, 0.0, 0.122563235, 0.94588315, 0.0, 0.0, 0.0, 0.25794065, 0.0, 1.9564788, 0.0, 0.0, 0.0, 0.4679301, 0.0, 0.0, 0.0, 0.055809874, 0.0, 0.0, 0.0, 0.0, 0.0, 0.4196316, 0.05127615, 0.0, 0.0, 0.0, 0.0, 0.7011248, 0.0, 0.0, 0.0, 0.0, 0.7090513, 0.0, 0.0, 1.7288057, 0.0, 0.9828167, 1.0614021, 1.5219847, 0.048599668, 1.2608191, 0.0, 0.0, 0.76001513, 1.5305656, 0.0, 0.5209459, 0.0, 0.0, 0.0, 0.63637334, 0.0, 0.0, 0.0, 0.0, 0.0, 0.0, 1.2256569, 0.0, 0.8440967, 0.0, 0.0, 0.0, 1.0145845, 0.0, 0.0, 0.0, 0.0, 0.0, 0.9042612, 1.9659601, 0.0, 0.0, 0.10313431, 0.17503926, 0.0, 0.0, 0.0, 0.0, 1.9491465, 0.0, 0.0, 0.0, 0.0, 0.0, 0.0, 0.0, 0.0, 0.0, 0.0, 0.0, 1.0691082, 0.0, 0.0, 0.0, 0.19597809, 0.6327202, 2.716372, 1.6246397, 0.0, 0.0, 0.0, 0.0, 0.0, 0.0, 0.96339524, 0.43908435, 1.6039841, 0.6971003, 0.0, 1.3546419, 0.0, 0.0, 0.0, 0.0, 0.0, 0.0, 0.5004384, 0.0, 0.96086425, 0.61432505, 1.4166074, 0.0, 0.0, 0.3730272, 0.0, 0.0, 1.8152285, 0.6660743, 0.0, 0.0, 2.4384434, 0.47664118, 0.0, 0.36141434, 0.0, 0.0, 0.0, 0.44042298, 0.0, 0.16741556, 0.0, 0.84773386, 0.0, 0.0, 0.0, 0.0, 0.0, 0.55722576, 0.0, 0.0, 0.0, 0.0, 0.7124056, 0.0, 0.14528406, 0.0, 0.0, 0.0, 0.0, 0.1328118, 1.3733008, 0.0, 0.0, 0.0, 0.0, 0.0, 1.4635543, 0.0, 0.4361649, 1.0517608, 2.2658496, 0.0087465625, 0.0, 2.1213791, 0.0, 0.0, 0.0, 0.063936874, 0.0, 0.0, 0.74389756, 0.0, 1.5213501, 0.0, 0.74187356, 0.0, 0.8788637, 0.0, 0.0, 0.0, 1.6489565, 0.0, 0.0, 0.0, 0.0, 1.2521751, 0.14383838, 0.11514923, 0.0, 1.2426288, 0.0, 0.0, 0.0, 0.0, 0.0, 0.91450584, 2.1557894, 0.39962232, 0.0, 0.0, 0.0, 0.0, 1.2067106, 0.0, 0.0, 0.0, 0.7761434, 0.0, 0.0, 0.0, 0.0, 1.2779703, 0.0, 0.31578642, 0.0, 0.0, 0.0, 0.0, 1.2042867, 0.0, 0.25381097, 0.0, 0.0, 0.0, 0.93633735, 0.33302152, 0.0, 1.4218162, 0.0, 0.0, 0.0, 3.0156493, 0.0, 0.0, 0.0, 0.0, 1.804884, 0.0, 0.0, 0.0, 1.1682843, 0.0, 0.67985475, 0.0, 0.60534805, 0.0, 0.0, 0.0, 0.0, 1.5535288, 1.462741, 0.5486018, 0.0, 1.7095277, 0.0, 0.0, 0.0, 0.0, 0.0, 2.9405708, 0.36029178, 1.8279462, 0.0, 0.0, 0.0, 0.0, 2.3615062, 0.0, 0.0, 0.0, 1.3236296, 0.0, 0.38950667, 0.0]\n"
     ]
    }
   ],
   "source": [
    "print(arrInputs)"
   ]
  },
  {
   "cell_type": "code",
   "execution_count": 343,
   "id": "e399c68a",
   "metadata": {},
   "outputs": [],
   "source": [
    "text_file = open(\"inputs/inputsAll.txt\", \"w\")\n",
    "text_file.write(\"%s\" % s)\n",
    "text_file.close()"
   ]
  },
  {
   "cell_type": "code",
   "execution_count": 344,
   "id": "8236936d",
   "metadata": {},
   "outputs": [],
   "source": [
    "weights, biases = model.layers[6].get_weights()"
   ]
  },
  {
   "cell_type": "code",
   "execution_count": 345,
   "id": "fa0052e5",
   "metadata": {},
   "outputs": [],
   "source": [
    "weights = weights.flatten()\n",
    "biases = biases.flatten()"
   ]
  },
  {
   "cell_type": "code",
   "execution_count": 346,
   "id": "e79ee079",
   "metadata": {},
   "outputs": [
    {
     "name": "stdout",
     "output_type": "stream",
     "text": [
      "[9.227561090456354e-06, 6.004642915416248e-05, 0.1901786339155844, 0.013785533173774268, 6.743335859309626e-07, 3.7488555644179e-07, 5.668648828510346e-07, 0.00024604408695039784, 0.005789557081660936, 1.2942808192908509e-05]\n",
      "[0.270941, 0.5731998, 0.7561181883793324, 0.37477258, 0.21719946, 0.43841383, 0.31852198, 1.5003306092694402, 0.45469838, 0.3870067]\n",
      "[-11.52370332690407, -9.794128139605164, -1.3747946516305092, -4.537970285746269, -14.170656918537134, -14.750796566906502, -14.296774372354776, -8.351482747948467, -5.562212241748057, -11.1658143698005]\n",
      "[-11.593306553982984, -9.72033242751786, -1.448849878674082, -4.270254121394828, -14.209540239524358, -14.796644665490021, -14.38314429660204, -8.309753748482763, -5.145893105909636, -11.254957333090715]\n"
     ]
    }
   ],
   "source": [
    "outputTestImage = []\n",
    "maxValues = []\n",
    "minValues = []\n",
    "beforeSigmoid = []\n",
    "for j in range(10):\n",
    "    countW = 0\n",
    "    arrW = []\n",
    "    valMax = 0\n",
    "    valMin = 0\n",
    "    for i in range(len(weights)):\n",
    "        if i == (countW * 10 + j):\n",
    "            arrW.append(weights[i])\n",
    "            countW += 1\n",
    "    \n",
    "    suma = 0\n",
    "    for i in range(len(arrW)):\n",
    "        prod = input1[i]*arrW[i]\n",
    "        suma += input1[i]*arrW[i]\n",
    "        if (prod > valMax):\n",
    "            valMax = prod\n",
    "        if (prod < valMin):\n",
    "            valMin = prod\n",
    "        if (suma > valMax):\n",
    "            valMax = suma\n",
    "        if (suma < valMin):\n",
    "            valMin = suma\n",
    "    suma += biases[j]\n",
    "    maxValues.append(valMax)\n",
    "    minValues.append(valMin)\n",
    "    beforeSigmoid.append(suma)\n",
    "    z = 1/(1 + np.exp(-suma))\n",
    "    outputTestImage.append(z)\n",
    "print(outputTestImage)\n",
    "print(maxValues)\n",
    "print(minValues)\n",
    "print(beforeSigmoid)"
   ]
  },
  {
   "cell_type": "markdown",
   "id": "a11386ec",
   "metadata": {},
   "source": [
    "Se va folosi algoritmul de conversie a numerelor din virgulă mobilă în fixed point. "
   ]
  },
  {
   "cell_type": "code",
   "execution_count": 347,
   "id": "dec373c4",
   "metadata": {},
   "outputs": [],
   "source": [
    "def complement(x):\n",
    "    c1 = ''\n",
    "    for i in x:\n",
    "        if (i == '0') :\n",
    "            c1 = c1 + '1' \n",
    "        else :\n",
    "            c1 = c1 + '0'\n",
    "    return c1"
   ]
  },
  {
   "cell_type": "code",
   "execution_count": 348,
   "id": "3db94194",
   "metadata": {},
   "outputs": [],
   "source": [
    "def convInt(pi):\n",
    "    if (pi>=0):\n",
    "        pib = \"{0:08b}\".format(pi)\n",
    "    else :\n",
    "        pipoz = -pi;\n",
    "        pib = \"{0:08b}\".format(pipoz)\n",
    "        c1 = complement(pib)\n",
    "        bc1 = bin(int(c1, 2))\n",
    "        final = bin(int(bc1,2) + int('00000001',2))\n",
    "        pib = final[2:]\n",
    "        pib = str(pib).zfill(8)\n",
    "    return pib"
   ]
  },
  {
   "cell_type": "code",
   "execution_count": 349,
   "id": "bbf19d76",
   "metadata": {},
   "outputs": [],
   "source": [
    "def convFrac(x):\n",
    "    double = x\n",
    "    arr = []\n",
    "    bits = []\n",
    "    contor = 0\n",
    "    n = 8\n",
    "    s = ''\n",
    "    while(contor != n):\n",
    "        double = double * 2\n",
    "        if(double >= 1):\n",
    "            bits.append('1')\n",
    "            double = double - 1\n",
    "        else :\n",
    "            bits.append('0')\n",
    "        double = float(\"{:.8f}\".format(double))\n",
    "        arr.append(double)\n",
    "        contor = contor + 1\n",
    "    for i in bits:\n",
    "        s += i\n",
    "    return s"
   ]
  },
  {
   "cell_type": "code",
   "execution_count": 350,
   "id": "223b269d",
   "metadata": {},
   "outputs": [],
   "source": [
    "def convert(x):\n",
    "    pi = int(x)\n",
    "    pf = float(\"{:.8f}\".format(x - int(x)))\n",
    "    if(x<0):\n",
    "        if pf != 0.0:\n",
    "            pi = pi - 1\n",
    "            pf = -pf\n",
    "            pf = 1 - pf\n",
    "            pf = float(\"{:.8f}\".format(pf))\n",
    "    bi = convInt(pi)\n",
    "    bf = convFrac(pf)\n",
    "    s = bi + bf\n",
    "    return s"
   ]
  },
  {
   "cell_type": "code",
   "execution_count": 351,
   "id": "856dba27",
   "metadata": {},
   "outputs": [
    {
     "data": {
      "text/plain": [
       "'0000000000010101'"
      ]
     },
     "execution_count": 351,
     "metadata": {},
     "output_type": "execute_result"
    }
   ],
   "source": [
    "convert(0.0827295301714912)"
   ]
  },
  {
   "cell_type": "code",
   "execution_count": 352,
   "id": "923818f4",
   "metadata": {},
   "outputs": [],
   "source": [
    "pixels = ''\n",
    "with open (\"inputs\\inputsAll.txt\", \"r\") as myfile:\n",
    "    pixels = myfile.readlines()"
   ]
  },
  {
   "cell_type": "code",
   "execution_count": 353,
   "id": "c15fb067",
   "metadata": {},
   "outputs": [],
   "source": [
    "str1 = ''.join(pixels)"
   ]
  },
  {
   "cell_type": "code",
   "execution_count": 354,
   "id": "2fe462af",
   "metadata": {},
   "outputs": [],
   "source": [
    "pixels_split = str1.split()"
   ]
  },
  {
   "cell_type": "code",
   "execution_count": 355,
   "id": "541ce93c",
   "metadata": {},
   "outputs": [
    {
     "name": "stdout",
     "output_type": "stream",
     "text": [
      "['0.0', '0.0', '0.0', '0.39118117', '0.0', '0.0', '0.0', '0.0', '0.0', '0.0', '0.0', '1.5877576', '0.2926942', '0.52239823', '0.2059908', '0.0', '0.0', '0.29726326', '0.0', '0.01383476', '0.0', '0.21514297', '0.0', '0.0', '0.0', '0.4846257', '3.4495912', '1.3906932', '0.0', '0.0', '1.0813909', '0.3127618', '0.0', '0.0', '1.8278196', '2.8078442', '0.0', '0.0', '0.0', '0.16516967', '0.0', '0.0', '0.0', '0.0', '0.0', '0.0', '0.0', '0.0', '0.0', '0.0', '0.0', '0.6918065', '0.0', '0.0', '0.0', '0.0', '0.0', '0.6874549', '0.0', '0.0', '0.0', '0.0', '0.0', '1.6078289', '0.0', '0.0', '0.0', '0.44198906', '0.0', '0.0', '0.0', '0.0', '0.0', '0.0', '0.0', '0.0', '0.13819833', '0.23306228', '0.18788373', '0.0', '0.0', '1.2207425', '0.0', '0.0', '0.0', '0.6029816', '0.0', '0.0', '0.0', '0.13875717', '4.025763', '1.1260712', '0.0', '0.3127883', '3.899034', '0.0', '0.0', '0.0', '0.3539239', '1.5758682', '0.0', '0.0', '0.0', '2.9375753', '1.2029018', '0.0', '0.0', '0.94710165', '0.0', '0.0', '0.0', '0.0', '0.0', '0.0', '0.20304318', '1.2447608', '0.0', '0.0', '0.0', '0.0', '1.3104494', '1.3606477', '0.0', '0.0', '0.40518993', '0.0', '0.56708753', '0.8213547', '0.0', '0.0', '0.0', '0.6090926', '0.0', '0.0', '0.0', '0.0', '0.0', '1.3244175', '0.0', '0.0', '0.1348334', '0.0', '0.0', '0.0', '0.0', '0.55130357', '0.0', '0.0', '0.0', '1.7492789', '0.0', '0.0', '0.0', '0.0', '1.3026749', '0.2689959', '0.23015699', '0.0', '3.0155766', '0.0', '0.6145033', '0.0', '0.0', '0.15471847', '0.0', '0.0', '0.0', '2.6136246', '2.1392503', '0.0', '0.0', '3.2850726', '0.0', '0.0', '0.0', '0.0', '0.0', '0.90497345', '0.47334462', '1.0728142', '0.0', '0.0', '0.0', '0.0', '2.4640188', '1.2356437', '0.0', '0.0', '2.219048', '0.0', '0.46709278', '0.0', '0.0', '0.0', '0.0', '0.0', '0.0', '0.0', '0.0', '0.0', '0.49126437', '0.0', '0.0', '0.7498535', '0.15926981', '0.7718363', '0.053009078', '0.0', '0.0', '0.0', '0.0', '0.45834744', '0.0', '0.17932871', '0.0', '1.8728023', '0.5954006', '1.0576998', '1.0882071', '0.0', '0.0', '0.49677578', '0.16314621', '0.7885129', '0.0', '0.0', '1.4902939', '0.24269481', '0.08832766', '0.0', '0.0696862', '0.63571', '0.05425345', '0.0', '0.0', '0.0', '0.0', '0.0', '0.632501', '0.0', '0.0', '0.0', '0.0', '0.0', '0.0', '0.0', '0.0', '0.0', '0.0', '0.0', '0.7743644', '0.0', '0.0', '0.8300985', '0.0', '0.0', '0.0', '0.0', '0.0', '0.25030088', '0.0', '0.0', '0.0', '0.0', '0.4564065', '0.0', '0.001491705', '0.49544474', '0.0', '0.99417746', '1.175183', '0.0', '0.0', '0.0', '0.0', '0.0', '0.0', '0.0', '1.3433219', '2.1013079', '0.0', '0.0', '0.0', '0.12652645', '0.0', '0.0', '0.0', '0.390121', '0.12541507', '0.0', '0.4549814', '1.4726888', '0.0', '0.0', '0.55180633', '1.75645', '0.4265258', '0.18173102', '0.0', '1.9549799', '0.0', '0.0', '0.8975289', '0.0', '0.0', '0.0', '0.9602458', '0.0', '0.0', '0.0', '0.0', '0.0', '0.38724223', '0.0', '0.0', '0.0', '0.74090505', '1.365483', '0.0', '0.09398813', '0.0', '0.8588588', '0.0', '0.9003157', '0.0', '0.38775244', '0.0', '0.0', '0.24751726', '1.6454173', '0.0', '1.698628', '0.0', '0.3001384', '0.0', '0.0', '0.0', '0.0', '0.0', '0.0', '0.0', '1.5536125', '0.48699325', '2.6782382', '0.0', '0.0', '0.0', '0.7799243', '0.0', '0.0', '0.0', '0.648604', '0.4690961', '0.0', '0.33592263', '0.86249316', '0.0', '0.0', '0.0', '1.8369805', '0.94811237', '1.8427569', '0.0', '0.0', '0.0', '0.0', '0.0', '0.3414839', '0.0', '0.0', '1.1887385', '0.0', '0.0', '0.0', '0.0', '0.35046977', '0.0', '0.0', '0.24094154', '0.0', '0.8176448', '0.0', '0.0', '0.0', '0.0', '0.0', '0.0', '0.0', '2.462042', '0.77383995', '0.0', '1.6725318', '0.0', '0.0', '0.22382821', '0.0', '0.0', '0.6184624', '1.8105783', '0.0', '0.0', '0.0', '0.0', '0.0', '0.0', '0.1195849', '0.0', '0.8578823', '1.2555093', '0.0', '0.0', '0.23188752', '0.46388772', '0.0', '0.0', '1.3707699', '0.0', '0.0', '1.7786934', '3.0980413', '0.0', '0.0', '1.6749122', '0.42394352', '0.0', '1.8792362', '0.09133292', '0.0', '0.0', '0.0', '1.3853724', '0.0', '0.0', '0.0', '0.0', '0.0', '0.0', '0.0', '0.0', '1.0070713', '0.0', '0.19341533', '0.0', '0.0', '0.41172606', '1.7174194', '0.01472174', '0.0', '0.0', '0.0', '0.0', '0.0', '1.312923', '1.2837282', '0.0', '0.0', '0.0', '0.0', '0.0', '2.0278792', '0.0', '0.7852148', '3.10119', '0.355344', '0.0', '0.0', '0.0', '0.0', '0.0', '0.6039147', '0.0', '0.62677115', '2.487641', '0.0', '0.7755622', '0.08803498', '0.319963', '0.0', '0.0', '0.0', '0.0', '0.0', '2.4029589', '1.9980953', '0.0', '0.0', '1.3814521', '0.0', '0.0', '1.3351713', '0.0', '0.0', '0.0', '0.0', '0.41976905', '0.0', '0.0', '0.6505155', '0.032066185', '0.0', '0.0', '0.0', '0.0', '1.2293966', '0.0', '0.0', '0.0', '0.0', '0.5597906', '0.0', '0.9224842', '0.0', '0.0', '0.1022299', '0.0', '0.0', '0.0', '0.0', '0.0', '0.0', '2.8303783', '0.0', '0.0', '1.8570186', '0.5601333', '0.0', '0.6468674', '0.0', '0.0', '0.09110039', '0.0', '0.0', '0.0', '1.7816204', '0.0', '0.89447844', '0.0', '0.0', '0.6072373', '0.20111', '0.0', '0.0', '0.038354278', '0.0', '0.0', '0.0', '1.42455', '0.0', '0.0', '0.0', '0.20487466', '0.7390441', '0.69995654', '0.18952987', '0.083075054', '0.10899359', '0.0', '0.0', '0.0', '0.0', '0.0', '0.926291', '0.2867824', '0.0', '0.0', '0.0', '0.0', '0.0', '1.9353046', '0.0', '0.7801952', '0.0', '0.49708045', '0.0', '1.5836017', '0.61847574', '0.0', '0.0', '0.0', '0.0', '1.5576763', '2.1363282', '0.0', '0.0', '0.0', '0.0', '0.0', '0.865141', '0.0028445534', '0.0533453', '2.1850002', '0.0', '0.0', '0.0', '0.0', '0.0', '0.0', '0.005498903', '0.0', '0.0', '2.0663078', '0.0', '0.9128967', '0.7730861', '3.2365565', '0.0', '0.0', '0.0', '0.0', '0.0', '2.4932024', '2.2775688', '0.50557184', '0.0', '2.8596516', '0.0', '0.0', '0.05955759', '0.0', '0.0', '0.0', '0.0', '1.1675392', '0.37891704', '0.0', '0.0', '0.0', '0.0', '0.0', '0.0', '0.0', '0.0', '0.0', '0.22961898', '0.0', '0.0', '0.9483238', '0.35021275', '1.2747681', '0.0', '0.0', '0.0', '0.0', '0.0', '0.0', '0.48003548', '0.0', '0.0', '0.0', '0.0', '0.754794', '0.0', '0.03752781', '0.217448', '1.6422888', '0.0', '0.0', '1.1900872', '0.0', '0.038838968', '0.0', '0.0', '0.0', '0.0', '0.5856986', '0.0', '1.8769526', '0.029203571', '2.430607', '0.0', '2.214246', '0.0', '0.0', '0.0', '1.9254444', '2.493704', '0.0', '0.0', '0.0', '0.8161291', '0.0', '0.0', '0.0', '0.21522881', '0.0', '0.0', '0.0', '0.019025672', '0.0', '0.4186447', '0.55848765', '0.0', '0.0', '0.0', '0.0', '0.0', '0.05076248', '0.66170627', '0.0', '0.0', '0.110366985', '0.0', '0.0', '0.0', '0.0', '0.0', '0.0', '0.0', '0.0', '0.10647935', '0.0', '0.0', '0.0', '0.0', '0.06644947', '0.0', '0.40550527', '0.0', '0.0', '0.0', '0.0', '1.755161', '0.0', '0.0', '0.0', '0.94582057', '0.0', '0.0', '0.0', '0.0', '3.257307', '0.0', '1.4150019', '0.0', '4.825905', '0.0', '0.8882099', '0.0', '0.22489482', '1.5331074', '0.0', '0.0', '0.0', '1.277405', '1.3976451', '0.0', '0.0', '1.2965107', '0.0', '0.0', '0.0', '0.0', '0.0', '1.558198', '0.9658577', '0.6010408', '0.0', '0.0', '0.0', '0.0', '1.7510494', '1.1419675', '0.0', '0.0', '0.91834944', '0.0', '0.39515904', '0.0', '0.0', '0.0', '0.0', '0.0', '0.4579835', '0.0', '0.0', '0.0', '0.56163865', '0.0', '0.11405859', '0.0', '1.6022352', '0.0', '0.37324592', '0.34146798', '0.0', '2.6803114', '0.0', '0.5057717', '0.0', '0.0', '0.0', '0.0', '0.0', '1.7872962', '1.7502043', '0.0', '0.053701214', '0.0', '1.4153618', '0.0', '0.0', '0.0', '0.61817783', '0.698463', '0.0', '0.19000976', '1.3810428', '0.802756', '0.88579375', '0.0', '0.0', '0.0', '0.0', '1.1925391', '0.0', '0.0', '0.0', '0.0', '0.0', '0.03134924', '0.0', '0.0', '0.0', '0.0', '1.4024006', '0.0', '0.0', '0.0', '0.103926435', '0.0', '1.0518718', '0.0', '0.0', '0.43686104', '0.0', '1.0811913', '0.0', '0.0', '0.0', '0.0', '1.0903903', '0.22572811', '0.0', '0.0', '1.126902', '0.9889723', '0.0', '0.0', '0.0', '2.884298', '0.0', '1.3824123', '1.3020277', '0.0', '0.0', '0.0', '0.0', '1.3573658', '1.1605446', '0.0', '0.0', '0.0', '0.9171794', '1.2704731', '0.0', '0.0', '0.83699876', '0.0', '0.0', '0.05063165', '0.0', '0.8788604', '0.77915466', '0.0', '0.0', '2.6194882', '0.0', '0.90527475', '0.0', '0.0', '0.0', '0.0', '1.7317255', '0.2419513', '0.0', '0.0', '0.0', '0.0', '1.8269966', '0.39928222', '0.0', '0.0', '0.0', '0.0', '0.0', '0.0', '0.0', '2.1247008', '0.0', '0.11691524', '0.0', '0.0', '0.0', '0.0', '0.0', '1.3948232', '0.0', '0.0', '0.0', '0.0', '0.0', '0.0', '0.0', '0.9010226', '0.0', '0.0', '0.0', '0.9789908', '0.0', '0.33265084', '0.0', '0.0', '0.0', '0.0', '0.0', '0.0', '0.04636095', '1.1464403', '1.1461395', '0.0', '0.0', '0.0', '0.0', '0.0', '0.0', '2.1414762', '1.7562977', '0.42097005', '0.0', '1.4364212', '0.0', '0.0', '0.0', '0.0', '0.0', '0.7409393', '2.1240966', '0.0', '0.0', '0.0', '0.0', '0.0', '1.2494226', '0.09940268', '0.0', '0.0', '0.6347764', '0.0', '0.0', '0.0', '0.0', '0.0', '0.0', '0.8477135', '0.0', '0.0', '0.0', '0.0', '0.0', '0.0', '0.0', '0.0', '0.0', '0.49394587', '1.6352415', '0.0', '0.0', '1.2797362', '0.0', '1.088422', '0.0', '1.0303236', '0.0', '0.42729595', '0.0', '0.7210065', '1.2919391', '0.0', '0.5979703', '0.0', '0.0', '0.0', '0.0', '0.0', '1.4410666', '1.2573687', '0.0', '0.0', '0.0', '1.5932555', '0.7166041', '0.18476918', '0.0', '0.0', '0.0', '0.0', '0.0', '0.0', '0.0', '0.38991877', '0.14165245', '1.3956959', '0.0', '0.0', '0.0', '0.0', '0.018578175', '0.76189756', '0.0', '0.0', '0.0', '0.9410573', '0.0', '0.0', '0.0', '1.5930678', '0.0', '1.9703891', '0.0', '0.022253096', '0.0', '0.0', '0.0', '0.0', '0.0', '0.0', '0.0', '0.013413658', '0.3894543', '0.0', '0.0', '0.0', '0.0', '0.41198134', '0.0', '0.7297817', '0.0', '1.9466306', '0.0', '0.0', '0.18101554', '0.0', '0.0', '0.0', '0.0', '0.13233614', '0.22263376', '0.0', '1.0363816', '0.35506338', '0.0', '0.0', '0.0', '2.6531734', '0.42603824', '1.3938193', '0.0', '1.507375', '0.0', '0.0', '0.0', '0.0', '0.0', '0.41878203', '0.0', '0.0', '0.0', '0.0', '0.0', '0.0', '0.42587894', '0.18860598', '0.0', '0.0', '0.2004761', '0.44495398', '0.0', '0.0', '0.0', '1.5388681', '0.0', '1.4293151', '0.0', '1.2044761', '0.0', '0.0', '1.5179224', '1.2564927', '0.0', '1.0200515', '0.0', '0.57107604', '0.0', '0.0', '0.0', '0.0', '0.0', '0.0', '0.0', '0.34094685', '0.46163005', '3.16898', '0.0', '0.0', '0.0', '0.050851926', '0.0', '0.0', '0.0', '0.0', '0.6179747', '0.0', '0.0', '0.6221345', '0.0', '0.0', '0.0', '1.6983492', '0.42402348', '1.3241017', '0.0', '0.38093454', '0.0', '0.0', '0.0', '0.6414243', '0.0', '0.5288621', '0.0', '0.0', '0.0', '0.0', '0.0', '1.3803768', '0.41947943', '0.0', '0.0', '0.0', '0.0', '0.0', '0.0', '0.0', '0.0', '0.0', '0.0', '0.0', '2.4246125', '1.0975376', '0.0', '1.056229', '0.0', '0.0', '0.0', '0.0', '0.0', '0.0', '2.116849', '0.0', '0.0', '0.0', '0.0', '0.0', '0.0', '0.47154516', '0.0', '0.0', '0.54018515', '0.11658599', '0.21587749', '0.7087039', '2.2384546', '0.0', '0.23039138', '0.51393336', '0.0', '0.0', '1.1144363', '4.895228', '0.0', '0.0', '0.69913864', '0.0', '0.0', '1.263824', '0.0', '0.0', '0.0', '0.0', '0.0', '0.0', '0.0', '0.0', '0.0', '0.0', '0.0', '0.0', '0.0', '2.12719', '0.0', '1.1419394', '0.0', '0.0', '0.9828859', '0.48187453', '0.0', '0.0', '0.0', '0.0', '0.0', '0.4943512', '2.0183318', '2.122062', '0.0', '0.0', '0.0', '0.0', '0.0', '3.181241', '1.1304406', '0.0', '1.1114444', '0.0', '0.0', '0.6394893', '0.0', '0.33029008', '0.0', '0.7163678', '0.0', '0.0', '2.813647', '0.0', '1.9689074', '0.59617066', '3.1111617', '0.0', '0.0', '0.0', '0.0', '0.0', '2.5978456', '3.8326533', '0.0', '0.0', '0.0', '0.0', '0.0', '0.63034856', '0.0', '0.47189674', '0.0', '0.13571022', '0.0', '0.0', '0.0', '0.43226948', '0.0', '0.0', '0.0', '0.0', '0.0', '0.0', '1.9250696', '0.26145738', '0.0', '0.0', '0.084639356', '0.0', '0.0', '0.0', '0.0', '0.0', '0.0', '0.0', '0.0', '0.43959612', '0.0', '0.0', '0.0', '0.0', '0.0', '4.0488014', '0.57465464', '0.0', '0.6296645', '0.0', '0.0', '0.0', '0.0', '1.2507836', '0.0', '0.5481685', '0.0', '0.0', '2.1393774', '0.0', '2.4385555', '1.255975', '2.8201544', '0.0', '0.0', '0.0', '0.0', '0.0', '2.759466', '3.8757083', '0.0', '0.0', '0.0', '0.0', '0.0', '0.26165596', '0.0', '1.7953937', '0.0', '0.34117606', '0.0', '0.0', '0.0', '0.0', '0.3437829', '0.14769715', '0.0', '0.0', '0.0', '0.0', '1.8945036', '0.0', '0.0', '0.0', '0.0', '0.0', '0.22737661', '0.0', '0.0', '0.0', '0.0', '0.97112894', '0.0', '0.0', '0.0', '0.0', '0.0', '0.0', '0.0', '0.15688048', '0.05168834', '0.24793877', '0.5603975', '0.0', '0.0', '1.0022014', '0.0', '0.95409876', '0.0', '0.0', '0.056151446', '0.0', '0.0', '1.6970018', '2.3716288', '1.2123944', '0.6853475', '0.0', '0.0', '0.0', '0.0', '0.0', '1.9940393', '2.3346608', '0.0', '0.40997323', '0.0', '0.0', '0.0', '0.2977408', '0.0', '0.47726658', '0.0', '0.0', '0.0', '1.0393512', '0.9022925', '0.0', '0.0', '2.7580664', '0.0', '0.0', '0.0', '0.0', '1.5154425', '0.15415789', '0.0', '0.0', '0.0', '0.0', '0.0', '0.35817936', '0.0', '0.0', '0.0', '0.5299239', '0.0', '0.0', '0.0', '0.0', '0.0', '0.0', '0.0', '0.0', '1.0206867', '0.0', '0.0', '0.0', '0.0', '3.0174494', '0.0', '2.2838707', '0.0', '0.7374484', '0.0', '0.0', '0.0', '1.808588', '3.3111165', '0.69485044', '0.0', '0.0', '2.7024326', '0.0', '0.059171062', '0.0', '1.4673097', '1.518723', '0.0', '0.30969527', '0.0', '2.769524', '0.04968772', '0.0', '0.0', '0.07181692', '0.0', '0.36128387', '0.0', '0.0', '0.56163746', '0.0', '0.0', '2.5808074', '0.0', '0.0', '0.0', '0.0', '2.017895', '0.0', '0.0', '0.0', '0.0', '0.0', '0.0', '0.0', '0.0', '0.0', '0.0', '0.0', '0.0', '0.3132607', '0.0', '0.94034386', '2.150856', '0.0', '0.0', '1.2799847', '0.74366695', '0.0', '0.0', '1.0809958', '0.0', '3.673526', '0.0', '1.5440257', '0.94783586', '1.6822599', '0.0', '0.0', '0.0', '0.3811329', '4.1064663', '0.0', '0.0', '0.0', '3.9052382', '0.0', '0.49060497', '0.0', '1.444727', '0.14190073', '0.0', '0.0', '0.0', '1.5139309', '0.9345621', '0.0', '0.0', '0.0', '0.06316147', '2.4746208', '0.0', '0.0', '0.0', '1.3817835', '0.0', '1.1549075', '0.0', '0.0', '0.0', '0.0', '2.3832228', '0.0', '0.0', '0.0', '0.0', '0.0', '0.0', '0.5912659', '0.0', '0.0', '0.0', '1.248792', '0.0', '0.0', '0.0', '0.0', '0.0', '0.0', '0.0', '3.9408102', '1.2373686', '1.0328728', '0.0', '0.0', '0.0', '2.7072442', '0.0', '0.20323835', '0.0', '1.0463396', '0.0', '2.1568868', '0.0', '1.5360322', '2.1103208', '1.1554328', '0.0', '0.0', '0.04188198', '0.57849455', '0.0', '0.0', '2.6332798', '2.3285518', '0.0', '0.0', '0.0', '1.5259886', '0.0', '0.0', '0.0', '0.0', '0.0', '1.8080305', '0.0', '0.0', '0.0', '0.0', '0.0', '1.2038345', '0.0', '0.0', '0.0', '0.0', '0.13759172', '0.0', '0.0', '0.0', '0.0', '0.0', '0.0', '0.17930216', '0.0', '0.0', '0.0', '1.4036632', '0.0', '0.0', '0.0', '0.0', '0.0', '0.0', '0.45815688', '0.0', '0.60312366', '1.628448', '0.0', '0.0', '0.0', '2.255995', '0.0', '0.0', '0.0', '1.1781421', '0.0', '1.2864616', '0.0', '0.77064586', '0.40948337', '0.6322196', '0.0', '0.0', '0.025796235', '1.728247', '0.0', '0.0', '0.8260582', '2.672483', '0.0', '0.0', '0.0', '3.1907468', '0.481281', '0.0', '0.0', '1.2314763', '0.0', '0.0', '0.0', '0.0', '0.0', '0.0', '1.7077463', '0.2508528', '0.0', '0.0', '0.0', '0.0', '0.2815959', '0.0', '0.0', '0.0', '0.6038354', '0.8369028', '0.0', '0.0', '0.0', '3.2520263', '0.0', '1.2996316', '0.0', '0.0', '0.0', '0.0', '0.0', '0.95318115', '0.0', '0.0', '0.0', '0.24874882', '0.0', '0.0', '0.0', '0.0', '0.0', '0.0', '0.0', '3.0398526', '0.0', '0.3767805', '0.0', '0.0', '0.0', '0.95580524', '0.0', '0.0', '0.0', '0.0', '1.5375721', '0.0', '0.0', '1.2478613', '0.0', '0.0', '0.0', '4.360582', '2.144511', '0.0', '0.0', '1.4291089', '0.0', '0.0', '0.0', '0.0', '0.0', '0.2919145', '1.8665657', '0.6054912', '0.0', '0.0', '0.0', '0.0', '2.0097103', '0.0', '0.0', '0.0', '2.4614646', '0.0', '0.0', '0.0', '0.0', '0.29690012', '0.0', '0.0', '0.0', '0.3151211', '0.0', '0.3267221', '0.0', '0.0', '0.0', '0.3518945', '0.0', '0.0', '0.0', '0.0', '0.0', '0.0', '0.0', '0.119706616', '0.0', '1.3557037', '0.0', '0.80780435', '0.0', '0.21386352', '0.9073697', '1.0296123', '0.0', '0.0', '0.19474018', '0.0', '0.0', '0.0', '0.0', '3.9165049', '0.0', '0.97391385', '0.0', '1.1794734', '0.0', '0.0', '0.0', '0.0', '0.0', '0.0', '0.0', '0.0', '1.3478789', '0.18111269', '0.0', '0.0', '0.0', '0.0', '0.0', '0.0', '0.0', '0.91496223', '0.0', '0.0', '0.0', '0.0', '0.0', '1.1596984', '0.0', '0.0', '0.0', '0.0', '0.0', '0.0', '0.0', '2.027513', '0.0', '0.114312604', '0.0', '0.0', '0.23760611', '0.119965605', '0.0', '0.0', '0.0', '0.19839123', '0.0', '1.2914742', '0.0', '1.7565242', '0.0', '2.1534116', '0.0', '0.0', '0.3619101', '0.0', '0.0', '0.0', '1.667088', '0.0', '0.6581277', '0.0', '0.0', '1.2938461', '0.0', '0.28464288', '0.0', '2.177606', '2.4406865', '0.0', '0.0', '0.0', '0.0', '0.0', '0.0', '0.0', '0.48287272', '0.92940634', '0.6166454', '0.0', '0.0', '0.0', '0.0', '0.0', '0.0', '1.7739097', '0.0', '0.0', '0.16775022', '0.0', '0.0', '0.069421366', '0.0', '0.0', '0.0', '0.0', '0.0', '1.2349987', '0.0', '1.170628', '0.0', '0.40371275', '0.0', '0.0', '0.0', '0.0', '0.11825508', '0.0', '0.0', '0.0', '0.0', '0.28671002', '0.0', '1.75265', '0.6360263', '1.2270865', '0.0', '0.0', '0.0', '0.0', '2.5620155', '0.0', '1.4499491', '0.0', '1.4662396', '0.0', '0.0', '0.0', '1.002146', '0.0', '0.0', '1.1189096', '2.3934948', '0.3020159', '0.0', '0.0', '0.0', '0.0', '0.0', '0.021123543', '0.0', '1.572271', '2.8596072', '0.01559785', '0.0', '0.0', '0.0', '0.0', '0.49332947', '0.9066718', '0.0', '0.0', '1.2771114', '0.0', '0.17705804', '0.0', '0.0', '0.0', '0.0', '0.0126374215', '0.0', '0.0', '0.0', '0.0', '2.1083562', '0.0', '0.0', '2.1584413', '0.0', '0.022571644', '0.0', '0.0', '0.0', '0.5323641', '0.0', '1.3721855', '0.0', '0.9212441', '0.0', '1.305857', '0.0', '0.45916033', '0.0', '0.24310261', '0.0', '0.0', '0.26692158', '0.0', '0.0', '0.0', '0.0', '1.0317234', '0.0', '0.0', '0.0', '1.7816043', '1.4747818', '0.0', '0.0', '0.0', '0.0', '2.0418081', '0.0', '0.0', '0.34921294', '0.0036217459', '0.0', '0.41757542', '0.0', '0.0', '0.0', '0.0', '0.8552417', '0.0', '0.0', '0.0', '0.0', '0.0', '0.0', '1.5202516', '0.0', '0.0', '0.0', '0.0', '0.0', '0.0', '0.0', '1.688843', '0.0', '0.6737705', '0.37558118', '0.0', '0.40043396', '0.55751765', '0.0', '0.0', '0.0', '0.5666309', '0.0', '1.236994', '0.0', '0.8265415', '0.0', '1.853622', '0.0', '0.5092147', '0.0', '0.44687387', '0.0', '0.0', '0.5543965', '0.0', '0.33726308', '0.0', '0.0', '1.3507426', '0.0', '0.0', '0.0', '1.4499953', '1.5036632', '0.0', '0.0', '0.0', '0.0', '2.0874813', '0.0', '0.0', '0.0', '0.026054818', '1.467827', '0.023515258', '0.0', '0.0', '0.0', '0.0', '0.0', '0.0', '0.0', '0.0', '0.0', '0.0', '0.0', '0.14091572', '0.0', '0.0', '0.0', '0.0', '0.0', '0.018111281', '0.0', '2.1561558', '0.28342402', '0.22465226', '0.5194089', '0.0', '0.0', '0.0', '0.0', '0.0', '0.0', '0.0', '0.0', '0.0', '0.0', '1.319963', '0.27042532', '0.9086161', '0.0', '0.0', '0.0', '0.0', '0.30899036', '0.0', '0.04213739', '0.0', '0.95703846', '0.0', '0.0', '0.0', '0.9492061', '0.0', '0.0', '0.20745017', '1.2792007', '0.6797049', '0.32775816', '0.0', '0.0', '1.5726566', '0.0', '0.41145444', '0.0', '1.1890117', '1.8137614', '0.23345336', '0.0', '0.0', '0.0', '0.43708915', '0.0', '0.0', '0.0', '0.0', '0.63206106', '0.0', '0.0', '0.0', '1.1454198', '0.0', '0.09678401', '0.0', '0.0', '0.0', '0.0', '0.20783198', '0.0', '1.2183074', '0.0', '1.2945735', '0.0', '0.105940245', '0.0', '0.0037242752', '0.0', '0.0', '0.0', '0.0', '0.0', '0.89724606', '0.0', '1.1187636', '0.0', '0.0054676607', '0.0', '0.0', '0.0', '0.42506295', '0.0', '0.0', '0.49842033', '0.0', '0.0', '1.0652463', '0.19693172', '0.6351528', '0.0', '0.5696138', '0.41168916', '0.0', '0.39310068', '0.0', '0.0', '0.7011083', '0.0', '0.0', '0.6096542', '0.0', '0.0', '0.0684541', '0.8548309', '0.0', '0.0', '0.0', '0.0', '0.0', '0.5700129', '0.0', '0.0', '0.0', '0.0', '0.0', '0.0', '0.0', '0.0', '0.0', '0.0', '0.0', '0.0', '2.3795836', '0.0', '1.7042804', '0.0', '0.0', '0.0', '1.5270215', '1.0342548', '0.97024274', '0.0', '0.03906604', '0.0', '0.0', '0.0', '0.5262702', '0.0', '1.4018999', '0.0', '1.3004317', '0.0', '0.0', '0.0', '0.21385211', '0.0', '0.45733178', '0.0', '0.0', '0.0', '2.0596857', '0.7969595', '0.0', '0.0', '0.47479635', '0.0', '0.0', '1.787436', '0.0', '0.0', '0.17703825', '0.2372491', '0.13229427', '0.0', '0.0', '1.0836784', '0.0', '0.0', '0.0', '0.0', '0.2614576', '0.0', '0.649304', '0.0', '0.0', '0.0', '0.27291718', '0.0', '0.0', '0.0', '1.3092045', '0.0', '0.1929035', '0.0', '0.0', '0.0', '1.4199322', '0.0', '0.87630635', '0.0', '0.0', '0.106536716', '0.0', '0.10482782', '0.12093133', '0.0', '0.7232186', '0.0', '0.0', '0.0', '1.259945', '0.0', '0.03560055', '0.0', '0.0', '0.0', '0.0', '0.4181911', '0.0', '0.0', '0.7186847', '0.45301372', '0.0', '0.0', '0.0', '2.011452', '0.058432616', '0.0', '1.2436417', '0.5257957', '0.303391', '0.5090865', '0.0', '0.0', '0.0', '0.40804508', '0.52014583', '0.0', '1.4822888', '0.5952736', '0.6014097', '0.0', '0.0', '0.0', '1.1159806', '0.0', '0.0', '0.0', '0.0', '1.220746', '0.0', '0.0', '0.0', '0.0', '1.445588', '0.0', '0.3603928', '0.0', '0.25777566', '0.0', '0.22843206', '0.0', '0.0', '0.0', '0.0', '0.09348521', '0.11877189', '0.0', '0.0', '0.0', '0.0', '0.0', '0.0', '0.0', '1.237004', '0.0', '0.6816641', '0.0', '0.7911628', '0.0', '0.38506135', '0.2537131', '0.0', '0.0', '0.098389', '0.61124325', '0.0', '0.26029968', '4.157017', '0.0', '1.2267317', '0.0', '1.9302868', '0.07456044', '0.3066329', '0.0', '0.0', '0.0', '0.0', '0.0', '0.0', '0.8643908', '0.0', '0.0', '0.0', '0.0', '0.0', '0.0', '0.0', '0.0', '0.3133188', '0.0', '0.63508534', '0.55083174', '0.0', '0.21204054', '0.8245754', '0.0', '0.0', '0.0', '0.0', '0.0', '0.47783333', '0.0', '1.8417959', '0.0', '1.004242', '0.0', '8.03275e-05', '0.5074265', '0.0', '0.0', '0.0', '0.0', '0.0', '0.0', '0.5583353', '0.0', '1.6453401', '0.0', '1.642078', '0.0', '0.13764355', '0.0', '0.0', '0.0', '0.0', '0.7630637', '0.0', '1.5926231', '0.0', '0.0', '2.3197308', '0.0', '1.6803602', '0.0', '2.149075', '1.8983116', '0.0', '0.0', '0.0', '0.0', '0.0', '0.0', '0.0', '0.0', '0.27686757', '0.24171248', '0.0', '0.0', '0.0', '0.0', '0.0', '0.13340887', '1.401009', '0.0', '1.1079429', '0.0', '0.0', '0.0', '0.0', '0.0', '0.0', '0.0', '0.0', '0.0', '1.2268672', '0.0', '1.0940264', '0.0', '1.5198249', '0.0', '0.0', '0.0', '0.0', '0.0', '0.0', '0.0', '0.0', '0.0', '0.0', '0.0', '1.7440393', '1.1595728', '0.0', '0.0', '0.0', '0.25681886', '0.0', '1.9567703', '0.0', '1.9371574', '0.0', '1.6582494', '0.0', '0.0', '0.33871865', '0.7389134', '0.6493787', '0.0', '0.9673118', '2.053665', '0.31192195', '0.40889823', '0.0', '0.0', '0.0', '0.0', '0.0', '0.0', '1.2326823', '2.951271', '0.0', '0.0', '0.0', '0.0', '0.0', '0.6346283', '0.8410039', '0.0', '0.0', '1.0692497', '0.0', '0.569098', '0.0', '0.0', '0.0', '0.0', '0.30979782', '0.0', '0.0', '0.0', '0.0', '2.5101516', '0.0', '0.0', '0.69271916', '0.0', '0.1972393', '0.0', '0.0', '0.0', '0.021535607', '0.0', '0.662511', '0.0', '0.7216608', '0.0', '1.3796535', '0.0', '0.882414', '0.84367186', '0.8338863', '0.0', '0.0', '0.08143624', '0.0', '0.0', '0.0', '0.0', '0.78247774', '0.0', '0.0', '0.0', '1.0344918', '0.8658899', '0.0', '0.0', '0.0', '0.0', '0.9772285', '0.0', '0.14236997', '0.0', '0.14283419', '0.0', '0.91534746', '0.0', '0.0', '0.0', '0.0', '0.80697733', '0.0', '0.0', '0.0', '0.0', '0.0', '0.0', '1.2101089', '0.0', '0.0', '0.0', '0.0', '0.0', '0.0', '0.0', '1.5478406', '0.5400561', '0.0', '0.0', '0.0', '0.023362022', '0.5798483', '0.0', '0.0', '0.0', '0.08744028', '0.0', '0.99716777', '0.0', '1.0373497', '0.0', '2.1230192', '0.0', '0.21591437', '0.0', '0.3722163', '0.0', '0.0', '0.62617075', '0.0', '0.0', '0.0', '0.0', '0.0', '0.0', '0.0', '0.0', '1.1417325', '1.2542253', '0.0', '0.0', '0.0', '0.0', '1.4186522', '0.0', '0.553903', '0.0', '0.39096135', '0.80662876', '0.77746814', '0.0', '0.0', '0.0', '0.0', '0.0', '0.0', '0.0', '0.0', '0.0', '0.0', '0.0', '0.08276161', '0.0', '0.0', '0.0', '0.0', '0.0', '0.09650256', '0.0', '1.2072889', '0.0', '0.0', '0.8507652', '0.0', '0.0', '0.0', '0.0', '0.0', '0.0', '0.0', '0.0', '0.0', '0.0', '1.2587191', '0.20404111', '0.70301956', '0.0', '0.0', '0.0', '0.0', '1.1976484', '0.0', '0.2716469', '0.0', '0.5257896', '0.0', '0.0', '0.0', '0.25712252', '0.0', '0.0', '0.25923532', '1.2517685', '0.7331237', '0.0', '0.0', '0.0', '0.72372746', '0.0', '0.57409567', '0.0', '0.93782836', '2.1012702', '0.9693159', '0.0', '0.0', '0.0', '0.4324445', '0.0', '0.0', '0.0', '0.0', '0.82088095', '0.0', '0.0', '0.0', '0.040572606', '0.0', '0.0', '0.0', '0.0', '0.0', '0.0', '0.8908371', '0.13677499', '1.4039712', '0.0', '1.745098', '0.0', '0.04932811', '0.0', '0.049458325', '0.0', '0.0', '0.0', '0.06607939', '0.0', '1.0147905', '0.12248373', '1.458214', '0.0', '0.17766047', '0.0', '0.0', '0.0', '0.8262567', '0.0', '0.0', '1.1471399', '0.0', '0.0', '1.4299307', '0.42666498', '0.6007741', '0.0', '1.1526769', '0.64902145', '0.0', '0.17304677', '0.0', '0.0', '1.3625702', '0.0', '0.0', '1.2009182', '0.0', '0.0', '0.0', '0.95291966', '0.0', '0.0', '0.0', '0.0', '0.0', '0.400039', '0.0', '0.0', '0.0', '0.0', '0.40252048', '0.0', '0.0', '0.0', '0.0', '0.24380237', '0.0', '0.0', '2.429185', '0.0', '1.8903848', '0.0', '0.0', '0.0', '1.4481224', '1.459545', '1.0976634', '0.0', '0.0', '0.0', '0.0', '0.0', '0.20559047', '0.0', '1.5269265', '0.0', '0.346304', '0.0', '0.25164315', '0.0', '0.64036536', '0.0', '0.34469098', '0.0', '0.0', '0.0', '2.2395682', '1.0987608', '0.0', '0.0', '0.15942', '0.0', '0.0', '1.1894637', '0.0', '0.11226047', '1.0463783', '0.5568028', '0.0', '0.0', '0.0', '1.818354', '0.0', '0.21686637', '0.0', '0.0', '0.48954037', '0.0', '0.0', '0.0', '0.0', '0.22830944', '0.6186994', '0.0', '0.0', '0.0', '0.46985734', '0.0', '0.0', '0.0', '0.23076618', '0.0', '1.625993', '0.0', '0.59242266', '0.0', '0.0', '0.17540863', '0.0', '0.057400078', '0.5603068', '0.0', '0.27808872', '0.0', '0.0', '0.0', '1.1248964', '0.022536691', '0.0', '0.0', '0.0', '0.19351353', '0.0', '0.63983136', '0.0', '0.0', '0.19786346', '0.7994403', '0.0', '0.0', '0.0', '2.5086293', '0.0', '0.0', '0.70026666', '0.6012213', '0.8445372', '0.5124898', '0.0', '0.0', '0.0', '1.0184414', '0.24236882', '0.0', '1.9365958', '0.81523055', '0.0', '0.0', '0.0', '0.0', '0.90631133', '0.0', '0.0', '0.0', '0.0', '0.8175826', '0.0', '0.30071944', '0.0', '0.0', '0.0', '0.3667772', '0.0', '1.1777987', '1.9349667', '0.0', '0.13064939', '0.4906632', '0.0', '0.20645332', '1.1339742', '0.46753407', '0.0', '0.0', '0.0', '0.0', '0.0', '0.0', '2.4869857', '0.0', '0.23050396', '0.46870232', '0.0', '0.376201', '0.0', '0.74586457', '0.46558967', '2.0458267', '0.0', '0.016312063', '0.0', '0.0', '0.0', '0.24582908', '1.6848515', '0.0', '0.0', '1.0251118', '0.042966142', '0.0', '0.0', '0.1340408', '0.0', '0.0', '0.0', '0.18286702', '0.0', '0.0', '1.996327', '0.0', '0.0', '0.0', '0.0', '0.0', '0.0', '0.0', '0.80347127', '0.0', '0.0', '0.23603119', '0.30323628', '0.0', '1.7570419', '0.0', '0.0', '0.4694257', '0.0', '0.0', '0.6622548', '0.0', '0.0', '0.0', '0.0', '0.69336', '0.0', '0.14100812', '0.0', '0.0', '0.0', '0.0', '1.4918227', '0.0', '1.5494369', '0.0', '0.73455054', '0.0', '0.4599028', '0.0', '0.0', '0.0', '0.0', '2.2933056', '0.0', '2.301982', '0.0', '0.0', '0.0', '0.0', '0.7639947', '0.0', '0.0', '0.0', '0.98215455', '1.6607941', '0.0', '0.0', '0.0', '0.0', '0.0', '0.0', '0.14629841', '0.0', '2.224926', '0.9354655', '0.0', '0.0', '0.0', '0.0', '0.0', '0.0', '1.621877', '0.0', '0.33903527', '0.0', '0.0', '0.0', '1.2512567', '0.0', '0.0', '0.0', '0.0', '0.0', '0.0', '0.0', '0.0653038', '0.0', '0.54294044', '0.18023549', '0.0', '0.0', '0.0', '0.0', '0.0', '0.0', '0.99999434', '0.0', '0.95446944', '0.0', '1.5844039', '0.0', '0.0', '0.0', '0.0', '0.0', '0.0', '1.4456743', '0.0', '2.6385608', '0.0', '0.8452027', '0.0', '0.0', '0.7809776', '0.0', '0.0', '0.0', '0.7556521', '2.3318448', '0.0038954802', '0.0', '0.014444131', '0.0', '2.0304296', '0.0', '0.19603139', '0.0', '1.8128417', '2.92224', '0.399743', '0.0', '0.0', '0.0', '0.0', '0.0', '1.1895386', '0.0', '0.0', '0.68804353', '0.0', '0.0', '0.0', '0.0', '0.0', '2.0934207', '0.0', '0.85608846', '0.0', '0.0', '0.58546567', '1.3685333', '0.0', '0.0', '0.0', '1.2177986', '0.0', '0.0', '0.0', '0.0', '1.6821848', '0.0', '0.47429734', '0.0', '0.0', '0.0', '0.0', '0.0', '0.0', '0.0', '0.0', '0.5066115', '1.3396809', '0.0', '0.0', '0.0', '0.0', '0.0', '0.0', '0.1780653', '0.0', '1.4114336', '0.0', '0.2585188', '0.0', '0.0', '0.0', '0.8490205', '4.0507655', '0.0', '0.0', '0.0', '0.45982757', '0.0', '1.3191736', '1.4169343', '0.0', '0.0', '0.0', '0.0', '0.0', '0.0', '0.0', '0.53934443', '0.0', '0.0', '0.0', '3.0830884', '0.0', '1.9819044', '1.4227815', '0.0', '0.0', '0.0', '0.07197566', '1.591633', '2.1569908', '0.5804447', '0.0', '1.1294565', '0.87227523', '0.0', '0.0', '0.0', '3.5183704', '0.0', '1.5301341', '0.0', '0.0', '0.0', '0.9404344', '0.0', '2.7112658', '0.0', '0.0', '0.0', '1.4040256', '0.0', '0.20758498', '0.0', '0.0', '0.0', '0.0', '0.0', '0.0', '0.02288396', '0.0', '0.0', '0.0', '0.0', '0.0', '0.0', '3.1095843', '0.0', '0.0', '0.0', '0.5492629', '0.0', '0.5062369', '0.46969387', '0.0', '0.0', '0.0', '0.0', '0.0', '0.0', '2.5162587', '0.0', '0.0', '0.0', '0.2730053', '0.10590639', '0.9865494', '0.09878962', '0.0', '0.0', '0.0', '0.0', '1.512457', '0.41295215', '1.5902935', '0.0', '0.0', '0.15681835', '0.0', '0.0', '0.52415895', '0.0', '2.016981', '0.0', '0.68229216', '0.0', '0.89275986', '0.0', '0.22198738', '0.0', '1.2912806', '0.0', '0.0', '0.0', '0.43253213', '0.28141946', '0.4690511', '0.0', '0.0', '0.0', '0.0', '0.0', '0.38017145', '0.0', '0.62576747', '1.1418134', '0.4802079', '0.49752063', '0.0', '0.0', '0.40554896', '0.0', '0.0', '0.0', '0.8629954', '1.5992087', '0.70289', '0.0', '0.0', '0.0', '0.0', '0.0', '0.0', '0.0', '0.0', '0.0', '0.0', '0.0', '0.0', '0.0', '0.0', '1.2048085', '0.7479441', '2.1325827', '0.0', '0.0', '1.2354549', '0.0', '1.1711664', '0.0911103', '0.0', '0.0', '0.0', '1.1019064', '1.1642859', '0.0', '1.7461108', '0.0', '0.0', '0.0', '0.5944236', '0.0', '0.0', '0.0', '0.0', '0.0', '0.0', '1.7971222', '0.9477111', '0.0', '0.0', '0.0', '0.0', '0.4561699', '1.3895835', '0.8798171', '0.0', '1.6503037', '1.3640136', '0.0', '0.65574557', '0.0', '0.0', '0.0', '2.9472408', '0.0', '0.0', '0.0', '0.0', '0.022720445', '0.0', '0.0', '0.0', '0.0', '1.9244471', '0.0', '0.0', '0.0', '0.0', '1.0498716', '0.0', '0.8951733', '0.0', '1.5325838', '0.0', '0.0', '2.7085626', '0.79894966', '0.0', '0.0', '0.0', '0.0', '3.6490147', '0.0', '0.0', '0.6320911', '2.8146281', '0.44115317', '0.21228784', '0.0', '3.1022565', '0.0', '0.0', '0.9058402', '0.0', '0.0', '0.0', '0.0', '2.5020478', '0.0', '0.0', '0.0', '2.0825114', '0.0', '0.5098043', '0.0', '0.0', '0.72768444', '1.2291187', '0.46544075', '0.36343196', '0.0', '0.6667759', '0.0', '0.03465155', '0.73064864', '0.5292006', '0.0', '0.0', '0.0', '0.0', '0.0', '0.0', '0.0', '0.0', '0.0', '0.0', '0.0', '0.0', '0.0', '0.0', '1.5757641', '1.4840533', '0.0', '0.0', '0.0', '0.0', '0.0', '3.576143', '0.0', '1.7245705', '0.0', '0.0', '0.0', '0.0', '0.3818142', '2.470006', '0.0', '0.0', '0.28568557', '1.2653604', '0.0', '0.5288035', '0.0', '0.6387687', '0.0', '0.0', '0.0', '0.9461065', '0.0', '0.0', '0.0', '1.1664234', '0.0', '0.0', '0.0', '0.0', '0.0', '0.70944124', '0.044304352', '0.0', '0.0', '0.62783855', '0.51460373', '0.84431475', '0.0', '1.202253', '0.0', '0.2875453', '0.62956554', '0.86484396', '0.0', '0.0', '0.0', '0.042111818', '0.0', '0.0', '0.3112688', '0.5949442', '0.0', '0.0', '0.0', '0.0', '0.0', '0.0', '0.0', '0.0', '0.46313578', '0.0', '0.0', '0.0', '0.0', '0.0', '0.0', '0.04318227', '0.0', '0.0', '0.0', '0.0', '0.0', '0.0', '0.0', '1.6170897', '0.35809293', '0.46239534', '0.14200668', '0.0', '0.0', '0.0', '0.0', '0.2178245', '0.0', '0.42169207', '0.0', '0.5687225', '0.0', '0.5191543', '3.6514115', '2.0930445', '0.0', '0.0', '1.1902213', '0.0', '0.0', '0.0', '1.8757958', '3.9028344', '0.0', '0.0', '0.0', '0.5592614', '0.0', '0.0', '0.0', '0.0', '0.0', '0.0', '0.0', '0.14565006', '0.30470434', '0.0', '0.0', '0.70021945', '0.0', '0.0', '0.0', '0.0', '0.0', '0.63875884', '0.0', '0.0', '0.0', '0.0', '0.0', '1.5551528', '0.0', '0.0', '0.0', '0.22776993', '0.0', '0.065398216', '0.0', '0.0', '0.0', '0.0', '0.0', '0.0', '0.37296775', '0.5246594', '0.0', '0.0', '0.0', '1.3131768', '0.0', '0.0', '0.0', '1.4616735', '0.0', '0.0', '0.0', '0.0', '4.1209254', '1.2467073', '0.15416303', '0.0', '3.86733', '0.0', '0.0', '0.0', '0.35817614', '1.9808954', '0.0', '0.0', '0.0', '3.0923245', '1.3458225', '0.0', '0.0', '0.86953735', '0.0', '0.0', '0.0', '0.0', '0.0', '0.20911829', '0.23281267', '1.3275006', '0.0', '0.0', '0.0', '0.0', '1.5458287', '1.3447195', '0.0', '0.0', '0.23707543', '0.0', '0.0', '0.8245168', '0.0', '0.0', '0.0', '0.0', '0.0', '0.0', '0.0', '0.0', '0.0', '0.60141134', '0.0', '0.0', '0.25808296', '0.0', '0.09825677', '0.0', '0.0', '1.1644312', '0.0', '0.0', '0.0', '1.9161121', '0.0', '0.0', '0.0', '0.0', '2.119463', '0.33494642', '0.7705746', '0.0', '4.3745685', '0.0', '1.2831118', '0.0', '0.0', '0.34951591', '0.0', '0.08965386', '0.0', '3.082336', '2.720897', '0.0', '0.0', '3.1791618', '0.0', '0.0', '0.0', '0.0', '0.0', '1.6897956', '1.5647185', '1.469512', '0.0', '0.0', '0.0', '0.0', '2.6174538', '1.546665', '0.0', '0.0', '2.0451589', '0.0', '0.0', '0.0', '0.0', '0.0', '0.0', '0.0', '0.0', '0.0', '0.0', '0.0', '1.4205165', '0.0', '0.0', '1.4419528', '0.0', '0.2861618', '0.0', '0.0', '0.0', '0.0', '0.0', '1.3218504', '0.0', '0.23770072', '0.0', '2.747838', '0.19271956', '1.1514281', '1.4703768', '0.0', '0.0', '0.0', '1.054959', '0.49287862', '0.0', '0.0', '1.0595496', '0.8330972', '0.0', '0.0', '0.0', '1.4919323', '0.42921695', '0.0', '0.0', '0.0', '0.0', '0.0', '0.0', '0.0', '0.0', '0.0', '0.0', '0.0', '0.0', '0.0', '0.0', '0.0', '0.31427535', '0.0', '0.6157363', '0.0', '0.0', '1.1138604', '0.0', '0.33416587', '0.0', '0.0', '0.0', '0.27446592', '0.0', '0.0', '0.0', '0.0', '0.33705935', '0.0', '0.0', '0.6940806', '0.0', '1.3206515', '0.48883116', '0.0', '0.0', '0.0', '0.0', '0.0', '0.0', '0.0', '0.19212925', '3.1480877', '0.0', '0.0', '0.0', '0.22682735', '0.0', '0.0', '0.47372916', '0.28120637', '0.0', '0.0', '0.24358797', '1.3734782', '0.0', '0.0', '0.36313534', '2.155866', '1.0318708', '0.0', '0.0', '2.4340465', '0.0', '0.0', '0.0', '0.0', '0.0', '0.0', '0.91928303', '0.0', '0.0', '0.0', '0.0', '0.0', '0.43902975', '0.0', '0.0', '0.0', '1.0978518', '0.7967057', '0.0', '0.15301454', '0.0', '0.76831883', '0.0', '0.44264245', '0.0', '0.033241987', '0.0', '0.0', '0.0', '2.2934177', '0.0', '1.2606171', '0.0', '0.47705355', '0.0', '0.0', '0.0', '0.0', '0.0', '0.0', '0.0', '1.1473192', '0.0', '3.4513142', '0.0', '0.0', '0.0', '0.27368945', '0.0', '0.0', '0.0', '1.2665447', '0.75163025', '0.0', '0.0', '1.2692599', '0.0', '0.0', '0.0', '2.4487894', '0.867803', '1.1398441', '0.0', '0.54399645', '0.0', '0.0', '0.0', '0.0', '0.0', '0.0', '1.293353', '0.0', '0.0', '0.0', '0.0', '0.3999009', '0.0', '0.0', '0.0', '0.0', '1.25173', '0.0', '0.0', '0.0', '0.0', '0.0', '0.0', '0.0', '2.4421012', '0.3729518', '0.0', '1.3736238', '0.0', '0.0', '0.0', '0.0', '0.0', '1.1658479', '2.2021444', '0.0', '0.0', '0.0', '0.0', '0.0', '0.0', '0.1844026', '0.5829182', '1.5812421', '2.045674', '0.0', '0.0', '0.64959484', '0.045904674', '0.0', '0.0', '0.85760385', '0.0', '0.0', '2.340035', '2.315824', '1.3250521', '0.0', '1.8361669', '0.0', '0.0', '2.3705606', '0.0', '0.0', '0.0', '0.0', '3.3033817', '0.0', '0.0', '0.0', '0.0', '0.0', '0.0', '0.0', '0.0', '1.3502215', '0.0', '0.0', '0.0', '0.0', '0.1837527', '1.7611698', '0.0', '0.0', '0.0', '0.0', '0.0', '0.0', '1.6314635', '0.96777844', '0.0', '0.0', '0.0', '0.0', '0.0', '2.7630246', '0.2746612', '0.77379036', '2.3477535', '0.8987163', '0.0', '0.0', '0.0', '0.0', '0.0', '0.67107195', '0.046597417', '0.17371872', '3.3706408', '0.0', '0.51462126', '1.7568698', '0.5203781', '0.0', '0.0', '0.0', '0.0', '0.0', '2.2355976', '2.127119', '0.0', '0.0', '2.8059433', '0.0', '0.0', '2.4845786', '0.0', '0.0', '0.0', '0.0', '1.6567078', '0.33366', '0.0', '0.0', '0.34915352', '0.0', '0.0', '0.0', '0.0', '1.3883744', '0.0', '0.0', '0.7846946', '0.0', '0.33149427', '0.0', '1.0516701', '0.0', '0.0', '0.0', '0.0', '0.0', '0.0', '0.0', '0.0', '0.0', '0.31392995', '0.37457553', '0.0', '2.84634', '0.7677107', '0.0', '1.420667', '1.2808497', '0.0', '0.0', '0.0', '0.0', '0.0', '1.3094822', '0.0', '0.6648019', '1.3952886', '0.0', '0.76193553', '0.6577977', '0.0', '0.0', '0.0024040346', '0.0', '0.0', '0.0', '1.9064775', '0.0', '0.0', '0.0', '0.830893', '0.0', '0.0', '1.5594964', '0.0', '0.2622012', '0.0', '0.0', '0.0', '0.6474766', '0.0', '0.5400493', '0.5427919', '0.0', '0.0', '0.0', '0.0', '0.46093038', '0.5614687', '0.0', '2.6941814', '0.0', '0.0', '0.0', '0.76589763', '0.0', '0.0', '0.0', '0.0', '0.07838643', '0.0', '0.0', '0.0', '0.0', '0.0', '0.0', '0.0', '1.5548433', '0.17392276', '0.66210485', '0.28988707', '0.0', '0.0', '0.0', '0.0', '0.14897962', '0.0', '0.066498764', '0.0', '0.20082603', '0.0', '0.41159958', '2.5776873', '1.3376739', '0.0', '0.0', '0.5436608', '0.25522688', '0.0', '0.0', '1.4778972', '2.6611753', '0.0', '0.0', '0.0', '0.0', '0.0', '0.0', '0.0', '0.0', '0.0', '0.0', '0.0', '0.097008616', '0.0', '0.0', '0.0', '0.29193002', '0.0', '0.0', '0.0', '0.0', '0.0', '0.40776688', '0.02598691', '0.40526718', '0.0', '0.0', '0.0', '1.216234', '0.0', '0.0', '0.0', '0.49000233', '0.0', '0.0', '0.0', '0.0', '0.0', '0.0', '0.0', '0.0', '0.105717584', '0.30687687', '0.0', '0.0', '0.0', '0.8641269', '0.0', '0.0', '0.0', '0.7679182', '0.0', '0.96535283', '0.0', '0.27145386', '3.110899', '1.1240778', '0.0', '0.55428743', '2.6494687', '0.0', '0.0', '0.0', '0.53009003', '1.1829997', '0.0', '0.0', '0.0', '2.0053618', '0.52310395', '0.0', '0.0', '0.6169032', '0.0', '0.0', '0.0', '0.0', '0.0', '0.0', '0.0827785', '0.9224122', '0.0', '0.0', '0.0', '0.0', '0.29719317', '0.5437293', '0.47678626', '0.0', '0.0', '0.0', '0.8916616', '0.7150166', '0.0', '0.31795883', '0.0', '0.6045977', '0.0', '0.0', '0.0', '0.0', '0.7788739', '1.5316631', '0.0', '0.0', '0.3421342', '0.0', '0.0', '0.0', '0.0', '0.5536039', '0.0', '0.0', '0.0', '1.8215548', '0.0', '0.0', '0.0', '0.0', '1.564469', '0.5788742', '0.0', '0.33162034', '2.6439855', '0.0', '0.6768282', '0.0', '0.0', '0.016288977', '0.0', '0.0', '0.0', '2.797871', '1.6605185', '0.0', '0.0', '2.7661314', '0.0', '0.0', '0.0', '0.0', '0.0', '1.1406609', '0.25080472', '1.4432449', '0.0', '0.0', '0.0', '0.0', '1.6346078', '0.13848495', '0.0', '0.0', '1.7894132', '0.0', '0.43484458', '0.0', '0.0', '0.0', '0.0', '0.0', '0.0', '0.0', '0.0', '0.0', '0.7320338', '0.0', '0.0', '0.75520134', '0.0', '0.2531989', '0.14598647', '0.0', '0.0', '0.0', '0.0', '1.131159', '0.0036918633', '0.022032173', '0.0', '2.498458', '0.4270434', '1.621153', '1.0481842', '0.0', '0.0', '0.0', '0.28595585', '0.81523883', '0.0', '0.0', '0.93446076', '0.7749591', '0.0', '0.0', '0.0', '0.4587586', '0.0', '0.0', '0.0', '0.0', '0.0', '0.0', '0.58731246', '0.0', '0.0', '0.0', '0.0', '0.0', '0.0', '0.0', '0.0', '0.0', '0.0', '0.0', '1.2343872', '0.0', '0.0', '0.9705543', '0.0', '0.15537593', '0.0', '0.0', '0.0', '0.0', '0.0', '0.0', '0.0', '0.0', '0.3005881', '0.0', '0.0', '0.96192336', '0.0', '0.71271646', '0.5876681', '0.0', '0.0', '0.0', '0.0', '0.0', '0.0', '0.0', '1.1370267', '2.543775', '0.85903114', '0.0', '0.0', '0.23832908', '0.11098186', '0.0', '0.0', '0.2394034', '0.0', '0.0', '0.49389952', '1.860493', '0.0', '0.0', '1.3883487', '1.075194', '0.23022828', '0.0', '0.0', '1.6928915', '0.0', '0.0', '1.6229463', '0.0', '0.0', '0.0', '0.49381968', '0.0', '0.0', '0.0', '0.0', '0.057809882', '0.0', '0.0', '1.3475603', '0.0', '0.86715287', '0.7484724', '0.0', '0.17320642', '0.0', '0.93122256', '0.0', '0.010789409', '0.0', '0.0', '0.0', '0.0', '0.0', '2.46141', '0.0', '1.3008455', '0.0', '0.22115174', '0.0', '0.0', '0.0', '0.0', '0.0', '0.0', '0.0', '1.154911', '0.24537784', '2.4866111', '0.0', '0.0', '0.0', '0.42118075', '0.0', '0.0', '0.0', '0.7896297', '0.50785124', '0.0', '0.0', '1.6870209', '0.0', '0.0', '0.0', '1.590826', '0.6081029', '1.0288309', '0.0', '0.6671453', '0.0', '0.0', '0.0', '0.10704315', '0.0', '0.0', '0.92733955', '0.0', '0.0', '0.0', '0.0', '0.88381225', '0.0', '0.0', '0.5046011', '0.0', '1.2706121', '0.0', '0.0', '0.0', '0.0', '0.0', '0.0', '0.0', '3.0311947', '0.009911076', '0.0', '2.1810713', '0.0', '0.0', '0.24765323', '0.0', '0.0', '1.1707942', '2.9367518', '0.003443284', '0.0', '0.0', '0.0', '0.0', '0.0', '0.0', '0.0', '0.8813574', '1.4081147', '0.0', '0.0', '0.08471208', '0.13830271', '0.0', '0.0', '1.3472382', '0.0', '0.0', '2.1046653', '2.995079', '0.5799483', '0.0', '1.394022', '0.0', '0.0', '2.1827545', '0.4247229', '0.0', '0.0', '0.0', '2.757361', '0.0', '0.0', '0.0', '0.0', '0.0', '0.0', '0.0', '0.0', '1.2789218', '0.0', '0.09642421', '0.0', '0.0', '0.041410252', '2.2490337', '0.0', '0.0', '0.0', '0.0', '0.0', '0.0', '1.9183717', '1.401406', '0.0', '0.0', '0.0', '0.0', '0.0', '2.1798766', '0.0', '0.43032998', '2.4372966', '0.43770725', '0.0', '0.0', '0.0', '0.0', '0.0', '1.3184613', '0.0', '0.0', '2.8271074', '0.0', '1.2022457', '0.96334857', '0.8053056', '0.0', '0.0', '0.0', '0.0', '0.0', '2.5165253', '2.039656', '0.0', '0.0', '2.512726', '0.0', '0.0', '1.6254482', '0.0', '0.0', '0.0', '0.0', '1.0291891', '0.0', '0.0', '0.5807879', '0.0', '0.0', '0.0', '0.0', '0.0', '0.82644635', '0.0', '0.0', '0.0', '0.0', '0.77282375', '0.24544536', '1.1376135', '0.0', '0.0', '0.0', '0.0', '0.0', '0.0', '0.0', '0.0', '0.0', '1.5778244', '0.0787103', '0.0', '2.1173067', '0.25144535', '0.0', '1.325791', '0.06779355', '0.0', '0.0', '0.0', '0.0', '0.0', '1.454157', '0.0', '0.43863535', '0.581295', '0.0', '0.50212014', '0.0', '0.0', '0.0', '0.0', '0.0', '0.0', '0.0', '1.7758988', '0.0', '0.0', '0.0', '0.24677657', '0.0', '0.057189085', '0.41757613', '0.0', '0.3354501', '0.0', '0.0', '0.0', '0.0', '0.0', '0.6260705', '0.75284773', '0.0', '0.0', '0.0', '0.0', '0.0', '1.7002268', '0.0', '1.1942283', '0.0', '0.48473114', '0.0', '0.9257362', '0.0', '0.0', '0.0', '0.0', '0.0', '0.14496925', '0.3771291', '0.0', '0.0', '0.0', '0.0', '0.0', '0.0', '0.0', '0.08530402', '0.68377185', '0.0', '0.0', '0.0', '0.0', '0.0', '0.0', '0.0', '1.2082882', '2.0157022', '1.8440303', '0.0', '0.0', '0.0', '0.19934887', '0.78458697', '0.0', '0.0', '0.0', '0.0', '0.0', '0.6860169', '0.25747597', '0.0', '0.32981712', '0.0', '0.0', '1.2659855', '1.4389232', '0.0', '0.05857206', '0.0', '2.7751915', '0.0', '0.0', '0.0', '0.12210041', '0.0', '0.0', '0.0', '0.0', '1.3542626', '0.0', '0.0', '1.5355138', '0.0', '0.0', '0.45607576', '0.0', '0.0', '0.0', '0.0', '0.0', '0.0', '0.0', '0.6970695', '0.0', '0.0', '0.0', '1.0381167', '0.0', '2.3292203', '0.0', '0.0', '0.9028529', '0.0', '0.0', '0.0', '0.0', '0.0', '0.0', '0.89590293', '0.011843022', '2.0148592', '1.5230212', '0.0', '0.0', '1.0905561', '0.84528023', '0.0', '0.0', '0.0', '0.0', '0.0', '0.0', '1.1310217', '0.0', '0.0', '1.0961896', '0.10870166', '0.0', '2.61475', '0.0', '0.0', '0.15387401', '0.0', '1.2090648', '0.0', '0.0', '0.0', '0.0', '0.0', '0.0', '0.0', '0.0', '2.3333364', '0.0', '0.0', '1.6138282', '0.0', '0.0', '0.0', '0.0', '0.0', '0.0', '0.0', '0.0', '0.0', '0.0', '0.0', '0.0', '0.0', '0.0', '2.2055376', '0.0', '1.6968685', '0.9525996', '0.0', '0.75848037', '0.0', '0.0', '0.35494426', '0.0', '0.0', '0.0', '0.506375', '0.0', '0.0', '0.69272596', '0.0', '0.0', '0.0', '1.1024501', '0.0', '0.0', '0.0', '0.0', '0.0', '1.395534', '1.3149574', '0.20295726', '0.3457123', '0.19527742', '0.0', '0.0', '0.14299129', '0.0', '1.0483862', '0.7566998', '1.8805572', '0.0', '0.0', '0.0', '0.0', '1.5529116', '0.10576722', '0.0', '0.0', '0.0', '0.43804267', '0.33223066', '0.0', '0.87042403', '0.0', '0.29423982', '0.0', '0.0', '0.0', '0.0', '0.0', '0.20750915', '0.0', '0.76570326', '1.7083784', '0.0', '0.72980887', '0.0', '0.0', '0.18440315', '0.023585182', '0.0', '0.12613374', '1.5164721', '0.0', '0.0', '0.0', '0.0', '0.19088443', '0.0', '0.0', '1.6004069', '0.0', '1.9103636', '0.0', '0.0', '0.27152568', '2.4596415', '0.0', '0.0', '0.0', '0.0', '0.0', '1.4131203', '1.7840849', '0.3247039', '0.0', '2.3400214', '0.0', '0.0', '0.78222567', '0.0', '0.0', '0.0', '0.0', '2.870556', '0.29583105', '0.0', '0.0', '0.0', '0.0', '0.0', '0.0', '0.0', '0.18224108', '0.0', '0.13843094', '0.0', '0.0', '0.0', '0.36970118', '0.0', '0.0', '0.0', '0.0', '0.982655', '0.0', '0.0', '1.0047176', '0.0', '0.0', '0.0', '0.0', '0.0', '0.775656', '0.0', '0.0', '2.3951643', '0.0', '0.0', '0.0', '0.0', '0.0', '0.0', '0.1458806', '0.6699795', '0.0', '0.2816085', '0.0', '0.71433014', '0.08662627', '1.5650936', '0.0', '0.9825591', '0.0', '0.0', '0.0', '0.9510985', '0.7161797', '0.0', '0.0', '2.5496895', '0.0', '0.0', '1.2926979', '0.0', '0.0', '0.0', '0.0', '0.0', '0.4892563', '0.0', '0.47273698', '0.0', '0.0', '0.0', '0.0', '0.0', '0.0', '0.0', '0.0', '0.0', '0.0', '0.0', '0.0', '0.0', '0.45768467', '0.0', '0.0', '0.0', '0.0', '0.0', '0.0', '0.0', '0.0', '1.0342458', '0.2202122', '0.0', '0.16728394', '0.853682', '0.0', '0.0', '0.94925016', '0.0', '2.049751', '0.0', '0.0', '0.2582738', '1.1304145', '0.0', '0.0', '0.0', '0.84145486', '3.7973242', '0.0', '0.18771699', '0.0', '3.0124636', '0.0', '0.0', '0.0', '0.67862695', '0.0', '0.0', '0.0', '0.0', '0.0', '0.29965255', '0.0', '0.0', '0.73877394', '0.0', '0.049872782', '0.0', '0.0', '0.0', '0.95665056', '0.23637548', '1.3897107', '0.0', '0.0', '0.0', '0.0', '0.7969534', '0.0', '0.0', '0.107917175', '0.0', '0.0', '0.97954404', '0.0', '0.0', '0.0', '0.2324103', '0.39330083', '1.4437165', '0.0', '0.0', '1.0135763', '1.2596855', '0.0', '0.3093607', '0.0', '0.8435294', '0.0', '0.3857309', '0.0', '0.0', '2.240766', '0.0', '0.0', '0.0', '0.0', '0.0', '0.0', '0.0', '0.92864394', '0.21471427', '0.0', '0.1685296', '0.0', '0.36803943', '0.5228359', '0.0', '0.0', '1.0264076', '1.0355273', '0.0', '0.0', '2.0409842', '0.0', '0.0', '0.0', '0.0', '0.0', '0.0', '1.7604486', '0.0', '0.0', '0.0', '0.14016028', '0.0', '0.0', '0.0', '0.0', '0.0', '0.39235312', '0.17803454', '0.0', '0.0', '0.0', '0.7616569', '0.0', '0.7276073', '0.0', '0.0', '0.8858751', '0.0', '1.3923428', '0.6144886', '0.0', '0.0', '0.0', '0.0', '0.0', '1.579316', '0.0', '0.0', '2.2373545', '1.457034', '0.0', '0.0', '2.5620754', '0.0', '0.49793917', '1.2244974', '0.020136463', '0.0', '0.24146634', '0.0', '1.2875445', '0.0', '0.0', '0.22106375', '0.0', '0.0', '1.89277', '0.0', '0.0', '2.5080593', '0.0', '0.0', '0.0', '0.788936', '1.1512344', '0.0', '0.0', '0.0', '1.1605865', '0.0', '0.041238215', '0.0', '0.0', '0.0', '0.0', '0.95798147', '0.0', '0.0', '0.0', '0.0', '0.0', '0.56961125', '0.0', '0.0', '0.0', '0.0', '0.5504078', '0.0', '0.0', '0.0', '2.554475', '0.0', '1.5190928', '0.0', '0.0', '0.0', '0.0', '0.0', '0.0', '0.17943145', '0.0', '0.0', '0.94632244', '0.0', '0.0', '0.0', '0.46498197', '0.0', '0.0', '0.0', '2.7947211', '0.0', '0.04428985', '0.0', '0.0', '0.0', '0.0', '0.37462768', '0.0', '0.0', '1.0902665', '0.63731796', '0.0', '1.5898592', '0.5563401', '0.0', '0.0', '0.0', '3.4309669', '1.7988592', '0.0', '0.0', '0.91688454', '0.0', '0.0', '0.0', '0.0', '0.0', '0.058955718', '0.19972862', '0.109084785', '0.0', '0.0', '0.0', '0.0', '1.2455328', '0.0', '0.0', '0.0', '1.6627429', '0.0', '0.0', '0.0', '0.0', '0.0', '0.0', '0.0', '0.0', '0.63209444', '0.0', '0.49460873', '0.3682122', '0.0', '0.0', '0.0', '0.35488895', '0.0', '0.0', '0.0', '0.0', '0.0', '0.0', '1.1078624', '0.0', '0.39305303', '0.6929684', '0.7588878', '0.75435597', '0.0', '0.0', '0.14859864', '1.2161078', '0.0', '0.0015721326', '0.0', '0.0334527', '0.0', '0.02244022', '1.3922516', '0.0', '0.0', '0.6086431', '0.29550767', '0.0', '0.0691026', '1.0816214', '0.0', '0.0', '0.0', '1.6674868', '0.06559752', '0.0', '0.81651413', '0.0', '0.0', '0.0', '0.0', '0.0', '0.0', '0.0', '0.543258', '0.0', '0.0', '0.028982207', '0.5190019', '0.0', '1.0739646', '0.0', '0.0', '0.39194778', '0.0', '0.0', '1.2949761', '0.0', '0.0', '0.0', '0.13270351', '0.0', '0.42487982', '0.0', '0.0', '0.0', '0.0', '0.0', '0.021487752', '0.0', '0.7054557', '0.0', '0.27836138', '0.08783974', '1.5208076', '0.0', '0.0', '0.0', '0.0', '1.8175315', '0.0', '0.5365286', '0.0', '0.0', '0.0', '0.0', '1.1632242', '0.0', '0.0', '0.0', '0.39650714', '0.7297993', '0.0', '0.5034804', '0.0', '0.0', '0.0', '0.0', '0.27817243', '0.0', '2.0423834', '0.65313804', '0.0', '0.0', '0.0', '0.0', '0.0', '0.0', '1.1463786', '0.0', '1.0995911', '0.0', '0.0', '0.0', '0.8287923', '0.0', '0.0', '0.11915602', '0.0', '0.0', '0.0', '0.0', '1.036355', '0.0', '0.9362767', '0.0', '0.0', '0.43737683', '0.0', '0.0', '0.0', '0.0', '1.1094514', '0.0', '0.105240986', '0.0', '1.8120936', '0.0', '0.0', '0.0', '0.0', '0.13389544', '0.0', '0.7258219', '0.0', '2.414799', '0.0', '1.3328772', '0.0', '0.0', '0.949723', '0.0', '0.9596228', '0.0', '1.058041', '1.6889266', '0.0', '0.902238', '0.0', '0.0', '0.0', '0.0', '0.0', '0.0', '1.8977432', '1.1520352', '0.57721776', '0.16527817', '0.0', '0.0', '0.0', '0.0', '0.7503363', '0.0', '0.0', '0.0', '0.0', '0.0', '0.0', '0.0', '0.0', '1.034537', '0.0', '0.9471171', '0.0', '0.0', '1.2189714', '0.37466934', '0.0', '0.02448205', '0.0', '0.95128876', '0.0', '0.0077542304', '0.0', '0.0', '0.28535032', '0.0', '0.18328254', '0.0', '0.0', '0.0', '0.14297849', '0.0', '0.0', '0.0', '0.0', '0.45400432', '0.064047135', '0.0', '0.0', '0.0', '0.0', '0.121195756', '0.0', '0.44933194', '0.0', '1.4658419', '0.0', '0.0', '0.0', '0.0', '0.0', '0.3712791', '2.037613', '0.4489753', '0.3415606', '0.0', '0.0', '0.0', '0.06057217', '0.23134996', '0.0', '0.0', '0.0', '0.0', '0.0', '0.0', '0.0', '0.44593483', '0.0', '0.22160918', '0.0', '1.3114735', '0.0', '1.5350773', '0.22403897', '0.25006026', '0.0', '0.0', '0.0', '1.322287', '1.0500405', '0.64451593', '0.0', '0.0', '0.0', '0.0', '0.0', '0.0', '1.5900047', '0.0', '1.1280693', '0.0', '0.0', '0.0', '0.62460226', '0.0', '0.7946634', '0.0', '0.0', '0.0', '0.3051843', '0.0', '0.0', '0.0', '0.0', '0.0', '0.0', '0.0', '0.0', '1.1949543', '0.0', '0.0', '0.0', '0.007398881', '0.0', '0.0', '2.364263', '0.0', '0.23084086', '0.0', '0.7441424', '0.0', '0.37596843', '0.0', '0.0', '0.0', '0.0', '0.0', '0.0', '0.0', '1.5872389', '0.0', '0.0', '0.0', '0.5261265', '0.93066114', '0.85438865', '0.18147656', '0.0', '0.0', '0.0', '0.0', '1.5395443', '0.0', '2.1955197', '0.0', '0.0', '0.5617447', '0.090998255', '0.0', '0.4740985', '0.0', '2.1681807', '0.0', '0.2727394', '0.0', '0.8574254', '0.0', '0.73854494', '0.0', '1.579395', '0.0', '0.0', '0.0', '0.0', '0.26791084', '0.94495696', '0.0', '0.0', '0.0', '0.0', '0.0', '0.079969324', '0.0', '1.0531571', '0.929484', '0.0', '0.1829161', '0.0', '0.0', '0.1317996', '0.0', '0.0', '0.0', '0.33133742', '1.1809233', '0.25729084', '0.0', '0.0', '0.0', '0.0', '0.0', '0.0', '0.0', '0.0', '0.0', '0.0', '0.0', '0.0', '0.0', '0.0', '1.0102038', '0.2245854', '1.1896126', '0.0', '0.0', '1.8048083', '0.0', '1.0508066', '0.022263804', '0.0', '0.3791068', '0.0', '0.7799115', '0.94426954', '0.0', '1.2390792', '0.0', '0.0', '0.0', '0.27405104', '0.0', '0.0', '0.0', '0.0', '0.0', '0.0', '1.1818099', '0.067557216', '0.0', '0.0', '0.0', '0.0', '0.18921727', '1.4277396', '0.38954383', '0.0', '1.247153', '0.6413435', '0.0', '0.93941003', '0.0', '0.0', '0.0', '2.3253036', '0.0', '0.0', '0.0', '0.0', '0.0', '0.0', '0.0', '0.0', '0.0', '1.3462403', '0.0', '0.0', '0.0', '0.0', '0.73077387', '0.0', '0.8189698', '0.0', '0.25167623', '0.0', '0.0', '2.1033878', '1.0291758', '0.0', '0.0', '0.0', '0.0', '2.864893', '0.105561785', '0.0', '0.14235482', '1.9120771', '0.2557282', '0.65205425', '0.0', '2.2621958', '0.0', '0.0', '0.78125066', '0.0', '0.0', '0.0', '0.0', '1.3591051', '0.0', '0.0', '0.0', '1.6521116', '0.0', '0.56720257', '0.0', '0.0', '0.75818866', '0.715003', '0.0', '0.0', '0.29186836', '0.8063022', '0.0', '0.0', '0.27406842', '0.4723554', '0.0', '0.4956794', '0.0', '0.0', '0.0', '0.0', '0.0', '0.0', '0.0', '0.0', '0.0', '0.0', '0.0', '0.0', '1.2870972', '1.5812477', '0.0', '0.0', '0.0', '0.0', '0.19066444', '1.8435067', '0.0', '1.710112', '0.0', '0.0', '0.0', '0.0', '0.0', '2.1149063', '0.0', '0.0', '0.2845561', '1.3507265', '0.06041187', '1.0092493', '0.0', '0.83724076', '0.0', '0.0', '0.0', '0.5610952', '0.0', '0.0', '0.0', '1.6141951', '0.0', '0.0', '0.0', '0.0', '0.0', '0.9002331', '0.0', '0.0', '0.0', '1.397512', '0.8621426', '0.87410474', '0.0', '0.7765718', '0.0', '0.0', '0.70719635', '0.9991671', '0.0', '0.0', '0.0', '0.0', '0.0', '0.0', '0.16101287', '0.6841234', '0.0', '0.0', '0.0', '0.0', '0.0', '0.0', '0.099664345', '0.0', '0.0', '0.0', '0.0', '0.0', '0.0', '0.0', '0.0', '0.0', '0.0', '0.6812159', '0.0', '0.6312359', '0.14679143', '0.0', '0.0', '0.40445653', '0.0', '0.0', '0.3188592', '0.0', '0.0', '0.0', '0.0', '1.6738634', '0.0', '0.2978946', '2.273152', '0.8139215', '1.7603501', '0.0', '0.0', '0.0', '1.7133056', '0.0', '0.0', '0.0', '0.33115667', '0.0', '0.01776337', '1.0398995', '0.0', '0.0', '1.2889221', '0.0', '0.0', '0.15370795', '1.3017247', '0.0', '0.0', '0.0', '3.5789757', '0.0', '0.0', '0.07892175', '0.0', '0.0', '0.0', '0.0', '0.0', '0.0', '0.0', '0.6925922', '0.0', '0.0', '0.0', '1.415751', '0.0', '0.43117428', '0.0', '0.0', '0.0', '0.0', '0.0', '2.300398', '0.0', '0.0', '0.0', '0.0', '0.0', '1.7572851', '0.0', '0.0', '0.64990425', '0.0', '0.0', '0.0', '0.0', '0.7451503', '0.0', '0.4909535', '1.9054651', '1.7268212', '0.83208376', '0.0', '0.0', '0.034365736', '3.1132936', '0.0', '0.3326528', '0.0', '0.0', '0.0', '0.95351213', '3.03655', '0.0', '0.0', '1.2970144', '0.69514585', '0.0', '0.0', '0.0', '0.0', '0.0', '0.0', '1.1124105', '0.0', '0.08079525', '0.95335424', '0.0', '0.0', '0.0', '0.0', '0.0', '0.0', '0.0', '1.6789223', '0.0', '0.0', '0.0', '0.6652219', '0.0', '1.3657925', '0.0', '0.0', '0.0', '0.0', '0.0', '1.3104264', '0.0', '0.04502371', '0.0', '0.0', '0.0', '0.5728662', '0.0', '0.0', '0.3657996', '0.0', '0.0', '0.090540014', '0.0', '0.0', '0.0', '1.023839', '0.31947714', '1.1017522', '0.0', '0.0', '0.0', '0.0', '2.452482', '0.0', '1.6347461', '0.0', '1.125635', '0.0', '0.34482896', '2.1626368', '0.0', '0.26650026', '0.0', '0.99059385', '1.1113459', '0.27148062', '0.0', '0.0', '0.0', '0.0', '0.0', '0.0', '0.91275054', '0.64872384', '0.68288374', '0.0', '0.0', '0.0', '0.0', '0.0', '0.32342228', '1.3011103', '0.0', '0.3297431', '0.28549832', '0.0', '0.0', '0.0', '0.0', '0.0', '0.82996607', '0.0', '1.2176595', '1.078039', '0.0', '1.2951043', '2.627566', '0.0', '0.51449794', '0.16511329', '0.41351995', '0.0', '0.0', '0.0', '0.0', '0.26223075', '0.0', '0.64332974', '0.0', '0.21543157', '0.20663437', '0.26647818', '0.11131388', '0.0', '0.12007858', '0.024948202', '0.0', '0.0', '0.0', '0.0', '0.0', '0.0', '0.0', '0.0', '0.0', '0.0', '1.3432256', '0.0', '0.2806869', '0.0', '0.5507408', '0.0', '0.10515807', '0.88370615', '0.26415667', '0.0', '0.0', '1.7609506', '0.0', '0.0', '0.0', '0.0', '0.0', '0.15590394', '0.0', '0.0', '0.0', '0.0', '0.5674848', '0.0', '0.0', '0.36086044', '0.0', '0.0', '0.07058114', '0.0', '1.0940392', '0.0', '0.0', '0.0', '3.2852144', '0.0', '0.30045852', '1.6959296', '0.5552814', '0.10931947', '0.0', '0.0', '0.0', '1.5422983', '0.0', '1.9982821', '0.0', '0.0', '0.0', '1.49034', '0.0', '0.52122146', '0.0', '0.0', '0.0', '0.0', '0.25181353', '0.0', '0.0', '0.0', '0.5809422', '0.0', '0.0', '0.0', '1.417532', '0.0', '0.6821797', '0.0', '0.0', '0.0', '0.0', '3.156049', '0.0', '0.0', '0.0', '2.0031166', '0.0', '0.4279812', '0.0', '0.0', '0.0', '0.0', '0.06883621', '0.0', '0.0', '0.0', '0.0', '0.0', '0.0', '1.5190318', '0.0', '0.0', '0.0', '0.0', '0.0', '0.0', '0.0', '0.0', '0.62591857', '0.0', '0.65040606', '0.6646', '0.06935589', '0.0', '0.0', '0.0', '0.0', '1.7854352', '0.0', '1.1403003', '0.0', '0.57430696', '0.0', '1.4111339', '0.0', '0.3774545', '0.0', '0.0', '0.25091085', '0.0', '0.34418234', '0.9856034', '0.0', '0.0', '0.0', '0.0', '0.0', '0.0', '0.0', '0.38928366', '1.1417316', '0.0', '0.0', '0.0', '0.0', '2.2291787', '0.0', '0.0', '0.0', '1.1020443', '0.72137934', '0.27034038', '0.0', '0.0', '0.0', '0.0', '0.0', '0.0', '0.0', '0.0', '0.0', '0.0', '0.0', '0.98541665', '0.0', '0.0', '1.1995142', '0.0', '0.7401995', '0.0', '0.0', '1.3320649', '0.057064928', '0.61037135', '0.0', '0.0', '0.7314842', '0.0', '0.29130024', '0.6089564', '0.0', '0.8153169', '0.0', '0.0', '0.0', '0.676919', '0.0', '0.0', '0.0', '0.0', '0.0', '0.0', '0.6863277', '0.9274087', '0.0', '0.0', '0.0', '0.0', '0.47374117', '0.0', '1.4325352', '0.0', '1.2060285', '0.33469576', '0.60724854', '0.0', '0.0', '0.0', '0.0', '1.6859715', '0.05987242', '0.37984443', '0.0', '0.81029046', '0.0', '0.45200324', '0.7449569', '0.0', '0.0', '0.8355732', '0.0', '0.0', '0.0', '0.0', '1.0875056', '0.0', '1.4076517', '0.0', '0.9568806', '0.0', '0.90012026', '0.22751029', '0.60348433', '0.0', '0.0', '0.0', '0.4372966', '2.0365942', '0.2347446', '0.08802406', '0.52650243', '0.0', '0.0', '0.0', '0.0', '1.8437349', '0.0', '0.23742302', '1.5874194', '0.0', '0.0', '0.0', '0.0', '0.42835733', '0.0', '0.0', '0.0', '2.034068', '0.0', '0.0', '0.0', '0.0', '0.0', '0.0', '0.0', '0.0', '0.11396458', '0.3770125', '0.0', '0.0', '0.4980619', '0.0', '0.33760107', '1.8476888', '0.08190113', '0.0', '0.0', '0.3471207', '0.0', '0.0', '0.6478176', '0.0', '0.0', '0.0', '0.0', '0.0', '0.33579782', '1.4389127', '0.0', '0.0', '0.0', '0.0', '2.0998697', '0.0', '0.45205', '0.31110013', '0.0', '0.0', '0.0', '0.21993238', '0.5357272', '1.8601216', '0.0', '0.040061947', '0.16135037', '0.50905657', '0.0', '0.0', '0.0', '2.2287598', '0.0', '0.0', '0.0', '0.0', '0.0', '1.208202', '0.0', '1.3859422', '0.0', '0.0', '0.0', '1.4416295', '0.0', '0.0', '0.0', '0.0', '0.15923645', '0.6116599', '0.1447995', '0.0', '0.0', '0.46225327', '0.0', '0.0', '0.5514934', '0.0', '0.0', '0.7136817', '0.01635775', '0.0', '0.0', '0.054765124', '0.0', '0.20796658', '0.24235372', '0.0', '0.0', '0.0', '0.0', '0.54866296', '1.1934407', '0.7600602', '0.0', '0.0', '0.0', '0.0', '0.5269684', '0.6418342', '0.0', '0.27582663', '0.0', '0.0', '0.0', '0.0', '1.2213178', '0.7807995', '0.0', '0.0', '0.0', '0.0', '0.0', '0.0', '0.0', '0.0', '0.0', '0.051482186', '0.0', '0.0', '0.0', '1.1401341', '0.0', '0.62048864', '0.0', '0.0', '0.0', '0.85878897', '0.042503625', '0.39788753', '0.0', '0.0', '0.0', '0.0', '0.10533072', '0.0', '0.0', '0.37843937', '0.0', '0.28053448', '1.5093505', '0.19718991', '0.78883237', '0.0', '1.549239', '0.0', '0.0', '0.0', '0.0', '0.0', '0.0', '0.0', '0.0', '0.0', '0.0', '0.037587624', '1.5701603', '0.0', '0.0', '0.16332452', '0.0', '0.0', '0.0', '0.0', '0.0', '0.0', '0.0', '0.0', '0.0', '0.0', '0.39590597', '1.8465985', '0.0', '0.26619166', '0.4029879', '0.0', '0.0', '0.0', '0.0', '0.0', '0.0', '0.0', '0.0', '0.49813998', '0.32384887', '1.1768606', '0.2696958', '0.0', '0.0', '0.91708875', '0.0', '0.0', '0.17595452', '0.0', '0.4005116', '0.0', '0.0', '0.6082597', '0.0', '0.0', '0.17963086', '0.81224966', '0.0', '0.60347307', '0.006807931', '0.05665486', '0.34638378', '0.0', '1.5012429', '0.0', '0.0', '0.0', '0.0', '0.5916187', '0.0024193996', '0.0', '0.0', '0.3531736', '0.16846557', '0.0', '1.3421003', '0.0', '0.3087842', '0.0', '0.0', '0.0', '0.0', '0.0', '0.17796858', '0.0', '0.0', '0.0', '0.0', '0.0', '0.0', '2.647925', '0.0', '1.378732', '0.5181338', '0.0', '0.0', '0.0', '0.0', '0.0', '0.0', '0.0', '0.0', '0.08421613', '0.0', '1.7911292', '0.0', '0.0', '0.0', '0.37607238', '0.1309833', '0.0', '0.0', '0.0', '0.0', '0.0', '0.49693298', '0.9231669', '0.0', '0.0', '0.0', '0.3708651', '0.0', '0.23328179', '0.29191', '0.07939391', '0.7795289', '1.6822683', '0.51772666', '0.4647082', '0.0', '0.0', '1.0404001', '0.18835968', '0.0', '0.0', '0.0', '0.7791094', '0.0', '0.0', '0.18779534', '0.37509915', '0.19074854', '0.0', '0.0', '0.0', '0.0', '0.0', '0.0', '0.0', '1.9269135', '0.0', '0.0', '0.86820394', '0.0', '0.04907747', '0.0', '0.0', '0.0', '0.9356434', '1.4201484', '0.7904743', '0.0', '0.0', '0.0', '0.0', '0.0', '0.0', '0.6970917', '1.1127366', '1.2186793', '0.0', '0.0', '0.6885646', '0.0', '0.0', '0.0', '0.0', '0.0', '0.0', '1.0648608', '0.93943274', '1.3163226', '0.0', '1.2752353', '0.2986557', '0.0', '2.550204', '0.0', '0.0', '0.20990312', '0.0', '2.9830842', '0.29706725', '0.0', '0.0', '0.0', '0.0', '0.0', '0.0', '0.0', '1.7208294', '0.0', '0.0', '0.34646887', '0.0', '0.031272158', '0.14150314', '0.0', '0.0', '0.0', '0.0', '1.2312267', '0.0', '0.87316084', '0.0', '0.0', '0.0', '0.0', '1.3337667', '0.0', '0.9959891', '0.80505455', '0.0', '1.3015618', '1.839573', '0.0', '0.0', '0.0', '0.0', '0.0', '0.82471293', '0.24306528', '0.35721222', '1.4234359', '0.0', '0.0', '0.25805518', '0.0', '0.0', '0.11901495', '0.0', '0.0', '0.0', '0.3312861', '0.0', '0.44211617', '0.0', '2.4554884', '0.0', '0.0', '1.4535799', '0.0', '0.0', '0.0', '0.0', '2.0660837', '0.12801147', '0.0', '0.3419657', '0.19643632', '0.0', '0.0', '0.0', '0.0', '1.9245019', '0.0', '0.0', '2.8916874', '0.0', '0.0', '0.0', '0.8565495', '0.0', '0.0', '0.0', '0.0', '0.0', '1.2144411', '0.0', '0.0', '0.0', '1.0078906', '1.0863615', '0.39439598', '1.2235905', '0.6701567', '0.0', '0.20150545', '0.50994885', '0.0', '0.3686589', '0.0', '0.0', '0.6046599', '0.5293506', '0.0', '0.0', '0.26624933', '0.0', '1.54067', '0.0', '0.0', '0.008454977', '0.84458625', '0.0', '0.0', '0.0', '0.34983042', '0.0', '0.77104056', '0.0', '0.10748678', '0.0', '0.0', '0.0', '0.48712388', '0.50785756', '0.95494354', '1.6345025', '1.0686079', '0.0', '0.0', '0.2680099', '0.99932843', '0.8610374', '0.025167385', '0.0', '0.0', '0.44733873', '0.0', '0.0', '3.0756025', '0.0', '0.0', '0.0', '0.08103007', '0.0', '0.0', '0.0', '0.0', '0.0', '0.0', '1.1641881', '0.0', '1.6772708', '0.0', '0.0', '0.0', '0.0725149', '0.0', '0.25894567', '0.90595967', '0.0', '0.0', '0.0', '0.0', '0.0', '0.0', '0.2547497', '0.0', '1.2721324', '0.0', '0.97149837', '0.0', '0.0', '0.55340123', '0.0', '0.0', '0.0', '0.0', '0.0', '0.7002772', '2.3526318', '0.0', '0.21532802', '1.4613259', '0.0', '0.0', '2.0425916', '0.0', '0.0', '0.0', '0.0', '0.0', '0.0', '0.7093296', '0.0', '0.0', '0.0', '0.0', '0.0', '0.0', '2.0627034', '0.0', '0.1546775', '0.0', '0.0', '0.5051437', '0.0', '0.077165216', '0.0', '0.0', '0.0', '0.0', '0.0', '0.66436124', '0.0', '0.0', '1.6863742', '0.0', '0.0', '0.13508485', '0.0', '0.0', '0.93420136', '1.4872319', '0.0', '0.0', '0.0', '0.0', '0.0', '0.60158175', '0.6041983', '0.0', '0.13635659', '0.0', '0.33309016', '0.0', '0.0', '1.377392', '0.0', '0.0', '0.33800822', '0.16852613', '0.0', '0.52214724', '0.33453012', '0.0', '0.64337116', '0.21937649', '0.0', '0.0', '0.35019466', '0.09584538', '1.0293729', '0.0', '0.0', '0.0', '0.0', '0.0', '0.0', '0.05135535', '0.0', '0.0', '0.0', '0.0', '1.2884612', '0.634568', '0.30132782', '0.0', '0.0', '0.46660876', '0.0', '0.461222', '0.0', '0.0', '2.10659', '0.0', '0.0', '0.0', '0.0', '0.0', '1.76745', '0.0', '1.3574902', '0.0', '0.0', '0.0', '0.0', '0.63048434', '0.0', '0.0', '1.5492357', '0.0', '0.0', '0.0', '2.0978374', '0.0', '0.0', '0.0', '0.0', '0.6721912', '0.0', '1.0832571', '0.0', '0.0', '1.0596342', '0.97868735', '0.0', '1.4510227', '0.91713685', '0.0', '0.30584058', '0.0', '1.6140547', '0.04168666', '0.0', '0.0', '0.40073887', '0.0', '0.0', '0.0', '0.0', '0.0', '0.28272524', '0.82669204', '0.0', '0.0', '0.0', '0.0', '0.0', '1.0030047', '0.40835968', '0.0', '0.0', '1.7322884', '0.0', '1.1268896', '0.0', '0.0', '0.0', '0.0', '0.0', '0.34242323', '0.28012434', '0.0', '0.0', '0.0', '0.0', '0.0', '0.0', '0.6802864', '0.0', '0.22781087', '0.0', '0.0', '0.0', '0.0', '0.0', '0.0', '0.0', '0.0', '0.0', '0.5708487', '0.0', '2.665416', '0.89953357', '0.0', '0.6472864', '2.1603487', '0.0', '0.0', '0.0', '0.0', '2.2681775', '0.0', '0.0', '0.0', '0.0', '0.0', '0.6437804', '0.27067432', '0.0', '0.0', '0.0', '0.0', '0.0', '0.0', '0.0', '0.0', '0.0', '0.0', '0.0', '0.0', '0.3022287', '0.0', '1.1349436', '0.0', '0.0', '0.0', '0.0', '0.0', '0.0', '0.0', '0.0', '0.0', '0.0', '0.0', '0.4395756', '0.0', '0.0', '0.0', '0.0', '0.0', '0.09048561', '0.0', '0.7440797', '1.4592975', '0.0', '0.0', '0.0', '0.0', '0.0', '0.0', '0.0', '0.0', '0.0', '1.5898987', '0.0', '0.49254787', '0.0', '0.97819114', '1.3986601', '2.1141663', '0.0', '0.2661766', '0.0', '0.06070652', '1.0873511', '0.0', '0.09381839', '0.0', '0.5706596', '0.19120309', '0.0', '0.0', '2.046696', '0.0', '0.0', '0.0', '0.0', '0.0', '0.0', '1.3978032', '0.0', '0.0', '0.0', '0.0', '0.0', '2.341952', '0.070182934', '0.0', '0.0', '1.351465', '0.0', '0.26248312', '0.0', '0.0', '0.0', '0.0', '0.0', '0.0', '0.0', '0.0', '0.0', '0.0', '1.6031786', '0.1411813', '0.1798969', '0.0', '0.50200534', '0.6512347', '0.0', '0.0', '0.0', '0.0', '0.0', '0.0', '0.6163706', '0.0', '0.0', '0.8819348', '0.0', '0.0', '0.018420868', '1.5876367', '0.0', '0.2289527', '0.0', '2.111727', '0.0', '0.10198165', '1.1039577', '0.0', '0.080578074', '0.0', '1.3837948', '0.6720444', '0.72575253', '0.0', '3.137205', '0.0', '0.0', '0.0', '0.0', '0.0', '0.0', '1.552663', '0.0', '0.87549126', '0.0', '0.0', '0.0', '1.4912307', '0.0050393455', '0.0', '0.0', '1.6465333', '0.0', '0.1041154', '0.0', '0.0', '0.0', '0.0', '0.0', '0.0', '0.7288325', '0.0', '0.0', '0.0', '0.0', '0.0', '0.0', '0.0', '0.0', '1.0575504', '0.0', '0.0', '0.0', '0.0', '1.8185431', '0.0', '0.10528143', '2.7721899', '0.0', '1.5364686', '0.0', '0.0', '0.048428364', '2.126597', '0.28977334', '0.0', '0.0', '1.1661948', '0.0', '0.0', '0.09164922', '0.0', '0.059586525', '0.6290986', '0.0', '0.0', '1.2822063', '0.0', '0.0', '0.0', '0.0', '1.6548345', '0.0', '0.0', '0.0', '0.0', '0.8863748', '0.0', '0.0', '0.0', '0.0', '0.0', '0.0', '0.0', '0.0', '0.0', '0.7041511', '0.0', '0.0', '0.0', '0.0', '1.6522552', '0.0', '0.13455825', '1.8340682', '0.0', '0.0', '0.0', '0.0', '0.4050847', '0.0', '0.0', '0.0', '1.9080837', '0.0', '0.0', '0.0', '0.0', '0.28953236', '0.0', '0.0', '1.258904', '0.3528748', '0.0', '0.0', '0.0', '0.0', '0.6061915', '0.0', '0.23451677', '0.0', '0.75284874', '0.0', '0.122563235', '0.94588315', '0.0', '0.0', '0.0', '0.25794065', '0.0', '1.9564788', '0.0', '0.0', '0.0', '0.4679301', '0.0', '0.0', '0.0', '0.055809874', '0.0', '0.0', '0.0', '0.0', '0.0', '0.4196316', '0.05127615', '0.0', '0.0', '0.0', '0.0', '0.7011248', '0.0', '0.0', '0.0', '0.0', '0.7090513', '0.0', '0.0', '1.7288057', '0.0', '0.9828167', '1.0614021', '1.5219847', '0.048599668', '1.2608191', '0.0', '0.0', '0.76001513', '1.5305656', '0.0', '0.5209459', '0.0', '0.0', '0.0', '0.63637334', '0.0', '0.0', '0.0', '0.0', '0.0', '0.0', '1.2256569', '0.0', '0.8440967', '0.0', '0.0', '0.0', '1.0145845', '0.0', '0.0', '0.0', '0.0', '0.0', '0.9042612', '1.9659601', '0.0', '0.0', '0.10313431', '0.17503926', '0.0', '0.0', '0.0', '0.0', '1.9491465', '0.0', '0.0', '0.0', '0.0', '0.0', '0.0', '0.0', '0.0', '0.0', '0.0', '0.0', '1.0691082', '0.0', '0.0', '0.0', '0.19597809', '0.6327202', '2.716372', '1.6246397', '0.0', '0.0', '0.0', '0.0', '0.0', '0.0', '0.96339524', '0.43908435', '1.6039841', '0.6971003', '0.0', '1.3546419', '0.0', '0.0', '0.0', '0.0', '0.0', '0.0', '0.5004384', '0.0', '0.96086425', '0.61432505', '1.4166074', '0.0', '0.0', '0.3730272', '0.0', '0.0', '1.8152285', '0.6660743', '0.0', '0.0', '2.4384434', '0.47664118', '0.0', '0.36141434', '0.0', '0.0', '0.0', '0.44042298', '0.0', '0.16741556', '0.0', '0.84773386', '0.0', '0.0', '0.0', '0.0', '0.0', '0.55722576', '0.0', '0.0', '0.0', '0.0', '0.7124056', '0.0', '0.14528406', '0.0', '0.0', '0.0', '0.0', '0.1328118', '1.3733008', '0.0', '0.0', '0.0', '0.0', '0.0', '1.4635543', '0.0', '0.4361649', '1.0517608', '2.2658496', '0.0087465625', '0.0', '2.1213791', '0.0', '0.0', '0.0', '0.063936874', '0.0', '0.0', '0.74389756', '0.0', '1.5213501', '0.0', '0.74187356', '0.0', '0.8788637', '0.0', '0.0', '0.0', '1.6489565', '0.0', '0.0', '0.0', '0.0', '1.2521751', '0.14383838', '0.11514923', '0.0', '1.2426288', '0.0', '0.0', '0.0', '0.0', '0.0', '0.91450584', '2.1557894', '0.39962232', '0.0', '0.0', '0.0', '0.0', '1.2067106', '0.0', '0.0', '0.0', '0.7761434', '0.0', '0.0', '0.0', '0.0', '1.2779703', '0.0', '0.31578642', '0.0', '0.0', '0.0', '0.0', '1.2042867', '0.0', '0.25381097', '0.0', '0.0', '0.0', '0.93633735', '0.33302152', '0.0', '1.4218162', '0.0', '0.0', '0.0', '3.0156493', '0.0', '0.0', '0.0', '0.0', '1.804884', '0.0', '0.0', '0.0', '1.1682843', '0.0', '0.67985475', '0.0', '0.60534805', '0.0', '0.0', '0.0', '0.0', '1.5535288', '1.462741', '0.5486018', '0.0', '1.7095277', '0.0', '0.0', '0.0', '0.0', '0.0', '2.9405708', '0.36029178', '1.8279462', '0.0', '0.0', '0.0', '0.0', '2.3615062', '0.0', '0.0', '0.0', '1.3236296', '0.0', '0.38950667', '0.0']\n"
     ]
    }
   ],
   "source": [
    "print(pixels_split)"
   ]
  },
  {
   "cell_type": "code",
   "execution_count": 356,
   "id": "381c013a",
   "metadata": {},
   "outputs": [
    {
     "data": {
      "text/plain": [
       "7488"
      ]
     },
     "execution_count": 356,
     "metadata": {},
     "output_type": "execute_result"
    }
   ],
   "source": [
    "len(pixels_split)"
   ]
  },
  {
   "cell_type": "markdown",
   "id": "4d0ae194",
   "metadata": {},
   "source": [
    "Valorile citite din fișierul inputsAll.txt sunt convertite din virgulă mobilă în fixed point representation, și salvate în fișierul InputsAllVHDL.txt."
   ]
  },
  {
   "cell_type": "code",
   "execution_count": 357,
   "id": "b8e4dfcd",
   "metadata": {},
   "outputs": [],
   "source": [
    "conv_pixels = []\n",
    "count = 0\n",
    "for i in pixels_split:\n",
    "    val = float(i)\n",
    "    conv = convert(val)\n",
    "    conv_pixels.append(conv)"
   ]
  },
  {
   "cell_type": "code",
   "execution_count": 358,
   "id": "71e4308d",
   "metadata": {},
   "outputs": [
    {
     "name": "stdout",
     "output_type": "stream",
     "text": [
      "['0000000000000000', '0000000000000000', '0000000000000000', '0000000001100100', '0000000000000000', '0000000000000000', '0000000000000000', '0000000000000000', '0000000000000000', '0000000000000000', '0000000000000000', '0000000110010110', '0000000001001010', '0000000010000101', '0000000000110100', '0000000000000000', '0000000000000000', '0000000001001100', '0000000000000000', '0000000000000011', '0000000000000000', '0000000000110111', '0000000000000000', '0000000000000000', '0000000000000000', '0000000001111100', '0000001101110011', '0000000101100100', '0000000000000000', '0000000000000000', '0000000100010100', '0000000001010000', '0000000000000000', '0000000000000000', '0000000111010011', '0000001011001110', '0000000000000000', '0000000000000000', '0000000000000000', '0000000000101010', '0000000000000000', '0000000000000000', '0000000000000000', '0000000000000000', '0000000000000000', '0000000000000000', '0000000000000000', '0000000000000000', '0000000000000000', '0000000000000000', '0000000000000000', '0000000010110001', '0000000000000000', '0000000000000000', '0000000000000000', '0000000000000000', '0000000000000000', '0000000010101111', '0000000000000000', '0000000000000000', '0000000000000000', '0000000000000000', '0000000000000000', '0000000110011011', '0000000000000000', '0000000000000000', '0000000000000000', '0000000001110001', '0000000000000000', '0000000000000000', '0000000000000000', '0000000000000000', '0000000000000000', '0000000000000000', '0000000000000000', '0000000000000000', '0000000000100011', '0000000000111011', '0000000000110000', '0000000000000000', '0000000000000000', '0000000100111000', '0000000000000000', '0000000000000000', '0000000000000000', '0000000010011010', '0000000000000000', '0000000000000000', '0000000000000000', '0000000000100011', '0000010000000110', '0000000100100000', '0000000000000000', '0000000001010000', '0000001111100110', '0000000000000000', '0000000000000000', '0000000000000000', '0000000001011010', '0000000110010011', '0000000000000000', '0000000000000000', '0000000000000000', '0000001011110000', '0000000100110011', '0000000000000000', '0000000000000000', '0000000011110010', '0000000000000000', '0000000000000000', '0000000000000000', '0000000000000000', '0000000000000000', '0000000000000000', '0000000000110011', '0000000100111110', '0000000000000000', '0000000000000000', '0000000000000000', '0000000000000000', '0000000101001111', '0000000101011100', '0000000000000000', '0000000000000000', '0000000001100111', '0000000000000000', '0000000010010001', '0000000011010010', '0000000000000000', '0000000000000000', '0000000000000000', '0000000010011011', '0000000000000000', '0000000000000000', '0000000000000000', '0000000000000000', '0000000000000000', '0000000101010011', '0000000000000000', '0000000000000000', '0000000000100010', '0000000000000000', '0000000000000000', '0000000000000000', '0000000000000000', '0000000010001101', '0000000000000000', '0000000000000000', '0000000000000000', '0000000110111111', '0000000000000000', '0000000000000000', '0000000000000000', '0000000000000000', '0000000101001101', '0000000001000100', '0000000000111010', '0000000000000000', '0000001100000011', '0000000000000000', '0000000010011101', '0000000000000000', '0000000000000000', '0000000000100111', '0000000000000000', '0000000000000000', '0000000000000000', '0000001010011101', '0000001000100011', '0000000000000000', '0000000000000000', '0000001101001000', '0000000000000000', '0000000000000000', '0000000000000000', '0000000000000000', '0000000000000000', '0000000011100111', '0000000001111001', '0000000100010010', '0000000000000000', '0000000000000000', '0000000000000000', '0000000000000000', '0000001001110110', '0000000100111100', '0000000000000000', '0000000000000000', '0000001000111000', '0000000000000000', '0000000001110111', '0000000000000000', '0000000000000000', '0000000000000000', '0000000000000000', '0000000000000000', '0000000000000000', '0000000000000000', '0000000000000000', '0000000000000000', '0000000001111101', '0000000000000000', '0000000000000000', '0000000010111111', '0000000000101000', '0000000011000101', '0000000000001101', '0000000000000000', '0000000000000000', '0000000000000000', '0000000000000000', '0000000001110101', '0000000000000000', '0000000000101101', '0000000000000000', '0000000111011111', '0000000010011000', '0000000100001110', '0000000100010110', '0000000000000000', '0000000000000000', '0000000001111111', '0000000000101001', '0000000011001001', '0000000000000000', '0000000000000000', '0000000101111101', '0000000000111110', '0000000000010110', '0000000000000000', '0000000000010001', '0000000010100010', '0000000000001101', '0000000000000000', '0000000000000000', '0000000000000000', '0000000000000000', '0000000000000000', '0000000010100001', '0000000000000000', '0000000000000000', '0000000000000000', '0000000000000000', '0000000000000000', '0000000000000000', '0000000000000000', '0000000000000000', '0000000000000000', '0000000000000000', '0000000000000000', '0000000011000110', '0000000000000000', '0000000000000000', '0000000011010100', '0000000000000000', '0000000000000000', '0000000000000000', '0000000000000000', '0000000000000000', '0000000001000000', '0000000000000000', '0000000000000000', '0000000000000000', '0000000000000000', '0000000001110100', '0000000000000000', '0000000000000000', '0000000001111110', '0000000000000000', '0000000011111110', '0000000100101100', '0000000000000000', '0000000000000000', '0000000000000000', '0000000000000000', '0000000000000000', '0000000000000000', '0000000000000000', '0000000101010111', '0000001000011001', '0000000000000000', '0000000000000000', '0000000000000000', '0000000000100000', '0000000000000000', '0000000000000000', '0000000000000000', '0000000001100011', '0000000000100000', '0000000000000000', '0000000001110100', '0000000101111001', '0000000000000000', '0000000000000000', '0000000010001101', '0000000111000001', '0000000001101101', '0000000000101110', '0000000000000000', '0000000111110100', '0000000000000000', '0000000000000000', '0000000011100101', '0000000000000000', '0000000000000000', '0000000000000000', '0000000011110101', '0000000000000000', '0000000000000000', '0000000000000000', '0000000000000000', '0000000000000000', '0000000001100011', '0000000000000000', '0000000000000000', '0000000000000000', '0000000010111101', '0000000101011101', '0000000000000000', '0000000000011000', '0000000000000000', '0000000011011011', '0000000000000000', '0000000011100110', '0000000000000000', '0000000001100011', '0000000000000000', '0000000000000000', '0000000000111111', '0000000110100101', '0000000000000000', '0000000110110010', '0000000000000000', '0000000001001100', '0000000000000000', '0000000000000000', '0000000000000000', '0000000000000000', '0000000000000000', '0000000000000000', '0000000000000000', '0000000110001101', '0000000001111100', '0000001010101101', '0000000000000000', '0000000000000000', '0000000000000000', '0000000011000111', '0000000000000000', '0000000000000000', '0000000000000000', '0000000010100110', '0000000001111000', '0000000000000000', '0000000001010101', '0000000011011100', '0000000000000000', '0000000000000000', '0000000000000000', '0000000111010110', '0000000011110010', '0000000111010111', '0000000000000000', '0000000000000000', '0000000000000000', '0000000000000000', '0000000000000000', '0000000001010111', '0000000000000000', '0000000000000000', '0000000100110000', '0000000000000000', '0000000000000000', '0000000000000000', '0000000000000000', '0000000001011001', '0000000000000000', '0000000000000000', '0000000000111101', '0000000000000000', '0000000011010001', '0000000000000000', '0000000000000000', '0000000000000000', '0000000000000000', '0000000000000000', '0000000000000000', '0000000000000000', '0000001001110110', '0000000011000110', '0000000000000000', '0000000110101100', '0000000000000000', '0000000000000000', '0000000000111001', '0000000000000000', '0000000000000000', '0000000010011110', '0000000111001111', '0000000000000000', '0000000000000000', '0000000000000000', '0000000000000000', '0000000000000000', '0000000000000000', '0000000000011110', '0000000000000000', '0000000011011011', '0000000101000001', '0000000000000000', '0000000000000000', '0000000000111011', '0000000001110110', '0000000000000000', '0000000000000000', '0000000101011110', '0000000000000000', '0000000000000000', '0000000111000111', '0000001100011001', '0000000000000000', '0000000000000000', '0000000110101100', '0000000001101100', '0000000000000000', '0000000111100001', '0000000000010111', '0000000000000000', '0000000000000000', '0000000000000000', '0000000101100010', '0000000000000000', '0000000000000000', '0000000000000000', '0000000000000000', '0000000000000000', '0000000000000000', '0000000000000000', '0000000000000000', '0000000100000001', '0000000000000000', '0000000000110001', '0000000000000000', '0000000000000000', '0000000001101001', '0000000110110111', '0000000000000011', '0000000000000000', '0000000000000000', '0000000000000000', '0000000000000000', '0000000000000000', '0000000101010000', '0000000101001000', '0000000000000000', '0000000000000000', '0000000000000000', '0000000000000000', '0000000000000000', '0000001000000111', '0000000000000000', '0000000011001001', '0000001100011001', '0000000001011010', '0000000000000000', '0000000000000000', '0000000000000000', '0000000000000000', '0000000000000000', '0000000010011010', '0000000000000000', '0000000010100000', '0000001001111100', '0000000000000000', '0000000011000110', '0000000000010110', '0000000001010001', '0000000000000000', '0000000000000000', '0000000000000000', '0000000000000000', '0000000000000000', '0000001001100111', '0000000111111111', '0000000000000000', '0000000000000000', '0000000101100001', '0000000000000000', '0000000000000000', '0000000101010101', '0000000000000000', '0000000000000000', '0000000000000000', '0000000000000000', '0000000001101011', '0000000000000000', '0000000000000000', '0000000010100110', '0000000000001000', '0000000000000000', '0000000000000000', '0000000000000000', '0000000000000000', '0000000100111010', '0000000000000000', '0000000000000000', '0000000000000000', '0000000000000000', '0000000010001111', '0000000000000000', '0000000011101100', '0000000000000000', '0000000000000000', '0000000000011010', '0000000000000000', '0000000000000000', '0000000000000000', '0000000000000000', '0000000000000000', '0000000000000000', '0000001011010100', '0000000000000000', '0000000000000000', '0000000111011011', '0000000010001111', '0000000000000000', '0000000010100101', '0000000000000000', '0000000000000000', '0000000000010111', '0000000000000000', '0000000000000000', '0000000000000000', '0000000111001000', '0000000000000000', '0000000011100100', '0000000000000000', '0000000000000000', '0000000010011011', '0000000000110011', '0000000000000000', '0000000000000000', '0000000000001001', '0000000000000000', '0000000000000000', '0000000000000000', '0000000101101100', '0000000000000000', '0000000000000000', '0000000000000000', '0000000000110100', '0000000010111101', '0000000010110011', '0000000000110000', '0000000000010101', '0000000000011011', '0000000000000000', '0000000000000000', '0000000000000000', '0000000000000000', '0000000000000000', '0000000011101101', '0000000001001001', '0000000000000000', '0000000000000000', '0000000000000000', '0000000000000000', '0000000000000000', '0000000111101111', '0000000000000000', '0000000011000111', '0000000000000000', '0000000001111111', '0000000000000000', '0000000110010101', '0000000010011110', '0000000000000000', '0000000000000000', '0000000000000000', '0000000000000000', '0000000110001110', '0000001000100010', '0000000000000000', '0000000000000000', '0000000000000000', '0000000000000000', '0000000000000000', '0000000011011101', '0000000000000000', '0000000000001101', '0000001000101111', '0000000000000000', '0000000000000000', '0000000000000000', '0000000000000000', '0000000000000000', '0000000000000000', '0000000000000001', '0000000000000000', '0000000000000000', '0000001000010000', '0000000000000000', '0000000011101001', '0000000011000101', '0000001100111100', '0000000000000000', '0000000000000000', '0000000000000000', '0000000000000000', '0000000000000000', '0000001001111110', '0000001001000111', '0000000010000001', '0000000000000000', '0000001011011100', '0000000000000000', '0000000000000000', '0000000000001111', '0000000000000000', '0000000000000000', '0000000000000000', '0000000000000000', '0000000100101010', '0000000001100001', '0000000000000000', '0000000000000000', '0000000000000000', '0000000000000000', '0000000000000000', '0000000000000000', '0000000000000000', '0000000000000000', '0000000000000000', '0000000000111010', '0000000000000000', '0000000000000000', '0000000011110010', '0000000001011001', '0000000101000110', '0000000000000000', '0000000000000000', '0000000000000000', '0000000000000000', '0000000000000000', '0000000000000000', '0000000001111010', '0000000000000000', '0000000000000000', '0000000000000000', '0000000000000000', '0000000011000001', '0000000000000000', '0000000000001001', '0000000000110111', '0000000110100100', '0000000000000000', '0000000000000000', '0000000100110000', '0000000000000000', '0000000000001001', '0000000000000000', '0000000000000000', '0000000000000000', '0000000000000000', '0000000010010101', '0000000000000000', '0000000111100000', '0000000000000111', '0000001001101110', '0000000000000000', '0000001000110110', '0000000000000000', '0000000000000000', '0000000000000000', '0000000111101100', '0000001001111110', '0000000000000000', '0000000000000000', '0000000000000000', '0000000011010000', '0000000000000000', '0000000000000000', '0000000000000000', '0000000000110111', '0000000000000000', '0000000000000000', '0000000000000000', '0000000000000100', '0000000000000000', '0000000001101011', '0000000010001110', '0000000000000000', '0000000000000000', '0000000000000000', '0000000000000000', '0000000000000000', '0000000000001100', '0000000010101001', '0000000000000000', '0000000000000000', '0000000000011100', '0000000000000000', '0000000000000000', '0000000000000000', '0000000000000000', '0000000000000000', '0000000000000000', '0000000000000000', '0000000000000000', '0000000000011011', '0000000000000000', '0000000000000000', '0000000000000000', '0000000000000000', '0000000000010001', '0000000000000000', '0000000001100111', '0000000000000000', '0000000000000000', '0000000000000000', '0000000000000000', '0000000111000001', '0000000000000000', '0000000000000000', '0000000000000000', '0000000011110010', '0000000000000000', '0000000000000000', '0000000000000000', '0000000000000000', '0000001101000001', '0000000000000000', '0000000101101010', '0000000000000000', '0000010011010011', '0000000000000000', '0000000011100011', '0000000000000000', '0000000000111001', '0000000110001000', '0000000000000000', '0000000000000000', '0000000000000000', '0000000101000111', '0000000101100101', '0000000000000000', '0000000000000000', '0000000101001011', '0000000000000000', '0000000000000000', '0000000000000000', '0000000000000000', '0000000000000000', '0000000110001110', '0000000011110111', '0000000010011001', '0000000000000000', '0000000000000000', '0000000000000000', '0000000000000000', '0000000111000000', '0000000100100100', '0000000000000000', '0000000000000000', '0000000011101011', '0000000000000000', '0000000001100101', '0000000000000000', '0000000000000000', '0000000000000000', '0000000000000000', '0000000000000000', '0000000001110101', '0000000000000000', '0000000000000000', '0000000000000000', '0000000010001111', '0000000000000000', '0000000000011101', '0000000000000000', '0000000110011010', '0000000000000000', '0000000001011111', '0000000001010111', '0000000000000000', '0000001010101110', '0000000000000000', '0000000010000001', '0000000000000000', '0000000000000000', '0000000000000000', '0000000000000000', '0000000000000000', '0000000111001001', '0000000111000000', '0000000000000000', '0000000000001101', '0000000000000000', '0000000101101010', '0000000000000000', '0000000000000000', '0000000000000000', '0000000010011110', '0000000010110010', '0000000000000000', '0000000000110000', '0000000101100001', '0000000011001101', '0000000011100010', '0000000000000000', '0000000000000000', '0000000000000000', '0000000000000000', '0000000100110001', '0000000000000000', '0000000000000000', '0000000000000000', '0000000000000000', '0000000000000000', '0000000000001000', '0000000000000000', '0000000000000000', '0000000000000000', '0000000000000000', '0000000101100111', '0000000000000000', '0000000000000000', '0000000000000000', '0000000000011010', '0000000000000000', '0000000100001101', '0000000000000000', '0000000000000000', '0000000001101111', '0000000000000000', '0000000100010100', '0000000000000000', '0000000000000000', '0000000000000000', '0000000000000000', '0000000100010111', '0000000000111001', '0000000000000000', '0000000000000000', '0000000100100000', '0000000011111101', '0000000000000000', '0000000000000000', '0000000000000000', '0000001011100010', '0000000000000000', '0000000101100001', '0000000101001101', '0000000000000000', '0000000000000000', '0000000000000000', '0000000000000000', '0000000101011011', '0000000100101001', '0000000000000000', '0000000000000000', '0000000000000000', '0000000011101010', '0000000101000101', '0000000000000000', '0000000000000000', '0000000011010110', '0000000000000000', '0000000000000000', '0000000000001100', '0000000000000000', '0000000011100000', '0000000011000111', '0000000000000000', '0000000000000000', '0000001010011110', '0000000000000000', '0000000011100111', '0000000000000000', '0000000000000000', '0000000000000000', '0000000000000000', '0000000110111011', '0000000000111101', '0000000000000000', '0000000000000000', '0000000000000000', '0000000000000000', '0000000111010011', '0000000001100110', '0000000000000000', '0000000000000000', '0000000000000000', '0000000000000000', '0000000000000000', '0000000000000000', '0000000000000000', '0000001000011111', '0000000000000000', '0000000000011101', '0000000000000000', '0000000000000000', '0000000000000000', '0000000000000000', '0000000000000000', '0000000101100101', '0000000000000000', '0000000000000000', '0000000000000000', '0000000000000000', '0000000000000000', '0000000000000000', '0000000000000000', '0000000011100110', '0000000000000000', '0000000000000000', '0000000000000000', '0000000011111010', '0000000000000000', '0000000001010101', '0000000000000000', '0000000000000000', '0000000000000000', '0000000000000000', '0000000000000000', '0000000000000000', '0000000000001011', '0000000100100101', '0000000100100101', '0000000000000000', '0000000000000000', '0000000000000000', '0000000000000000', '0000000000000000', '0000000000000000', '0000001000100100', '0000000111000001', '0000000001101011', '0000000000000000', '0000000101101111', '0000000000000000', '0000000000000000', '0000000000000000', '0000000000000000', '0000000000000000', '0000000010111101', '0000001000011111', '0000000000000000', '0000000000000000', '0000000000000000', '0000000000000000', '0000000000000000', '0000000100111111', '0000000000011001', '0000000000000000', '0000000000000000', '0000000010100010', '0000000000000000', '0000000000000000', '0000000000000000', '0000000000000000', '0000000000000000', '0000000000000000', '0000000011011001', '0000000000000000', '0000000000000000', '0000000000000000', '0000000000000000', '0000000000000000', '0000000000000000', '0000000000000000', '0000000000000000', '0000000000000000', '0000000001111110', '0000000110100010', '0000000000000000', '0000000000000000', '0000000101000111', '0000000000000000', '0000000100010110', '0000000000000000', '0000000100000111', '0000000000000000', '0000000001101101', '0000000000000000', '0000000010111000', '0000000101001010', '0000000000000000', '0000000010011001', '0000000000000000', '0000000000000000', '0000000000000000', '0000000000000000', '0000000000000000', '0000000101110000', '0000000101000001', '0000000000000000', '0000000000000000', '0000000000000000', '0000000110010111', '0000000010110111', '0000000000101111', '0000000000000000', '0000000000000000', '0000000000000000', '0000000000000000', '0000000000000000', '0000000000000000', '0000000000000000', '0000000001100011', '0000000000100100', '0000000101100101', '0000000000000000', '0000000000000000', '0000000000000000', '0000000000000000', '0000000000000100', '0000000011000011', '0000000000000000', '0000000000000000', '0000000000000000', '0000000011110000', '0000000000000000', '0000000000000000', '0000000000000000', '0000000110010111', '0000000000000000', '0000000111111000', '0000000000000000', '0000000000000101', '0000000000000000', '0000000000000000', '0000000000000000', '0000000000000000', '0000000000000000', '0000000000000000', '0000000000000000', '0000000000000011', '0000000001100011', '0000000000000000', '0000000000000000', '0000000000000000', '0000000000000000', '0000000001101001', '0000000000000000', '0000000010111010', '0000000000000000', '0000000111110010', '0000000000000000', '0000000000000000', '0000000000101110', '0000000000000000', '0000000000000000', '0000000000000000', '0000000000000000', '0000000000100001', '0000000000111000', '0000000000000000', '0000000100001001', '0000000001011010', '0000000000000000', '0000000000000000', '0000000000000000', '0000001010100111', '0000000001101101', '0000000101100100', '0000000000000000', '0000000110000001', '0000000000000000', '0000000000000000', '0000000000000000', '0000000000000000', '0000000000000000', '0000000001101011', '0000000000000000', '0000000000000000', '0000000000000000', '0000000000000000', '0000000000000000', '0000000000000000', '0000000001101101', '0000000000110000', '0000000000000000', '0000000000000000', '0000000000110011', '0000000001110001', '0000000000000000', '0000000000000000', '0000000000000000', '0000000110001001', '0000000000000000', '0000000101101101', '0000000000000000', '0000000100110100', '0000000000000000', '0000000000000000', '0000000110000100', '0000000101000001', '0000000000000000', '0000000100000101', '0000000000000000', '0000000010010010', '0000000000000000', '0000000000000000', '0000000000000000', '0000000000000000', '0000000000000000', '0000000000000000', '0000000000000000', '0000000001010111', '0000000001110110', '0000001100101011', '0000000000000000', '0000000000000000', '0000000000000000', '0000000000001101', '0000000000000000', '0000000000000000', '0000000000000000', '0000000000000000', '0000000010011110', '0000000000000000', '0000000000000000', '0000000010011111', '0000000000000000', '0000000000000000', '0000000000000000', '0000000110110010', '0000000001101100', '0000000101010010', '0000000000000000', '0000000001100001', '0000000000000000', '0000000000000000', '0000000000000000', '0000000010100100', '0000000000000000', '0000000010000111', '0000000000000000', '0000000000000000', '0000000000000000', '0000000000000000', '0000000000000000', '0000000101100001', '0000000001101011', '0000000000000000', '0000000000000000', '0000000000000000', '0000000000000000', '0000000000000000', '0000000000000000', '0000000000000000', '0000000000000000', '0000000000000000', '0000000000000000', '0000000000000000', '0000001001101100', '0000000100011000', '0000000000000000', '0000000100001110', '0000000000000000', '0000000000000000', '0000000000000000', '0000000000000000', '0000000000000000', '0000000000000000', '0000001000011101', '0000000000000000', '0000000000000000', '0000000000000000', '0000000000000000', '0000000000000000', '0000000000000000', '0000000001111000', '0000000000000000', '0000000000000000', '0000000010001010', '0000000000011101', '0000000000110111', '0000000010110101', '0000001000111101', '0000000000000000', '0000000000111010', '0000000010000011', '0000000000000000', '0000000000000000', '0000000100011101', '0000010011100101', '0000000000000000', '0000000000000000', '0000000010110010', '0000000000000000', '0000000000000000', '0000000101000011', '0000000000000000', '0000000000000000', '0000000000000000', '0000000000000000', '0000000000000000', '0000000000000000', '0000000000000000', '0000000000000000', '0000000000000000', '0000000000000000', '0000000000000000', '0000000000000000', '0000000000000000', '0000001000100000', '0000000000000000', '0000000100100100', '0000000000000000', '0000000000000000', '0000000011111011', '0000000001111011', '0000000000000000', '0000000000000000', '0000000000000000', '0000000000000000', '0000000000000000', '0000000001111110', '0000001000000100', '0000001000011111', '0000000000000000', '0000000000000000', '0000000000000000', '0000000000000000', '0000000000000000', '0000001100101110', '0000000100100001', '0000000000000000', '0000000100011100', '0000000000000000', '0000000000000000', '0000000010100011', '0000000000000000', '0000000001010100', '0000000000000000', '0000000010110111', '0000000000000000', '0000000000000000', '0000001011010000', '0000000000000000', '0000000111111000', '0000000010011000', '0000001100011100', '0000000000000000', '0000000000000000', '0000000000000000', '0000000000000000', '0000000000000000', '0000001010011001', '0000001111010101', '0000000000000000', '0000000000000000', '0000000000000000', '0000000000000000', '0000000000000000', '0000000010100001', '0000000000000000', '0000000001111000', '0000000000000000', '0000000000100010', '0000000000000000', '0000000000000000', '0000000000000000', '0000000001101110', '0000000000000000', '0000000000000000', '0000000000000000', '0000000000000000', '0000000000000000', '0000000000000000', '0000000111101100', '0000000001000010', '0000000000000000', '0000000000000000', '0000000000010101', '0000000000000000', '0000000000000000', '0000000000000000', '0000000000000000', '0000000000000000', '0000000000000000', '0000000000000000', '0000000000000000', '0000000001110000', '0000000000000000', '0000000000000000', '0000000000000000', '0000000000000000', '0000000000000000', '0000010000001100', '0000000010010011', '0000000000000000', '0000000010100001', '0000000000000000', '0000000000000000', '0000000000000000', '0000000000000000', '0000000101000000', '0000000000000000', '0000000010001100', '0000000000000000', '0000000000000000', '0000001000100011', '0000000000000000', '0000001001110000', '0000000101000001', '0000001011010001', '0000000000000000', '0000000000000000', '0000000000000000', '0000000000000000', '0000000000000000', '0000001011000010', '0000001111100000', '0000000000000000', '0000000000000000', '0000000000000000', '0000000000000000', '0000000000000000', '0000000001000010', '0000000000000000', '0000000111001011', '0000000000000000', '0000000001010111', '0000000000000000', '0000000000000000', '0000000000000000', '0000000000000000', '0000000001011000', '0000000000100101', '0000000000000000', '0000000000000000', '0000000000000000', '0000000000000000', '0000000111100100', '0000000000000000', '0000000000000000', '0000000000000000', '0000000000000000', '0000000000000000', '0000000000111010', '0000000000000000', '0000000000000000', '0000000000000000', '0000000000000000', '0000000011111000', '0000000000000000', '0000000000000000', '0000000000000000', '0000000000000000', '0000000000000000', '0000000000000000', '0000000000000000', '0000000000101000', '0000000000001101', '0000000000111111', '0000000010001111', '0000000000000000', '0000000000000000', '0000000100000000', '0000000000000000', '0000000011110100', '0000000000000000', '0000000000000000', '0000000000001110', '0000000000000000', '0000000000000000', '0000000110110010', '0000001001011111', '0000000100110110', '0000000010101111', '0000000000000000', '0000000000000000', '0000000000000000', '0000000000000000', '0000000000000000', '0000000111111110', '0000001001010101', '0000000000000000', '0000000001101000', '0000000000000000', '0000000000000000', '0000000000000000', '0000000001001100', '0000000000000000', '0000000001111010', '0000000000000000', '0000000000000000', '0000000000000000', '0000000100001010', '0000000011100110', '0000000000000000', '0000000000000000', '0000001011000010', '0000000000000000', '0000000000000000', '0000000000000000', '0000000000000000', '0000000110000011', '0000000000100111', '0000000000000000', '0000000000000000', '0000000000000000', '0000000000000000', '0000000000000000', '0000000001011011', '0000000000000000', '0000000000000000', '0000000000000000', '0000000010000111', '0000000000000000', '0000000000000000', '0000000000000000', '0000000000000000', '0000000000000000', '0000000000000000', '0000000000000000', '0000000000000000', '0000000100000101', '0000000000000000', '0000000000000000', '0000000000000000', '0000000000000000', '0000001100000100', '0000000000000000', '0000001001001000', '0000000000000000', '0000000010111100', '0000000000000000', '0000000000000000', '0000000000000000', '0000000111001110', '0000001101001111', '0000000010110001', '0000000000000000', '0000000000000000', '0000001010110011', '0000000000000000', '0000000000001111', '0000000000000000', '0000000101110111', '0000000110000100', '0000000000000000', '0000000001001111', '0000000000000000', '0000001011000100', '0000000000001100', '0000000000000000', '0000000000000000', '0000000000010010', '0000000000000000', '0000000001011100', '0000000000000000', '0000000000000000', '0000000010001111', '0000000000000000', '0000000000000000', '0000001010010100', '0000000000000000', '0000000000000000', '0000000000000000', '0000000000000000', '0000001000000100', '0000000000000000', '0000000000000000', '0000000000000000', '0000000000000000', '0000000000000000', '0000000000000000', '0000000000000000', '0000000000000000', '0000000000000000', '0000000000000000', '0000000000000000', '0000000000000000', '0000000001010000', '0000000000000000', '0000000011110000', '0000001000100110', '0000000000000000', '0000000000000000', '0000000101000111', '0000000010111110', '0000000000000000', '0000000000000000', '0000000100010100', '0000000000000000', '0000001110101100', '0000000000000000', '0000000110001011', '0000000011110010', '0000000110101110', '0000000000000000', '0000000000000000', '0000000000000000', '0000000001100001', '0000010000011011', '0000000000000000', '0000000000000000', '0000000000000000', '0000001111100111', '0000000000000000', '0000000001111101', '0000000000000000', '0000000101110001', '0000000000100100', '0000000000000000', '0000000000000000', '0000000000000000', '0000000110000011', '0000000011101111', '0000000000000000', '0000000000000000', '0000000000000000', '0000000000010000', '0000001001111001', '0000000000000000', '0000000000000000', '0000000000000000', '0000000101100001', '0000000000000000', '0000000100100111', '0000000000000000', '0000000000000000', '0000000000000000', '0000000000000000', '0000001001100010', '0000000000000000', '0000000000000000', '0000000000000000', '0000000000000000', '0000000000000000', '0000000000000000', '0000000010010111', '0000000000000000', '0000000000000000', '0000000000000000', '0000000100111111', '0000000000000000', '0000000000000000', '0000000000000000', '0000000000000000', '0000000000000000', '0000000000000000', '0000000000000000', '0000001111110000', '0000000100111100', '0000000100001000', '0000000000000000', '0000000000000000', '0000000000000000', '0000001010110101', '0000000000000000', '0000000000110100', '0000000000000000', '0000000100001011', '0000000000000000', '0000001000101000', '0000000000000000', '0000000110001001', '0000001000011100', '0000000100100111', '0000000000000000', '0000000000000000', '0000000000001010', '0000000010010100', '0000000000000000', '0000000000000000', '0000001010100010', '0000001001010100', '0000000000000000', '0000000000000000', '0000000000000000', '0000000110000110', '0000000000000000', '0000000000000000', '0000000000000000', '0000000000000000', '0000000000000000', '0000000111001110', '0000000000000000', '0000000000000000', '0000000000000000', '0000000000000000', '0000000000000000', '0000000100110100', '0000000000000000', '0000000000000000', '0000000000000000', '0000000000000000', '0000000000100011', '0000000000000000', '0000000000000000', '0000000000000000', '0000000000000000', '0000000000000000', '0000000000000000', '0000000000101101', '0000000000000000', '0000000000000000', '0000000000000000', '0000000101100111', '0000000000000000', '0000000000000000', '0000000000000000', '0000000000000000', '0000000000000000', '0000000000000000', '0000000001110101', '0000000000000000', '0000000010011010', '0000000110100000', '0000000000000000', '0000000000000000', '0000000000000000', '0000001001000001', '0000000000000000', '0000000000000000', '0000000000000000', '0000000100101101', '0000000000000000', '0000000101001001', '0000000000000000', '0000000011000101', '0000000001101000', '0000000010100001', '0000000000000000', '0000000000000000', '0000000000000110', '0000000110111010', '0000000000000000', '0000000000000000', '0000000011010011', '0000001010101100', '0000000000000000', '0000000000000000', '0000000000000000', '0000001100110000', '0000000001111011', '0000000000000000', '0000000000000000', '0000000100111011', '0000000000000000', '0000000000000000', '0000000000000000', '0000000000000000', '0000000000000000', '0000000000000000', '0000000110110101', '0000000001000000', '0000000000000000', '0000000000000000', '0000000000000000', '0000000000000000', '0000000001001000', '0000000000000000', '0000000000000000', '0000000000000000', '0000000010011010', '0000000011010110', '0000000000000000', '0000000000000000', '0000000000000000', '0000001101000000', '0000000000000000', '0000000101001100', '0000000000000000', '0000000000000000', '0000000000000000', '0000000000000000', '0000000000000000', '0000000011110100', '0000000000000000', '0000000000000000', '0000000000000000', '0000000000111111', '0000000000000000', '0000000000000000', '0000000000000000', '0000000000000000', '0000000000000000', '0000000000000000', '0000000000000000', '0000001100001010', '0000000000000000', '0000000001100000', '0000000000000000', '0000000000000000', '0000000000000000', '0000000011110100', '0000000000000000', '0000000000000000', '0000000000000000', '0000000000000000', '0000000110001001', '0000000000000000', '0000000000000000', '0000000100111111', '0000000000000000', '0000000000000000', '0000000000000000', '0000010001011100', '0000001000100100', '0000000000000000', '0000000000000000', '0000000101101101', '0000000000000000', '0000000000000000', '0000000000000000', '0000000000000000', '0000000000000000', '0000000001001010', '0000000111011101', '0000000010011011', '0000000000000000', '0000000000000000', '0000000000000000', '0000000000000000', '0000001000000010', '0000000000000000', '0000000000000000', '0000000000000000', '0000001001110110', '0000000000000000', '0000000000000000', '0000000000000000', '0000000000000000', '0000000001001100', '0000000000000000', '0000000000000000', '0000000000000000', '0000000001010000', '0000000000000000', '0000000001010011', '0000000000000000', '0000000000000000', '0000000000000000', '0000000001011010', '0000000000000000', '0000000000000000', '0000000000000000', '0000000000000000', '0000000000000000', '0000000000000000', '0000000000000000', '0000000000011110', '0000000000000000', '0000000101011011', '0000000000000000', '0000000011001110', '0000000000000000', '0000000000110110', '0000000011101000', '0000000100000111', '0000000000000000', '0000000000000000', '0000000000110001', '0000000000000000', '0000000000000000', '0000000000000000', '0000000000000000', '0000001111101010', '0000000000000000', '0000000011111001', '0000000000000000', '0000000100101101', '0000000000000000', '0000000000000000', '0000000000000000', '0000000000000000', '0000000000000000', '0000000000000000', '0000000000000000', '0000000000000000', '0000000101011001', '0000000000101110', '0000000000000000', '0000000000000000', '0000000000000000', '0000000000000000', '0000000000000000', '0000000000000000', '0000000000000000', '0000000011101010', '0000000000000000', '0000000000000000', '0000000000000000', '0000000000000000', '0000000000000000', '0000000100101000', '0000000000000000', '0000000000000000', '0000000000000000', '0000000000000000', '0000000000000000', '0000000000000000', '0000000000000000', '0000001000000111', '0000000000000000', '0000000000011101', '0000000000000000', '0000000000000000', '0000000000111100', '0000000000011110', '0000000000000000', '0000000000000000', '0000000000000000', '0000000000110010', '0000000000000000', '0000000101001010', '0000000000000000', '0000000111000001', '0000000000000000', '0000001000100111', '0000000000000000', '0000000000000000', '0000000001011100', '0000000000000000', '0000000000000000', '0000000000000000', '0000000110101010', '0000000000000000', '0000000010101000', '0000000000000000', '0000000000000000', '0000000101001011', '0000000000000000', '0000000001001000', '0000000000000000', '0000001000101101', '0000001001110000', '0000000000000000', '0000000000000000', '0000000000000000', '0000000000000000', '0000000000000000', '0000000000000000', '0000000000000000', '0000000001111011', '0000000011101101', '0000000010011101', '0000000000000000', '0000000000000000', '0000000000000000', '0000000000000000', '0000000000000000', '0000000000000000', '0000000111000110', '0000000000000000', '0000000000000000', '0000000000101010', '0000000000000000', '0000000000000000', '0000000000010001', '0000000000000000', '0000000000000000', '0000000000000000', '0000000000000000', '0000000000000000', '0000000100111100', '0000000000000000', '0000000100101011', '0000000000000000', '0000000001100111', '0000000000000000', '0000000000000000', '0000000000000000', '0000000000000000', '0000000000011110', '0000000000000000', '0000000000000000', '0000000000000000', '0000000000000000', '0000000001001001', '0000000000000000', '0000000111000000', '0000000010100010', '0000000100111010', '0000000000000000', '0000000000000000', '0000000000000000', '0000000000000000', '0000001010001111', '0000000000000000', '0000000101110011', '0000000000000000', '0000000101110111', '0000000000000000', '0000000000000000', '0000000000000000', '0000000100000000', '0000000000000000', '0000000000000000', '0000000100011110', '0000001001100100', '0000000001001101', '0000000000000000', '0000000000000000', '0000000000000000', '0000000000000000', '0000000000000000', '0000000000000101', '0000000000000000', '0000000110010010', '0000001011011100', '0000000000000011', '0000000000000000', '0000000000000000', '0000000000000000', '0000000000000000', '0000000001111110', '0000000011101000', '0000000000000000', '0000000000000000', '0000000101000110', '0000000000000000', '0000000000101101', '0000000000000000', '0000000000000000', '0000000000000000', '0000000000000000', '0000000000000011', '0000000000000000', '0000000000000000', '0000000000000000', '0000000000000000', '0000001000011011', '0000000000000000', '0000000000000000', '0000001000101000', '0000000000000000', '0000000000000101', '0000000000000000', '0000000000000000', '0000000000000000', '0000000010001000', '0000000000000000', '0000000101011111', '0000000000000000', '0000000011101011', '0000000000000000', '0000000101001110', '0000000000000000', '0000000001110101', '0000000000000000', '0000000000111110', '0000000000000000', '0000000000000000', '0000000001000100', '0000000000000000', '0000000000000000', '0000000000000000', '0000000000000000', '0000000100001000', '0000000000000000', '0000000000000000', '0000000000000000', '0000000111001000', '0000000101111001', '0000000000000000', '0000000000000000', '0000000000000000', '0000000000000000', '0000001000001010', '0000000000000000', '0000000000000000', '0000000001011001', '0000000000000000', '0000000000000000', '0000000001101010', '0000000000000000', '0000000000000000', '0000000000000000', '0000000000000000', '0000000011011010', '0000000000000000', '0000000000000000', '0000000000000000', '0000000000000000', '0000000000000000', '0000000000000000', '0000000110000101', '0000000000000000', '0000000000000000', '0000000000000000', '0000000000000000', '0000000000000000', '0000000000000000', '0000000000000000', '0000000110110000', '0000000000000000', '0000000010101100', '0000000001100000', '0000000000000000', '0000000001100110', '0000000010001110', '0000000000000000', '0000000000000000', '0000000000000000', '0000000010010001', '0000000000000000', '0000000100111100', '0000000000000000', '0000000011010011', '0000000000000000', '0000000111011010', '0000000000000000', '0000000010000010', '0000000000000000', '0000000001110010', '0000000000000000', '0000000000000000', '0000000010001101', '0000000000000000', '0000000001010110', '0000000000000000', '0000000000000000', '0000000101011001', '0000000000000000', '0000000000000000', '0000000000000000', '0000000101110011', '0000000110000000', '0000000000000000', '0000000000000000', '0000000000000000', '0000000000000000', '0000001000010110', '0000000000000000', '0000000000000000', '0000000000000000', '0000000000000110', '0000000101110111', '0000000000000110', '0000000000000000', '0000000000000000', '0000000000000000', '0000000000000000', '0000000000000000', '0000000000000000', '0000000000000000', '0000000000000000', '0000000000000000', '0000000000000000', '0000000000000000', '0000000000100100', '0000000000000000', '0000000000000000', '0000000000000000', '0000000000000000', '0000000000000000', '0000000000000100', '0000000000000000', '0000001000100111', '0000000001001000', '0000000000111001', '0000000010000100', '0000000000000000', '0000000000000000', '0000000000000000', '0000000000000000', '0000000000000000', '0000000000000000', '0000000000000000', '0000000000000000', '0000000000000000', '0000000000000000', '0000000101010001', '0000000001000101', '0000000011101000', '0000000000000000', '0000000000000000', '0000000000000000', '0000000000000000', '0000000001001111', '0000000000000000', '0000000000001010', '0000000000000000', '0000000011110101', '0000000000000000', '0000000000000000', '0000000000000000', '0000000011110010', '0000000000000000', '0000000000000000', '0000000000110101', '0000000101000111', '0000000010101110', '0000000001010011', '0000000000000000', '0000000000000000', '0000000110010010', '0000000000000000', '0000000001101001', '0000000000000000', '0000000100110000', '0000000111010000', '0000000000111011', '0000000000000000', '0000000000000000', '0000000000000000', '0000000001101111', '0000000000000000', '0000000000000000', '0000000000000000', '0000000000000000', '0000000010100001', '0000000000000000', '0000000000000000', '0000000000000000', '0000000100100101', '0000000000000000', '0000000000011000', '0000000000000000', '0000000000000000', '0000000000000000', '0000000000000000', '0000000000110101', '0000000000000000', '0000000100110111', '0000000000000000', '0000000101001011', '0000000000000000', '0000000000011011', '0000000000000000', '0000000000000000', '0000000000000000', '0000000000000000', '0000000000000000', '0000000000000000', '0000000000000000', '0000000011100101', '0000000000000000', '0000000100011110', '0000000000000000', '0000000000000001', '0000000000000000', '0000000000000000', '0000000000000000', '0000000001101100', '0000000000000000', '0000000000000000', '0000000001111111', '0000000000000000', '0000000000000000', '0000000100010000', '0000000000110010', '0000000010100010', '0000000000000000', '0000000010010001', '0000000001101001', '0000000000000000', '0000000001100100', '0000000000000000', '0000000000000000', '0000000010110011', '0000000000000000', '0000000000000000', '0000000010011100', '0000000000000000', '0000000000000000', '0000000000010001', '0000000011011010', '0000000000000000', '0000000000000000', '0000000000000000', '0000000000000000', '0000000000000000', '0000000010010001', '0000000000000000', '0000000000000000', '0000000000000000', '0000000000000000', '0000000000000000', '0000000000000000', '0000000000000000', '0000000000000000', '0000000000000000', '0000000000000000', '0000000000000000', '0000000000000000', '0000001001100001', '0000000000000000', '0000000110110100', '0000000000000000', '0000000000000000', '0000000000000000', '0000000110000110', '0000000100001000', '0000000011111000', '0000000000000000', '0000000000001010', '0000000000000000', '0000000000000000', '0000000000000000', '0000000010000110', '0000000000000000', '0000000101100110', '0000000000000000', '0000000101001100', '0000000000000000', '0000000000000000', '0000000000000000', '0000000000110110', '0000000000000000', '0000000001110101', '0000000000000000', '0000000000000000', '0000000000000000', '0000001000001111', '0000000011001100', '0000000000000000', '0000000000000000', '0000000001111001', '0000000000000000', '0000000000000000', '0000000111001001', '0000000000000000', '0000000000000000', '0000000000101101', '0000000000111100', '0000000000100001', '0000000000000000', '0000000000000000', '0000000100010101', '0000000000000000', '0000000000000000', '0000000000000000', '0000000000000000', '0000000001000010', '0000000000000000', '0000000010100110', '0000000000000000', '0000000000000000', '0000000000000000', '0000000001000101', '0000000000000000', '0000000000000000', '0000000000000000', '0000000101001111', '0000000000000000', '0000000000110001', '0000000000000000', '0000000000000000', '0000000000000000', '0000000101101011', '0000000000000000', '0000000011100000', '0000000000000000', '0000000000000000', '0000000000011011', '0000000000000000', '0000000000011010', '0000000000011110', '0000000000000000', '0000000010111001', '0000000000000000', '0000000000000000', '0000000000000000', '0000000101000010', '0000000000000000', '0000000000001001', '0000000000000000', '0000000000000000', '0000000000000000', '0000000000000000', '0000000001101011', '0000000000000000', '0000000000000000', '0000000010110111', '0000000001110011', '0000000000000000', '0000000000000000', '0000000000000000', '0000001000000010', '0000000000001110', '0000000000000000', '0000000100111110', '0000000010000110', '0000000001001101', '0000000010000010', '0000000000000000', '0000000000000000', '0000000000000000', '0000000001101000', '0000000010000101', '0000000000000000', '0000000101111011', '0000000010011000', '0000000010011001', '0000000000000000', '0000000000000000', '0000000000000000', '0000000100011101', '0000000000000000', '0000000000000000', '0000000000000000', '0000000000000000', '0000000100111000', '0000000000000000', '0000000000000000', '0000000000000000', '0000000000000000', '0000000101110010', '0000000000000000', '0000000001011100', '0000000000000000', '0000000001000001', '0000000000000000', '0000000000111010', '0000000000000000', '0000000000000000', '0000000000000000', '0000000000000000', '0000000000010111', '0000000000011110', '0000000000000000', '0000000000000000', '0000000000000000', '0000000000000000', '0000000000000000', '0000000000000000', '0000000000000000', '0000000100111100', '0000000000000000', '0000000010101110', '0000000000000000', '0000000011001010', '0000000000000000', '0000000001100010', '0000000001000000', '0000000000000000', '0000000000000000', '0000000000011001', '0000000010011100', '0000000000000000', '0000000001000010', '0000010000101000', '0000000000000000', '0000000100111010', '0000000000000000', '0000000111101110', '0000000000010011', '0000000001001110', '0000000000000000', '0000000000000000', '0000000000000000', '0000000000000000', '0000000000000000', '0000000000000000', '0000000011011101', '0000000000000000', '0000000000000000', '0000000000000000', '0000000000000000', '0000000000000000', '0000000000000000', '0000000000000000', '0000000000000000', '0000000001010000', '0000000000000000', '0000000010100010', '0000000010001101', '0000000000000000', '0000000000110110', '0000000011010011', '0000000000000000', '0000000000000000', '0000000000000000', '0000000000000000', '0000000000000000', '0000000001111010', '0000000000000000', '0000000111010111', '0000000000000000', '0000000100000001', '0000000000000000', '0000000000000000', '0000000010000001', '0000000000000000', '0000000000000000', '0000000000000000', '0000000000000000', '0000000000000000', '0000000000000000', '0000000010001110', '0000000000000000', '0000000110100101', '0000000000000000', '0000000110100100', '0000000000000000', '0000000000100011', '0000000000000000', '0000000000000000', '0000000000000000', '0000000000000000', '0000000011000011', '0000000000000000', '0000000110010111', '0000000000000000', '0000000000000000', '0000001001010001', '0000000000000000', '0000000110101110', '0000000000000000', '0000001000100110', '0000000111100101', '0000000000000000', '0000000000000000', '0000000000000000', '0000000000000000', '0000000000000000', '0000000000000000', '0000000000000000', '0000000000000000', '0000000001000110', '0000000000111101', '0000000000000000', '0000000000000000', '0000000000000000', '0000000000000000', '0000000000000000', '0000000000100010', '0000000101100110', '0000000000000000', '0000000100011011', '0000000000000000', '0000000000000000', '0000000000000000', '0000000000000000', '0000000000000000', '0000000000000000', '0000000000000000', '0000000000000000', '0000000000000000', '0000000100111010', '0000000000000000', '0000000100011000', '0000000000000000', '0000000110000101', '0000000000000000', '0000000000000000', '0000000000000000', '0000000000000000', '0000000000000000', '0000000000000000', '0000000000000000', '0000000000000000', '0000000000000000', '0000000000000000', '0000000000000000', '0000000110111110', '0000000100101000', '0000000000000000', '0000000000000000', '0000000000000000', '0000000001000001', '0000000000000000', '0000000111110100', '0000000000000000', '0000000111101111', '0000000000000000', '0000000110101000', '0000000000000000', '0000000000000000', '0000000001010110', '0000000010111101', '0000000010100110', '0000000000000000', '0000000011110111', '0000001000001101', '0000000001001111', '0000000001101000', '0000000000000000', '0000000000000000', '0000000000000000', '0000000000000000', '0000000000000000', '0000000000000000', '0000000100111011', '0000001011110011', '0000000000000000', '0000000000000000', '0000000000000000', '0000000000000000', '0000000000000000', '0000000010100010', '0000000011010111', '0000000000000000', '0000000000000000', '0000000100010001', '0000000000000000', '0000000010010001', '0000000000000000', '0000000000000000', '0000000000000000', '0000000000000000', '0000000001001111', '0000000000000000', '0000000000000000', '0000000000000000', '0000000000000000', '0000001010000010', '0000000000000000', '0000000000000000', '0000000010110001', '0000000000000000', '0000000000110010', '0000000000000000', '0000000000000000', '0000000000000000', '0000000000000101', '0000000000000000', '0000000010101001', '0000000000000000', '0000000010111000', '0000000000000000', '0000000101100001', '0000000000000000', '0000000011100001', '0000000011010111', '0000000011010101', '0000000000000000', '0000000000000000', '0000000000010100', '0000000000000000', '0000000000000000', '0000000000000000', '0000000000000000', '0000000011001000', '0000000000000000', '0000000000000000', '0000000000000000', '0000000100001000', '0000000011011101', '0000000000000000', '0000000000000000', '0000000000000000', '0000000000000000', '0000000011111010', '0000000000000000', '0000000000100100', '0000000000000000', '0000000000100100', '0000000000000000', '0000000011101010', '0000000000000000', '0000000000000000', '0000000000000000', '0000000000000000', '0000000011001110', '0000000000000000', '0000000000000000', '0000000000000000', '0000000000000000', '0000000000000000', '0000000000000000', '0000000100110101', '0000000000000000', '0000000000000000', '0000000000000000', '0000000000000000', '0000000000000000', '0000000000000000', '0000000000000000', '0000000110001100', '0000000010001010', '0000000000000000', '0000000000000000', '0000000000000000', '0000000000000101', '0000000010010100', '0000000000000000', '0000000000000000', '0000000000000000', '0000000000010110', '0000000000000000', '0000000011111111', '0000000000000000', '0000000100001001', '0000000000000000', '0000001000011111', '0000000000000000', '0000000000110111', '0000000000000000', '0000000001011111', '0000000000000000', '0000000000000000', '0000000010100000', '0000000000000000', '0000000000000000', '0000000000000000', '0000000000000000', '0000000000000000', '0000000000000000', '0000000000000000', '0000000000000000', '0000000100100100', '0000000101000001', '0000000000000000', '0000000000000000', '0000000000000000', '0000000000000000', '0000000101101011', '0000000000000000', '0000000010001101', '0000000000000000', '0000000001100100', '0000000011001110', '0000000011000111', '0000000000000000', '0000000000000000', '0000000000000000', '0000000000000000', '0000000000000000', '0000000000000000', '0000000000000000', '0000000000000000', '0000000000000000', '0000000000000000', '0000000000000000', '0000000000010101', '0000000000000000', '0000000000000000', '0000000000000000', '0000000000000000', '0000000000000000', '0000000000011000', '0000000000000000', '0000000100110101', '0000000000000000', '0000000000000000', '0000000011011001', '0000000000000000', '0000000000000000', '0000000000000000', '0000000000000000', '0000000000000000', '0000000000000000', '0000000000000000', '0000000000000000', '0000000000000000', '0000000000000000', '0000000101000010', '0000000000110100', '0000000010110011', '0000000000000000', '0000000000000000', '0000000000000000', '0000000000000000', '0000000100110010', '0000000000000000', '0000000001000101', '0000000000000000', '0000000010000110', '0000000000000000', '0000000000000000', '0000000000000000', '0000000001000001', '0000000000000000', '0000000000000000', '0000000001000010', '0000000101000000', '0000000010111011', '0000000000000000', '0000000000000000', '0000000000000000', '0000000010111001', '0000000000000000', '0000000010010010', '0000000000000000', '0000000011110000', '0000001000011001', '0000000011111000', '0000000000000000', '0000000000000000', '0000000000000000', '0000000001101110', '0000000000000000', '0000000000000000', '0000000000000000', '0000000000000000', '0000000011010010', '0000000000000000', '0000000000000000', '0000000000000000', '0000000000001010', '0000000000000000', '0000000000000000', '0000000000000000', '0000000000000000', '0000000000000000', '0000000000000000', '0000000011100100', '0000000000100011', '0000000101100111', '0000000000000000', '0000000110111110', '0000000000000000', '0000000000001100', '0000000000000000', '0000000000001100', '0000000000000000', '0000000000000000', '0000000000000000', '0000000000010000', '0000000000000000', '0000000100000011', '0000000000011111', '0000000101110101', '0000000000000000', '0000000000101101', '0000000000000000', '0000000000000000', '0000000000000000', '0000000011010011', '0000000000000000', '0000000000000000', '0000000100100101', '0000000000000000', '0000000000000000', '0000000101101110', '0000000001101101', '0000000010011001', '0000000000000000', '0000000100100111', '0000000010100110', '0000000000000000', '0000000000101100', '0000000000000000', '0000000000000000', '0000000101011100', '0000000000000000', '0000000000000000', '0000000100110011', '0000000000000000', '0000000000000000', '0000000000000000', '0000000011110011', '0000000000000000', '0000000000000000', '0000000000000000', '0000000000000000', '0000000000000000', '0000000001100110', '0000000000000000', '0000000000000000', '0000000000000000', '0000000000000000', '0000000001100111', '0000000000000000', '0000000000000000', '0000000000000000', '0000000000000000', '0000000000111110', '0000000000000000', '0000000000000000', '0000001001101101', '0000000000000000', '0000000111100011', '0000000000000000', '0000000000000000', '0000000000000000', '0000000101110010', '0000000101110101', '0000000100011001', '0000000000000000', '0000000000000000', '0000000000000000', '0000000000000000', '0000000000000000', '0000000000110100', '0000000000000000', '0000000110000110', '0000000000000000', '0000000001011000', '0000000000000000', '0000000001000000', '0000000000000000', '0000000010100011', '0000000000000000', '0000000001011000', '0000000000000000', '0000000000000000', '0000000000000000', '0000001000111101', '0000000100011001', '0000000000000000', '0000000000000000', '0000000000101000', '0000000000000000', '0000000000000000', '0000000100110000', '0000000000000000', '0000000000011100', '0000000100001011', '0000000010001110', '0000000000000000', '0000000000000000', '0000000000000000', '0000000111010001', '0000000000000000', '0000000000110111', '0000000000000000', '0000000000000000', '0000000001111101', '0000000000000000', '0000000000000000', '0000000000000000', '0000000000000000', '0000000000111010', '0000000010011110', '0000000000000000', '0000000000000000', '0000000000000000', '0000000001111000', '0000000000000000', '0000000000000000', '0000000000000000', '0000000000111011', '0000000000000000', '0000000110100000', '0000000000000000', '0000000010010111', '0000000000000000', '0000000000000000', '0000000000101100', '0000000000000000', '0000000000001110', '0000000010001111', '0000000000000000', '0000000001000111', '0000000000000000', '0000000000000000', '0000000000000000', '0000000100011111', '0000000000000101', '0000000000000000', '0000000000000000', '0000000000000000', '0000000000110001', '0000000000000000', '0000000010100011', '0000000000000000', '0000000000000000', '0000000000110010', '0000000011001100', '0000000000000000', '0000000000000000', '0000000000000000', '0000001010000010', '0000000000000000', '0000000000000000', '0000000010110011', '0000000010011001', '0000000011011000', '0000000010000011', '0000000000000000', '0000000000000000', '0000000000000000', '0000000100000100', '0000000000111110', '0000000000000000', '0000000111101111', '0000000011010000', '0000000000000000', '0000000000000000', '0000000000000000', '0000000000000000', '0000000011101000', '0000000000000000', '0000000000000000', '0000000000000000', '0000000000000000', '0000000011010001', '0000000000000000', '0000000001001100', '0000000000000000', '0000000000000000', '0000000000000000', '0000000001011101', '0000000000000000', '0000000100101101', '0000000111101111', '0000000000000000', '0000000000100001', '0000000001111101', '0000000000000000', '0000000000110100', '0000000100100010', '0000000001110111', '0000000000000000', '0000000000000000', '0000000000000000', '0000000000000000', '0000000000000000', '0000000000000000', '0000001001111100', '0000000000000000', '0000000000111011', '0000000001110111', '0000000000000000', '0000000001100000', '0000000000000000', '0000000010111110', '0000000001110111', '0000001000001011', '0000000000000000', '0000000000000100', '0000000000000000', '0000000000000000', '0000000000000000', '0000000000111110', '0000000110101111', '0000000000000000', '0000000000000000', '0000000100000110', '0000000000001010', '0000000000000000', '0000000000000000', '0000000000100010', '0000000000000000', '0000000000000000', '0000000000000000', '0000000000101110', '0000000000000000', '0000000000000000', '0000000111111111', '0000000000000000', '0000000000000000', '0000000000000000', '0000000000000000', '0000000000000000', '0000000000000000', '0000000000000000', '0000000011001101', '0000000000000000', '0000000000000000', '0000000000111100', '0000000001001101', '0000000000000000', '0000000111000001', '0000000000000000', '0000000000000000', '0000000001111000', '0000000000000000', '0000000000000000', '0000000010101001', '0000000000000000', '0000000000000000', '0000000000000000', '0000000000000000', '0000000010110001', '0000000000000000', '0000000000100100', '0000000000000000', '0000000000000000', '0000000000000000', '0000000000000000', '0000000101111101', '0000000000000000', '0000000110001100', '0000000000000000', '0000000010111100', '0000000000000000', '0000000001110101', '0000000000000000', '0000000000000000', '0000000000000000', '0000000000000000', '0000001001001011', '0000000000000000', '0000001001001101', '0000000000000000', '0000000000000000', '0000000000000000', '0000000000000000', '0000000011000011', '0000000000000000', '0000000000000000', '0000000000000000', '0000000011111011', '0000000110101001', '0000000000000000', '0000000000000000', '0000000000000000', '0000000000000000', '0000000000000000', '0000000000000000', '0000000000100101', '0000000000000000', '0000001000111001', '0000000011101111', '0000000000000000', '0000000000000000', '0000000000000000', '0000000000000000', '0000000000000000', '0000000000000000', '0000000110011111', '0000000000000000', '0000000001010110', '0000000000000000', '0000000000000000', '0000000000000000', '0000000101000000', '0000000000000000', '0000000000000000', '0000000000000000', '0000000000000000', '0000000000000000', '0000000000000000', '0000000000000000', '0000000000010000', '0000000000000000', '0000000010001010', '0000000000101110', '0000000000000000', '0000000000000000', '0000000000000000', '0000000000000000', '0000000000000000', '0000000000000000', '0000000011111111', '0000000000000000', '0000000011110100', '0000000000000000', '0000000110010101', '0000000000000000', '0000000000000000', '0000000000000000', '0000000000000000', '0000000000000000', '0000000000000000', '0000000101110010', '0000000000000000', '0000001010100011', '0000000000000000', '0000000011011000', '0000000000000000', '0000000000000000', '0000000011000111', '0000000000000000', '0000000000000000', '0000000000000000', '0000000011000001', '0000001001010100', '0000000000000000', '0000000000000000', '0000000000000011', '0000000000000000', '0000001000000111', '0000000000000000', '0000000000110010', '0000000000000000', '0000000111010000', '0000001011101100', '0000000001100110', '0000000000000000', '0000000000000000', '0000000000000000', '0000000000000000', '0000000000000000', '0000000100110000', '0000000000000000', '0000000000000000', '0000000010110000', '0000000000000000', '0000000000000000', '0000000000000000', '0000000000000000', '0000000000000000', '0000001000010111', '0000000000000000', '0000000011011011', '0000000000000000', '0000000000000000', '0000000010010101', '0000000101011110', '0000000000000000', '0000000000000000', '0000000000000000', '0000000100110111', '0000000000000000', '0000000000000000', '0000000000000000', '0000000000000000', '0000000110101110', '0000000000000000', '0000000001111001', '0000000000000000', '0000000000000000', '0000000000000000', '0000000000000000', '0000000000000000', '0000000000000000', '0000000000000000', '0000000000000000', '0000000010000001', '0000000101010110', '0000000000000000', '0000000000000000', '0000000000000000', '0000000000000000', '0000000000000000', '0000000000000000', '0000000000101101', '0000000000000000', '0000000101101001', '0000000000000000', '0000000001000010', '0000000000000000', '0000000000000000', '0000000000000000', '0000000011011001', '0000010000001100', '0000000000000000', '0000000000000000', '0000000000000000', '0000000001110101', '0000000000000000', '0000000101010001', '0000000101101010', '0000000000000000', '0000000000000000', '0000000000000000', '0000000000000000', '0000000000000000', '0000000000000000', '0000000000000000', '0000000010001010', '0000000000000000', '0000000000000000', '0000000000000000', '0000001100010101', '0000000000000000', '0000000111111011', '0000000101101100', '0000000000000000', '0000000000000000', '0000000000000000', '0000000000010010', '0000000110010111', '0000001000101000', '0000000010010100', '0000000000000000', '0000000100100001', '0000000011011111', '0000000000000000', '0000000000000000', '0000000000000000', '0000001110000100', '0000000000000000', '0000000110000111', '0000000000000000', '0000000000000000', '0000000000000000', '0000000011110000', '0000000000000000', '0000001010110110', '0000000000000000', '0000000000000000', '0000000000000000', '0000000101100111', '0000000000000000', '0000000000110101', '0000000000000000', '0000000000000000', '0000000000000000', '0000000000000000', '0000000000000000', '0000000000000000', '0000000000000101', '0000000000000000', '0000000000000000', '0000000000000000', '0000000000000000', '0000000000000000', '0000000000000000', '0000001100011100', '0000000000000000', '0000000000000000', '0000000000000000', '0000000010001100', '0000000000000000', '0000000010000001', '0000000001111000', '0000000000000000', '0000000000000000', '0000000000000000', '0000000000000000', '0000000000000000', '0000000000000000', '0000001010000100', '0000000000000000', '0000000000000000', '0000000000000000', '0000000001000101', '0000000000011011', '0000000011111100', '0000000000011001', '0000000000000000', '0000000000000000', '0000000000000000', '0000000000000000', '0000000110000011', '0000000001101001', '0000000110010111', '0000000000000000', '0000000000000000', '0000000000101000', '0000000000000000', '0000000000000000', '0000000010000110', '0000000000000000', '0000001000000100', '0000000000000000', '0000000010101110', '0000000000000000', '0000000011100100', '0000000000000000', '0000000000111000', '0000000000000000', '0000000101001010', '0000000000000000', '0000000000000000', '0000000000000000', '0000000001101110', '0000000001001000', '0000000001111000', '0000000000000000', '0000000000000000', '0000000000000000', '0000000000000000', '0000000000000000', '0000000001100001', '0000000000000000', '0000000010100000', '0000000100100100', '0000000001111010', '0000000001111111', '0000000000000000', '0000000000000000', '0000000001100111', '0000000000000000', '0000000000000000', '0000000000000000', '0000000011011100', '0000000110011001', '0000000010110011', '0000000000000000', '0000000000000000', '0000000000000000', '0000000000000000', '0000000000000000', '0000000000000000', '0000000000000000', '0000000000000000', '0000000000000000', '0000000000000000', '0000000000000000', '0000000000000000', '0000000000000000', '0000000000000000', '0000000100110100', '0000000010111111', '0000001000100001', '0000000000000000', '0000000000000000', '0000000100111100', '0000000000000000', '0000000100101011', '0000000000010111', '0000000000000000', '0000000000000000', '0000000000000000', '0000000100011010', '0000000100101010', '0000000000000000', '0000000110111111', '0000000000000000', '0000000000000000', '0000000000000000', '0000000010011000', '0000000000000000', '0000000000000000', '0000000000000000', '0000000000000000', '0000000000000000', '0000000000000000', '0000000111001100', '0000000011110010', '0000000000000000', '0000000000000000', '0000000000000000', '0000000000000000', '0000000001110100', '0000000101100011', '0000000011100001', '0000000000000000', '0000000110100110', '0000000101011101', '0000000000000000', '0000000010100111', '0000000000000000', '0000000000000000', '0000000000000000', '0000001011110010', '0000000000000000', '0000000000000000', '0000000000000000', '0000000000000000', '0000000000000101', '0000000000000000', '0000000000000000', '0000000000000000', '0000000000000000', '0000000111101100', '0000000000000000', '0000000000000000', '0000000000000000', '0000000000000000', '0000000100001100', '0000000000000000', '0000000011100101', '0000000000000000', '0000000110001000', '0000000000000000', '0000000000000000', '0000001010110101', '0000000011001100', '0000000000000000', '0000000000000000', '0000000000000000', '0000000000000000', '0000001110100110', '0000000000000000', '0000000000000000', '0000000010100001', '0000001011010000', '0000000001110000', '0000000000110110', '0000000000000000', '0000001100011010', '0000000000000000', '0000000000000000', '0000000011100111', '0000000000000000', '0000000000000000', '0000000000000000', '0000000000000000', '0000001010000000', '0000000000000000', '0000000000000000', '0000000000000000', '0000001000010101', '0000000000000000', '0000000010000010', '0000000000000000', '0000000000000000', '0000000010111010', '0000000100111010', '0000000001110111', '0000000001011101', '0000000000000000', '0000000010101010', '0000000000000000', '0000000000001000', '0000000010111011', '0000000010000111', '0000000000000000', '0000000000000000', '0000000000000000', '0000000000000000', '0000000000000000', '0000000000000000', '0000000000000000', '0000000000000000', '0000000000000000', '0000000000000000', '0000000000000000', '0000000000000000', '0000000000000000', '0000000000000000', '0000000110010011', '0000000101111011', '0000000000000000', '0000000000000000', '0000000000000000', '0000000000000000', '0000000000000000', '0000001110010011', '0000000000000000', '0000000110111001', '0000000000000000', '0000000000000000', '0000000000000000', '0000000000000000', '0000000001100001', '0000001001111000', '0000000000000000', '0000000000000000', '0000000001001001', '0000000101000011', '0000000000000000', '0000000010000111', '0000000000000000', '0000000010100011', '0000000000000000', '0000000000000000', '0000000000000000', '0000000011110010', '0000000000000000', '0000000000000000', '0000000000000000', '0000000100101010', '0000000000000000', '0000000000000000', '0000000000000000', '0000000000000000', '0000000000000000', '0000000010110101', '0000000000001011', '0000000000000000', '0000000000000000', '0000000010100000', '0000000010000011', '0000000011011000', '0000000000000000', '0000000100110011', '0000000000000000', '0000000001001001', '0000000010100001', '0000000011011101', '0000000000000000', '0000000000000000', '0000000000000000', '0000000000001010', '0000000000000000', '0000000000000000', '0000000001001111', '0000000010011000', '0000000000000000', '0000000000000000', '0000000000000000', '0000000000000000', '0000000000000000', '0000000000000000', '0000000000000000', '0000000000000000', '0000000001110110', '0000000000000000', '0000000000000000', '0000000000000000', '0000000000000000', '0000000000000000', '0000000000000000', '0000000000001011', '0000000000000000', '0000000000000000', '0000000000000000', '0000000000000000', '0000000000000000', '0000000000000000', '0000000000000000', '0000000110011101', '0000000001011011', '0000000001110110', '0000000000100100', '0000000000000000', '0000000000000000', '0000000000000000', '0000000000000000', '0000000000110111', '0000000000000000', '0000000001101011', '0000000000000000', '0000000010010001', '0000000000000000', '0000000010000100', '0000001110100110', '0000001000010111', '0000000000000000', '0000000000000000', '0000000100110000', '0000000000000000', '0000000000000000', '0000000000000000', '0000000111100000', '0000001111100111', '0000000000000000', '0000000000000000', '0000000000000000', '0000000010001111', '0000000000000000', '0000000000000000', '0000000000000000', '0000000000000000', '0000000000000000', '0000000000000000', '0000000000000000', '0000000000100101', '0000000001001110', '0000000000000000', '0000000000000000', '0000000010110011', '0000000000000000', '0000000000000000', '0000000000000000', '0000000000000000', '0000000000000000', '0000000010100011', '0000000000000000', '0000000000000000', '0000000000000000', '0000000000000000', '0000000000000000', '0000000110001110', '0000000000000000', '0000000000000000', '0000000000000000', '0000000000111010', '0000000000000000', '0000000000010000', '0000000000000000', '0000000000000000', '0000000000000000', '0000000000000000', '0000000000000000', '0000000000000000', '0000000001011111', '0000000010000110', '0000000000000000', '0000000000000000', '0000000000000000', '0000000101010000', '0000000000000000', '0000000000000000', '0000000000000000', '0000000101110110', '0000000000000000', '0000000000000000', '0000000000000000', '0000000000000000', '0000010000011110', '0000000100111111', '0000000000100111', '0000000000000000', '0000001111011110', '0000000000000000', '0000000000000000', '0000000000000000', '0000000001011011', '0000000111111011', '0000000000000000', '0000000000000000', '0000000000000000', '0000001100010111', '0000000101011000', '0000000000000000', '0000000000000000', '0000000011011110', '0000000000000000', '0000000000000000', '0000000000000000', '0000000000000000', '0000000000000000', '0000000000110101', '0000000000111011', '0000000101010011', '0000000000000000', '0000000000000000', '0000000000000000', '0000000000000000', '0000000110001011', '0000000101011000', '0000000000000000', '0000000000000000', '0000000000111100', '0000000000000000', '0000000000000000', '0000000011010011', '0000000000000000', '0000000000000000', '0000000000000000', '0000000000000000', '0000000000000000', '0000000000000000', '0000000000000000', '0000000000000000', '0000000000000000', '0000000010011001', '0000000000000000', '0000000000000000', '0000000001000010', '0000000000000000', '0000000000011001', '0000000000000000', '0000000000000000', '0000000100101010', '0000000000000000', '0000000000000000', '0000000000000000', '0000000111101010', '0000000000000000', '0000000000000000', '0000000000000000', '0000000000000000', '0000001000011110', '0000000001010101', '0000000011000101', '0000000000000000', '0000010001011111', '0000000000000000', '0000000101001000', '0000000000000000', '0000000000000000', '0000000001011001', '0000000000000000', '0000000000010110', '0000000000000000', '0000001100010101', '0000001010111000', '0000000000000000', '0000000000000000', '0000001100101101', '0000000000000000', '0000000000000000', '0000000000000000', '0000000000000000', '0000000000000000', '0000000110110000', '0000000110010000', '0000000101111000', '0000000000000000', '0000000000000000', '0000000000000000', '0000000000000000', '0000001010011110', '0000000110001011', '0000000000000000', '0000000000000000', '0000001000001011', '0000000000000000', '0000000000000000', '0000000000000000', '0000000000000000', '0000000000000000', '0000000000000000', '0000000000000000', '0000000000000000', '0000000000000000', '0000000000000000', '0000000000000000', '0000000101101011', '0000000000000000', '0000000000000000', '0000000101110001', '0000000000000000', '0000000001001001', '0000000000000000', '0000000000000000', '0000000000000000', '0000000000000000', '0000000000000000', '0000000101010010', '0000000000000000', '0000000000111100', '0000000000000000', '0000001010111111', '0000000000110001', '0000000100100110', '0000000101111000', '0000000000000000', '0000000000000000', '0000000000000000', '0000000100001110', '0000000001111110', '0000000000000000', '0000000000000000', '0000000100001111', '0000000011010101', '0000000000000000', '0000000000000000', '0000000000000000', '0000000101111101', '0000000001101101', '0000000000000000', '0000000000000000', '0000000000000000', '0000000000000000', '0000000000000000', '0000000000000000', '0000000000000000', '0000000000000000', '0000000000000000', '0000000000000000', '0000000000000000', '0000000000000000', '0000000000000000', '0000000000000000', '0000000000000000', '0000000001010000', '0000000000000000', '0000000010011101', '0000000000000000', '0000000000000000', '0000000100011101', '0000000000000000', '0000000001010101', '0000000000000000', '0000000000000000', '0000000000000000', '0000000001000110', '0000000000000000', '0000000000000000', '0000000000000000', '0000000000000000', '0000000001010110', '0000000000000000', '0000000000000000', '0000000010110001', '0000000000000000', '0000000101010010', '0000000001111101', '0000000000000000', '0000000000000000', '0000000000000000', '0000000000000000', '0000000000000000', '0000000000000000', '0000000000000000', '0000000000110001', '0000001100100101', '0000000000000000', '0000000000000000', '0000000000000000', '0000000000111010', '0000000000000000', '0000000000000000', '0000000001111001', '0000000001000111', '0000000000000000', '0000000000000000', '0000000000111110', '0000000101011111', '0000000000000000', '0000000000000000', '0000000001011100', '0000001000100111', '0000000100001000', '0000000000000000', '0000000000000000', '0000001001101111', '0000000000000000', '0000000000000000', '0000000000000000', '0000000000000000', '0000000000000000', '0000000000000000', '0000000011101011', '0000000000000000', '0000000000000000', '0000000000000000', '0000000000000000', '0000000000000000', '0000000001110000', '0000000000000000', '0000000000000000', '0000000000000000', '0000000100011001', '0000000011001011', '0000000000000000', '0000000000100111', '0000000000000000', '0000000011000100', '0000000000000000', '0000000001110001', '0000000000000000', '0000000000001000', '0000000000000000', '0000000000000000', '0000000000000000', '0000001001001011', '0000000000000000', '0000000101000010', '0000000000000000', '0000000001111010', '0000000000000000', '0000000000000000', '0000000000000000', '0000000000000000', '0000000000000000', '0000000000000000', '0000000000000000', '0000000100100101', '0000000000000000', '0000001101110011', '0000000000000000', '0000000000000000', '0000000000000000', '0000000001000110', '0000000000000000', '0000000000000000', '0000000000000000', '0000000101000100', '0000000011000000', '0000000000000000', '0000000000000000', '0000000101000100', '0000000000000000', '0000000000000000', '0000000000000000', '0000001001110010', '0000000011011110', '0000000100100011', '0000000000000000', '0000000010001011', '0000000000000000', '0000000000000000', '0000000000000000', '0000000000000000', '0000000000000000', '0000000000000000', '0000000101001011', '0000000000000000', '0000000000000000', '0000000000000000', '0000000000000000', '0000000001100110', '0000000000000000', '0000000000000000', '0000000000000000', '0000000000000000', '0000000101000000', '0000000000000000', '0000000000000000', '0000000000000000', '0000000000000000', '0000000000000000', '0000000000000000', '0000000000000000', '0000001001110001', '0000000001011111', '0000000000000000', '0000000101011111', '0000000000000000', '0000000000000000', '0000000000000000', '0000000000000000', '0000000000000000', '0000000100101010', '0000001000110011', '0000000000000000', '0000000000000000', '0000000000000000', '0000000000000000', '0000000000000000', '0000000000000000', '0000000000101111', '0000000010010101', '0000000110010100', '0000001000001011', '0000000000000000', '0000000000000000', '0000000010100110', '0000000000001011', '0000000000000000', '0000000000000000', '0000000011011011', '0000000000000000', '0000000000000000', '0000001001010111', '0000001001010000', '0000000101010011', '0000000000000000', '0000000111010110', '0000000000000000', '0000000000000000', '0000001001011110', '0000000000000000', '0000000000000000', '0000000000000000', '0000000000000000', '0000001101001101', '0000000000000000', '0000000000000000', '0000000000000000', '0000000000000000', '0000000000000000', '0000000000000000', '0000000000000000', '0000000000000000', '0000000101011001', '0000000000000000', '0000000000000000', '0000000000000000', '0000000000000000', '0000000000101111', '0000000111000010', '0000000000000000', '0000000000000000', '0000000000000000', '0000000000000000', '0000000000000000', '0000000000000000', '0000000110100001', '0000000011110111', '0000000000000000', '0000000000000000', '0000000000000000', '0000000000000000', '0000000000000000', '0000001011000011', '0000000001000110', '0000000011000110', '0000001001011001', '0000000011100110', '0000000000000000', '0000000000000000', '0000000000000000', '0000000000000000', '0000000000000000', '0000000010101011', '0000000000001011', '0000000000101100', '0000001101011110', '0000000000000000', '0000000010000011', '0000000111000001', '0000000010000101', '0000000000000000', '0000000000000000', '0000000000000000', '0000000000000000', '0000000000000000', '0000001000111100', '0000001000100000', '0000000000000000', '0000000000000000', '0000001011001110', '0000000000000000', '0000000000000000', '0000001001111100', '0000000000000000', '0000000000000000', '0000000000000000', '0000000000000000', '0000000110101000', '0000000001010101', '0000000000000000', '0000000000000000', '0000000001011001', '0000000000000000', '0000000000000000', '0000000000000000', '0000000000000000', '0000000101100011', '0000000000000000', '0000000000000000', '0000000011001000', '0000000000000000', '0000000001010100', '0000000000000000', '0000000100001101', '0000000000000000', '0000000000000000', '0000000000000000', '0000000000000000', '0000000000000000', '0000000000000000', '0000000000000000', '0000000000000000', '0000000000000000', '0000000001010000', '0000000001011111', '0000000000000000', '0000001011011000', '0000000011000100', '0000000000000000', '0000000101101011', '0000000101000111', '0000000000000000', '0000000000000000', '0000000000000000', '0000000000000000', '0000000000000000', '0000000101001111', '0000000000000000', '0000000010101010', '0000000101100101', '0000000000000000', '0000000011000011', '0000000010101000', '0000000000000000', '0000000000000000', '0000000000000000', '0000000000000000', '0000000000000000', '0000000000000000', '0000000111101000', '0000000000000000', '0000000000000000', '0000000000000000', '0000000011010100', '0000000000000000', '0000000000000000', '0000000110001111', '0000000000000000', '0000000001000011', '0000000000000000', '0000000000000000', '0000000000000000', '0000000010100101', '0000000000000000', '0000000010001010', '0000000010001010', '0000000000000000', '0000000000000000', '0000000000000000', '0000000000000000', '0000000001110101', '0000000010001111', '0000000000000000', '0000001010110001', '0000000000000000', '0000000000000000', '0000000000000000', '0000000011000100', '0000000000000000', '0000000000000000', '0000000000000000', '0000000000000000', '0000000000010100', '0000000000000000', '0000000000000000', '0000000000000000', '0000000000000000', '0000000000000000', '0000000000000000', '0000000000000000', '0000000110001110', '0000000000101100', '0000000010101001', '0000000001001010', '0000000000000000', '0000000000000000', '0000000000000000', '0000000000000000', '0000000000100110', '0000000000000000', '0000000000010001', '0000000000000000', '0000000000110011', '0000000000000000', '0000000001101001', '0000001010010011', '0000000101010110', '0000000000000000', '0000000000000000', '0000000010001011', '0000000001000001', '0000000000000000', '0000000000000000', '0000000101111010', '0000001010101001', '0000000000000000', '0000000000000000', '0000000000000000', '0000000000000000', '0000000000000000', '0000000000000000', '0000000000000000', '0000000000000000', '0000000000000000', '0000000000000000', '0000000000000000', '0000000000011000', '0000000000000000', '0000000000000000', '0000000000000000', '0000000001001010', '0000000000000000', '0000000000000000', '0000000000000000', '0000000000000000', '0000000000000000', '0000000001101000', '0000000000000110', '0000000001100111', '0000000000000000', '0000000000000000', '0000000000000000', '0000000100110111', '0000000000000000', '0000000000000000', '0000000000000000', '0000000001111101', '0000000000000000', '0000000000000000', '0000000000000000', '0000000000000000', '0000000000000000', '0000000000000000', '0000000000000000', '0000000000000000', '0000000000011011', '0000000001001110', '0000000000000000', '0000000000000000', '0000000000000000', '0000000011011101', '0000000000000000', '0000000000000000', '0000000000000000', '0000000011000100', '0000000000000000', '0000000011110111', '0000000000000000', '0000000001000101', '0000001100011100', '0000000100011111', '0000000000000000', '0000000010001101', '0000001010100110', '0000000000000000', '0000000000000000', '0000000000000000', '0000000010000111', '0000000100101110', '0000000000000000', '0000000000000000', '0000000000000000', '0000001000000001', '0000000010000101', '0000000000000000', '0000000000000000', '0000000010011101', '0000000000000000', '0000000000000000', '0000000000000000', '0000000000000000', '0000000000000000', '0000000000000000', '0000000000010101', '0000000011101100', '0000000000000000', '0000000000000000', '0000000000000000', '0000000000000000', '0000000001001100', '0000000010001011', '0000000001111010', '0000000000000000', '0000000000000000', '0000000000000000', '0000000011100100', '0000000010110111', '0000000000000000', '0000000001010001', '0000000000000000', '0000000010011010', '0000000000000000', '0000000000000000', '0000000000000000', '0000000000000000', '0000000011000111', '0000000110001000', '0000000000000000', '0000000000000000', '0000000001010111', '0000000000000000', '0000000000000000', '0000000000000000', '0000000000000000', '0000000010001101', '0000000000000000', '0000000000000000', '0000000000000000', '0000000111010010', '0000000000000000', '0000000000000000', '0000000000000000', '0000000000000000', '0000000110010000', '0000000010010100', '0000000000000000', '0000000001010100', '0000001010100100', '0000000000000000', '0000000010101101', '0000000000000000', '0000000000000000', '0000000000000100', '0000000000000000', '0000000000000000', '0000000000000000', '0000001011001100', '0000000110101001', '0000000000000000', '0000000000000000', '0000001011000100', '0000000000000000', '0000000000000000', '0000000000000000', '0000000000000000', '0000000000000000', '0000000100100100', '0000000001000000', '0000000101110001', '0000000000000000', '0000000000000000', '0000000000000000', '0000000000000000', '0000000110100010', '0000000000100011', '0000000000000000', '0000000000000000', '0000000111001010', '0000000000000000', '0000000001101111', '0000000000000000', '0000000000000000', '0000000000000000', '0000000000000000', '0000000000000000', '0000000000000000', '0000000000000000', '0000000000000000', '0000000000000000', '0000000010111011', '0000000000000000', '0000000000000000', '0000000011000001', '0000000000000000', '0000000001000000', '0000000000100101', '0000000000000000', '0000000000000000', '0000000000000000', '0000000000000000', '0000000100100001', '0000000000000000', '0000000000000101', '0000000000000000', '0000001001111111', '0000000001101101', '0000000110011111', '0000000100001100', '0000000000000000', '0000000000000000', '0000000000000000', '0000000001001001', '0000000011010000', '0000000000000000', '0000000000000000', '0000000011101111', '0000000011000110', '0000000000000000', '0000000000000000', '0000000000000000', '0000000001110101', '0000000000000000', '0000000000000000', '0000000000000000', '0000000000000000', '0000000000000000', '0000000000000000', '0000000010010110', '0000000000000000', '0000000000000000', '0000000000000000', '0000000000000000', '0000000000000000', '0000000000000000', '0000000000000000', '0000000000000000', '0000000000000000', '0000000000000000', '0000000000000000', '0000000100111100', '0000000000000000', '0000000000000000', '0000000011111000', '0000000000000000', '0000000000100111', '0000000000000000', '0000000000000000', '0000000000000000', '0000000000000000', '0000000000000000', '0000000000000000', '0000000000000000', '0000000000000000', '0000000001001100', '0000000000000000', '0000000000000000', '0000000011110110', '0000000000000000', '0000000010110110', '0000000010010110', '0000000000000000', '0000000000000000', '0000000000000000', '0000000000000000', '0000000000000000', '0000000000000000', '0000000000000000', '0000000100100011', '0000001010001011', '0000000011011011', '0000000000000000', '0000000000000000', '0000000000111101', '0000000000011100', '0000000000000000', '0000000000000000', '0000000000111101', '0000000000000000', '0000000000000000', '0000000001111110', '0000000111011100', '0000000000000000', '0000000000000000', '0000000101100011', '0000000100010011', '0000000000111010', '0000000000000000', '0000000000000000', '0000000110110001', '0000000000000000', '0000000000000000', '0000000110011111', '0000000000000000', '0000000000000000', '0000000000000000', '0000000001111110', '0000000000000000', '0000000000000000', '0000000000000000', '0000000000000000', '0000000000001110', '0000000000000000', '0000000000000000', '0000000101011000', '0000000000000000', '0000000011011101', '0000000010111111', '0000000000000000', '0000000000101100', '0000000000000000', '0000000011101110', '0000000000000000', '0000000000000010', '0000000000000000', '0000000000000000', '0000000000000000', '0000000000000000', '0000000000000000', '0000001001110110', '0000000000000000', '0000000101001101', '0000000000000000', '0000000000111000', '0000000000000000', '0000000000000000', '0000000000000000', '0000000000000000', '0000000000000000', '0000000000000000', '0000000000000000', '0000000100100111', '0000000000111110', '0000001001111100', '0000000000000000', '0000000000000000', '0000000000000000', '0000000001101011', '0000000000000000', '0000000000000000', '0000000000000000', '0000000011001010', '0000000010000010', '0000000000000000', '0000000000000000', '0000000110101111', '0000000000000000', '0000000000000000', '0000000000000000', '0000000110010111', '0000000010011011', '0000000100000111', '0000000000000000', '0000000010101010', '0000000000000000', '0000000000000000', '0000000000000000', '0000000000011011', '0000000000000000', '0000000000000000', '0000000011101101', '0000000000000000', '0000000000000000', '0000000000000000', '0000000000000000', '0000000011100010', '0000000000000000', '0000000000000000', '0000000010000001', '0000000000000000', '0000000101000101', '0000000000000000', '0000000000000000', '0000000000000000', '0000000000000000', '0000000000000000', '0000000000000000', '0000000000000000', '0000001100000111', '0000000000000010', '0000000000000000', '0000001000101110', '0000000000000000', '0000000000000000', '0000000000111111', '0000000000000000', '0000000000000000', '0000000100101011', '0000001011101111', '0000000000000000', '0000000000000000', '0000000000000000', '0000000000000000', '0000000000000000', '0000000000000000', '0000000000000000', '0000000000000000', '0000000011100001', '0000000101101000', '0000000000000000', '0000000000000000', '0000000000010101', '0000000000100011', '0000000000000000', '0000000000000000', '0000000101011000', '0000000000000000', '0000000000000000', '0000001000011010', '0000001011111110', '0000000010010100', '0000000000000000', '0000000101100100', '0000000000000000', '0000000000000000', '0000001000101110', '0000000001101100', '0000000000000000', '0000000000000000', '0000000000000000', '0000001011000001', '0000000000000000', '0000000000000000', '0000000000000000', '0000000000000000', '0000000000000000', '0000000000000000', '0000000000000000', '0000000000000000', '0000000101000111', '0000000000000000', '0000000000011000', '0000000000000000', '0000000000000000', '0000000000001010', '0000001000111111', '0000000000000000', '0000000000000000', '0000000000000000', '0000000000000000', '0000000000000000', '0000000000000000', '0000000111101011', '0000000101100110', '0000000000000000', '0000000000000000', '0000000000000000', '0000000000000000', '0000000000000000', '0000001000101110', '0000000000000000', '0000000001101110', '0000001001101111', '0000000001110000', '0000000000000000', '0000000000000000', '0000000000000000', '0000000000000000', '0000000000000000', '0000000101010001', '0000000000000000', '0000000000000000', '0000001011010011', '0000000000000000', '0000000100110011', '0000000011110110', '0000000011001110', '0000000000000000', '0000000000000000', '0000000000000000', '0000000000000000', '0000000000000000', '0000001010000100', '0000001000001010', '0000000000000000', '0000000000000000', '0000001010000011', '0000000000000000', '0000000000000000', '0000000110100000', '0000000000000000', '0000000000000000', '0000000000000000', '0000000000000000', '0000000100000111', '0000000000000000', '0000000000000000', '0000000010010100', '0000000000000000', '0000000000000000', '0000000000000000', '0000000000000000', '0000000000000000', '0000000011010011', '0000000000000000', '0000000000000000', '0000000000000000', '0000000000000000', '0000000011000101', '0000000000111110', '0000000100100011', '0000000000000000', '0000000000000000', '0000000000000000', '0000000000000000', '0000000000000000', '0000000000000000', '0000000000000000', '0000000000000000', '0000000000000000', '0000000110010011', '0000000000010100', '0000000000000000', '0000001000011110', '0000000001000000', '0000000000000000', '0000000101010011', '0000000000010001', '0000000000000000', '0000000000000000', '0000000000000000', '0000000000000000', '0000000000000000', '0000000101110100', '0000000000000000', '0000000001110000', '0000000010010100', '0000000000000000', '0000000010000000', '0000000000000000', '0000000000000000', '0000000000000000', '0000000000000000', '0000000000000000', '0000000000000000', '0000000000000000', '0000000111000110', '0000000000000000', '0000000000000000', '0000000000000000', '0000000000111111', '0000000000000000', '0000000000001110', '0000000001101010', '0000000000000000', '0000000001010101', '0000000000000000', '0000000000000000', '0000000000000000', '0000000000000000', '0000000000000000', '0000000010100000', '0000000011000000', '0000000000000000', '0000000000000000', '0000000000000000', '0000000000000000', '0000000000000000', '0000000110110011', '0000000000000000', '0000000100110001', '0000000000000000', '0000000001111100', '0000000000000000', '0000000011101100', '0000000000000000', '0000000000000000', '0000000000000000', '0000000000000000', '0000000000000000', '0000000000100101', '0000000001100000', '0000000000000000', '0000000000000000', '0000000000000000', '0000000000000000', '0000000000000000', '0000000000000000', '0000000000000000', '0000000000010101', '0000000010101111', '0000000000000000', '0000000000000000', '0000000000000000', '0000000000000000', '0000000000000000', '0000000000000000', '0000000000000000', '0000000100110101', '0000001000000100', '0000000111011000', '0000000000000000', '0000000000000000', '0000000000000000', '0000000000110011', '0000000011001000', '0000000000000000', '0000000000000000', '0000000000000000', '0000000000000000', '0000000000000000', '0000000010101111', '0000000001000001', '0000000000000000', '0000000001010100', '0000000000000000', '0000000000000000', '0000000101000100', '0000000101110000', '0000000000000000', '0000000000001110', '0000000000000000', '0000001011000110', '0000000000000000', '0000000000000000', '0000000000000000', '0000000000011111', '0000000000000000', '0000000000000000', '0000000000000000', '0000000000000000', '0000000101011010', '0000000000000000', '0000000000000000', '0000000110001001', '0000000000000000', '0000000000000000', '0000000001110100', '0000000000000000', '0000000000000000', '0000000000000000', '0000000000000000', '0000000000000000', '0000000000000000', '0000000000000000', '0000000010110010', '0000000000000000', '0000000000000000', '0000000000000000', '0000000100001001', '0000000000000000', '0000001001010100', '0000000000000000', '0000000000000000', '0000000011100111', '0000000000000000', '0000000000000000', '0000000000000000', '0000000000000000', '0000000000000000', '0000000000000000', '0000000011100101', '0000000000000011', '0000001000000011', '0000000110000101', '0000000000000000', '0000000000000000', '0000000100010111', '0000000011011000', '0000000000000000', '0000000000000000', '0000000000000000', '0000000000000000', '0000000000000000', '0000000000000000', '0000000100100001', '0000000000000000', '0000000000000000', '0000000100011000', '0000000000011011', '0000000000000000', '0000001010011101', '0000000000000000', '0000000000000000', '0000000000100111', '0000000000000000', '0000000100110101', '0000000000000000', '0000000000000000', '0000000000000000', '0000000000000000', '0000000000000000', '0000000000000000', '0000000000000000', '0000000000000000', '0000001001010101', '0000000000000000', '0000000000000000', '0000000110011101', '0000000000000000', '0000000000000000', '0000000000000000', '0000000000000000', '0000000000000000', '0000000000000000', '0000000000000000', '0000000000000000', '0000000000000000', '0000000000000000', '0000000000000000', '0000000000000000', '0000000000000000', '0000000000000000', '0000001000110100', '0000000000000000', '0000000110110010', '0000000011110011', '0000000000000000', '0000000011000010', '0000000000000000', '0000000000000000', '0000000001011010', '0000000000000000', '0000000000000000', '0000000000000000', '0000000010000001', '0000000000000000', '0000000000000000', '0000000010110001', '0000000000000000', '0000000000000000', '0000000000000000', '0000000100011010', '0000000000000000', '0000000000000000', '0000000000000000', '0000000000000000', '0000000000000000', '0000000101100101', '0000000101010000', '0000000000110011', '0000000001011000', '0000000000110001', '0000000000000000', '0000000000000000', '0000000000100100', '0000000000000000', '0000000100001100', '0000000011000001', '0000000111100001', '0000000000000000', '0000000000000000', '0000000000000000', '0000000000000000', '0000000110001101', '0000000000011011', '0000000000000000', '0000000000000000', '0000000000000000', '0000000001110000', '0000000001010101', '0000000000000000', '0000000011011110', '0000000000000000', '0000000001001011', '0000000000000000', '0000000000000000', '0000000000000000', '0000000000000000', '0000000000000000', '0000000000110101', '0000000000000000', '0000000011000100', '0000000110110101', '0000000000000000', '0000000010111010', '0000000000000000', '0000000000000000', '0000000000101111', '0000000000000110', '0000000000000000', '0000000000100000', '0000000110000100', '0000000000000000', '0000000000000000', '0000000000000000', '0000000000000000', '0000000000110000', '0000000000000000', '0000000000000000', '0000000110011001', '0000000000000000', '0000000111101001', '0000000000000000', '0000000000000000', '0000000001000101', '0000001001110101', '0000000000000000', '0000000000000000', '0000000000000000', '0000000000000000', '0000000000000000', '0000000101101001', '0000000111001000', '0000000001010011', '0000000000000000', '0000001001010111', '0000000000000000', '0000000000000000', '0000000011001000', '0000000000000000', '0000000000000000', '0000000000000000', '0000000000000000', '0000001011011110', '0000000001001011', '0000000000000000', '0000000000000000', '0000000000000000', '0000000000000000', '0000000000000000', '0000000000000000', '0000000000000000', '0000000000101110', '0000000000000000', '0000000000100011', '0000000000000000', '0000000000000000', '0000000000000000', '0000000001011110', '0000000000000000', '0000000000000000', '0000000000000000', '0000000000000000', '0000000011111011', '0000000000000000', '0000000000000000', '0000000100000001', '0000000000000000', '0000000000000000', '0000000000000000', '0000000000000000', '0000000000000000', '0000000011000110', '0000000000000000', '0000000000000000', '0000001001100101', '0000000000000000', '0000000000000000', '0000000000000000', '0000000000000000', '0000000000000000', '0000000000000000', '0000000000100101', '0000000010101011', '0000000000000000', '0000000001001000', '0000000000000000', '0000000010110110', '0000000000010110', '0000000110010000', '0000000000000000', '0000000011111011', '0000000000000000', '0000000000000000', '0000000000000000', '0000000011110011', '0000000010110111', '0000000000000000', '0000000000000000', '0000001010001100', '0000000000000000', '0000000000000000', '0000000101001010', '0000000000000000', '0000000000000000', '0000000000000000', '0000000000000000', '0000000000000000', '0000000001111101', '0000000000000000', '0000000001111001', '0000000000000000', '0000000000000000', '0000000000000000', '0000000000000000', '0000000000000000', '0000000000000000', '0000000000000000', '0000000000000000', '0000000000000000', '0000000000000000', '0000000000000000', '0000000000000000', '0000000000000000', '0000000001110101', '0000000000000000', '0000000000000000', '0000000000000000', '0000000000000000', '0000000000000000', '0000000000000000', '0000000000000000', '0000000000000000', '0000000100001000', '0000000000111000', '0000000000000000', '0000000000101010', '0000000011011010', '0000000000000000', '0000000000000000', '0000000011110011', '0000000000000000', '0000001000001100', '0000000000000000', '0000000000000000', '0000000001000010', '0000000100100001', '0000000000000000', '0000000000000000', '0000000000000000', '0000000011010111', '0000001111001100', '0000000000000000', '0000000000110000', '0000000000000000', '0000001100000011', '0000000000000000', '0000000000000000', '0000000000000000', '0000000010101101', '0000000000000000', '0000000000000000', '0000000000000000', '0000000000000000', '0000000000000000', '0000000001001100', '0000000000000000', '0000000000000000', '0000000010111101', '0000000000000000', '0000000000001100', '0000000000000000', '0000000000000000', '0000000000000000', '0000000011110100', '0000000000111100', '0000000101100011', '0000000000000000', '0000000000000000', '0000000000000000', '0000000000000000', '0000000011001100', '0000000000000000', '0000000000000000', '0000000000011011', '0000000000000000', '0000000000000000', '0000000011111010', '0000000000000000', '0000000000000000', '0000000000000000', '0000000000111011', '0000000001100100', '0000000101110001', '0000000000000000', '0000000000000000', '0000000100000011', '0000000101000010', '0000000000000000', '0000000001001111', '0000000000000000', '0000000011010111', '0000000000000000', '0000000001100010', '0000000000000000', '0000000000000000', '0000001000111101', '0000000000000000', '0000000000000000', '0000000000000000', '0000000000000000', '0000000000000000', '0000000000000000', '0000000000000000', '0000000011101101', '0000000000110110', '0000000000000000', '0000000000101011', '0000000000000000', '0000000001011110', '0000000010000101', '0000000000000000', '0000000000000000', '0000000100000110', '0000000100001001', '0000000000000000', '0000000000000000', '0000001000001010', '0000000000000000', '0000000000000000', '0000000000000000', '0000000000000000', '0000000000000000', '0000000000000000', '0000000111000010', '0000000000000000', '0000000000000000', '0000000000000000', '0000000000100011', '0000000000000000', '0000000000000000', '0000000000000000', '0000000000000000', '0000000000000000', '0000000001100100', '0000000000101101', '0000000000000000', '0000000000000000', '0000000000000000', '0000000011000010', '0000000000000000', '0000000010111010', '0000000000000000', '0000000000000000', '0000000011100010', '0000000000000000', '0000000101100100', '0000000010011101', '0000000000000000', '0000000000000000', '0000000000000000', '0000000000000000', '0000000000000000', '0000000110010100', '0000000000000000', '0000000000000000', '0000001000111100', '0000000101110101', '0000000000000000', '0000000000000000', '0000001010001111', '0000000000000000', '0000000001111111', '0000000100111001', '0000000000000101', '0000000000000000', '0000000000111101', '0000000000000000', '0000000101001001', '0000000000000000', '0000000000000000', '0000000000111000', '0000000000000000', '0000000000000000', '0000000111100100', '0000000000000000', '0000000000000000', '0000001010000010', '0000000000000000', '0000000000000000', '0000000000000000', '0000000011001001', '0000000100100110', '0000000000000000', '0000000000000000', '0000000000000000', '0000000100101001', '0000000000000000', '0000000000001010', '0000000000000000', '0000000000000000', '0000000000000000', '0000000000000000', '0000000011110101', '0000000000000000', '0000000000000000', '0000000000000000', '0000000000000000', '0000000000000000', '0000000010010001', '0000000000000000', '0000000000000000', '0000000000000000', '0000000000000000', '0000000010001100', '0000000000000000', '0000000000000000', '0000000000000000', '0000001010001101', '0000000000000000', '0000000110000100', '0000000000000000', '0000000000000000', '0000000000000000', '0000000000000000', '0000000000000000', '0000000000000000', '0000000000101101', '0000000000000000', '0000000000000000', '0000000011110010', '0000000000000000', '0000000000000000', '0000000000000000', '0000000001110111', '0000000000000000', '0000000000000000', '0000000000000000', '0000001011001011', '0000000000000000', '0000000000001011', '0000000000000000', '0000000000000000', '0000000000000000', '0000000000000000', '0000000001011111', '0000000000000000', '0000000000000000', '0000000100010111', '0000000010100011', '0000000000000000', '0000000110010111', '0000000010001110', '0000000000000000', '0000000000000000', '0000000000000000', '0000001101101110', '0000000111001100', '0000000000000000', '0000000000000000', '0000000011101010', '0000000000000000', '0000000000000000', '0000000000000000', '0000000000000000', '0000000000000000', '0000000000001111', '0000000000110011', '0000000000011011', '0000000000000000', '0000000000000000', '0000000000000000', '0000000000000000', '0000000100111110', '0000000000000000', '0000000000000000', '0000000000000000', '0000000110101001', '0000000000000000', '0000000000000000', '0000000000000000', '0000000000000000', '0000000000000000', '0000000000000000', '0000000000000000', '0000000000000000', '0000000010100001', '0000000000000000', '0000000001111110', '0000000001011110', '0000000000000000', '0000000000000000', '0000000000000000', '0000000001011010', '0000000000000000', '0000000000000000', '0000000000000000', '0000000000000000', '0000000000000000', '0000000000000000', '0000000100011011', '0000000000000000', '0000000001100100', '0000000010110001', '0000000011000010', '0000000011000001', '0000000000000000', '0000000000000000', '0000000000100110', '0000000100110111', '0000000000000000', '0000000000000000', '0000000000000000', '0000000000001000', '0000000000000000', '0000000000000101', '0000000101100100', '0000000000000000', '0000000000000000', '0000000010011011', '0000000001001011', '0000000000000000', '0000000000010001', '0000000100010100', '0000000000000000', '0000000000000000', '0000000000000000', '0000000110101010', '0000000000010000', '0000000000000000', '0000000011010001', '0000000000000000', '0000000000000000', '0000000000000000', '0000000000000000', '0000000000000000', '0000000000000000', '0000000000000000', '0000000010001011', '0000000000000000', '0000000000000000', '0000000000000111', '0000000010000100', '0000000000000000', '0000000100010010', '0000000000000000', '0000000000000000', '0000000001100100', '0000000000000000', '0000000000000000', '0000000101001011', '0000000000000000', '0000000000000000', '0000000000000000', '0000000000100001', '0000000000000000', '0000000001101100', '0000000000000000', '0000000000000000', '0000000000000000', '0000000000000000', '0000000000000000', '0000000000000101', '0000000000000000', '0000000010110100', '0000000000000000', '0000000001000111', '0000000000010110', '0000000110000101', '0000000000000000', '0000000000000000', '0000000000000000', '0000000000000000', '0000000111010001', '0000000000000000', '0000000010001001', '0000000000000000', '0000000000000000', '0000000000000000', '0000000000000000', '0000000100101001', '0000000000000000', '0000000000000000', '0000000000000000', '0000000001100101', '0000000010111010', '0000000000000000', '0000000010000000', '0000000000000000', '0000000000000000', '0000000000000000', '0000000000000000', '0000000001000111', '0000000000000000', '0000001000001010', '0000000010100111', '0000000000000000', '0000000000000000', '0000000000000000', '0000000000000000', '0000000000000000', '0000000000000000', '0000000100100101', '0000000000000000', '0000000100011001', '0000000000000000', '0000000000000000', '0000000000000000', '0000000011010100', '0000000000000000', '0000000000000000', '0000000000011110', '0000000000000000', '0000000000000000', '0000000000000000', '0000000000000000', '0000000100001001', '0000000000000000', '0000000011101111', '0000000000000000', '0000000000000000', '0000000001101111', '0000000000000000', '0000000000000000', '0000000000000000', '0000000000000000', '0000000100011100', '0000000000000000', '0000000000011010', '0000000000000000', '0000000111001111', '0000000000000000', '0000000000000000', '0000000000000000', '0000000000000000', '0000000000100010', '0000000000000000', '0000000010111001', '0000000000000000', '0000001001101010', '0000000000000000', '0000000101010101', '0000000000000000', '0000000000000000', '0000000011110011', '0000000000000000', '0000000011110101', '0000000000000000', '0000000100001110', '0000000110110000', '0000000000000000', '0000000011100110', '0000000000000000', '0000000000000000', '0000000000000000', '0000000000000000', '0000000000000000', '0000000000000000', '0000000111100101', '0000000100100110', '0000000010010011', '0000000000101010', '0000000000000000', '0000000000000000', '0000000000000000', '0000000000000000', '0000000011000000', '0000000000000000', '0000000000000000', '0000000000000000', '0000000000000000', '0000000000000000', '0000000000000000', '0000000000000000', '0000000000000000', '0000000100001000', '0000000000000000', '0000000011110010', '0000000000000000', '0000000000000000', '0000000100111000', '0000000001011111', '0000000000000000', '0000000000000110', '0000000000000000', '0000000011110011', '0000000000000000', '0000000000000001', '0000000000000000', '0000000000000000', '0000000001001001', '0000000000000000', '0000000000101110', '0000000000000000', '0000000000000000', '0000000000000000', '0000000000100100', '0000000000000000', '0000000000000000', '0000000000000000', '0000000000000000', '0000000001110100', '0000000000010000', '0000000000000000', '0000000000000000', '0000000000000000', '0000000000000000', '0000000000011111', '0000000000000000', '0000000001110011', '0000000000000000', '0000000101110111', '0000000000000000', '0000000000000000', '0000000000000000', '0000000000000000', '0000000000000000', '0000000001011111', '0000001000001001', '0000000001110010', '0000000001010111', '0000000000000000', '0000000000000000', '0000000000000000', '0000000000001111', '0000000000111011', '0000000000000000', '0000000000000000', '0000000000000000', '0000000000000000', '0000000000000000', '0000000000000000', '0000000000000000', '0000000001110010', '0000000000000000', '0000000000111000', '0000000000000000', '0000000101001111', '0000000000000000', '0000000110001000', '0000000000111001', '0000000001000000', '0000000000000000', '0000000000000000', '0000000000000000', '0000000101010010', '0000000100001100', '0000000010100100', '0000000000000000', '0000000000000000', '0000000000000000', '0000000000000000', '0000000000000000', '0000000000000000', '0000000110010111', '0000000000000000', '0000000100100000', '0000000000000000', '0000000000000000', '0000000000000000', '0000000010011111', '0000000000000000', '0000000011001011', '0000000000000000', '0000000000000000', '0000000000000000', '0000000001001110', '0000000000000000', '0000000000000000', '0000000000000000', '0000000000000000', '0000000000000000', '0000000000000000', '0000000000000000', '0000000000000000', '0000000100110001', '0000000000000000', '0000000000000000', '0000000000000000', '0000000000000001', '0000000000000000', '0000000000000000', '0000001001011101', '0000000000000000', '0000000000111011', '0000000000000000', '0000000010111110', '0000000000000000', '0000000001100000', '0000000000000000', '0000000000000000', '0000000000000000', '0000000000000000', '0000000000000000', '0000000000000000', '0000000000000000', '0000000110010110', '0000000000000000', '0000000000000000', '0000000000000000', '0000000010000110', '0000000011101110', '0000000011011010', '0000000000101110', '0000000000000000', '0000000000000000', '0000000000000000', '0000000000000000', '0000000110001010', '0000000000000000', '0000001000110010', '0000000000000000', '0000000000000000', '0000000010001111', '0000000000010111', '0000000000000000', '0000000001111001', '0000000000000000', '0000001000101011', '0000000000000000', '0000000001000101', '0000000000000000', '0000000011011011', '0000000000000000', '0000000010111101', '0000000000000000', '0000000110010100', '0000000000000000', '0000000000000000', '0000000000000000', '0000000000000000', '0000000001000100', '0000000011110001', '0000000000000000', '0000000000000000', '0000000000000000', '0000000000000000', '0000000000000000', '0000000000010100', '0000000000000000', '0000000100001101', '0000000011101101', '0000000000000000', '0000000000101110', '0000000000000000', '0000000000000000', '0000000000100001', '0000000000000000', '0000000000000000', '0000000000000000', '0000000001010100', '0000000100101110', '0000000001000001', '0000000000000000', '0000000000000000', '0000000000000000', '0000000000000000', '0000000000000000', '0000000000000000', '0000000000000000', '0000000000000000', '0000000000000000', '0000000000000000', '0000000000000000', '0000000000000000', '0000000000000000', '0000000000000000', '0000000100000010', '0000000000111001', '0000000100110000', '0000000000000000', '0000000000000000', '0000000111001110', '0000000000000000', '0000000100001101', '0000000000000101', '0000000000000000', '0000000001100001', '0000000000000000', '0000000011000111', '0000000011110001', '0000000000000000', '0000000100111101', '0000000000000000', '0000000000000000', '0000000000000000', '0000000001000110', '0000000000000000', '0000000000000000', '0000000000000000', '0000000000000000', '0000000000000000', '0000000000000000', '0000000100101110', '0000000000010001', '0000000000000000', '0000000000000000', '0000000000000000', '0000000000000000', '0000000000110000', '0000000101101101', '0000000001100011', '0000000000000000', '0000000100111111', '0000000010100100', '0000000000000000', '0000000011110000', '0000000000000000', '0000000000000000', '0000000000000000', '0000001001010011', '0000000000000000', '0000000000000000', '0000000000000000', '0000000000000000', '0000000000000000', '0000000000000000', '0000000000000000', '0000000000000000', '0000000000000000', '0000000101011000', '0000000000000000', '0000000000000000', '0000000000000000', '0000000000000000', '0000000010111011', '0000000000000000', '0000000011010001', '0000000000000000', '0000000001000000', '0000000000000000', '0000000000000000', '0000001000011010', '0000000100000111', '0000000000000000', '0000000000000000', '0000000000000000', '0000000000000000', '0000001011011101', '0000000000011011', '0000000000000000', '0000000000100100', '0000000111101001', '0000000001000001', '0000000010100110', '0000000000000000', '0000001001000011', '0000000000000000', '0000000000000000', '0000000011001000', '0000000000000000', '0000000000000000', '0000000000000000', '0000000000000000', '0000000101011011', '0000000000000000', '0000000000000000', '0000000000000000', '0000000110100110', '0000000000000000', '0000000010010001', '0000000000000000', '0000000000000000', '0000000011000010', '0000000010110111', '0000000000000000', '0000000000000000', '0000000001001010', '0000000011001110', '0000000000000000', '0000000000000000', '0000000001000110', '0000000001111000', '0000000000000000', '0000000001111110', '0000000000000000', '0000000000000000', '0000000000000000', '0000000000000000', '0000000000000000', '0000000000000000', '0000000000000000', '0000000000000000', '0000000000000000', '0000000000000000', '0000000000000000', '0000000000000000', '0000000101001001', '0000000110010100', '0000000000000000', '0000000000000000', '0000000000000000', '0000000000000000', '0000000000110000', '0000000111010111', '0000000000000000', '0000000110110101', '0000000000000000', '0000000000000000', '0000000000000000', '0000000000000000', '0000000000000000', '0000001000011101', '0000000000000000', '0000000000000000', '0000000001001000', '0000000101011001', '0000000000001111', '0000000100000010', '0000000000000000', '0000000011010110', '0000000000000000', '0000000000000000', '0000000000000000', '0000000010001111', '0000000000000000', '0000000000000000', '0000000000000000', '0000000110011101', '0000000000000000', '0000000000000000', '0000000000000000', '0000000000000000', '0000000000000000', '0000000011100110', '0000000000000000', '0000000000000000', '0000000000000000', '0000000101100101', '0000000011011100', '0000000011011111', '0000000000000000', '0000000011000110', '0000000000000000', '0000000000000000', '0000000010110101', '0000000011111111', '0000000000000000', '0000000000000000', '0000000000000000', '0000000000000000', '0000000000000000', '0000000000000000', '0000000000101001', '0000000010101111', '0000000000000000', '0000000000000000', '0000000000000000', '0000000000000000', '0000000000000000', '0000000000000000', '0000000000011001', '0000000000000000', '0000000000000000', '0000000000000000', '0000000000000000', '0000000000000000', '0000000000000000', '0000000000000000', '0000000000000000', '0000000000000000', '0000000000000000', '0000000010101110', '0000000000000000', '0000000010100001', '0000000000100101', '0000000000000000', '0000000000000000', '0000000001100111', '0000000000000000', '0000000000000000', '0000000001010001', '0000000000000000', '0000000000000000', '0000000000000000', '0000000000000000', '0000000110101100', '0000000000000000', '0000000001001100', '0000001001000101', '0000000011010000', '0000000111000010', '0000000000000000', '0000000000000000', '0000000000000000', '0000000110110110', '0000000000000000', '0000000000000000', '0000000000000000', '0000000001010100', '0000000000000000', '0000000000000100', '0000000100001010', '0000000000000000', '0000000000000000', '0000000101001001', '0000000000000000', '0000000000000000', '0000000000100111', '0000000101001101', '0000000000000000', '0000000000000000', '0000000000000000', '0000001110010100', '0000000000000000', '0000000000000000', '0000000000010100', '0000000000000000', '0000000000000000', '0000000000000000', '0000000000000000', '0000000000000000', '0000000000000000', '0000000000000000', '0000000010110001', '0000000000000000', '0000000000000000', '0000000000000000', '0000000101101010', '0000000000000000', '0000000001101110', '0000000000000000', '0000000000000000', '0000000000000000', '0000000000000000', '0000000000000000', '0000001001001100', '0000000000000000', '0000000000000000', '0000000000000000', '0000000000000000', '0000000000000000', '0000000111000001', '0000000000000000', '0000000000000000', '0000000010100110', '0000000000000000', '0000000000000000', '0000000000000000', '0000000000000000', '0000000010111110', '0000000000000000', '0000000001111101', '0000000111100111', '0000000110111010', '0000000011010101', '0000000000000000', '0000000000000000', '0000000000001000', '0000001100011101', '0000000000000000', '0000000001010101', '0000000000000000', '0000000000000000', '0000000000000000', '0000000011110100', '0000001100001001', '0000000000000000', '0000000000000000', '0000000101001100', '0000000010110001', '0000000000000000', '0000000000000000', '0000000000000000', '0000000000000000', '0000000000000000', '0000000000000000', '0000000100011100', '0000000000000000', '0000000000010100', '0000000011110100', '0000000000000000', '0000000000000000', '0000000000000000', '0000000000000000', '0000000000000000', '0000000000000000', '0000000000000000', '0000000110101101', '0000000000000000', '0000000000000000', '0000000000000000', '0000000010101010', '0000000000000000', '0000000101011101', '0000000000000000', '0000000000000000', '0000000000000000', '0000000000000000', '0000000000000000', '0000000101001111', '0000000000000000', '0000000000001011', '0000000000000000', '0000000000000000', '0000000000000000', '0000000010010010', '0000000000000000', '0000000000000000', '0000000001011101', '0000000000000000', '0000000000000000', '0000000000010111', '0000000000000000', '0000000000000000', '0000000000000000', '0000000100000110', '0000000001010001', '0000000100011010', '0000000000000000', '0000000000000000', '0000000000000000', '0000000000000000', '0000001001110011', '0000000000000000', '0000000110100010', '0000000000000000', '0000000100100000', '0000000000000000', '0000000001011000', '0000001000101001', '0000000000000000', '0000000001000100', '0000000000000000', '0000000011111101', '0000000100011100', '0000000001000101', '0000000000000000', '0000000000000000', '0000000000000000', '0000000000000000', '0000000000000000', '0000000000000000', '0000000011101001', '0000000010100110', '0000000010101110', '0000000000000000', '0000000000000000', '0000000000000000', '0000000000000000', '0000000000000000', '0000000001010010', '0000000101001101', '0000000000000000', '0000000001010100', '0000000001001001', '0000000000000000', '0000000000000000', '0000000000000000', '0000000000000000', '0000000000000000', '0000000011010100', '0000000000000000', '0000000100110111', '0000000100010011', '0000000000000000', '0000000101001011', '0000001010100000', '0000000000000000', '0000000010000011', '0000000000101010', '0000000001101001', '0000000000000000', '0000000000000000', '0000000000000000', '0000000000000000', '0000000001000011', '0000000000000000', '0000000010100100', '0000000000000000', '0000000000110111', '0000000000110100', '0000000001000100', '0000000000011100', '0000000000000000', '0000000000011110', '0000000000000110', '0000000000000000', '0000000000000000', '0000000000000000', '0000000000000000', '0000000000000000', '0000000000000000', '0000000000000000', '0000000000000000', '0000000000000000', '0000000000000000', '0000000101010111', '0000000000000000', '0000000001000111', '0000000000000000', '0000000010001100', '0000000000000000', '0000000000011010', '0000000011100010', '0000000001000011', '0000000000000000', '0000000000000000', '0000000111000010', '0000000000000000', '0000000000000000', '0000000000000000', '0000000000000000', '0000000000000000', '0000000000100111', '0000000000000000', '0000000000000000', '0000000000000000', '0000000000000000', '0000000010010001', '0000000000000000', '0000000000000000', '0000000001011100', '0000000000000000', '0000000000000000', '0000000000010010', '0000000000000000', '0000000100011000', '0000000000000000', '0000000000000000', '0000000000000000', '0000001101001001', '0000000000000000', '0000000001001100', '0000000110110010', '0000000010001110', '0000000000011011', '0000000000000000', '0000000000000000', '0000000000000000', '0000000110001010', '0000000000000000', '0000000111111111', '0000000000000000', '0000000000000000', '0000000000000000', '0000000101111101', '0000000000000000', '0000000010000101', '0000000000000000', '0000000000000000', '0000000000000000', '0000000000000000', '0000000001000000', '0000000000000000', '0000000000000000', '0000000000000000', '0000000010010100', '0000000000000000', '0000000000000000', '0000000000000000', '0000000101101010', '0000000000000000', '0000000010101110', '0000000000000000', '0000000000000000', '0000000000000000', '0000000000000000', '0000001100100111', '0000000000000000', '0000000000000000', '0000000000000000', '0000001000000000', '0000000000000000', '0000000001101101', '0000000000000000', '0000000000000000', '0000000000000000', '0000000000000000', '0000000000010001', '0000000000000000', '0000000000000000', '0000000000000000', '0000000000000000', '0000000000000000', '0000000000000000', '0000000110000100', '0000000000000000', '0000000000000000', '0000000000000000', '0000000000000000', '0000000000000000', '0000000000000000', '0000000000000000', '0000000000000000', '0000000010100000', '0000000000000000', '0000000010100110', '0000000010101010', '0000000000010001', '0000000000000000', '0000000000000000', '0000000000000000', '0000000000000000', '0000000111001001', '0000000000000000', '0000000100100011', '0000000000000000', '0000000010010011', '0000000000000000', '0000000101101001', '0000000000000000', '0000000001100000', '0000000000000000', '0000000000000000', '0000000001000000', '0000000000000000', '0000000001011000', '0000000011111100', '0000000000000000', '0000000000000000', '0000000000000000', '0000000000000000', '0000000000000000', '0000000000000000', '0000000000000000', '0000000001100011', '0000000100100100', '0000000000000000', '0000000000000000', '0000000000000000', '0000000000000000', '0000001000111010', '0000000000000000', '0000000000000000', '0000000000000000', '0000000100011010', '0000000010111000', '0000000001000101', '0000000000000000', '0000000000000000', '0000000000000000', '0000000000000000', '0000000000000000', '0000000000000000', '0000000000000000', '0000000000000000', '0000000000000000', '0000000000000000', '0000000000000000', '0000000011111100', '0000000000000000', '0000000000000000', '0000000100110011', '0000000000000000', '0000000010111101', '0000000000000000', '0000000000000000', '0000000101010101', '0000000000001110', '0000000010011100', '0000000000000000', '0000000000000000', '0000000010111011', '0000000000000000', '0000000001001010', '0000000010011011', '0000000000000000', '0000000011010000', '0000000000000000', '0000000000000000', '0000000000000000', '0000000010101101', '0000000000000000', '0000000000000000', '0000000000000000', '0000000000000000', '0000000000000000', '0000000000000000', '0000000010101111', '0000000011101101', '0000000000000000', '0000000000000000', '0000000000000000', '0000000000000000', '0000000001111001', '0000000000000000', '0000000101101110', '0000000000000000', '0000000100110100', '0000000001010101', '0000000010011011', '0000000000000000', '0000000000000000', '0000000000000000', '0000000000000000', '0000000110101111', '0000000000001111', '0000000001100001', '0000000000000000', '0000000011001111', '0000000000000000', '0000000001110011', '0000000010111110', '0000000000000000', '0000000000000000', '0000000011010101', '0000000000000000', '0000000000000000', '0000000000000000', '0000000000000000', '0000000100010110', '0000000000000000', '0000000101101000', '0000000000000000', '0000000011110100', '0000000000000000', '0000000011100110', '0000000000111010', '0000000010011010', '0000000000000000', '0000000000000000', '0000000000000000', '0000000001101111', '0000001000001001', '0000000000111100', '0000000000010110', '0000000010000110', '0000000000000000', '0000000000000000', '0000000000000000', '0000000000000000', '0000000111010111', '0000000000000000', '0000000000111100', '0000000110010110', '0000000000000000', '0000000000000000', '0000000000000000', '0000000000000000', '0000000001101101', '0000000000000000', '0000000000000000', '0000000000000000', '0000001000001000', '0000000000000000', '0000000000000000', '0000000000000000', '0000000000000000', '0000000000000000', '0000000000000000', '0000000000000000', '0000000000000000', '0000000000011101', '0000000001100000', '0000000000000000', '0000000000000000', '0000000001111111', '0000000000000000', '0000000001010110', '0000000111011001', '0000000000010100', '0000000000000000', '0000000000000000', '0000000001011000', '0000000000000000', '0000000000000000', '0000000010100101', '0000000000000000', '0000000000000000', '0000000000000000', '0000000000000000', '0000000000000000', '0000000001010101', '0000000101110000', '0000000000000000', '0000000000000000', '0000000000000000', '0000000000000000', '0000001000011001', '0000000000000000', '0000000001110011', '0000000001001111', '0000000000000000', '0000000000000000', '0000000000000000', '0000000000111000', '0000000010001001', '0000000111011100', '0000000000000000', '0000000000001010', '0000000000101001', '0000000010000010', '0000000000000000', '0000000000000000', '0000000000000000', '0000001000111010', '0000000000000000', '0000000000000000', '0000000000000000', '0000000000000000', '0000000000000000', '0000000100110101', '0000000000000000', '0000000101100010', '0000000000000000', '0000000000000000', '0000000000000000', '0000000101110001', '0000000000000000', '0000000000000000', '0000000000000000', '0000000000000000', '0000000000101000', '0000000010011100', '0000000000100101', '0000000000000000', '0000000000000000', '0000000001110110', '0000000000000000', '0000000000000000', '0000000010001101', '0000000000000000', '0000000000000000', '0000000010110110', '0000000000000100', '0000000000000000', '0000000000000000', '0000000000001110', '0000000000000000', '0000000000110101', '0000000000111110', '0000000000000000', '0000000000000000', '0000000000000000', '0000000000000000', '0000000010001100', '0000000100110001', '0000000011000010', '0000000000000000', '0000000000000000', '0000000000000000', '0000000000000000', '0000000010000110', '0000000010100100', '0000000000000000', '0000000001000110', '0000000000000000', '0000000000000000', '0000000000000000', '0000000000000000', '0000000100111000', '0000000011000111', '0000000000000000', '0000000000000000', '0000000000000000', '0000000000000000', '0000000000000000', '0000000000000000', '0000000000000000', '0000000000000000', '0000000000000000', '0000000000001101', '0000000000000000', '0000000000000000', '0000000000000000', '0000000100100011', '0000000000000000', '0000000010011110', '0000000000000000', '0000000000000000', '0000000000000000', '0000000011011011', '0000000000001010', '0000000001100101', '0000000000000000', '0000000000000000', '0000000000000000', '0000000000000000', '0000000000011010', '0000000000000000', '0000000000000000', '0000000001100000', '0000000000000000', '0000000001000111', '0000000110000010', '0000000000110010', '0000000011001001', '0000000000000000', '0000000110001100', '0000000000000000', '0000000000000000', '0000000000000000', '0000000000000000', '0000000000000000', '0000000000000000', '0000000000000000', '0000000000000000', '0000000000000000', '0000000000000000', '0000000000001001', '0000000110010001', '0000000000000000', '0000000000000000', '0000000000101001', '0000000000000000', '0000000000000000', '0000000000000000', '0000000000000000', '0000000000000000', '0000000000000000', '0000000000000000', '0000000000000000', '0000000000000000', '0000000000000000', '0000000001100101', '0000000111011000', '0000000000000000', '0000000001000100', '0000000001100111', '0000000000000000', '0000000000000000', '0000000000000000', '0000000000000000', '0000000000000000', '0000000000000000', '0000000000000000', '0000000000000000', '0000000001111111', '0000000001010010', '0000000100101101', '0000000001000101', '0000000000000000', '0000000000000000', '0000000011101010', '0000000000000000', '0000000000000000', '0000000000101101', '0000000000000000', '0000000001100110', '0000000000000000', '0000000000000000', '0000000010011011', '0000000000000000', '0000000000000000', '0000000000101101', '0000000011001111', '0000000000000000', '0000000010011010', '0000000000000001', '0000000000001110', '0000000001011000', '0000000000000000', '0000000110000000', '0000000000000000', '0000000000000000', '0000000000000000', '0000000000000000', '0000000010010111', '0000000000000000', '0000000000000000', '0000000000000000', '0000000001011010', '0000000000101011', '0000000000000000', '0000000101010111', '0000000000000000', '0000000001001111', '0000000000000000', '0000000000000000', '0000000000000000', '0000000000000000', '0000000000000000', '0000000000101101', '0000000000000000', '0000000000000000', '0000000000000000', '0000000000000000', '0000000000000000', '0000000000000000', '0000001010100101', '0000000000000000', '0000000101100000', '0000000010000100', '0000000000000000', '0000000000000000', '0000000000000000', '0000000000000000', '0000000000000000', '0000000000000000', '0000000000000000', '0000000000000000', '0000000000010101', '0000000000000000', '0000000111001010', '0000000000000000', '0000000000000000', '0000000000000000', '0000000001100000', '0000000000100001', '0000000000000000', '0000000000000000', '0000000000000000', '0000000000000000', '0000000000000000', '0000000001111111', '0000000011101100', '0000000000000000', '0000000000000000', '0000000000000000', '0000000001011110', '0000000000000000', '0000000000111011', '0000000001001010', '0000000000010100', '0000000011000111', '0000000110101110', '0000000010000100', '0000000001110110', '0000000000000000', '0000000000000000', '0000000100001010', '0000000000110000', '0000000000000000', '0000000000000000', '0000000000000000', '0000000011000111', '0000000000000000', '0000000000000000', '0000000000110000', '0000000001100000', '0000000000110000', '0000000000000000', '0000000000000000', '0000000000000000', '0000000000000000', '0000000000000000', '0000000000000000', '0000000000000000', '0000000111101101', '0000000000000000', '0000000000000000', '0000000011011110', '0000000000000000', '0000000000001100', '0000000000000000', '0000000000000000', '0000000000000000', '0000000011101111', '0000000101101011', '0000000011001010', '0000000000000000', '0000000000000000', '0000000000000000', '0000000000000000', '0000000000000000', '0000000000000000', '0000000010110010', '0000000100011100', '0000000100110111', '0000000000000000', '0000000000000000', '0000000010110000', '0000000000000000', '0000000000000000', '0000000000000000', '0000000000000000', '0000000000000000', '0000000000000000', '0000000100010000', '0000000011110000', '0000000101010000', '0000000000000000', '0000000101000110', '0000000001001100', '0000000000000000', '0000001010001100', '0000000000000000', '0000000000000000', '0000000000110101', '0000000000000000', '0000001011111011', '0000000001001100', '0000000000000000', '0000000000000000', '0000000000000000', '0000000000000000', '0000000000000000', '0000000000000000', '0000000000000000', '0000000110111000', '0000000000000000', '0000000000000000', '0000000001011000', '0000000000000000', '0000000000001000', '0000000000100100', '0000000000000000', '0000000000000000', '0000000000000000', '0000000000000000', '0000000100111011', '0000000000000000', '0000000011011111', '0000000000000000', '0000000000000000', '0000000000000000', '0000000000000000', '0000000101010101', '0000000000000000', '0000000011111110', '0000000011001110', '0000000000000000', '0000000101001101', '0000000111010110', '0000000000000000', '0000000000000000', '0000000000000000', '0000000000000000', '0000000000000000', '0000000011010011', '0000000000111110', '0000000001011011', '0000000101101100', '0000000000000000', '0000000000000000', '0000000001000010', '0000000000000000', '0000000000000000', '0000000000011110', '0000000000000000', '0000000000000000', '0000000000000000', '0000000001010100', '0000000000000000', '0000000001110001', '0000000000000000', '0000001001110100', '0000000000000000', '0000000000000000', '0000000101110100', '0000000000000000', '0000000000000000', '0000000000000000', '0000000000000000', '0000001000010000', '0000000000100000', '0000000000000000', '0000000001010111', '0000000000110010', '0000000000000000', '0000000000000000', '0000000000000000', '0000000000000000', '0000000111101100', '0000000000000000', '0000000000000000', '0000001011100100', '0000000000000000', '0000000000000000', '0000000000000000', '0000000011011011', '0000000000000000', '0000000000000000', '0000000000000000', '0000000000000000', '0000000000000000', '0000000100110110', '0000000000000000', '0000000000000000', '0000000000000000', '0000000100000010', '0000000100010110', '0000000001100100', '0000000100111001', '0000000010101011', '0000000000000000', '0000000000110011', '0000000010000010', '0000000000000000', '0000000001011110', '0000000000000000', '0000000000000000', '0000000010011010', '0000000010000111', '0000000000000000', '0000000000000000', '0000000001000100', '0000000000000000', '0000000110001010', '0000000000000000', '0000000000000000', '0000000000000010', '0000000011011000', '0000000000000000', '0000000000000000', '0000000000000000', '0000000001011001', '0000000000000000', '0000000011000101', '0000000000000000', '0000000000011011', '0000000000000000', '0000000000000000', '0000000000000000', '0000000001111100', '0000000010000010', '0000000011110100', '0000000110100010', '0000000100010001', '0000000000000000', '0000000000000000', '0000000001000100', '0000000011111111', '0000000011011100', '0000000000000110', '0000000000000000', '0000000000000000', '0000000001110010', '0000000000000000', '0000000000000000', '0000001100010011', '0000000000000000', '0000000000000000', '0000000000000000', '0000000000010100', '0000000000000000', '0000000000000000', '0000000000000000', '0000000000000000', '0000000000000000', '0000000000000000', '0000000100101010', '0000000000000000', '0000000110101101', '0000000000000000', '0000000000000000', '0000000000000000', '0000000000010010', '0000000000000000', '0000000001000010', '0000000011100111', '0000000000000000', '0000000000000000', '0000000000000000', '0000000000000000', '0000000000000000', '0000000000000000', '0000000001000001', '0000000000000000', '0000000101000101', '0000000000000000', '0000000011111000', '0000000000000000', '0000000000000000', '0000000010001101', '0000000000000000', '0000000000000000', '0000000000000000', '0000000000000000', '0000000000000000', '0000000010110011', '0000001001011010', '0000000000000000', '0000000000110111', '0000000101110110', '0000000000000000', '0000000000000000', '0000001000001010', '0000000000000000', '0000000000000000', '0000000000000000', '0000000000000000', '0000000000000000', '0000000000000000', '0000000010110101', '0000000000000000', '0000000000000000', '0000000000000000', '0000000000000000', '0000000000000000', '0000000000000000', '0000001000010000', '0000000000000000', '0000000000100111', '0000000000000000', '0000000000000000', '0000000010000001', '0000000000000000', '0000000000010011', '0000000000000000', '0000000000000000', '0000000000000000', '0000000000000000', '0000000000000000', '0000000010101010', '0000000000000000', '0000000000000000', '0000000110101111', '0000000000000000', '0000000000000000', '0000000000100010', '0000000000000000', '0000000000000000', '0000000011101111', '0000000101111100', '0000000000000000', '0000000000000000', '0000000000000000', '0000000000000000', '0000000000000000', '0000000010011010', '0000000010011010', '0000000000000000', '0000000000100010', '0000000000000000', '0000000001010101', '0000000000000000', '0000000000000000', '0000000101100000', '0000000000000000', '0000000000000000', '0000000001010110', '0000000000101011', '0000000000000000', '0000000010000101', '0000000001010101', '0000000000000000', '0000000010100100', '0000000000111000', '0000000000000000', '0000000000000000', '0000000001011001', '0000000000011000', '0000000100000111', '0000000000000000', '0000000000000000', '0000000000000000', '0000000000000000', '0000000000000000', '0000000000000000', '0000000000001101', '0000000000000000', '0000000000000000', '0000000000000000', '0000000000000000', '0000000101001001', '0000000010100010', '0000000001001101', '0000000000000000', '0000000000000000', '0000000001110111', '0000000000000000', '0000000001110110', '0000000000000000', '0000000000000000', '0000001000011011', '0000000000000000', '0000000000000000', '0000000000000000', '0000000000000000', '0000000000000000', '0000000111000100', '0000000000000000', '0000000101011011', '0000000000000000', '0000000000000000', '0000000000000000', '0000000000000000', '0000000010100001', '0000000000000000', '0000000000000000', '0000000110001100', '0000000000000000', '0000000000000000', '0000000000000000', '0000001000011001', '0000000000000000', '0000000000000000', '0000000000000000', '0000000000000000', '0000000010101100', '0000000000000000', '0000000100010101', '0000000000000000', '0000000000000000', '0000000100001111', '0000000011111010', '0000000000000000', '0000000101110011', '0000000011101010', '0000000000000000', '0000000001001110', '0000000000000000', '0000000110011101', '0000000000001010', '0000000000000000', '0000000000000000', '0000000001100110', '0000000000000000', '0000000000000000', '0000000000000000', '0000000000000000', '0000000000000000', '0000000001001000', '0000000011010011', '0000000000000000', '0000000000000000', '0000000000000000', '0000000000000000', '0000000000000000', '0000000100000000', '0000000001101000', '0000000000000000', '0000000000000000', '0000000110111011', '0000000000000000', '0000000100100000', '0000000000000000', '0000000000000000', '0000000000000000', '0000000000000000', '0000000000000000', '0000000001010111', '0000000001000111', '0000000000000000', '0000000000000000', '0000000000000000', '0000000000000000', '0000000000000000', '0000000000000000', '0000000010101110', '0000000000000000', '0000000000111010', '0000000000000000', '0000000000000000', '0000000000000000', '0000000000000000', '0000000000000000', '0000000000000000', '0000000000000000', '0000000000000000', '0000000000000000', '0000000010010010', '0000000000000000', '0000001010101010', '0000000011100110', '0000000000000000', '0000000010100101', '0000001000101001', '0000000000000000', '0000000000000000', '0000000000000000', '0000000000000000', '0000001001000100', '0000000000000000', '0000000000000000', '0000000000000000', '0000000000000000', '0000000000000000', '0000000010100100', '0000000001000101', '0000000000000000', '0000000000000000', '0000000000000000', '0000000000000000', '0000000000000000', '0000000000000000', '0000000000000000', '0000000000000000', '0000000000000000', '0000000000000000', '0000000000000000', '0000000000000000', '0000000001001101', '0000000000000000', '0000000100100010', '0000000000000000', '0000000000000000', '0000000000000000', '0000000000000000', '0000000000000000', '0000000000000000', '0000000000000000', '0000000000000000', '0000000000000000', '0000000000000000', '0000000000000000', '0000000001110000', '0000000000000000', '0000000000000000', '0000000000000000', '0000000000000000', '0000000000000000', '0000000000010111', '0000000000000000', '0000000010111110', '0000000101110101', '0000000000000000', '0000000000000000', '0000000000000000', '0000000000000000', '0000000000000000', '0000000000000000', '0000000000000000', '0000000000000000', '0000000000000000', '0000000110010111', '0000000000000000', '0000000001111110', '0000000000000000', '0000000011111010', '0000000101100110', '0000001000011101', '0000000000000000', '0000000001000100', '0000000000000000', '0000000000001111', '0000000100010110', '0000000000000000', '0000000000011000', '0000000000000000', '0000000010010010', '0000000000110000', '0000000000000000', '0000000000000000', '0000001000001011', '0000000000000000', '0000000000000000', '0000000000000000', '0000000000000000', '0000000000000000', '0000000000000000', '0000000101100101', '0000000000000000', '0000000000000000', '0000000000000000', '0000000000000000', '0000000000000000', '0000001001010111', '0000000000010001', '0000000000000000', '0000000000000000', '0000000101011001', '0000000000000000', '0000000001000011', '0000000000000000', '0000000000000000', '0000000000000000', '0000000000000000', '0000000000000000', '0000000000000000', '0000000000000000', '0000000000000000', '0000000000000000', '0000000000000000', '0000000110011010', '0000000000100100', '0000000000101110', '0000000000000000', '0000000010000000', '0000000010100110', '0000000000000000', '0000000000000000', '0000000000000000', '0000000000000000', '0000000000000000', '0000000000000000', '0000000010011101', '0000000000000000', '0000000000000000', '0000000011100001', '0000000000000000', '0000000000000000', '0000000000000100', '0000000110010110', '0000000000000000', '0000000000111010', '0000000000000000', '0000001000011100', '0000000000000000', '0000000000011010', '0000000100011010', '0000000000000000', '0000000000010100', '0000000000000000', '0000000101100010', '0000000010101100', '0000000010111001', '0000000000000000', '0000001100100011', '0000000000000000', '0000000000000000', '0000000000000000', '0000000000000000', '0000000000000000', '0000000000000000', '0000000110001101', '0000000000000000', '0000000011100000', '0000000000000000', '0000000000000000', '0000000000000000', '0000000101111101', '0000000000000001', '0000000000000000', '0000000000000000', '0000000110100101', '0000000000000000', '0000000000011010', '0000000000000000', '0000000000000000', '0000000000000000', '0000000000000000', '0000000000000000', '0000000000000000', '0000000010111010', '0000000000000000', '0000000000000000', '0000000000000000', '0000000000000000', '0000000000000000', '0000000000000000', '0000000000000000', '0000000000000000', '0000000100001110', '0000000000000000', '0000000000000000', '0000000000000000', '0000000000000000', '0000000111010001', '0000000000000000', '0000000000011010', '0000001011000101', '0000000000000000', '0000000110001001', '0000000000000000', '0000000000000000', '0000000000001100', '0000001000100000', '0000000001001010', '0000000000000000', '0000000000000000', '0000000100101010', '0000000000000000', '0000000000000000', '0000000000010111', '0000000000000000', '0000000000001111', '0000000010100001', '0000000000000000', '0000000000000000', '0000000101001000', '0000000000000000', '0000000000000000', '0000000000000000', '0000000000000000', '0000000110100111', '0000000000000000', '0000000000000000', '0000000000000000', '0000000000000000', '0000000011100010', '0000000000000000', '0000000000000000', '0000000000000000', '0000000000000000', '0000000000000000', '0000000000000000', '0000000000000000', '0000000000000000', '0000000000000000', '0000000010110100', '0000000000000000', '0000000000000000', '0000000000000000', '0000000000000000', '0000000110100110', '0000000000000000', '0000000000100010', '0000000111010101', '0000000000000000', '0000000000000000', '0000000000000000', '0000000000000000', '0000000001100111', '0000000000000000', '0000000000000000', '0000000000000000', '0000000111101000', '0000000000000000', '0000000000000000', '0000000000000000', '0000000000000000', '0000000001001010', '0000000000000000', '0000000000000000', '0000000101000010', '0000000001011010', '0000000000000000', '0000000000000000', '0000000000000000', '0000000000000000', '0000000010011011', '0000000000000000', '0000000000111100', '0000000000000000', '0000000011000000', '0000000000000000', '0000000000011111', '0000000011110010', '0000000000000000', '0000000000000000', '0000000000000000', '0000000001000010', '0000000000000000', '0000000111110100', '0000000000000000', '0000000000000000', '0000000000000000', '0000000001110111', '0000000000000000', '0000000000000000', '0000000000000000', '0000000000001110', '0000000000000000', '0000000000000000', '0000000000000000', '0000000000000000', '0000000000000000', '0000000001101011', '0000000000001101', '0000000000000000', '0000000000000000', '0000000000000000', '0000000000000000', '0000000010110011', '0000000000000000', '0000000000000000', '0000000000000000', '0000000000000000', '0000000010110101', '0000000000000000', '0000000000000000', '0000000110111010', '0000000000000000', '0000000011111011', '0000000100001111', '0000000110000101', '0000000000001100', '0000000101000010', '0000000000000000', '0000000000000000', '0000000011000010', '0000000110000111', '0000000000000000', '0000000010000101', '0000000000000000', '0000000000000000', '0000000000000000', '0000000010100010', '0000000000000000', '0000000000000000', '0000000000000000', '0000000000000000', '0000000000000000', '0000000000000000', '0000000100111001', '0000000000000000', '0000000011011000', '0000000000000000', '0000000000000000', '0000000000000000', '0000000100000011', '0000000000000000', '0000000000000000', '0000000000000000', '0000000000000000', '0000000000000000', '0000000011100111', '0000000111110111', '0000000000000000', '0000000000000000', '0000000000011010', '0000000000101100', '0000000000000000', '0000000000000000', '0000000000000000', '0000000000000000', '0000000111110010', '0000000000000000', '0000000000000000', '0000000000000000', '0000000000000000', '0000000000000000', '0000000000000000', '0000000000000000', '0000000000000000', '0000000000000000', '0000000000000000', '0000000000000000', '0000000100010001', '0000000000000000', '0000000000000000', '0000000000000000', '0000000000110010', '0000000010100001', '0000001010110111', '0000000110011111', '0000000000000000', '0000000000000000', '0000000000000000', '0000000000000000', '0000000000000000', '0000000000000000', '0000000011110110', '0000000001110000', '0000000110011010', '0000000010110010', '0000000000000000', '0000000101011010', '0000000000000000', '0000000000000000', '0000000000000000', '0000000000000000', '0000000000000000', '0000000000000000', '0000000010000000', '0000000000000000', '0000000011110101', '0000000010011101', '0000000101101010', '0000000000000000', '0000000000000000', '0000000001011111', '0000000000000000', '0000000000000000', '0000000111010000', '0000000010101010', '0000000000000000', '0000000000000000', '0000001001110000', '0000000001111010', '0000000000000000', '0000000001011100', '0000000000000000', '0000000000000000', '0000000000000000', '0000000001110000', '0000000000000000', '0000000000101010', '0000000000000000', '0000000011011001', '0000000000000000', '0000000000000000', '0000000000000000', '0000000000000000', '0000000000000000', '0000000010001110', '0000000000000000', '0000000000000000', '0000000000000000', '0000000000000000', '0000000010110110', '0000000000000000', '0000000000100101', '0000000000000000', '0000000000000000', '0000000000000000', '0000000000000000', '0000000000100001', '0000000101011111', '0000000000000000', '0000000000000000', '0000000000000000', '0000000000000000', '0000000000000000', '0000000101110110', '0000000000000000', '0000000001101111', '0000000100001101', '0000001001000100', '0000000000000010', '0000000000000000', '0000001000011111', '0000000000000000', '0000000000000000', '0000000000000000', '0000000000010000', '0000000000000000', '0000000000000000', '0000000010111110', '0000000000000000', '0000000110000101', '0000000000000000', '0000000010111101', '0000000000000000', '0000000011100000', '0000000000000000', '0000000000000000', '0000000000000000', '0000000110100110', '0000000000000000', '0000000000000000', '0000000000000000', '0000000000000000', '0000000101000000', '0000000000100100', '0000000000011101', '0000000000000000', '0000000100111110', '0000000000000000', '0000000000000000', '0000000000000000', '0000000000000000', '0000000000000000', '0000000011101010', '0000001000100111', '0000000001100110', '0000000000000000', '0000000000000000', '0000000000000000', '0000000000000000', '0000000100110100', '0000000000000000', '0000000000000000', '0000000000000000', '0000000011000110', '0000000000000000', '0000000000000000', '0000000000000000', '0000000000000000', '0000000101000111', '0000000000000000', '0000000001010000', '0000000000000000', '0000000000000000', '0000000000000000', '0000000000000000', '0000000100110100', '0000000000000000', '0000000001000000', '0000000000000000', '0000000000000000', '0000000000000000', '0000000011101111', '0000000001010101', '0000000000000000', '0000000101101011', '0000000000000000', '0000000000000000', '0000000000000000', '0000001100000100', '0000000000000000', '0000000000000000', '0000000000000000', '0000000000000000', '0000000111001110', '0000000000000000', '0000000000000000', '0000000000000000', '0000000100101011', '0000000000000000', '0000000010101110', '0000000000000000', '0000000010011010', '0000000000000000', '0000000000000000', '0000000000000000', '0000000000000000', '0000000110001101', '0000000101110110', '0000000010001100', '0000000000000000', '0000000110110101', '0000000000000000', '0000000000000000', '0000000000000000', '0000000000000000', '0000000000000000', '0000001011110000', '0000000001011100', '0000000111010011', '0000000000000000', '0000000000000000', '0000000000000000', '0000000000000000', '0000001001011100', '0000000000000000', '0000000000000000', '0000000000000000', '0000000101010010', '0000000000000000', '0000000001100011', '0000000000000000'] 7488\n"
     ]
    }
   ],
   "source": [
    "print(conv_pixels,len(conv_pixels))"
   ]
  },
  {
   "cell_type": "code",
   "execution_count": 359,
   "id": "7c702c9d",
   "metadata": {},
   "outputs": [
    {
     "name": "stdout",
     "output_type": "stream",
     "text": [
      "0000000000000000 0000000000000000 0000000000000000 0000000001100100 0000000000000000 0000000000000000 0000000000000000 0000000000000000 0000000000000000 0000000000000000 0000000000000000 0000000110010110 0000000001001010 0000000010000101 0000000000110100 0000000000000000 0000000000000000 0000000001001100 0000000000000000 0000000000000011 0000000000000000 0000000000110111 0000000000000000 0000000000000000 0000000000000000 0000000001111100 0000001101110011 0000000101100100 0000000000000000 0000000000000000 0000000100010100 0000000001010000 0000000000000000 0000000000000000 0000000111010011 0000001011001110 0000000000000000 0000000000000000 0000000000000000 0000000000101010 0000000000000000 0000000000000000 0000000000000000 0000000000000000 0000000000000000 0000000000000000 0000000000000000 0000000000000000 0000000000000000 0000000000000000 0000000000000000 0000000010110001 0000000000000000 0000000000000000 0000000000000000 0000000000000000 0000000000000000 0000000010101111 0000000000000000 0000000000000000 0000000000000000 0000000000000000 0000000000000000 0000000110011011 0000000000000000 0000000000000000 0000000000000000 0000000001110001 0000000000000000 0000000000000000 0000000000000000 0000000000000000 0000000000000000 0000000000000000 0000000000000000 0000000000000000 0000000000100011 0000000000111011 0000000000110000 0000000000000000 0000000000000000 0000000100111000 0000000000000000 0000000000000000 0000000000000000 0000000010011010 0000000000000000 0000000000000000 0000000000000000 0000000000100011 0000010000000110 0000000100100000 0000000000000000 0000000001010000 0000001111100110 0000000000000000 0000000000000000 0000000000000000 0000000001011010 0000000110010011 0000000000000000 0000000000000000 0000000000000000 0000001011110000 0000000100110011 0000000000000000 0000000000000000 0000000011110010 0000000000000000 0000000000000000 0000000000000000 0000000000000000 0000000000000000 0000000000000000 0000000000110011 0000000100111110 0000000000000000 0000000000000000 0000000000000000 0000000000000000 0000000101001111 0000000101011100 0000000000000000 0000000000000000 0000000001100111 0000000000000000 0000000010010001 0000000011010010 0000000000000000 0000000000000000 0000000000000000 0000000010011011 0000000000000000 0000000000000000 0000000000000000 0000000000000000 0000000000000000 0000000101010011 0000000000000000 0000000000000000 0000000000100010 0000000000000000 0000000000000000 0000000000000000 0000000000000000 0000000010001101 0000000000000000 0000000000000000 0000000000000000 0000000110111111 0000000000000000 0000000000000000 0000000000000000 0000000000000000 0000000101001101 0000000001000100 0000000000111010 0000000000000000 0000001100000011 0000000000000000 0000000010011101 0000000000000000 0000000000000000 0000000000100111 0000000000000000 0000000000000000 0000000000000000 0000001010011101 0000001000100011 0000000000000000 0000000000000000 0000001101001000 0000000000000000 0000000000000000 0000000000000000 0000000000000000 0000000000000000 0000000011100111 0000000001111001 0000000100010010 0000000000000000 0000000000000000 0000000000000000 0000000000000000 0000001001110110 0000000100111100 0000000000000000 0000000000000000 0000001000111000 0000000000000000 0000000001110111 0000000000000000 0000000000000000 0000000000000000 0000000000000000 0000000000000000 0000000000000000 0000000000000000 0000000000000000 0000000000000000 0000000001111101 0000000000000000 0000000000000000 0000000010111111 0000000000101000 0000000011000101 0000000000001101 0000000000000000 0000000000000000 0000000000000000 0000000000000000 0000000001110101 0000000000000000 0000000000101101 0000000000000000 0000000111011111 0000000010011000 0000000100001110 0000000100010110 0000000000000000 0000000000000000 0000000001111111 0000000000101001 0000000011001001 0000000000000000 0000000000000000 0000000101111101 0000000000111110 0000000000010110 0000000000000000 0000000000010001 0000000010100010 0000000000001101 0000000000000000 0000000000000000 0000000000000000 0000000000000000 0000000000000000 0000000010100001 0000000000000000 0000000000000000 0000000000000000 0000000000000000 0000000000000000 0000000000000000 0000000000000000 0000000000000000 0000000000000000 0000000000000000 0000000000000000 0000000011000110 0000000000000000 0000000000000000 0000000011010100 0000000000000000 0000000000000000 0000000000000000 0000000000000000 0000000000000000 0000000001000000 0000000000000000 0000000000000000 0000000000000000 0000000000000000 0000000001110100 0000000000000000 0000000000000000 0000000001111110 0000000000000000 0000000011111110 0000000100101100 0000000000000000 0000000000000000 0000000000000000 0000000000000000 0000000000000000 0000000000000000 0000000000000000 0000000101010111 0000001000011001 0000000000000000 0000000000000000 0000000000000000 0000000000100000 0000000000000000 0000000000000000 0000000000000000 0000000001100011 0000000000100000 0000000000000000 0000000001110100 0000000101111001 0000000000000000 0000000000000000 0000000010001101 0000000111000001 0000000001101101 0000000000101110 0000000000000000 0000000111110100 0000000000000000 0000000000000000 0000000011100101 0000000000000000 0000000000000000 0000000000000000 0000000011110101 0000000000000000 0000000000000000 0000000000000000 0000000000000000 0000000000000000 0000000001100011 0000000000000000 0000000000000000 0000000000000000 0000000010111101 0000000101011101 0000000000000000 0000000000011000 0000000000000000 0000000011011011 0000000000000000 0000000011100110 0000000000000000 0000000001100011 0000000000000000 0000000000000000 0000000000111111 0000000110100101 0000000000000000 0000000110110010 0000000000000000 0000000001001100 0000000000000000 0000000000000000 0000000000000000 0000000000000000 0000000000000000 0000000000000000 0000000000000000 0000000110001101 0000000001111100 0000001010101101 0000000000000000 0000000000000000 0000000000000000 0000000011000111 0000000000000000 0000000000000000 0000000000000000 0000000010100110 0000000001111000 0000000000000000 0000000001010101 0000000011011100 0000000000000000 0000000000000000 0000000000000000 0000000111010110 0000000011110010 0000000111010111 0000000000000000 0000000000000000 0000000000000000 0000000000000000 0000000000000000 0000000001010111 0000000000000000 0000000000000000 0000000100110000 0000000000000000 0000000000000000 0000000000000000 0000000000000000 0000000001011001 0000000000000000 0000000000000000 0000000000111101 0000000000000000 0000000011010001 0000000000000000 0000000000000000 0000000000000000 0000000000000000 0000000000000000 0000000000000000 0000000000000000 0000001001110110 0000000011000110 0000000000000000 0000000110101100 0000000000000000 0000000000000000 0000000000111001 0000000000000000 0000000000000000 0000000010011110 0000000111001111 0000000000000000 0000000000000000 0000000000000000 0000000000000000 0000000000000000 0000000000000000 0000000000011110 0000000000000000 0000000011011011 0000000101000001 0000000000000000 0000000000000000 0000000000111011 0000000001110110 0000000000000000 0000000000000000 0000000101011110 0000000000000000 0000000000000000 0000000111000111 0000001100011001 0000000000000000 0000000000000000 0000000110101100 0000000001101100 0000000000000000 0000000111100001 0000000000010111 0000000000000000 0000000000000000 0000000000000000 0000000101100010 0000000000000000 0000000000000000 0000000000000000 0000000000000000 0000000000000000 0000000000000000 0000000000000000 0000000000000000 0000000100000001 0000000000000000 0000000000110001 0000000000000000 0000000000000000 0000000001101001 0000000110110111 0000000000000011 0000000000000000 0000000000000000 0000000000000000 0000000000000000 0000000000000000 0000000101010000 0000000101001000 0000000000000000 0000000000000000 0000000000000000 0000000000000000 0000000000000000 0000001000000111 0000000000000000 0000000011001001 0000001100011001 0000000001011010 0000000000000000 0000000000000000 0000000000000000 0000000000000000 0000000000000000 0000000010011010 0000000000000000 0000000010100000 0000001001111100 0000000000000000 0000000011000110 0000000000010110 0000000001010001 0000000000000000 0000000000000000 0000000000000000 0000000000000000 0000000000000000 0000001001100111 0000000111111111 0000000000000000 0000000000000000 0000000101100001 0000000000000000 0000000000000000 0000000101010101 0000000000000000 0000000000000000 0000000000000000 0000000000000000 0000000001101011 0000000000000000 0000000000000000 0000000010100110 0000000000001000 0000000000000000 0000000000000000 0000000000000000 0000000000000000 0000000100111010 0000000000000000 0000000000000000 0000000000000000 0000000000000000 0000000010001111 0000000000000000 0000000011101100 0000000000000000 0000000000000000 0000000000011010 0000000000000000 0000000000000000 0000000000000000 0000000000000000 0000000000000000 0000000000000000 0000001011010100 0000000000000000 0000000000000000 0000000111011011 0000000010001111 0000000000000000 0000000010100101 0000000000000000 0000000000000000 0000000000010111 0000000000000000 0000000000000000 0000000000000000 0000000111001000 0000000000000000 0000000011100100 0000000000000000 0000000000000000 0000000010011011 0000000000110011 0000000000000000 0000000000000000 0000000000001001 0000000000000000 0000000000000000 0000000000000000 0000000101101100 0000000000000000 0000000000000000 0000000000000000 0000000000110100 0000000010111101 0000000010110011 0000000000110000 0000000000010101 0000000000011011 0000000000000000 0000000000000000 0000000000000000 0000000000000000 0000000000000000 0000000011101101 0000000001001001 0000000000000000 0000000000000000 0000000000000000 0000000000000000 0000000000000000 0000000111101111 0000000000000000 0000000011000111 0000000000000000 0000000001111111 0000000000000000 0000000110010101 0000000010011110 0000000000000000 0000000000000000 0000000000000000 0000000000000000 0000000110001110 0000001000100010 0000000000000000 0000000000000000 0000000000000000 0000000000000000 0000000000000000 0000000011011101 0000000000000000 0000000000001101 0000001000101111 0000000000000000 0000000000000000 0000000000000000 0000000000000000 0000000000000000 0000000000000000 0000000000000001 0000000000000000 0000000000000000 0000001000010000 0000000000000000 0000000011101001 0000000011000101 0000001100111100 0000000000000000 0000000000000000 0000000000000000 0000000000000000 0000000000000000 0000001001111110 0000001001000111 0000000010000001 0000000000000000 0000001011011100 0000000000000000 0000000000000000 0000000000001111 0000000000000000 0000000000000000 0000000000000000 0000000000000000 0000000100101010 0000000001100001 0000000000000000 0000000000000000 0000000000000000 0000000000000000 0000000000000000 0000000000000000 0000000000000000 0000000000000000 0000000000000000 0000000000111010 0000000000000000 0000000000000000 0000000011110010 0000000001011001 0000000101000110 0000000000000000 0000000000000000 0000000000000000 0000000000000000 0000000000000000 0000000000000000 0000000001111010 0000000000000000 0000000000000000 0000000000000000 0000000000000000 0000000011000001 0000000000000000 0000000000001001 0000000000110111 0000000110100100 0000000000000000 0000000000000000 0000000100110000 0000000000000000 0000000000001001 0000000000000000 0000000000000000 0000000000000000 0000000000000000 0000000010010101 0000000000000000 0000000111100000 0000000000000111 0000001001101110 0000000000000000 0000001000110110 0000000000000000 0000000000000000 0000000000000000 0000000111101100 0000001001111110 0000000000000000 0000000000000000 0000000000000000 0000000011010000 0000000000000000 0000000000000000 0000000000000000 0000000000110111 0000000000000000 0000000000000000 0000000000000000 0000000000000100 0000000000000000 0000000001101011 0000000010001110 0000000000000000 0000000000000000 0000000000000000 0000000000000000 0000000000000000 0000000000001100 0000000010101001 0000000000000000 0000000000000000 0000000000011100 0000000000000000 0000000000000000 0000000000000000 0000000000000000 0000000000000000 0000000000000000 0000000000000000 0000000000000000 0000000000011011 0000000000000000 0000000000000000 0000000000000000 0000000000000000 0000000000010001 0000000000000000 0000000001100111 0000000000000000 0000000000000000 0000000000000000 0000000000000000 0000000111000001 0000000000000000 0000000000000000 0000000000000000 0000000011110010 0000000000000000 0000000000000000 0000000000000000 0000000000000000 0000001101000001 0000000000000000 0000000101101010 0000000000000000 0000010011010011 0000000000000000 0000000011100011 0000000000000000 0000000000111001 0000000110001000 0000000000000000 0000000000000000 0000000000000000 0000000101000111 0000000101100101 0000000000000000 0000000000000000 0000000101001011 0000000000000000 0000000000000000 0000000000000000 0000000000000000 0000000000000000 0000000110001110 0000000011110111 0000000010011001 0000000000000000 0000000000000000 0000000000000000 0000000000000000 0000000111000000 0000000100100100 0000000000000000 0000000000000000 0000000011101011 0000000000000000 0000000001100101 0000000000000000 0000000000000000 0000000000000000 0000000000000000 0000000000000000 0000000001110101 0000000000000000 0000000000000000 0000000000000000 0000000010001111 0000000000000000 0000000000011101 0000000000000000 0000000110011010 0000000000000000 0000000001011111 0000000001010111 0000000000000000 0000001010101110 0000000000000000 0000000010000001 0000000000000000 0000000000000000 0000000000000000 0000000000000000 0000000000000000 0000000111001001 0000000111000000 0000000000000000 0000000000001101 0000000000000000 0000000101101010 0000000000000000 0000000000000000 0000000000000000 0000000010011110 0000000010110010 0000000000000000 0000000000110000 0000000101100001 0000000011001101 0000000011100010 0000000000000000 0000000000000000 0000000000000000 0000000000000000 0000000100110001 0000000000000000 0000000000000000 0000000000000000 0000000000000000 0000000000000000 0000000000001000 0000000000000000 0000000000000000 0000000000000000 0000000000000000 0000000101100111 0000000000000000 0000000000000000 0000000000000000 0000000000011010 0000000000000000 0000000100001101 0000000000000000 0000000000000000 0000000001101111 0000000000000000 0000000100010100 0000000000000000 0000000000000000 0000000000000000 0000000000000000 0000000100010111 0000000000111001 0000000000000000 0000000000000000 0000000100100000 0000000011111101 0000000000000000 0000000000000000 0000000000000000 0000001011100010 0000000000000000 0000000101100001 0000000101001101 0000000000000000 0000000000000000 0000000000000000 0000000000000000 0000000101011011 0000000100101001 0000000000000000 0000000000000000 0000000000000000 0000000011101010 0000000101000101 0000000000000000 0000000000000000 0000000011010110 0000000000000000 0000000000000000 0000000000001100 0000000000000000 0000000011100000 0000000011000111 0000000000000000 0000000000000000 0000001010011110 0000000000000000 0000000011100111 0000000000000000 0000000000000000 0000000000000000 0000000000000000 0000000110111011 0000000000111101 0000000000000000 0000000000000000 0000000000000000 0000000000000000 0000000111010011 0000000001100110 0000000000000000 0000000000000000 0000000000000000 0000000000000000 0000000000000000 0000000000000000 0000000000000000 0000001000011111 0000000000000000 0000000000011101 0000000000000000 0000000000000000 0000000000000000 0000000000000000 0000000000000000 0000000101100101 0000000000000000 0000000000000000 0000000000000000 0000000000000000 0000000000000000 0000000000000000 0000000000000000 0000000011100110 0000000000000000 0000000000000000 0000000000000000 0000000011111010 0000000000000000 0000000001010101 0000000000000000 0000000000000000 0000000000000000 0000000000000000 0000000000000000 0000000000000000 0000000000001011 0000000100100101 0000000100100101 0000000000000000 0000000000000000 0000000000000000 0000000000000000 0000000000000000 0000000000000000 0000001000100100 0000000111000001 0000000001101011 0000000000000000 0000000101101111 0000000000000000 0000000000000000 0000000000000000 0000000000000000 0000000000000000 0000000010111101 0000001000011111 0000000000000000 0000000000000000 0000000000000000 0000000000000000 0000000000000000 0000000100111111 0000000000011001 0000000000000000 0000000000000000 0000000010100010 0000000000000000 0000000000000000 0000000000000000 0000000000000000 0000000000000000 0000000000000000 0000000011011001 0000000000000000 0000000000000000 0000000000000000 0000000000000000 0000000000000000 0000000000000000 0000000000000000 0000000000000000 0000000000000000 0000000001111110 0000000110100010 0000000000000000 0000000000000000 0000000101000111 0000000000000000 0000000100010110 0000000000000000 0000000100000111 0000000000000000 0000000001101101 0000000000000000 0000000010111000 0000000101001010 0000000000000000 0000000010011001 0000000000000000 0000000000000000 0000000000000000 0000000000000000 0000000000000000 0000000101110000 0000000101000001 0000000000000000 0000000000000000 0000000000000000 0000000110010111 0000000010110111 0000000000101111 0000000000000000 0000000000000000 0000000000000000 0000000000000000 0000000000000000 0000000000000000 0000000000000000 0000000001100011 0000000000100100 0000000101100101 0000000000000000 0000000000000000 0000000000000000 0000000000000000 0000000000000100 0000000011000011 0000000000000000 0000000000000000 0000000000000000 0000000011110000 0000000000000000 0000000000000000 0000000000000000 0000000110010111 0000000000000000 0000000111111000 0000000000000000 0000000000000101 0000000000000000 0000000000000000 0000000000000000 0000000000000000 0000000000000000 0000000000000000 0000000000000000 0000000000000011 0000000001100011 0000000000000000 0000000000000000 0000000000000000 0000000000000000 0000000001101001 0000000000000000 0000000010111010 0000000000000000 0000000111110010 0000000000000000 0000000000000000 0000000000101110 0000000000000000 0000000000000000 0000000000000000 0000000000000000 0000000000100001 0000000000111000 0000000000000000 0000000100001001 0000000001011010 0000000000000000 0000000000000000 0000000000000000 0000001010100111 0000000001101101 0000000101100100 0000000000000000 0000000110000001 0000000000000000 0000000000000000 0000000000000000 0000000000000000 0000000000000000 0000000001101011 0000000000000000 0000000000000000 0000000000000000 0000000000000000 0000000000000000 0000000000000000 0000000001101101 0000000000110000 0000000000000000 0000000000000000 0000000000110011 0000000001110001 0000000000000000 0000000000000000 0000000000000000 0000000110001001 0000000000000000 0000000101101101 0000000000000000 0000000100110100 0000000000000000 0000000000000000 0000000110000100 0000000101000001 0000000000000000 0000000100000101 0000000000000000 0000000010010010 0000000000000000 0000000000000000 0000000000000000 0000000000000000 0000000000000000 0000000000000000 0000000000000000 0000000001010111 0000000001110110 0000001100101011 0000000000000000 0000000000000000 0000000000000000 0000000000001101 0000000000000000 0000000000000000 0000000000000000 0000000000000000 0000000010011110 0000000000000000 0000000000000000 0000000010011111 0000000000000000 0000000000000000 0000000000000000 0000000110110010 0000000001101100 0000000101010010 0000000000000000 0000000001100001 0000000000000000 0000000000000000 0000000000000000 0000000010100100 0000000000000000 0000000010000111 0000000000000000 0000000000000000 0000000000000000 0000000000000000 0000000000000000 0000000101100001 0000000001101011 0000000000000000 0000000000000000 0000000000000000 0000000000000000 0000000000000000 0000000000000000 0000000000000000 0000000000000000 0000000000000000 0000000000000000 0000000000000000 0000001001101100 0000000100011000 0000000000000000 0000000100001110 0000000000000000 0000000000000000 0000000000000000 0000000000000000 0000000000000000 0000000000000000 0000001000011101 0000000000000000 0000000000000000 0000000000000000 0000000000000000 0000000000000000 0000000000000000 0000000001111000 0000000000000000 0000000000000000 0000000010001010 0000000000011101 0000000000110111 0000000010110101 0000001000111101 0000000000000000 0000000000111010 0000000010000011 0000000000000000 0000000000000000 0000000100011101 0000010011100101 0000000000000000 0000000000000000 0000000010110010 0000000000000000 0000000000000000 0000000101000011 0000000000000000 0000000000000000 0000000000000000 0000000000000000 0000000000000000 0000000000000000 0000000000000000 0000000000000000 0000000000000000 0000000000000000 0000000000000000 0000000000000000 0000000000000000 0000001000100000 0000000000000000 0000000100100100 0000000000000000 0000000000000000 0000000011111011 0000000001111011 0000000000000000 0000000000000000 0000000000000000 0000000000000000 0000000000000000 0000000001111110 0000001000000100 0000001000011111 0000000000000000 0000000000000000 0000000000000000 0000000000000000 0000000000000000 0000001100101110 0000000100100001 0000000000000000 0000000100011100 0000000000000000 0000000000000000 0000000010100011 0000000000000000 0000000001010100 0000000000000000 0000000010110111 0000000000000000 0000000000000000 0000001011010000 0000000000000000 0000000111111000 0000000010011000 0000001100011100 0000000000000000 0000000000000000 0000000000000000 0000000000000000 0000000000000000 0000001010011001 0000001111010101 0000000000000000 0000000000000000 0000000000000000 0000000000000000 0000000000000000 0000000010100001 0000000000000000 0000000001111000 0000000000000000 0000000000100010 0000000000000000 0000000000000000 0000000000000000 0000000001101110 0000000000000000 0000000000000000 0000000000000000 0000000000000000 0000000000000000 0000000000000000 0000000111101100 0000000001000010 0000000000000000 0000000000000000 0000000000010101 0000000000000000 0000000000000000 0000000000000000 0000000000000000 0000000000000000 0000000000000000 0000000000000000 0000000000000000 0000000001110000 0000000000000000 0000000000000000 0000000000000000 0000000000000000 0000000000000000 0000010000001100 0000000010010011 0000000000000000 0000000010100001 0000000000000000 0000000000000000 0000000000000000 0000000000000000 0000000101000000 0000000000000000 0000000010001100 0000000000000000 0000000000000000 0000001000100011 0000000000000000 0000001001110000 0000000101000001 0000001011010001 0000000000000000 0000000000000000 0000000000000000 0000000000000000 0000000000000000 0000001011000010 0000001111100000 0000000000000000 0000000000000000 0000000000000000 0000000000000000 0000000000000000 0000000001000010 0000000000000000 0000000111001011 0000000000000000 0000000001010111 0000000000000000 0000000000000000 0000000000000000 0000000000000000 0000000001011000 0000000000100101 0000000000000000 0000000000000000 0000000000000000 0000000000000000 0000000111100100 0000000000000000 0000000000000000 0000000000000000 0000000000000000 0000000000000000 0000000000111010 0000000000000000 0000000000000000 0000000000000000 0000000000000000 0000000011111000 0000000000000000 0000000000000000 0000000000000000 0000000000000000 0000000000000000 0000000000000000 0000000000000000 0000000000101000 0000000000001101 0000000000111111 0000000010001111 0000000000000000 0000000000000000 0000000100000000 0000000000000000 0000000011110100 0000000000000000 0000000000000000 0000000000001110 0000000000000000 0000000000000000 0000000110110010 0000001001011111 0000000100110110 0000000010101111 0000000000000000 0000000000000000 0000000000000000 0000000000000000 0000000000000000 0000000111111110 0000001001010101 0000000000000000 0000000001101000 0000000000000000 0000000000000000 0000000000000000 0000000001001100 0000000000000000 0000000001111010 0000000000000000 0000000000000000 0000000000000000 0000000100001010 0000000011100110 0000000000000000 0000000000000000 0000001011000010 0000000000000000 0000000000000000 0000000000000000 0000000000000000 0000000110000011 0000000000100111 0000000000000000 0000000000000000 0000000000000000 0000000000000000 0000000000000000 0000000001011011 0000000000000000 0000000000000000 0000000000000000 0000000010000111 0000000000000000 0000000000000000 0000000000000000 0000000000000000 0000000000000000 0000000000000000 0000000000000000 0000000000000000 0000000100000101 0000000000000000 0000000000000000 0000000000000000 0000000000000000 0000001100000100 0000000000000000 0000001001001000 0000000000000000 0000000010111100 0000000000000000 0000000000000000 0000000000000000 0000000111001110 0000001101001111 0000000010110001 0000000000000000 0000000000000000 0000001010110011 0000000000000000 0000000000001111 0000000000000000 0000000101110111 0000000110000100 0000000000000000 0000000001001111 0000000000000000 0000001011000100 0000000000001100 0000000000000000 0000000000000000 0000000000010010 0000000000000000 0000000001011100 0000000000000000 0000000000000000 0000000010001111 0000000000000000 0000000000000000 0000001010010100 0000000000000000 0000000000000000 0000000000000000 0000000000000000 0000001000000100 0000000000000000 0000000000000000 0000000000000000 0000000000000000 0000000000000000 0000000000000000 0000000000000000 0000000000000000 0000000000000000 0000000000000000 0000000000000000 0000000000000000 0000000001010000 0000000000000000 0000000011110000 0000001000100110 0000000000000000 0000000000000000 0000000101000111 0000000010111110 0000000000000000 0000000000000000 0000000100010100 0000000000000000 0000001110101100 0000000000000000 0000000110001011 0000000011110010 0000000110101110 0000000000000000 0000000000000000 0000000000000000 0000000001100001 0000010000011011 0000000000000000 0000000000000000 0000000000000000 0000001111100111 0000000000000000 0000000001111101 0000000000000000 0000000101110001 0000000000100100 0000000000000000 0000000000000000 0000000000000000 0000000110000011 0000000011101111 0000000000000000 0000000000000000 0000000000000000 0000000000010000 0000001001111001 0000000000000000 0000000000000000 0000000000000000 0000000101100001 0000000000000000 0000000100100111 0000000000000000 0000000000000000 0000000000000000 0000000000000000 0000001001100010 0000000000000000 0000000000000000 0000000000000000 0000000000000000 0000000000000000 0000000000000000 0000000010010111 0000000000000000 0000000000000000 0000000000000000 0000000100111111 0000000000000000 0000000000000000 0000000000000000 0000000000000000 0000000000000000 0000000000000000 0000000000000000 0000001111110000 0000000100111100 0000000100001000 0000000000000000 0000000000000000 0000000000000000 0000001010110101 0000000000000000 0000000000110100 0000000000000000 0000000100001011 0000000000000000 0000001000101000 0000000000000000 0000000110001001 0000001000011100 0000000100100111 0000000000000000 0000000000000000 0000000000001010 0000000010010100 0000000000000000 0000000000000000 0000001010100010 0000001001010100 0000000000000000 0000000000000000 0000000000000000 0000000110000110 0000000000000000 0000000000000000 0000000000000000 0000000000000000 0000000000000000 0000000111001110 0000000000000000 0000000000000000 0000000000000000 0000000000000000 0000000000000000 0000000100110100 0000000000000000 0000000000000000 0000000000000000 0000000000000000 0000000000100011 0000000000000000 0000000000000000 0000000000000000 0000000000000000 0000000000000000 0000000000000000 0000000000101101 0000000000000000 0000000000000000 0000000000000000 0000000101100111 0000000000000000 0000000000000000 0000000000000000 0000000000000000 0000000000000000 0000000000000000 0000000001110101 0000000000000000 0000000010011010 0000000110100000 0000000000000000 0000000000000000 0000000000000000 0000001001000001 0000000000000000 0000000000000000 0000000000000000 0000000100101101 0000000000000000 0000000101001001 0000000000000000 0000000011000101 0000000001101000 0000000010100001 0000000000000000 0000000000000000 0000000000000110 0000000110111010 0000000000000000 0000000000000000 0000000011010011 0000001010101100 0000000000000000 0000000000000000 0000000000000000 0000001100110000 0000000001111011 0000000000000000 0000000000000000 0000000100111011 0000000000000000 0000000000000000 0000000000000000 0000000000000000 0000000000000000 0000000000000000 0000000110110101 0000000001000000 0000000000000000 0000000000000000 0000000000000000 0000000000000000 0000000001001000 0000000000000000 0000000000000000 0000000000000000 0000000010011010 0000000011010110 0000000000000000 0000000000000000 0000000000000000 0000001101000000 0000000000000000 0000000101001100 0000000000000000 0000000000000000 0000000000000000 0000000000000000 0000000000000000 0000000011110100 0000000000000000 0000000000000000 0000000000000000 0000000000111111 0000000000000000 0000000000000000 0000000000000000 0000000000000000 0000000000000000 0000000000000000 0000000000000000 0000001100001010 0000000000000000 0000000001100000 0000000000000000 0000000000000000 0000000000000000 0000000011110100 0000000000000000 0000000000000000 0000000000000000 0000000000000000 0000000110001001 0000000000000000 0000000000000000 0000000100111111 0000000000000000 0000000000000000 0000000000000000 0000010001011100 0000001000100100 0000000000000000 0000000000000000 0000000101101101 0000000000000000 0000000000000000 0000000000000000 0000000000000000 0000000000000000 0000000001001010 0000000111011101 0000000010011011 0000000000000000 0000000000000000 0000000000000000 0000000000000000 0000001000000010 0000000000000000 0000000000000000 0000000000000000 0000001001110110 0000000000000000 0000000000000000 0000000000000000 0000000000000000 0000000001001100 0000000000000000 0000000000000000 0000000000000000 0000000001010000 0000000000000000 0000000001010011 0000000000000000 0000000000000000 0000000000000000 0000000001011010 0000000000000000 0000000000000000 0000000000000000 0000000000000000 0000000000000000 0000000000000000 0000000000000000 0000000000011110 0000000000000000 0000000101011011 0000000000000000 0000000011001110 0000000000000000 0000000000110110 0000000011101000 0000000100000111 0000000000000000 0000000000000000 0000000000110001 0000000000000000 0000000000000000 0000000000000000 0000000000000000 0000001111101010 0000000000000000 0000000011111001 0000000000000000 0000000100101101 0000000000000000 0000000000000000 0000000000000000 0000000000000000 0000000000000000 0000000000000000 0000000000000000 0000000000000000 0000000101011001 0000000000101110 0000000000000000 0000000000000000 0000000000000000 0000000000000000 0000000000000000 0000000000000000 0000000000000000 0000000011101010 0000000000000000 0000000000000000 0000000000000000 0000000000000000 0000000000000000 0000000100101000 0000000000000000 0000000000000000 0000000000000000 0000000000000000 0000000000000000 0000000000000000 0000000000000000 0000001000000111 0000000000000000 0000000000011101 0000000000000000 0000000000000000 0000000000111100 0000000000011110 0000000000000000 0000000000000000 0000000000000000 0000000000110010 0000000000000000 0000000101001010 0000000000000000 0000000111000001 0000000000000000 0000001000100111 0000000000000000 0000000000000000 0000000001011100 0000000000000000 0000000000000000 0000000000000000 0000000110101010 0000000000000000 0000000010101000 0000000000000000 0000000000000000 0000000101001011 0000000000000000 0000000001001000 0000000000000000 0000001000101101 0000001001110000 0000000000000000 0000000000000000 0000000000000000 0000000000000000 0000000000000000 0000000000000000 0000000000000000 0000000001111011 0000000011101101 0000000010011101 0000000000000000 0000000000000000 0000000000000000 0000000000000000 0000000000000000 0000000000000000 0000000111000110 0000000000000000 0000000000000000 0000000000101010 0000000000000000 0000000000000000 0000000000010001 0000000000000000 0000000000000000 0000000000000000 0000000000000000 0000000000000000 0000000100111100 0000000000000000 0000000100101011 0000000000000000 0000000001100111 0000000000000000 0000000000000000 0000000000000000 0000000000000000 0000000000011110 0000000000000000 0000000000000000 0000000000000000 0000000000000000 0000000001001001 0000000000000000 0000000111000000 0000000010100010 0000000100111010 0000000000000000 0000000000000000 0000000000000000 0000000000000000 0000001010001111 0000000000000000 0000000101110011 0000000000000000 0000000101110111 0000000000000000 0000000000000000 0000000000000000 0000000100000000 0000000000000000 0000000000000000 0000000100011110 0000001001100100 0000000001001101 0000000000000000 0000000000000000 0000000000000000 0000000000000000 0000000000000000 0000000000000101 0000000000000000 0000000110010010 0000001011011100 0000000000000011 0000000000000000 0000000000000000 0000000000000000 0000000000000000 0000000001111110 0000000011101000 0000000000000000 0000000000000000 0000000101000110 0000000000000000 0000000000101101 0000000000000000 0000000000000000 0000000000000000 0000000000000000 0000000000000011 0000000000000000 0000000000000000 0000000000000000 0000000000000000 0000001000011011 0000000000000000 0000000000000000 0000001000101000 0000000000000000 0000000000000101 0000000000000000 0000000000000000 0000000000000000 0000000010001000 0000000000000000 0000000101011111 0000000000000000 0000000011101011 0000000000000000 0000000101001110 0000000000000000 0000000001110101 0000000000000000 0000000000111110 0000000000000000 0000000000000000 0000000001000100 0000000000000000 0000000000000000 0000000000000000 0000000000000000 0000000100001000 0000000000000000 0000000000000000 0000000000000000 0000000111001000 0000000101111001 0000000000000000 0000000000000000 0000000000000000 0000000000000000 0000001000001010 0000000000000000 0000000000000000 0000000001011001 0000000000000000 0000000000000000 0000000001101010 0000000000000000 0000000000000000 0000000000000000 0000000000000000 0000000011011010 0000000000000000 0000000000000000 0000000000000000 0000000000000000 0000000000000000 0000000000000000 0000000110000101 0000000000000000 0000000000000000 0000000000000000 0000000000000000 0000000000000000 0000000000000000 0000000000000000 0000000110110000 0000000000000000 0000000010101100 0000000001100000 0000000000000000 0000000001100110 0000000010001110 0000000000000000 0000000000000000 0000000000000000 0000000010010001 0000000000000000 0000000100111100 0000000000000000 0000000011010011 0000000000000000 0000000111011010 0000000000000000 0000000010000010 0000000000000000 0000000001110010 0000000000000000 0000000000000000 0000000010001101 0000000000000000 0000000001010110 0000000000000000 0000000000000000 0000000101011001 0000000000000000 0000000000000000 0000000000000000 0000000101110011 0000000110000000 0000000000000000 0000000000000000 0000000000000000 0000000000000000 0000001000010110 0000000000000000 0000000000000000 0000000000000000 0000000000000110 0000000101110111 0000000000000110 0000000000000000 0000000000000000 0000000000000000 0000000000000000 0000000000000000 0000000000000000 0000000000000000 0000000000000000 0000000000000000 0000000000000000 0000000000000000 0000000000100100 0000000000000000 0000000000000000 0000000000000000 0000000000000000 0000000000000000 0000000000000100 0000000000000000 0000001000100111 0000000001001000 0000000000111001 0000000010000100 0000000000000000 0000000000000000 0000000000000000 0000000000000000 0000000000000000 0000000000000000 0000000000000000 0000000000000000 0000000000000000 0000000000000000 0000000101010001 0000000001000101 0000000011101000 0000000000000000 0000000000000000 0000000000000000 0000000000000000 0000000001001111 0000000000000000 0000000000001010 0000000000000000 0000000011110101 0000000000000000 0000000000000000 0000000000000000 0000000011110010 0000000000000000 0000000000000000 0000000000110101 0000000101000111 0000000010101110 0000000001010011 0000000000000000 0000000000000000 0000000110010010 0000000000000000 0000000001101001 0000000000000000 0000000100110000 0000000111010000 0000000000111011 0000000000000000 0000000000000000 0000000000000000 0000000001101111 0000000000000000 0000000000000000 0000000000000000 0000000000000000 0000000010100001 0000000000000000 0000000000000000 0000000000000000 0000000100100101 0000000000000000 0000000000011000 0000000000000000 0000000000000000 0000000000000000 0000000000000000 0000000000110101 0000000000000000 0000000100110111 0000000000000000 0000000101001011 0000000000000000 0000000000011011 0000000000000000 0000000000000000 0000000000000000 0000000000000000 0000000000000000 0000000000000000 0000000000000000 0000000011100101 0000000000000000 0000000100011110 0000000000000000 0000000000000001 0000000000000000 0000000000000000 0000000000000000 0000000001101100 0000000000000000 0000000000000000 0000000001111111 0000000000000000 0000000000000000 0000000100010000 0000000000110010 0000000010100010 0000000000000000 0000000010010001 0000000001101001 0000000000000000 0000000001100100 0000000000000000 0000000000000000 0000000010110011 0000000000000000 0000000000000000 0000000010011100 0000000000000000 0000000000000000 0000000000010001 0000000011011010 0000000000000000 0000000000000000 0000000000000000 0000000000000000 0000000000000000 0000000010010001 0000000000000000 0000000000000000 0000000000000000 0000000000000000 0000000000000000 0000000000000000 0000000000000000 0000000000000000 0000000000000000 0000000000000000 0000000000000000 0000000000000000 0000001001100001 0000000000000000 0000000110110100 0000000000000000 0000000000000000 0000000000000000 0000000110000110 0000000100001000 0000000011111000 0000000000000000 0000000000001010 0000000000000000 0000000000000000 0000000000000000 0000000010000110 0000000000000000 0000000101100110 0000000000000000 0000000101001100 0000000000000000 0000000000000000 0000000000000000 0000000000110110 0000000000000000 0000000001110101 0000000000000000 0000000000000000 0000000000000000 0000001000001111 0000000011001100 0000000000000000 0000000000000000 0000000001111001 0000000000000000 0000000000000000 0000000111001001 0000000000000000 0000000000000000 0000000000101101 0000000000111100 0000000000100001 0000000000000000 0000000000000000 0000000100010101 0000000000000000 0000000000000000 0000000000000000 0000000000000000 0000000001000010 0000000000000000 0000000010100110 0000000000000000 0000000000000000 0000000000000000 0000000001000101 0000000000000000 0000000000000000 0000000000000000 0000000101001111 0000000000000000 0000000000110001 0000000000000000 0000000000000000 0000000000000000 0000000101101011 0000000000000000 0000000011100000 0000000000000000 0000000000000000 0000000000011011 0000000000000000 0000000000011010 0000000000011110 0000000000000000 0000000010111001 0000000000000000 0000000000000000 0000000000000000 0000000101000010 0000000000000000 0000000000001001 0000000000000000 0000000000000000 0000000000000000 0000000000000000 0000000001101011 0000000000000000 0000000000000000 0000000010110111 0000000001110011 0000000000000000 0000000000000000 0000000000000000 0000001000000010 0000000000001110 0000000000000000 0000000100111110 0000000010000110 0000000001001101 0000000010000010 0000000000000000 0000000000000000 0000000000000000 0000000001101000 0000000010000101 0000000000000000 0000000101111011 0000000010011000 0000000010011001 0000000000000000 0000000000000000 0000000000000000 0000000100011101 0000000000000000 0000000000000000 0000000000000000 0000000000000000 0000000100111000 0000000000000000 0000000000000000 0000000000000000 0000000000000000 0000000101110010 0000000000000000 0000000001011100 0000000000000000 0000000001000001 0000000000000000 0000000000111010 0000000000000000 0000000000000000 0000000000000000 0000000000000000 0000000000010111 0000000000011110 0000000000000000 0000000000000000 0000000000000000 0000000000000000 0000000000000000 0000000000000000 0000000000000000 0000000100111100 0000000000000000 0000000010101110 0000000000000000 0000000011001010 0000000000000000 0000000001100010 0000000001000000 0000000000000000 0000000000000000 0000000000011001 0000000010011100 0000000000000000 0000000001000010 0000010000101000 0000000000000000 0000000100111010 0000000000000000 0000000111101110 0000000000010011 0000000001001110 0000000000000000 0000000000000000 0000000000000000 0000000000000000 0000000000000000 0000000000000000 0000000011011101 0000000000000000 0000000000000000 0000000000000000 0000000000000000 0000000000000000 0000000000000000 0000000000000000 0000000000000000 0000000001010000 0000000000000000 0000000010100010 0000000010001101 0000000000000000 0000000000110110 0000000011010011 0000000000000000 0000000000000000 0000000000000000 0000000000000000 0000000000000000 0000000001111010 0000000000000000 0000000111010111 0000000000000000 0000000100000001 0000000000000000 0000000000000000 0000000010000001 0000000000000000 0000000000000000 0000000000000000 0000000000000000 0000000000000000 0000000000000000 0000000010001110 0000000000000000 0000000110100101 0000000000000000 0000000110100100 0000000000000000 0000000000100011 0000000000000000 0000000000000000 0000000000000000 0000000000000000 0000000011000011 0000000000000000 0000000110010111 0000000000000000 0000000000000000 0000001001010001 0000000000000000 0000000110101110 0000000000000000 0000001000100110 0000000111100101 0000000000000000 0000000000000000 0000000000000000 0000000000000000 0000000000000000 0000000000000000 0000000000000000 0000000000000000 0000000001000110 0000000000111101 0000000000000000 0000000000000000 0000000000000000 0000000000000000 0000000000000000 0000000000100010 0000000101100110 0000000000000000 0000000100011011 0000000000000000 0000000000000000 0000000000000000 0000000000000000 0000000000000000 0000000000000000 0000000000000000 0000000000000000 0000000000000000 0000000100111010 0000000000000000 0000000100011000 0000000000000000 0000000110000101 0000000000000000 0000000000000000 0000000000000000 0000000000000000 0000000000000000 0000000000000000 0000000000000000 0000000000000000 0000000000000000 0000000000000000 0000000000000000 0000000110111110 0000000100101000 0000000000000000 0000000000000000 0000000000000000 0000000001000001 0000000000000000 0000000111110100 0000000000000000 0000000111101111 0000000000000000 0000000110101000 0000000000000000 0000000000000000 0000000001010110 0000000010111101 0000000010100110 0000000000000000 0000000011110111 0000001000001101 0000000001001111 0000000001101000 0000000000000000 0000000000000000 0000000000000000 0000000000000000 0000000000000000 0000000000000000 0000000100111011 0000001011110011 0000000000000000 0000000000000000 0000000000000000 0000000000000000 0000000000000000 0000000010100010 0000000011010111 0000000000000000 0000000000000000 0000000100010001 0000000000000000 0000000010010001 0000000000000000 0000000000000000 0000000000000000 0000000000000000 0000000001001111 0000000000000000 0000000000000000 0000000000000000 0000000000000000 0000001010000010 0000000000000000 0000000000000000 0000000010110001 0000000000000000 0000000000110010 0000000000000000 0000000000000000 0000000000000000 0000000000000101 0000000000000000 0000000010101001 0000000000000000 0000000010111000 0000000000000000 0000000101100001 0000000000000000 0000000011100001 0000000011010111 0000000011010101 0000000000000000 0000000000000000 0000000000010100 0000000000000000 0000000000000000 0000000000000000 0000000000000000 0000000011001000 0000000000000000 0000000000000000 0000000000000000 0000000100001000 0000000011011101 0000000000000000 0000000000000000 0000000000000000 0000000000000000 0000000011111010 0000000000000000 0000000000100100 0000000000000000 0000000000100100 0000000000000000 0000000011101010 0000000000000000 0000000000000000 0000000000000000 0000000000000000 0000000011001110 0000000000000000 0000000000000000 0000000000000000 0000000000000000 0000000000000000 0000000000000000 0000000100110101 0000000000000000 0000000000000000 0000000000000000 0000000000000000 0000000000000000 0000000000000000 0000000000000000 0000000110001100 0000000010001010 0000000000000000 0000000000000000 0000000000000000 0000000000000101 0000000010010100 0000000000000000 0000000000000000 0000000000000000 0000000000010110 0000000000000000 0000000011111111 0000000000000000 0000000100001001 0000000000000000 0000001000011111 0000000000000000 0000000000110111 0000000000000000 0000000001011111 0000000000000000 0000000000000000 0000000010100000 0000000000000000 0000000000000000 0000000000000000 0000000000000000 0000000000000000 0000000000000000 0000000000000000 0000000000000000 0000000100100100 0000000101000001 0000000000000000 0000000000000000 0000000000000000 0000000000000000 0000000101101011 0000000000000000 0000000010001101 0000000000000000 0000000001100100 0000000011001110 0000000011000111 0000000000000000 0000000000000000 0000000000000000 0000000000000000 0000000000000000 0000000000000000 0000000000000000 0000000000000000 0000000000000000 0000000000000000 0000000000000000 0000000000010101 0000000000000000 0000000000000000 0000000000000000 0000000000000000 0000000000000000 0000000000011000 0000000000000000 0000000100110101 0000000000000000 0000000000000000 0000000011011001 0000000000000000 0000000000000000 0000000000000000 0000000000000000 0000000000000000 0000000000000000 0000000000000000 0000000000000000 0000000000000000 0000000000000000 0000000101000010 0000000000110100 0000000010110011 0000000000000000 0000000000000000 0000000000000000 0000000000000000 0000000100110010 0000000000000000 0000000001000101 0000000000000000 0000000010000110 0000000000000000 0000000000000000 0000000000000000 0000000001000001 0000000000000000 0000000000000000 0000000001000010 0000000101000000 0000000010111011 0000000000000000 0000000000000000 0000000000000000 0000000010111001 0000000000000000 0000000010010010 0000000000000000 0000000011110000 0000001000011001 0000000011111000 0000000000000000 0000000000000000 0000000000000000 0000000001101110 0000000000000000 0000000000000000 0000000000000000 0000000000000000 0000000011010010 0000000000000000 0000000000000000 0000000000000000 0000000000001010 0000000000000000 0000000000000000 0000000000000000 0000000000000000 0000000000000000 0000000000000000 0000000011100100 0000000000100011 0000000101100111 0000000000000000 0000000110111110 0000000000000000 0000000000001100 0000000000000000 0000000000001100 0000000000000000 0000000000000000 0000000000000000 0000000000010000 0000000000000000 0000000100000011 0000000000011111 0000000101110101 0000000000000000 0000000000101101 0000000000000000 0000000000000000 0000000000000000 0000000011010011 0000000000000000 0000000000000000 0000000100100101 0000000000000000 0000000000000000 0000000101101110 0000000001101101 0000000010011001 0000000000000000 0000000100100111 0000000010100110 0000000000000000 0000000000101100 0000000000000000 0000000000000000 0000000101011100 0000000000000000 0000000000000000 0000000100110011 0000000000000000 0000000000000000 0000000000000000 0000000011110011 0000000000000000 0000000000000000 0000000000000000 0000000000000000 0000000000000000 0000000001100110 0000000000000000 0000000000000000 0000000000000000 0000000000000000 0000000001100111 0000000000000000 0000000000000000 0000000000000000 0000000000000000 0000000000111110 0000000000000000 0000000000000000 0000001001101101 0000000000000000 0000000111100011 0000000000000000 0000000000000000 0000000000000000 0000000101110010 0000000101110101 0000000100011001 0000000000000000 0000000000000000 0000000000000000 0000000000000000 0000000000000000 0000000000110100 0000000000000000 0000000110000110 0000000000000000 0000000001011000 0000000000000000 0000000001000000 0000000000000000 0000000010100011 0000000000000000 0000000001011000 0000000000000000 0000000000000000 0000000000000000 0000001000111101 0000000100011001 0000000000000000 0000000000000000 0000000000101000 0000000000000000 0000000000000000 0000000100110000 0000000000000000 0000000000011100 0000000100001011 0000000010001110 0000000000000000 0000000000000000 0000000000000000 0000000111010001 0000000000000000 0000000000110111 0000000000000000 0000000000000000 0000000001111101 0000000000000000 0000000000000000 0000000000000000 0000000000000000 0000000000111010 0000000010011110 0000000000000000 0000000000000000 0000000000000000 0000000001111000 0000000000000000 0000000000000000 0000000000000000 0000000000111011 0000000000000000 0000000110100000 0000000000000000 0000000010010111 0000000000000000 0000000000000000 0000000000101100 0000000000000000 0000000000001110 0000000010001111 0000000000000000 0000000001000111 0000000000000000 0000000000000000 0000000000000000 0000000100011111 0000000000000101 0000000000000000 0000000000000000 0000000000000000 0000000000110001 0000000000000000 0000000010100011 0000000000000000 0000000000000000 0000000000110010 0000000011001100 0000000000000000 0000000000000000 0000000000000000 0000001010000010 0000000000000000 0000000000000000 0000000010110011 0000000010011001 0000000011011000 0000000010000011 0000000000000000 0000000000000000 0000000000000000 0000000100000100 0000000000111110 0000000000000000 0000000111101111 0000000011010000 0000000000000000 0000000000000000 0000000000000000 0000000000000000 0000000011101000 0000000000000000 0000000000000000 0000000000000000 0000000000000000 0000000011010001 0000000000000000 0000000001001100 0000000000000000 0000000000000000 0000000000000000 0000000001011101 0000000000000000 0000000100101101 0000000111101111 0000000000000000 0000000000100001 0000000001111101 0000000000000000 0000000000110100 0000000100100010 0000000001110111 0000000000000000 0000000000000000 0000000000000000 0000000000000000 0000000000000000 0000000000000000 0000001001111100 0000000000000000 0000000000111011 0000000001110111 0000000000000000 0000000001100000 0000000000000000 0000000010111110 0000000001110111 0000001000001011 0000000000000000 0000000000000100 0000000000000000 0000000000000000 0000000000000000 0000000000111110 0000000110101111 0000000000000000 0000000000000000 0000000100000110 0000000000001010 0000000000000000 0000000000000000 0000000000100010 0000000000000000 0000000000000000 0000000000000000 0000000000101110 0000000000000000 0000000000000000 0000000111111111 0000000000000000 0000000000000000 0000000000000000 0000000000000000 0000000000000000 0000000000000000 0000000000000000 0000000011001101 0000000000000000 0000000000000000 0000000000111100 0000000001001101 0000000000000000 0000000111000001 0000000000000000 0000000000000000 0000000001111000 0000000000000000 0000000000000000 0000000010101001 0000000000000000 0000000000000000 0000000000000000 0000000000000000 0000000010110001 0000000000000000 0000000000100100 0000000000000000 0000000000000000 0000000000000000 0000000000000000 0000000101111101 0000000000000000 0000000110001100 0000000000000000 0000000010111100 0000000000000000 0000000001110101 0000000000000000 0000000000000000 0000000000000000 0000000000000000 0000001001001011 0000000000000000 0000001001001101 0000000000000000 0000000000000000 0000000000000000 0000000000000000 0000000011000011 0000000000000000 0000000000000000 0000000000000000 0000000011111011 0000000110101001 0000000000000000 0000000000000000 0000000000000000 0000000000000000 0000000000000000 0000000000000000 0000000000100101 0000000000000000 0000001000111001 0000000011101111 0000000000000000 0000000000000000 0000000000000000 0000000000000000 0000000000000000 0000000000000000 0000000110011111 0000000000000000 0000000001010110 0000000000000000 0000000000000000 0000000000000000 0000000101000000 0000000000000000 0000000000000000 0000000000000000 0000000000000000 0000000000000000 0000000000000000 0000000000000000 0000000000010000 0000000000000000 0000000010001010 0000000000101110 0000000000000000 0000000000000000 0000000000000000 0000000000000000 0000000000000000 0000000000000000 0000000011111111 0000000000000000 0000000011110100 0000000000000000 0000000110010101 0000000000000000 0000000000000000 0000000000000000 0000000000000000 0000000000000000 0000000000000000 0000000101110010 0000000000000000 0000001010100011 0000000000000000 0000000011011000 0000000000000000 0000000000000000 0000000011000111 0000000000000000 0000000000000000 0000000000000000 0000000011000001 0000001001010100 0000000000000000 0000000000000000 0000000000000011 0000000000000000 0000001000000111 0000000000000000 0000000000110010 0000000000000000 0000000111010000 0000001011101100 0000000001100110 0000000000000000 0000000000000000 0000000000000000 0000000000000000 0000000000000000 0000000100110000 0000000000000000 0000000000000000 0000000010110000 0000000000000000 0000000000000000 0000000000000000 0000000000000000 0000000000000000 0000001000010111 0000000000000000 0000000011011011 0000000000000000 0000000000000000 0000000010010101 0000000101011110 0000000000000000 0000000000000000 0000000000000000 0000000100110111 0000000000000000 0000000000000000 0000000000000000 0000000000000000 0000000110101110 0000000000000000 0000000001111001 0000000000000000 0000000000000000 0000000000000000 0000000000000000 0000000000000000 0000000000000000 0000000000000000 0000000000000000 0000000010000001 0000000101010110 0000000000000000 0000000000000000 0000000000000000 0000000000000000 0000000000000000 0000000000000000 0000000000101101 0000000000000000 0000000101101001 0000000000000000 0000000001000010 0000000000000000 0000000000000000 0000000000000000 0000000011011001 0000010000001100 0000000000000000 0000000000000000 0000000000000000 0000000001110101 0000000000000000 0000000101010001 0000000101101010 0000000000000000 0000000000000000 0000000000000000 0000000000000000 0000000000000000 0000000000000000 0000000000000000 0000000010001010 0000000000000000 0000000000000000 0000000000000000 0000001100010101 0000000000000000 0000000111111011 0000000101101100 0000000000000000 0000000000000000 0000000000000000 0000000000010010 0000000110010111 0000001000101000 0000000010010100 0000000000000000 0000000100100001 0000000011011111 0000000000000000 0000000000000000 0000000000000000 0000001110000100 0000000000000000 0000000110000111 0000000000000000 0000000000000000 0000000000000000 0000000011110000 0000000000000000 0000001010110110 0000000000000000 0000000000000000 0000000000000000 0000000101100111 0000000000000000 0000000000110101 0000000000000000 0000000000000000 0000000000000000 0000000000000000 0000000000000000 0000000000000000 0000000000000101 0000000000000000 0000000000000000 0000000000000000 0000000000000000 0000000000000000 0000000000000000 0000001100011100 0000000000000000 0000000000000000 0000000000000000 0000000010001100 0000000000000000 0000000010000001 0000000001111000 0000000000000000 0000000000000000 0000000000000000 0000000000000000 0000000000000000 0000000000000000 0000001010000100 0000000000000000 0000000000000000 0000000000000000 0000000001000101 0000000000011011 0000000011111100 0000000000011001 0000000000000000 0000000000000000 0000000000000000 0000000000000000 0000000110000011 0000000001101001 0000000110010111 0000000000000000 0000000000000000 0000000000101000 0000000000000000 0000000000000000 0000000010000110 0000000000000000 0000001000000100 0000000000000000 0000000010101110 0000000000000000 0000000011100100 0000000000000000 0000000000111000 0000000000000000 0000000101001010 0000000000000000 0000000000000000 0000000000000000 0000000001101110 0000000001001000 0000000001111000 0000000000000000 0000000000000000 0000000000000000 0000000000000000 0000000000000000 0000000001100001 0000000000000000 0000000010100000 0000000100100100 0000000001111010 0000000001111111 0000000000000000 0000000000000000 0000000001100111 0000000000000000 0000000000000000 0000000000000000 0000000011011100 0000000110011001 0000000010110011 0000000000000000 0000000000000000 0000000000000000 0000000000000000 0000000000000000 0000000000000000 0000000000000000 0000000000000000 0000000000000000 0000000000000000 0000000000000000 0000000000000000 0000000000000000 0000000000000000 0000000100110100 0000000010111111 0000001000100001 0000000000000000 0000000000000000 0000000100111100 0000000000000000 0000000100101011 0000000000010111 0000000000000000 0000000000000000 0000000000000000 0000000100011010 0000000100101010 0000000000000000 0000000110111111 0000000000000000 0000000000000000 0000000000000000 0000000010011000 0000000000000000 0000000000000000 0000000000000000 0000000000000000 0000000000000000 0000000000000000 0000000111001100 0000000011110010 0000000000000000 0000000000000000 0000000000000000 0000000000000000 0000000001110100 0000000101100011 0000000011100001 0000000000000000 0000000110100110 0000000101011101 0000000000000000 0000000010100111 0000000000000000 0000000000000000 0000000000000000 0000001011110010 0000000000000000 0000000000000000 0000000000000000 0000000000000000 0000000000000101 0000000000000000 0000000000000000 0000000000000000 0000000000000000 0000000111101100 0000000000000000 0000000000000000 0000000000000000 0000000000000000 0000000100001100 0000000000000000 0000000011100101 0000000000000000 0000000110001000 0000000000000000 0000000000000000 0000001010110101 0000000011001100 0000000000000000 0000000000000000 0000000000000000 0000000000000000 0000001110100110 0000000000000000 0000000000000000 0000000010100001 0000001011010000 0000000001110000 0000000000110110 0000000000000000 0000001100011010 0000000000000000 0000000000000000 0000000011100111 0000000000000000 0000000000000000 0000000000000000 0000000000000000 0000001010000000 0000000000000000 0000000000000000 0000000000000000 0000001000010101 0000000000000000 0000000010000010 0000000000000000 0000000000000000 0000000010111010 0000000100111010 0000000001110111 0000000001011101 0000000000000000 0000000010101010 0000000000000000 0000000000001000 0000000010111011 0000000010000111 0000000000000000 0000000000000000 0000000000000000 0000000000000000 0000000000000000 0000000000000000 0000000000000000 0000000000000000 0000000000000000 0000000000000000 0000000000000000 0000000000000000 0000000000000000 0000000000000000 0000000110010011 0000000101111011 0000000000000000 0000000000000000 0000000000000000 0000000000000000 0000000000000000 0000001110010011 0000000000000000 0000000110111001 0000000000000000 0000000000000000 0000000000000000 0000000000000000 0000000001100001 0000001001111000 0000000000000000 0000000000000000 0000000001001001 0000000101000011 0000000000000000 0000000010000111 0000000000000000 0000000010100011 0000000000000000 0000000000000000 0000000000000000 0000000011110010 0000000000000000 0000000000000000 0000000000000000 0000000100101010 0000000000000000 0000000000000000 0000000000000000 0000000000000000 0000000000000000 0000000010110101 0000000000001011 0000000000000000 0000000000000000 0000000010100000 0000000010000011 0000000011011000 0000000000000000 0000000100110011 0000000000000000 0000000001001001 0000000010100001 0000000011011101 0000000000000000 0000000000000000 0000000000000000 0000000000001010 0000000000000000 0000000000000000 0000000001001111 0000000010011000 0000000000000000 0000000000000000 0000000000000000 0000000000000000 0000000000000000 0000000000000000 0000000000000000 0000000000000000 0000000001110110 0000000000000000 0000000000000000 0000000000000000 0000000000000000 0000000000000000 0000000000000000 0000000000001011 0000000000000000 0000000000000000 0000000000000000 0000000000000000 0000000000000000 0000000000000000 0000000000000000 0000000110011101 0000000001011011 0000000001110110 0000000000100100 0000000000000000 0000000000000000 0000000000000000 0000000000000000 0000000000110111 0000000000000000 0000000001101011 0000000000000000 0000000010010001 0000000000000000 0000000010000100 0000001110100110 0000001000010111 0000000000000000 0000000000000000 0000000100110000 0000000000000000 0000000000000000 0000000000000000 0000000111100000 0000001111100111 0000000000000000 0000000000000000 0000000000000000 0000000010001111 0000000000000000 0000000000000000 0000000000000000 0000000000000000 0000000000000000 0000000000000000 0000000000000000 0000000000100101 0000000001001110 0000000000000000 0000000000000000 0000000010110011 0000000000000000 0000000000000000 0000000000000000 0000000000000000 0000000000000000 0000000010100011 0000000000000000 0000000000000000 0000000000000000 0000000000000000 0000000000000000 0000000110001110 0000000000000000 0000000000000000 0000000000000000 0000000000111010 0000000000000000 0000000000010000 0000000000000000 0000000000000000 0000000000000000 0000000000000000 0000000000000000 0000000000000000 0000000001011111 0000000010000110 0000000000000000 0000000000000000 0000000000000000 0000000101010000 0000000000000000 0000000000000000 0000000000000000 0000000101110110 0000000000000000 0000000000000000 0000000000000000 0000000000000000 0000010000011110 0000000100111111 0000000000100111 0000000000000000 0000001111011110 0000000000000000 0000000000000000 0000000000000000 0000000001011011 0000000111111011 0000000000000000 0000000000000000 0000000000000000 0000001100010111 0000000101011000 0000000000000000 0000000000000000 0000000011011110 0000000000000000 0000000000000000 0000000000000000 0000000000000000 0000000000000000 0000000000110101 0000000000111011 0000000101010011 0000000000000000 0000000000000000 0000000000000000 0000000000000000 0000000110001011 0000000101011000 0000000000000000 0000000000000000 0000000000111100 0000000000000000 0000000000000000 0000000011010011 0000000000000000 0000000000000000 0000000000000000 0000000000000000 0000000000000000 0000000000000000 0000000000000000 0000000000000000 0000000000000000 0000000010011001 0000000000000000 0000000000000000 0000000001000010 0000000000000000 0000000000011001 0000000000000000 0000000000000000 0000000100101010 0000000000000000 0000000000000000 0000000000000000 0000000111101010 0000000000000000 0000000000000000 0000000000000000 0000000000000000 0000001000011110 0000000001010101 0000000011000101 0000000000000000 0000010001011111 0000000000000000 0000000101001000 0000000000000000 0000000000000000 0000000001011001 0000000000000000 0000000000010110 0000000000000000 0000001100010101 0000001010111000 0000000000000000 0000000000000000 0000001100101101 0000000000000000 0000000000000000 0000000000000000 0000000000000000 0000000000000000 0000000110110000 0000000110010000 0000000101111000 0000000000000000 0000000000000000 0000000000000000 0000000000000000 0000001010011110 0000000110001011 0000000000000000 0000000000000000 0000001000001011 0000000000000000 0000000000000000 0000000000000000 0000000000000000 0000000000000000 0000000000000000 0000000000000000 0000000000000000 0000000000000000 0000000000000000 0000000000000000 0000000101101011 0000000000000000 0000000000000000 0000000101110001 0000000000000000 0000000001001001 0000000000000000 0000000000000000 0000000000000000 0000000000000000 0000000000000000 0000000101010010 0000000000000000 0000000000111100 0000000000000000 0000001010111111 0000000000110001 0000000100100110 0000000101111000 0000000000000000 0000000000000000 0000000000000000 0000000100001110 0000000001111110 0000000000000000 0000000000000000 0000000100001111 0000000011010101 0000000000000000 0000000000000000 0000000000000000 0000000101111101 0000000001101101 0000000000000000 0000000000000000 0000000000000000 0000000000000000 0000000000000000 0000000000000000 0000000000000000 0000000000000000 0000000000000000 0000000000000000 0000000000000000 0000000000000000 0000000000000000 0000000000000000 0000000000000000 0000000001010000 0000000000000000 0000000010011101 0000000000000000 0000000000000000 0000000100011101 0000000000000000 0000000001010101 0000000000000000 0000000000000000 0000000000000000 0000000001000110 0000000000000000 0000000000000000 0000000000000000 0000000000000000 0000000001010110 0000000000000000 0000000000000000 0000000010110001 0000000000000000 0000000101010010 0000000001111101 0000000000000000 0000000000000000 0000000000000000 0000000000000000 0000000000000000 0000000000000000 0000000000000000 0000000000110001 0000001100100101 0000000000000000 0000000000000000 0000000000000000 0000000000111010 0000000000000000 0000000000000000 0000000001111001 0000000001000111 0000000000000000 0000000000000000 0000000000111110 0000000101011111 0000000000000000 0000000000000000 0000000001011100 0000001000100111 0000000100001000 0000000000000000 0000000000000000 0000001001101111 0000000000000000 0000000000000000 0000000000000000 0000000000000000 0000000000000000 0000000000000000 0000000011101011 0000000000000000 0000000000000000 0000000000000000 0000000000000000 0000000000000000 0000000001110000 0000000000000000 0000000000000000 0000000000000000 0000000100011001 0000000011001011 0000000000000000 0000000000100111 0000000000000000 0000000011000100 0000000000000000 0000000001110001 0000000000000000 0000000000001000 0000000000000000 0000000000000000 0000000000000000 0000001001001011 0000000000000000 0000000101000010 0000000000000000 0000000001111010 0000000000000000 0000000000000000 0000000000000000 0000000000000000 0000000000000000 0000000000000000 0000000000000000 0000000100100101 0000000000000000 0000001101110011 0000000000000000 0000000000000000 0000000000000000 0000000001000110 0000000000000000 0000000000000000 0000000000000000 0000000101000100 0000000011000000 0000000000000000 0000000000000000 0000000101000100 0000000000000000 0000000000000000 0000000000000000 0000001001110010 0000000011011110 0000000100100011 0000000000000000 0000000010001011 0000000000000000 0000000000000000 0000000000000000 0000000000000000 0000000000000000 0000000000000000 0000000101001011 0000000000000000 0000000000000000 0000000000000000 0000000000000000 0000000001100110 0000000000000000 0000000000000000 0000000000000000 0000000000000000 0000000101000000 0000000000000000 0000000000000000 0000000000000000 0000000000000000 0000000000000000 0000000000000000 0000000000000000 0000001001110001 0000000001011111 0000000000000000 0000000101011111 0000000000000000 0000000000000000 0000000000000000 0000000000000000 0000000000000000 0000000100101010 0000001000110011 0000000000000000 0000000000000000 0000000000000000 0000000000000000 0000000000000000 0000000000000000 0000000000101111 0000000010010101 0000000110010100 0000001000001011 0000000000000000 0000000000000000 0000000010100110 0000000000001011 0000000000000000 0000000000000000 0000000011011011 0000000000000000 0000000000000000 0000001001010111 0000001001010000 0000000101010011 0000000000000000 0000000111010110 0000000000000000 0000000000000000 0000001001011110 0000000000000000 0000000000000000 0000000000000000 0000000000000000 0000001101001101 0000000000000000 0000000000000000 0000000000000000 0000000000000000 0000000000000000 0000000000000000 0000000000000000 0000000000000000 0000000101011001 0000000000000000 0000000000000000 0000000000000000 0000000000000000 0000000000101111 0000000111000010 0000000000000000 0000000000000000 0000000000000000 0000000000000000 0000000000000000 0000000000000000 0000000110100001 0000000011110111 0000000000000000 0000000000000000 0000000000000000 0000000000000000 0000000000000000 0000001011000011 0000000001000110 0000000011000110 0000001001011001 0000000011100110 0000000000000000 0000000000000000 0000000000000000 0000000000000000 0000000000000000 0000000010101011 0000000000001011 0000000000101100 0000001101011110 0000000000000000 0000000010000011 0000000111000001 0000000010000101 0000000000000000 0000000000000000 0000000000000000 0000000000000000 0000000000000000 0000001000111100 0000001000100000 0000000000000000 0000000000000000 0000001011001110 0000000000000000 0000000000000000 0000001001111100 0000000000000000 0000000000000000 0000000000000000 0000000000000000 0000000110101000 0000000001010101 0000000000000000 0000000000000000 0000000001011001 0000000000000000 0000000000000000 0000000000000000 0000000000000000 0000000101100011 0000000000000000 0000000000000000 0000000011001000 0000000000000000 0000000001010100 0000000000000000 0000000100001101 0000000000000000 0000000000000000 0000000000000000 0000000000000000 0000000000000000 0000000000000000 0000000000000000 0000000000000000 0000000000000000 0000000001010000 0000000001011111 0000000000000000 0000001011011000 0000000011000100 0000000000000000 0000000101101011 0000000101000111 0000000000000000 0000000000000000 0000000000000000 0000000000000000 0000000000000000 0000000101001111 0000000000000000 0000000010101010 0000000101100101 0000000000000000 0000000011000011 0000000010101000 0000000000000000 0000000000000000 0000000000000000 0000000000000000 0000000000000000 0000000000000000 0000000111101000 0000000000000000 0000000000000000 0000000000000000 0000000011010100 0000000000000000 0000000000000000 0000000110001111 0000000000000000 0000000001000011 0000000000000000 0000000000000000 0000000000000000 0000000010100101 0000000000000000 0000000010001010 0000000010001010 0000000000000000 0000000000000000 0000000000000000 0000000000000000 0000000001110101 0000000010001111 0000000000000000 0000001010110001 0000000000000000 0000000000000000 0000000000000000 0000000011000100 0000000000000000 0000000000000000 0000000000000000 0000000000000000 0000000000010100 0000000000000000 0000000000000000 0000000000000000 0000000000000000 0000000000000000 0000000000000000 0000000000000000 0000000110001110 0000000000101100 0000000010101001 0000000001001010 0000000000000000 0000000000000000 0000000000000000 0000000000000000 0000000000100110 0000000000000000 0000000000010001 0000000000000000 0000000000110011 0000000000000000 0000000001101001 0000001010010011 0000000101010110 0000000000000000 0000000000000000 0000000010001011 0000000001000001 0000000000000000 0000000000000000 0000000101111010 0000001010101001 0000000000000000 0000000000000000 0000000000000000 0000000000000000 0000000000000000 0000000000000000 0000000000000000 0000000000000000 0000000000000000 0000000000000000 0000000000000000 0000000000011000 0000000000000000 0000000000000000 0000000000000000 0000000001001010 0000000000000000 0000000000000000 0000000000000000 0000000000000000 0000000000000000 0000000001101000 0000000000000110 0000000001100111 0000000000000000 0000000000000000 0000000000000000 0000000100110111 0000000000000000 0000000000000000 0000000000000000 0000000001111101 0000000000000000 0000000000000000 0000000000000000 0000000000000000 0000000000000000 0000000000000000 0000000000000000 0000000000000000 0000000000011011 0000000001001110 0000000000000000 0000000000000000 0000000000000000 0000000011011101 0000000000000000 0000000000000000 0000000000000000 0000000011000100 0000000000000000 0000000011110111 0000000000000000 0000000001000101 0000001100011100 0000000100011111 0000000000000000 0000000010001101 0000001010100110 0000000000000000 0000000000000000 0000000000000000 0000000010000111 0000000100101110 0000000000000000 0000000000000000 0000000000000000 0000001000000001 0000000010000101 0000000000000000 0000000000000000 0000000010011101 0000000000000000 0000000000000000 0000000000000000 0000000000000000 0000000000000000 0000000000000000 0000000000010101 0000000011101100 0000000000000000 0000000000000000 0000000000000000 0000000000000000 0000000001001100 0000000010001011 0000000001111010 0000000000000000 0000000000000000 0000000000000000 0000000011100100 0000000010110111 0000000000000000 0000000001010001 0000000000000000 0000000010011010 0000000000000000 0000000000000000 0000000000000000 0000000000000000 0000000011000111 0000000110001000 0000000000000000 0000000000000000 0000000001010111 0000000000000000 0000000000000000 0000000000000000 0000000000000000 0000000010001101 0000000000000000 0000000000000000 0000000000000000 0000000111010010 0000000000000000 0000000000000000 0000000000000000 0000000000000000 0000000110010000 0000000010010100 0000000000000000 0000000001010100 0000001010100100 0000000000000000 0000000010101101 0000000000000000 0000000000000000 0000000000000100 0000000000000000 0000000000000000 0000000000000000 0000001011001100 0000000110101001 0000000000000000 0000000000000000 0000001011000100 0000000000000000 0000000000000000 0000000000000000 0000000000000000 0000000000000000 0000000100100100 0000000001000000 0000000101110001 0000000000000000 0000000000000000 0000000000000000 0000000000000000 0000000110100010 0000000000100011 0000000000000000 0000000000000000 0000000111001010 0000000000000000 0000000001101111 0000000000000000 0000000000000000 0000000000000000 0000000000000000 0000000000000000 0000000000000000 0000000000000000 0000000000000000 0000000000000000 0000000010111011 0000000000000000 0000000000000000 0000000011000001 0000000000000000 0000000001000000 0000000000100101 0000000000000000 0000000000000000 0000000000000000 0000000000000000 0000000100100001 0000000000000000 0000000000000101 0000000000000000 0000001001111111 0000000001101101 0000000110011111 0000000100001100 0000000000000000 0000000000000000 0000000000000000 0000000001001001 0000000011010000 0000000000000000 0000000000000000 0000000011101111 0000000011000110 0000000000000000 0000000000000000 0000000000000000 0000000001110101 0000000000000000 0000000000000000 0000000000000000 0000000000000000 0000000000000000 0000000000000000 0000000010010110 0000000000000000 0000000000000000 0000000000000000 0000000000000000 0000000000000000 0000000000000000 0000000000000000 0000000000000000 0000000000000000 0000000000000000 0000000000000000 0000000100111100 0000000000000000 0000000000000000 0000000011111000 0000000000000000 0000000000100111 0000000000000000 0000000000000000 0000000000000000 0000000000000000 0000000000000000 0000000000000000 0000000000000000 0000000000000000 0000000001001100 0000000000000000 0000000000000000 0000000011110110 0000000000000000 0000000010110110 0000000010010110 0000000000000000 0000000000000000 0000000000000000 0000000000000000 0000000000000000 0000000000000000 0000000000000000 0000000100100011 0000001010001011 0000000011011011 0000000000000000 0000000000000000 0000000000111101 0000000000011100 0000000000000000 0000000000000000 0000000000111101 0000000000000000 0000000000000000 0000000001111110 0000000111011100 0000000000000000 0000000000000000 0000000101100011 0000000100010011 0000000000111010 0000000000000000 0000000000000000 0000000110110001 0000000000000000 0000000000000000 0000000110011111 0000000000000000 0000000000000000 0000000000000000 0000000001111110 0000000000000000 0000000000000000 0000000000000000 0000000000000000 0000000000001110 0000000000000000 0000000000000000 0000000101011000 0000000000000000 0000000011011101 0000000010111111 0000000000000000 0000000000101100 0000000000000000 0000000011101110 0000000000000000 0000000000000010 0000000000000000 0000000000000000 0000000000000000 0000000000000000 0000000000000000 0000001001110110 0000000000000000 0000000101001101 0000000000000000 0000000000111000 0000000000000000 0000000000000000 0000000000000000 0000000000000000 0000000000000000 0000000000000000 0000000000000000 0000000100100111 0000000000111110 0000001001111100 0000000000000000 0000000000000000 0000000000000000 0000000001101011 0000000000000000 0000000000000000 0000000000000000 0000000011001010 0000000010000010 0000000000000000 0000000000000000 0000000110101111 0000000000000000 0000000000000000 0000000000000000 0000000110010111 0000000010011011 0000000100000111 0000000000000000 0000000010101010 0000000000000000 0000000000000000 0000000000000000 0000000000011011 0000000000000000 0000000000000000 0000000011101101 0000000000000000 0000000000000000 0000000000000000 0000000000000000 0000000011100010 0000000000000000 0000000000000000 0000000010000001 0000000000000000 0000000101000101 0000000000000000 0000000000000000 0000000000000000 0000000000000000 0000000000000000 0000000000000000 0000000000000000 0000001100000111 0000000000000010 0000000000000000 0000001000101110 0000000000000000 0000000000000000 0000000000111111 0000000000000000 0000000000000000 0000000100101011 0000001011101111 0000000000000000 0000000000000000 0000000000000000 0000000000000000 0000000000000000 0000000000000000 0000000000000000 0000000000000000 0000000011100001 0000000101101000 0000000000000000 0000000000000000 0000000000010101 0000000000100011 0000000000000000 0000000000000000 0000000101011000 0000000000000000 0000000000000000 0000001000011010 0000001011111110 0000000010010100 0000000000000000 0000000101100100 0000000000000000 0000000000000000 0000001000101110 0000000001101100 0000000000000000 0000000000000000 0000000000000000 0000001011000001 0000000000000000 0000000000000000 0000000000000000 0000000000000000 0000000000000000 0000000000000000 0000000000000000 0000000000000000 0000000101000111 0000000000000000 0000000000011000 0000000000000000 0000000000000000 0000000000001010 0000001000111111 0000000000000000 0000000000000000 0000000000000000 0000000000000000 0000000000000000 0000000000000000 0000000111101011 0000000101100110 0000000000000000 0000000000000000 0000000000000000 0000000000000000 0000000000000000 0000001000101110 0000000000000000 0000000001101110 0000001001101111 0000000001110000 0000000000000000 0000000000000000 0000000000000000 0000000000000000 0000000000000000 0000000101010001 0000000000000000 0000000000000000 0000001011010011 0000000000000000 0000000100110011 0000000011110110 0000000011001110 0000000000000000 0000000000000000 0000000000000000 0000000000000000 0000000000000000 0000001010000100 0000001000001010 0000000000000000 0000000000000000 0000001010000011 0000000000000000 0000000000000000 0000000110100000 0000000000000000 0000000000000000 0000000000000000 0000000000000000 0000000100000111 0000000000000000 0000000000000000 0000000010010100 0000000000000000 0000000000000000 0000000000000000 0000000000000000 0000000000000000 0000000011010011 0000000000000000 0000000000000000 0000000000000000 0000000000000000 0000000011000101 0000000000111110 0000000100100011 0000000000000000 0000000000000000 0000000000000000 0000000000000000 0000000000000000 0000000000000000 0000000000000000 0000000000000000 0000000000000000 0000000110010011 0000000000010100 0000000000000000 0000001000011110 0000000001000000 0000000000000000 0000000101010011 0000000000010001 0000000000000000 0000000000000000 0000000000000000 0000000000000000 0000000000000000 0000000101110100 0000000000000000 0000000001110000 0000000010010100 0000000000000000 0000000010000000 0000000000000000 0000000000000000 0000000000000000 0000000000000000 0000000000000000 0000000000000000 0000000000000000 0000000111000110 0000000000000000 0000000000000000 0000000000000000 0000000000111111 0000000000000000 0000000000001110 0000000001101010 0000000000000000 0000000001010101 0000000000000000 0000000000000000 0000000000000000 0000000000000000 0000000000000000 0000000010100000 0000000011000000 0000000000000000 0000000000000000 0000000000000000 0000000000000000 0000000000000000 0000000110110011 0000000000000000 0000000100110001 0000000000000000 0000000001111100 0000000000000000 0000000011101100 0000000000000000 0000000000000000 0000000000000000 0000000000000000 0000000000000000 0000000000100101 0000000001100000 0000000000000000 0000000000000000 0000000000000000 0000000000000000 0000000000000000 0000000000000000 0000000000000000 0000000000010101 0000000010101111 0000000000000000 0000000000000000 0000000000000000 0000000000000000 0000000000000000 0000000000000000 0000000000000000 0000000100110101 0000001000000100 0000000111011000 0000000000000000 0000000000000000 0000000000000000 0000000000110011 0000000011001000 0000000000000000 0000000000000000 0000000000000000 0000000000000000 0000000000000000 0000000010101111 0000000001000001 0000000000000000 0000000001010100 0000000000000000 0000000000000000 0000000101000100 0000000101110000 0000000000000000 0000000000001110 0000000000000000 0000001011000110 0000000000000000 0000000000000000 0000000000000000 0000000000011111 0000000000000000 0000000000000000 0000000000000000 0000000000000000 0000000101011010 0000000000000000 0000000000000000 0000000110001001 0000000000000000 0000000000000000 0000000001110100 0000000000000000 0000000000000000 0000000000000000 0000000000000000 0000000000000000 0000000000000000 0000000000000000 0000000010110010 0000000000000000 0000000000000000 0000000000000000 0000000100001001 0000000000000000 0000001001010100 0000000000000000 0000000000000000 0000000011100111 0000000000000000 0000000000000000 0000000000000000 0000000000000000 0000000000000000 0000000000000000 0000000011100101 0000000000000011 0000001000000011 0000000110000101 0000000000000000 0000000000000000 0000000100010111 0000000011011000 0000000000000000 0000000000000000 0000000000000000 0000000000000000 0000000000000000 0000000000000000 0000000100100001 0000000000000000 0000000000000000 0000000100011000 0000000000011011 0000000000000000 0000001010011101 0000000000000000 0000000000000000 0000000000100111 0000000000000000 0000000100110101 0000000000000000 0000000000000000 0000000000000000 0000000000000000 0000000000000000 0000000000000000 0000000000000000 0000000000000000 0000001001010101 0000000000000000 0000000000000000 0000000110011101 0000000000000000 0000000000000000 0000000000000000 0000000000000000 0000000000000000 0000000000000000 0000000000000000 0000000000000000 0000000000000000 0000000000000000 0000000000000000 0000000000000000 0000000000000000 0000000000000000 0000001000110100 0000000000000000 0000000110110010 0000000011110011 0000000000000000 0000000011000010 0000000000000000 0000000000000000 0000000001011010 0000000000000000 0000000000000000 0000000000000000 0000000010000001 0000000000000000 0000000000000000 0000000010110001 0000000000000000 0000000000000000 0000000000000000 0000000100011010 0000000000000000 0000000000000000 0000000000000000 0000000000000000 0000000000000000 0000000101100101 0000000101010000 0000000000110011 0000000001011000 0000000000110001 0000000000000000 0000000000000000 0000000000100100 0000000000000000 0000000100001100 0000000011000001 0000000111100001 0000000000000000 0000000000000000 0000000000000000 0000000000000000 0000000110001101 0000000000011011 0000000000000000 0000000000000000 0000000000000000 0000000001110000 0000000001010101 0000000000000000 0000000011011110 0000000000000000 0000000001001011 0000000000000000 0000000000000000 0000000000000000 0000000000000000 0000000000000000 0000000000110101 0000000000000000 0000000011000100 0000000110110101 0000000000000000 0000000010111010 0000000000000000 0000000000000000 0000000000101111 0000000000000110 0000000000000000 0000000000100000 0000000110000100 0000000000000000 0000000000000000 0000000000000000 0000000000000000 0000000000110000 0000000000000000 0000000000000000 0000000110011001 0000000000000000 0000000111101001 0000000000000000 0000000000000000 0000000001000101 0000001001110101 0000000000000000 0000000000000000 0000000000000000 0000000000000000 0000000000000000 0000000101101001 0000000111001000 0000000001010011 0000000000000000 0000001001010111 0000000000000000 0000000000000000 0000000011001000 0000000000000000 0000000000000000 0000000000000000 0000000000000000 0000001011011110 0000000001001011 0000000000000000 0000000000000000 0000000000000000 0000000000000000 0000000000000000 0000000000000000 0000000000000000 0000000000101110 0000000000000000 0000000000100011 0000000000000000 0000000000000000 0000000000000000 0000000001011110 0000000000000000 0000000000000000 0000000000000000 0000000000000000 0000000011111011 0000000000000000 0000000000000000 0000000100000001 0000000000000000 0000000000000000 0000000000000000 0000000000000000 0000000000000000 0000000011000110 0000000000000000 0000000000000000 0000001001100101 0000000000000000 0000000000000000 0000000000000000 0000000000000000 0000000000000000 0000000000000000 0000000000100101 0000000010101011 0000000000000000 0000000001001000 0000000000000000 0000000010110110 0000000000010110 0000000110010000 0000000000000000 0000000011111011 0000000000000000 0000000000000000 0000000000000000 0000000011110011 0000000010110111 0000000000000000 0000000000000000 0000001010001100 0000000000000000 0000000000000000 0000000101001010 0000000000000000 0000000000000000 0000000000000000 0000000000000000 0000000000000000 0000000001111101 0000000000000000 0000000001111001 0000000000000000 0000000000000000 0000000000000000 0000000000000000 0000000000000000 0000000000000000 0000000000000000 0000000000000000 0000000000000000 0000000000000000 0000000000000000 0000000000000000 0000000000000000 0000000001110101 0000000000000000 0000000000000000 0000000000000000 0000000000000000 0000000000000000 0000000000000000 0000000000000000 0000000000000000 0000000100001000 0000000000111000 0000000000000000 0000000000101010 0000000011011010 0000000000000000 0000000000000000 0000000011110011 0000000000000000 0000001000001100 0000000000000000 0000000000000000 0000000001000010 0000000100100001 0000000000000000 0000000000000000 0000000000000000 0000000011010111 0000001111001100 0000000000000000 0000000000110000 0000000000000000 0000001100000011 0000000000000000 0000000000000000 0000000000000000 0000000010101101 0000000000000000 0000000000000000 0000000000000000 0000000000000000 0000000000000000 0000000001001100 0000000000000000 0000000000000000 0000000010111101 0000000000000000 0000000000001100 0000000000000000 0000000000000000 0000000000000000 0000000011110100 0000000000111100 0000000101100011 0000000000000000 0000000000000000 0000000000000000 0000000000000000 0000000011001100 0000000000000000 0000000000000000 0000000000011011 0000000000000000 0000000000000000 0000000011111010 0000000000000000 0000000000000000 0000000000000000 0000000000111011 0000000001100100 0000000101110001 0000000000000000 0000000000000000 0000000100000011 0000000101000010 0000000000000000 0000000001001111 0000000000000000 0000000011010111 0000000000000000 0000000001100010 0000000000000000 0000000000000000 0000001000111101 0000000000000000 0000000000000000 0000000000000000 0000000000000000 0000000000000000 0000000000000000 0000000000000000 0000000011101101 0000000000110110 0000000000000000 0000000000101011 0000000000000000 0000000001011110 0000000010000101 0000000000000000 0000000000000000 0000000100000110 0000000100001001 0000000000000000 0000000000000000 0000001000001010 0000000000000000 0000000000000000 0000000000000000 0000000000000000 0000000000000000 0000000000000000 0000000111000010 0000000000000000 0000000000000000 0000000000000000 0000000000100011 0000000000000000 0000000000000000 0000000000000000 0000000000000000 0000000000000000 0000000001100100 0000000000101101 0000000000000000 0000000000000000 0000000000000000 0000000011000010 0000000000000000 0000000010111010 0000000000000000 0000000000000000 0000000011100010 0000000000000000 0000000101100100 0000000010011101 0000000000000000 0000000000000000 0000000000000000 0000000000000000 0000000000000000 0000000110010100 0000000000000000 0000000000000000 0000001000111100 0000000101110101 0000000000000000 0000000000000000 0000001010001111 0000000000000000 0000000001111111 0000000100111001 0000000000000101 0000000000000000 0000000000111101 0000000000000000 0000000101001001 0000000000000000 0000000000000000 0000000000111000 0000000000000000 0000000000000000 0000000111100100 0000000000000000 0000000000000000 0000001010000010 0000000000000000 0000000000000000 0000000000000000 0000000011001001 0000000100100110 0000000000000000 0000000000000000 0000000000000000 0000000100101001 0000000000000000 0000000000001010 0000000000000000 0000000000000000 0000000000000000 0000000000000000 0000000011110101 0000000000000000 0000000000000000 0000000000000000 0000000000000000 0000000000000000 0000000010010001 0000000000000000 0000000000000000 0000000000000000 0000000000000000 0000000010001100 0000000000000000 0000000000000000 0000000000000000 0000001010001101 0000000000000000 0000000110000100 0000000000000000 0000000000000000 0000000000000000 0000000000000000 0000000000000000 0000000000000000 0000000000101101 0000000000000000 0000000000000000 0000000011110010 0000000000000000 0000000000000000 0000000000000000 0000000001110111 0000000000000000 0000000000000000 0000000000000000 0000001011001011 0000000000000000 0000000000001011 0000000000000000 0000000000000000 0000000000000000 0000000000000000 0000000001011111 0000000000000000 0000000000000000 0000000100010111 0000000010100011 0000000000000000 0000000110010111 0000000010001110 0000000000000000 0000000000000000 0000000000000000 0000001101101110 0000000111001100 0000000000000000 0000000000000000 0000000011101010 0000000000000000 0000000000000000 0000000000000000 0000000000000000 0000000000000000 0000000000001111 0000000000110011 0000000000011011 0000000000000000 0000000000000000 0000000000000000 0000000000000000 0000000100111110 0000000000000000 0000000000000000 0000000000000000 0000000110101001 0000000000000000 0000000000000000 0000000000000000 0000000000000000 0000000000000000 0000000000000000 0000000000000000 0000000000000000 0000000010100001 0000000000000000 0000000001111110 0000000001011110 0000000000000000 0000000000000000 0000000000000000 0000000001011010 0000000000000000 0000000000000000 0000000000000000 0000000000000000 0000000000000000 0000000000000000 0000000100011011 0000000000000000 0000000001100100 0000000010110001 0000000011000010 0000000011000001 0000000000000000 0000000000000000 0000000000100110 0000000100110111 0000000000000000 0000000000000000 0000000000000000 0000000000001000 0000000000000000 0000000000000101 0000000101100100 0000000000000000 0000000000000000 0000000010011011 0000000001001011 0000000000000000 0000000000010001 0000000100010100 0000000000000000 0000000000000000 0000000000000000 0000000110101010 0000000000010000 0000000000000000 0000000011010001 0000000000000000 0000000000000000 0000000000000000 0000000000000000 0000000000000000 0000000000000000 0000000000000000 0000000010001011 0000000000000000 0000000000000000 0000000000000111 0000000010000100 0000000000000000 0000000100010010 0000000000000000 0000000000000000 0000000001100100 0000000000000000 0000000000000000 0000000101001011 0000000000000000 0000000000000000 0000000000000000 0000000000100001 0000000000000000 0000000001101100 0000000000000000 0000000000000000 0000000000000000 0000000000000000 0000000000000000 0000000000000101 0000000000000000 0000000010110100 0000000000000000 0000000001000111 0000000000010110 0000000110000101 0000000000000000 0000000000000000 0000000000000000 0000000000000000 0000000111010001 0000000000000000 0000000010001001 0000000000000000 0000000000000000 0000000000000000 0000000000000000 0000000100101001 0000000000000000 0000000000000000 0000000000000000 0000000001100101 0000000010111010 0000000000000000 0000000010000000 0000000000000000 0000000000000000 0000000000000000 0000000000000000 0000000001000111 0000000000000000 0000001000001010 0000000010100111 0000000000000000 0000000000000000 0000000000000000 0000000000000000 0000000000000000 0000000000000000 0000000100100101 0000000000000000 0000000100011001 0000000000000000 0000000000000000 0000000000000000 0000000011010100 0000000000000000 0000000000000000 0000000000011110 0000000000000000 0000000000000000 0000000000000000 0000000000000000 0000000100001001 0000000000000000 0000000011101111 0000000000000000 0000000000000000 0000000001101111 0000000000000000 0000000000000000 0000000000000000 0000000000000000 0000000100011100 0000000000000000 0000000000011010 0000000000000000 0000000111001111 0000000000000000 0000000000000000 0000000000000000 0000000000000000 0000000000100010 0000000000000000 0000000010111001 0000000000000000 0000001001101010 0000000000000000 0000000101010101 0000000000000000 0000000000000000 0000000011110011 0000000000000000 0000000011110101 0000000000000000 0000000100001110 0000000110110000 0000000000000000 0000000011100110 0000000000000000 0000000000000000 0000000000000000 0000000000000000 0000000000000000 0000000000000000 0000000111100101 0000000100100110 0000000010010011 0000000000101010 0000000000000000 0000000000000000 0000000000000000 0000000000000000 0000000011000000 0000000000000000 0000000000000000 0000000000000000 0000000000000000 0000000000000000 0000000000000000 0000000000000000 0000000000000000 0000000100001000 0000000000000000 0000000011110010 0000000000000000 0000000000000000 0000000100111000 0000000001011111 0000000000000000 0000000000000110 0000000000000000 0000000011110011 0000000000000000 0000000000000001 0000000000000000 0000000000000000 0000000001001001 0000000000000000 0000000000101110 0000000000000000 0000000000000000 0000000000000000 0000000000100100 0000000000000000 0000000000000000 0000000000000000 0000000000000000 0000000001110100 0000000000010000 0000000000000000 0000000000000000 0000000000000000 0000000000000000 0000000000011111 0000000000000000 0000000001110011 0000000000000000 0000000101110111 0000000000000000 0000000000000000 0000000000000000 0000000000000000 0000000000000000 0000000001011111 0000001000001001 0000000001110010 0000000001010111 0000000000000000 0000000000000000 0000000000000000 0000000000001111 0000000000111011 0000000000000000 0000000000000000 0000000000000000 0000000000000000 0000000000000000 0000000000000000 0000000000000000 0000000001110010 0000000000000000 0000000000111000 0000000000000000 0000000101001111 0000000000000000 0000000110001000 0000000000111001 0000000001000000 0000000000000000 0000000000000000 0000000000000000 0000000101010010 0000000100001100 0000000010100100 0000000000000000 0000000000000000 0000000000000000 0000000000000000 0000000000000000 0000000000000000 0000000110010111 0000000000000000 0000000100100000 0000000000000000 0000000000000000 0000000000000000 0000000010011111 0000000000000000 0000000011001011 0000000000000000 0000000000000000 0000000000000000 0000000001001110 0000000000000000 0000000000000000 0000000000000000 0000000000000000 0000000000000000 0000000000000000 0000000000000000 0000000000000000 0000000100110001 0000000000000000 0000000000000000 0000000000000000 0000000000000001 0000000000000000 0000000000000000 0000001001011101 0000000000000000 0000000000111011 0000000000000000 0000000010111110 0000000000000000 0000000001100000 0000000000000000 0000000000000000 0000000000000000 0000000000000000 0000000000000000 0000000000000000 0000000000000000 0000000110010110 0000000000000000 0000000000000000 0000000000000000 0000000010000110 0000000011101110 0000000011011010 0000000000101110 0000000000000000 0000000000000000 0000000000000000 0000000000000000 0000000110001010 0000000000000000 0000001000110010 0000000000000000 0000000000000000 0000000010001111 0000000000010111 0000000000000000 0000000001111001 0000000000000000 0000001000101011 0000000000000000 0000000001000101 0000000000000000 0000000011011011 0000000000000000 0000000010111101 0000000000000000 0000000110010100 0000000000000000 0000000000000000 0000000000000000 0000000000000000 0000000001000100 0000000011110001 0000000000000000 0000000000000000 0000000000000000 0000000000000000 0000000000000000 0000000000010100 0000000000000000 0000000100001101 0000000011101101 0000000000000000 0000000000101110 0000000000000000 0000000000000000 0000000000100001 0000000000000000 0000000000000000 0000000000000000 0000000001010100 0000000100101110 0000000001000001 0000000000000000 0000000000000000 0000000000000000 0000000000000000 0000000000000000 0000000000000000 0000000000000000 0000000000000000 0000000000000000 0000000000000000 0000000000000000 0000000000000000 0000000000000000 0000000000000000 0000000100000010 0000000000111001 0000000100110000 0000000000000000 0000000000000000 0000000111001110 0000000000000000 0000000100001101 0000000000000101 0000000000000000 0000000001100001 0000000000000000 0000000011000111 0000000011110001 0000000000000000 0000000100111101 0000000000000000 0000000000000000 0000000000000000 0000000001000110 0000000000000000 0000000000000000 0000000000000000 0000000000000000 0000000000000000 0000000000000000 0000000100101110 0000000000010001 0000000000000000 0000000000000000 0000000000000000 0000000000000000 0000000000110000 0000000101101101 0000000001100011 0000000000000000 0000000100111111 0000000010100100 0000000000000000 0000000011110000 0000000000000000 0000000000000000 0000000000000000 0000001001010011 0000000000000000 0000000000000000 0000000000000000 0000000000000000 0000000000000000 0000000000000000 0000000000000000 0000000000000000 0000000000000000 0000000101011000 0000000000000000 0000000000000000 0000000000000000 0000000000000000 0000000010111011 0000000000000000 0000000011010001 0000000000000000 0000000001000000 0000000000000000 0000000000000000 0000001000011010 0000000100000111 0000000000000000 0000000000000000 0000000000000000 0000000000000000 0000001011011101 0000000000011011 0000000000000000 0000000000100100 0000000111101001 0000000001000001 0000000010100110 0000000000000000 0000001001000011 0000000000000000 0000000000000000 0000000011001000 0000000000000000 0000000000000000 0000000000000000 0000000000000000 0000000101011011 0000000000000000 0000000000000000 0000000000000000 0000000110100110 0000000000000000 0000000010010001 0000000000000000 0000000000000000 0000000011000010 0000000010110111 0000000000000000 0000000000000000 0000000001001010 0000000011001110 0000000000000000 0000000000000000 0000000001000110 0000000001111000 0000000000000000 0000000001111110 0000000000000000 0000000000000000 0000000000000000 0000000000000000 0000000000000000 0000000000000000 0000000000000000 0000000000000000 0000000000000000 0000000000000000 0000000000000000 0000000000000000 0000000101001001 0000000110010100 0000000000000000 0000000000000000 0000000000000000 0000000000000000 0000000000110000 0000000111010111 0000000000000000 0000000110110101 0000000000000000 0000000000000000 0000000000000000 0000000000000000 0000000000000000 0000001000011101 0000000000000000 0000000000000000 0000000001001000 0000000101011001 0000000000001111 0000000100000010 0000000000000000 0000000011010110 0000000000000000 0000000000000000 0000000000000000 0000000010001111 0000000000000000 0000000000000000 0000000000000000 0000000110011101 0000000000000000 0000000000000000 0000000000000000 0000000000000000 0000000000000000 0000000011100110 0000000000000000 0000000000000000 0000000000000000 0000000101100101 0000000011011100 0000000011011111 0000000000000000 0000000011000110 0000000000000000 0000000000000000 0000000010110101 0000000011111111 0000000000000000 0000000000000000 0000000000000000 0000000000000000 0000000000000000 0000000000000000 0000000000101001 0000000010101111 0000000000000000 0000000000000000 0000000000000000 0000000000000000 0000000000000000 0000000000000000 0000000000011001 0000000000000000 0000000000000000 0000000000000000 0000000000000000 0000000000000000 0000000000000000 0000000000000000 0000000000000000 0000000000000000 0000000000000000 0000000010101110 0000000000000000 0000000010100001 0000000000100101 0000000000000000 0000000000000000 0000000001100111 0000000000000000 0000000000000000 0000000001010001 0000000000000000 0000000000000000 0000000000000000 0000000000000000 0000000110101100 0000000000000000 0000000001001100 0000001001000101 0000000011010000 0000000111000010 0000000000000000 0000000000000000 0000000000000000 0000000110110110 0000000000000000 0000000000000000 0000000000000000 0000000001010100 0000000000000000 0000000000000100 0000000100001010 0000000000000000 0000000000000000 0000000101001001 0000000000000000 0000000000000000 0000000000100111 0000000101001101 0000000000000000 0000000000000000 0000000000000000 0000001110010100 0000000000000000 0000000000000000 0000000000010100 0000000000000000 0000000000000000 0000000000000000 0000000000000000 0000000000000000 0000000000000000 0000000000000000 0000000010110001 0000000000000000 0000000000000000 0000000000000000 0000000101101010 0000000000000000 0000000001101110 0000000000000000 0000000000000000 0000000000000000 0000000000000000 0000000000000000 0000001001001100 0000000000000000 0000000000000000 0000000000000000 0000000000000000 0000000000000000 0000000111000001 0000000000000000 0000000000000000 0000000010100110 0000000000000000 0000000000000000 0000000000000000 0000000000000000 0000000010111110 0000000000000000 0000000001111101 0000000111100111 0000000110111010 0000000011010101 0000000000000000 0000000000000000 0000000000001000 0000001100011101 0000000000000000 0000000001010101 0000000000000000 0000000000000000 0000000000000000 0000000011110100 0000001100001001 0000000000000000 0000000000000000 0000000101001100 0000000010110001 0000000000000000 0000000000000000 0000000000000000 0000000000000000 0000000000000000 0000000000000000 0000000100011100 0000000000000000 0000000000010100 0000000011110100 0000000000000000 0000000000000000 0000000000000000 0000000000000000 0000000000000000 0000000000000000 0000000000000000 0000000110101101 0000000000000000 0000000000000000 0000000000000000 0000000010101010 0000000000000000 0000000101011101 0000000000000000 0000000000000000 0000000000000000 0000000000000000 0000000000000000 0000000101001111 0000000000000000 0000000000001011 0000000000000000 0000000000000000 0000000000000000 0000000010010010 0000000000000000 0000000000000000 0000000001011101 0000000000000000 0000000000000000 0000000000010111 0000000000000000 0000000000000000 0000000000000000 0000000100000110 0000000001010001 0000000100011010 0000000000000000 0000000000000000 0000000000000000 0000000000000000 0000001001110011 0000000000000000 0000000110100010 0000000000000000 0000000100100000 0000000000000000 0000000001011000 0000001000101001 0000000000000000 0000000001000100 0000000000000000 0000000011111101 0000000100011100 0000000001000101 0000000000000000 0000000000000000 0000000000000000 0000000000000000 0000000000000000 0000000000000000 0000000011101001 0000000010100110 0000000010101110 0000000000000000 0000000000000000 0000000000000000 0000000000000000 0000000000000000 0000000001010010 0000000101001101 0000000000000000 0000000001010100 0000000001001001 0000000000000000 0000000000000000 0000000000000000 0000000000000000 0000000000000000 0000000011010100 0000000000000000 0000000100110111 0000000100010011 0000000000000000 0000000101001011 0000001010100000 0000000000000000 0000000010000011 0000000000101010 0000000001101001 0000000000000000 0000000000000000 0000000000000000 0000000000000000 0000000001000011 0000000000000000 0000000010100100 0000000000000000 0000000000110111 0000000000110100 0000000001000100 0000000000011100 0000000000000000 0000000000011110 0000000000000110 0000000000000000 0000000000000000 0000000000000000 0000000000000000 0000000000000000 0000000000000000 0000000000000000 0000000000000000 0000000000000000 0000000000000000 0000000101010111 0000000000000000 0000000001000111 0000000000000000 0000000010001100 0000000000000000 0000000000011010 0000000011100010 0000000001000011 0000000000000000 0000000000000000 0000000111000010 0000000000000000 0000000000000000 0000000000000000 0000000000000000 0000000000000000 0000000000100111 0000000000000000 0000000000000000 0000000000000000 0000000000000000 0000000010010001 0000000000000000 0000000000000000 0000000001011100 0000000000000000 0000000000000000 0000000000010010 0000000000000000 0000000100011000 0000000000000000 0000000000000000 0000000000000000 0000001101001001 0000000000000000 0000000001001100 0000000110110010 0000000010001110 0000000000011011 0000000000000000 0000000000000000 0000000000000000 0000000110001010 0000000000000000 0000000111111111 0000000000000000 0000000000000000 0000000000000000 0000000101111101 0000000000000000 0000000010000101 0000000000000000 0000000000000000 0000000000000000 0000000000000000 0000000001000000 0000000000000000 0000000000000000 0000000000000000 0000000010010100 0000000000000000 0000000000000000 0000000000000000 0000000101101010 0000000000000000 0000000010101110 0000000000000000 0000000000000000 0000000000000000 0000000000000000 0000001100100111 0000000000000000 0000000000000000 0000000000000000 0000001000000000 0000000000000000 0000000001101101 0000000000000000 0000000000000000 0000000000000000 0000000000000000 0000000000010001 0000000000000000 0000000000000000 0000000000000000 0000000000000000 0000000000000000 0000000000000000 0000000110000100 0000000000000000 0000000000000000 0000000000000000 0000000000000000 0000000000000000 0000000000000000 0000000000000000 0000000000000000 0000000010100000 0000000000000000 0000000010100110 0000000010101010 0000000000010001 0000000000000000 0000000000000000 0000000000000000 0000000000000000 0000000111001001 0000000000000000 0000000100100011 0000000000000000 0000000010010011 0000000000000000 0000000101101001 0000000000000000 0000000001100000 0000000000000000 0000000000000000 0000000001000000 0000000000000000 0000000001011000 0000000011111100 0000000000000000 0000000000000000 0000000000000000 0000000000000000 0000000000000000 0000000000000000 0000000000000000 0000000001100011 0000000100100100 0000000000000000 0000000000000000 0000000000000000 0000000000000000 0000001000111010 0000000000000000 0000000000000000 0000000000000000 0000000100011010 0000000010111000 0000000001000101 0000000000000000 0000000000000000 0000000000000000 0000000000000000 0000000000000000 0000000000000000 0000000000000000 0000000000000000 0000000000000000 0000000000000000 0000000000000000 0000000011111100 0000000000000000 0000000000000000 0000000100110011 0000000000000000 0000000010111101 0000000000000000 0000000000000000 0000000101010101 0000000000001110 0000000010011100 0000000000000000 0000000000000000 0000000010111011 0000000000000000 0000000001001010 0000000010011011 0000000000000000 0000000011010000 0000000000000000 0000000000000000 0000000000000000 0000000010101101 0000000000000000 0000000000000000 0000000000000000 0000000000000000 0000000000000000 0000000000000000 0000000010101111 0000000011101101 0000000000000000 0000000000000000 0000000000000000 0000000000000000 0000000001111001 0000000000000000 0000000101101110 0000000000000000 0000000100110100 0000000001010101 0000000010011011 0000000000000000 0000000000000000 0000000000000000 0000000000000000 0000000110101111 0000000000001111 0000000001100001 0000000000000000 0000000011001111 0000000000000000 0000000001110011 0000000010111110 0000000000000000 0000000000000000 0000000011010101 0000000000000000 0000000000000000 0000000000000000 0000000000000000 0000000100010110 0000000000000000 0000000101101000 0000000000000000 0000000011110100 0000000000000000 0000000011100110 0000000000111010 0000000010011010 0000000000000000 0000000000000000 0000000000000000 0000000001101111 0000001000001001 0000000000111100 0000000000010110 0000000010000110 0000000000000000 0000000000000000 0000000000000000 0000000000000000 0000000111010111 0000000000000000 0000000000111100 0000000110010110 0000000000000000 0000000000000000 0000000000000000 0000000000000000 0000000001101101 0000000000000000 0000000000000000 0000000000000000 0000001000001000 0000000000000000 0000000000000000 0000000000000000 0000000000000000 0000000000000000 0000000000000000 0000000000000000 0000000000000000 0000000000011101 0000000001100000 0000000000000000 0000000000000000 0000000001111111 0000000000000000 0000000001010110 0000000111011001 0000000000010100 0000000000000000 0000000000000000 0000000001011000 0000000000000000 0000000000000000 0000000010100101 0000000000000000 0000000000000000 0000000000000000 0000000000000000 0000000000000000 0000000001010101 0000000101110000 0000000000000000 0000000000000000 0000000000000000 0000000000000000 0000001000011001 0000000000000000 0000000001110011 0000000001001111 0000000000000000 0000000000000000 0000000000000000 0000000000111000 0000000010001001 0000000111011100 0000000000000000 0000000000001010 0000000000101001 0000000010000010 0000000000000000 0000000000000000 0000000000000000 0000001000111010 0000000000000000 0000000000000000 0000000000000000 0000000000000000 0000000000000000 0000000100110101 0000000000000000 0000000101100010 0000000000000000 0000000000000000 0000000000000000 0000000101110001 0000000000000000 0000000000000000 0000000000000000 0000000000000000 0000000000101000 0000000010011100 0000000000100101 0000000000000000 0000000000000000 0000000001110110 0000000000000000 0000000000000000 0000000010001101 0000000000000000 0000000000000000 0000000010110110 0000000000000100 0000000000000000 0000000000000000 0000000000001110 0000000000000000 0000000000110101 0000000000111110 0000000000000000 0000000000000000 0000000000000000 0000000000000000 0000000010001100 0000000100110001 0000000011000010 0000000000000000 0000000000000000 0000000000000000 0000000000000000 0000000010000110 0000000010100100 0000000000000000 0000000001000110 0000000000000000 0000000000000000 0000000000000000 0000000000000000 0000000100111000 0000000011000111 0000000000000000 0000000000000000 0000000000000000 0000000000000000 0000000000000000 0000000000000000 0000000000000000 0000000000000000 0000000000000000 0000000000001101 0000000000000000 0000000000000000 0000000000000000 0000000100100011 0000000000000000 0000000010011110 0000000000000000 0000000000000000 0000000000000000 0000000011011011 0000000000001010 0000000001100101 0000000000000000 0000000000000000 0000000000000000 0000000000000000 0000000000011010 0000000000000000 0000000000000000 0000000001100000 0000000000000000 0000000001000111 0000000110000010 0000000000110010 0000000011001001 0000000000000000 0000000110001100 0000000000000000 0000000000000000 0000000000000000 0000000000000000 0000000000000000 0000000000000000 0000000000000000 0000000000000000 0000000000000000 0000000000000000 0000000000001001 0000000110010001 0000000000000000 0000000000000000 0000000000101001 0000000000000000 0000000000000000 0000000000000000 0000000000000000 0000000000000000 0000000000000000 0000000000000000 0000000000000000 0000000000000000 0000000000000000 0000000001100101 0000000111011000 0000000000000000 0000000001000100 0000000001100111 0000000000000000 0000000000000000 0000000000000000 0000000000000000 0000000000000000 0000000000000000 0000000000000000 0000000000000000 0000000001111111 0000000001010010 0000000100101101 0000000001000101 0000000000000000 0000000000000000 0000000011101010 0000000000000000 0000000000000000 0000000000101101 0000000000000000 0000000001100110 0000000000000000 0000000000000000 0000000010011011 0000000000000000 0000000000000000 0000000000101101 0000000011001111 0000000000000000 0000000010011010 0000000000000001 0000000000001110 0000000001011000 0000000000000000 0000000110000000 0000000000000000 0000000000000000 0000000000000000 0000000000000000 0000000010010111 0000000000000000 0000000000000000 0000000000000000 0000000001011010 0000000000101011 0000000000000000 0000000101010111 0000000000000000 0000000001001111 0000000000000000 0000000000000000 0000000000000000 0000000000000000 0000000000000000 0000000000101101 0000000000000000 0000000000000000 0000000000000000 0000000000000000 0000000000000000 0000000000000000 0000001010100101 0000000000000000 0000000101100000 0000000010000100 0000000000000000 0000000000000000 0000000000000000 0000000000000000 0000000000000000 0000000000000000 0000000000000000 0000000000000000 0000000000010101 0000000000000000 0000000111001010 0000000000000000 0000000000000000 0000000000000000 0000000001100000 0000000000100001 0000000000000000 0000000000000000 0000000000000000 0000000000000000 0000000000000000 0000000001111111 0000000011101100 0000000000000000 0000000000000000 0000000000000000 0000000001011110 0000000000000000 0000000000111011 0000000001001010 0000000000010100 0000000011000111 0000000110101110 0000000010000100 0000000001110110 0000000000000000 0000000000000000 0000000100001010 0000000000110000 0000000000000000 0000000000000000 0000000000000000 0000000011000111 0000000000000000 0000000000000000 0000000000110000 0000000001100000 0000000000110000 0000000000000000 0000000000000000 0000000000000000 0000000000000000 0000000000000000 0000000000000000 0000000000000000 0000000111101101 0000000000000000 0000000000000000 0000000011011110 0000000000000000 0000000000001100 0000000000000000 0000000000000000 0000000000000000 0000000011101111 0000000101101011 0000000011001010 0000000000000000 0000000000000000 0000000000000000 0000000000000000 0000000000000000 0000000000000000 0000000010110010 0000000100011100 0000000100110111 0000000000000000 0000000000000000 0000000010110000 0000000000000000 0000000000000000 0000000000000000 0000000000000000 0000000000000000 0000000000000000 0000000100010000 0000000011110000 0000000101010000 0000000000000000 0000000101000110 0000000001001100 0000000000000000 0000001010001100 0000000000000000 0000000000000000 0000000000110101 0000000000000000 0000001011111011 0000000001001100 0000000000000000 0000000000000000 0000000000000000 0000000000000000 0000000000000000 0000000000000000 0000000000000000 0000000110111000 0000000000000000 0000000000000000 0000000001011000 0000000000000000 0000000000001000 0000000000100100 0000000000000000 0000000000000000 0000000000000000 0000000000000000 0000000100111011 0000000000000000 0000000011011111 0000000000000000 0000000000000000 0000000000000000 0000000000000000 0000000101010101 0000000000000000 0000000011111110 0000000011001110 0000000000000000 0000000101001101 0000000111010110 0000000000000000 0000000000000000 0000000000000000 0000000000000000 0000000000000000 0000000011010011 0000000000111110 0000000001011011 0000000101101100 0000000000000000 0000000000000000 0000000001000010 0000000000000000 0000000000000000 0000000000011110 0000000000000000 0000000000000000 0000000000000000 0000000001010100 0000000000000000 0000000001110001 0000000000000000 0000001001110100 0000000000000000 0000000000000000 0000000101110100 0000000000000000 0000000000000000 0000000000000000 0000000000000000 0000001000010000 0000000000100000 0000000000000000 0000000001010111 0000000000110010 0000000000000000 0000000000000000 0000000000000000 0000000000000000 0000000111101100 0000000000000000 0000000000000000 0000001011100100 0000000000000000 0000000000000000 0000000000000000 0000000011011011 0000000000000000 0000000000000000 0000000000000000 0000000000000000 0000000000000000 0000000100110110 0000000000000000 0000000000000000 0000000000000000 0000000100000010 0000000100010110 0000000001100100 0000000100111001 0000000010101011 0000000000000000 0000000000110011 0000000010000010 0000000000000000 0000000001011110 0000000000000000 0000000000000000 0000000010011010 0000000010000111 0000000000000000 0000000000000000 0000000001000100 0000000000000000 0000000110001010 0000000000000000 0000000000000000 0000000000000010 0000000011011000 0000000000000000 0000000000000000 0000000000000000 0000000001011001 0000000000000000 0000000011000101 0000000000000000 0000000000011011 0000000000000000 0000000000000000 0000000000000000 0000000001111100 0000000010000010 0000000011110100 0000000110100010 0000000100010001 0000000000000000 0000000000000000 0000000001000100 0000000011111111 0000000011011100 0000000000000110 0000000000000000 0000000000000000 0000000001110010 0000000000000000 0000000000000000 0000001100010011 0000000000000000 0000000000000000 0000000000000000 0000000000010100 0000000000000000 0000000000000000 0000000000000000 0000000000000000 0000000000000000 0000000000000000 0000000100101010 0000000000000000 0000000110101101 0000000000000000 0000000000000000 0000000000000000 0000000000010010 0000000000000000 0000000001000010 0000000011100111 0000000000000000 0000000000000000 0000000000000000 0000000000000000 0000000000000000 0000000000000000 0000000001000001 0000000000000000 0000000101000101 0000000000000000 0000000011111000 0000000000000000 0000000000000000 0000000010001101 0000000000000000 0000000000000000 0000000000000000 0000000000000000 0000000000000000 0000000010110011 0000001001011010 0000000000000000 0000000000110111 0000000101110110 0000000000000000 0000000000000000 0000001000001010 0000000000000000 0000000000000000 0000000000000000 0000000000000000 0000000000000000 0000000000000000 0000000010110101 0000000000000000 0000000000000000 0000000000000000 0000000000000000 0000000000000000 0000000000000000 0000001000010000 0000000000000000 0000000000100111 0000000000000000 0000000000000000 0000000010000001 0000000000000000 0000000000010011 0000000000000000 0000000000000000 0000000000000000 0000000000000000 0000000000000000 0000000010101010 0000000000000000 0000000000000000 0000000110101111 0000000000000000 0000000000000000 0000000000100010 0000000000000000 0000000000000000 0000000011101111 0000000101111100 0000000000000000 0000000000000000 0000000000000000 0000000000000000 0000000000000000 0000000010011010 0000000010011010 0000000000000000 0000000000100010 0000000000000000 0000000001010101 0000000000000000 0000000000000000 0000000101100000 0000000000000000 0000000000000000 0000000001010110 0000000000101011 0000000000000000 0000000010000101 0000000001010101 0000000000000000 0000000010100100 0000000000111000 0000000000000000 0000000000000000 0000000001011001 0000000000011000 0000000100000111 0000000000000000 0000000000000000 0000000000000000 0000000000000000 0000000000000000 0000000000000000 0000000000001101 0000000000000000 0000000000000000 0000000000000000 0000000000000000 0000000101001001 0000000010100010 0000000001001101 0000000000000000 0000000000000000 0000000001110111 0000000000000000 0000000001110110 0000000000000000 0000000000000000 0000001000011011 0000000000000000 0000000000000000 0000000000000000 0000000000000000 0000000000000000 0000000111000100 0000000000000000 0000000101011011 0000000000000000 0000000000000000 0000000000000000 0000000000000000 0000000010100001 0000000000000000 0000000000000000 0000000110001100 0000000000000000 0000000000000000 0000000000000000 0000001000011001 0000000000000000 0000000000000000 0000000000000000 0000000000000000 0000000010101100 0000000000000000 0000000100010101 0000000000000000 0000000000000000 0000000100001111 0000000011111010 0000000000000000 0000000101110011 0000000011101010 0000000000000000 0000000001001110 0000000000000000 0000000110011101 0000000000001010 0000000000000000 0000000000000000 0000000001100110 0000000000000000 0000000000000000 0000000000000000 0000000000000000 0000000000000000 0000000001001000 0000000011010011 0000000000000000 0000000000000000 0000000000000000 0000000000000000 0000000000000000 0000000100000000 0000000001101000 0000000000000000 0000000000000000 0000000110111011 0000000000000000 0000000100100000 0000000000000000 0000000000000000 0000000000000000 0000000000000000 0000000000000000 0000000001010111 0000000001000111 0000000000000000 0000000000000000 0000000000000000 0000000000000000 0000000000000000 0000000000000000 0000000010101110 0000000000000000 0000000000111010 0000000000000000 0000000000000000 0000000000000000 0000000000000000 0000000000000000 0000000000000000 0000000000000000 0000000000000000 0000000000000000 0000000010010010 0000000000000000 0000001010101010 0000000011100110 0000000000000000 0000000010100101 0000001000101001 0000000000000000 0000000000000000 0000000000000000 0000000000000000 0000001001000100 0000000000000000 0000000000000000 0000000000000000 0000000000000000 0000000000000000 0000000010100100 0000000001000101 0000000000000000 0000000000000000 0000000000000000 0000000000000000 0000000000000000 0000000000000000 0000000000000000 0000000000000000 0000000000000000 0000000000000000 0000000000000000 0000000000000000 0000000001001101 0000000000000000 0000000100100010 0000000000000000 0000000000000000 0000000000000000 0000000000000000 0000000000000000 0000000000000000 0000000000000000 0000000000000000 0000000000000000 0000000000000000 0000000000000000 0000000001110000 0000000000000000 0000000000000000 0000000000000000 0000000000000000 0000000000000000 0000000000010111 0000000000000000 0000000010111110 0000000101110101 0000000000000000 0000000000000000 0000000000000000 0000000000000000 0000000000000000 0000000000000000 0000000000000000 0000000000000000 0000000000000000 0000000110010111 0000000000000000 0000000001111110 0000000000000000 0000000011111010 0000000101100110 0000001000011101 0000000000000000 0000000001000100 0000000000000000 0000000000001111 0000000100010110 0000000000000000 0000000000011000 0000000000000000 0000000010010010 0000000000110000 0000000000000000 0000000000000000 0000001000001011 0000000000000000 0000000000000000 0000000000000000 0000000000000000 0000000000000000 0000000000000000 0000000101100101 0000000000000000 0000000000000000 0000000000000000 0000000000000000 0000000000000000 0000001001010111 0000000000010001 0000000000000000 0000000000000000 0000000101011001 0000000000000000 0000000001000011 0000000000000000 0000000000000000 0000000000000000 0000000000000000 0000000000000000 0000000000000000 0000000000000000 0000000000000000 0000000000000000 0000000000000000 0000000110011010 0000000000100100 0000000000101110 0000000000000000 0000000010000000 0000000010100110 0000000000000000 0000000000000000 0000000000000000 0000000000000000 0000000000000000 0000000000000000 0000000010011101 0000000000000000 0000000000000000 0000000011100001 0000000000000000 0000000000000000 0000000000000100 0000000110010110 0000000000000000 0000000000111010 0000000000000000 0000001000011100 0000000000000000 0000000000011010 0000000100011010 0000000000000000 0000000000010100 0000000000000000 0000000101100010 0000000010101100 0000000010111001 0000000000000000 0000001100100011 0000000000000000 0000000000000000 0000000000000000 0000000000000000 0000000000000000 0000000000000000 0000000110001101 0000000000000000 0000000011100000 0000000000000000 0000000000000000 0000000000000000 0000000101111101 0000000000000001 0000000000000000 0000000000000000 0000000110100101 0000000000000000 0000000000011010 0000000000000000 0000000000000000 0000000000000000 0000000000000000 0000000000000000 0000000000000000 0000000010111010 0000000000000000 0000000000000000 0000000000000000 0000000000000000 0000000000000000 0000000000000000 0000000000000000 0000000000000000 0000000100001110 0000000000000000 0000000000000000 0000000000000000 0000000000000000 0000000111010001 0000000000000000 0000000000011010 0000001011000101 0000000000000000 0000000110001001 0000000000000000 0000000000000000 0000000000001100 0000001000100000 0000000001001010 0000000000000000 0000000000000000 0000000100101010 0000000000000000 0000000000000000 0000000000010111 0000000000000000 0000000000001111 0000000010100001 0000000000000000 0000000000000000 0000000101001000 0000000000000000 0000000000000000 0000000000000000 0000000000000000 0000000110100111 0000000000000000 0000000000000000 0000000000000000 0000000000000000 0000000011100010 0000000000000000 0000000000000000 0000000000000000 0000000000000000 0000000000000000 0000000000000000 0000000000000000 0000000000000000 0000000000000000 0000000010110100 0000000000000000 0000000000000000 0000000000000000 0000000000000000 0000000110100110 0000000000000000 0000000000100010 0000000111010101 0000000000000000 0000000000000000 0000000000000000 0000000000000000 0000000001100111 0000000000000000 0000000000000000 0000000000000000 0000000111101000 0000000000000000 0000000000000000 0000000000000000 0000000000000000 0000000001001010 0000000000000000 0000000000000000 0000000101000010 0000000001011010 0000000000000000 0000000000000000 0000000000000000 0000000000000000 0000000010011011 0000000000000000 0000000000111100 0000000000000000 0000000011000000 0000000000000000 0000000000011111 0000000011110010 0000000000000000 0000000000000000 0000000000000000 0000000001000010 0000000000000000 0000000111110100 0000000000000000 0000000000000000 0000000000000000 0000000001110111 0000000000000000 0000000000000000 0000000000000000 0000000000001110 0000000000000000 0000000000000000 0000000000000000 0000000000000000 0000000000000000 0000000001101011 0000000000001101 0000000000000000 0000000000000000 0000000000000000 0000000000000000 0000000010110011 0000000000000000 0000000000000000 0000000000000000 0000000000000000 0000000010110101 0000000000000000 0000000000000000 0000000110111010 0000000000000000 0000000011111011 0000000100001111 0000000110000101 0000000000001100 0000000101000010 0000000000000000 0000000000000000 0000000011000010 0000000110000111 0000000000000000 0000000010000101 0000000000000000 0000000000000000 0000000000000000 0000000010100010 0000000000000000 0000000000000000 0000000000000000 0000000000000000 0000000000000000 0000000000000000 0000000100111001 0000000000000000 0000000011011000 0000000000000000 0000000000000000 0000000000000000 0000000100000011 0000000000000000 0000000000000000 0000000000000000 0000000000000000 0000000000000000 0000000011100111 0000000111110111 0000000000000000 0000000000000000 0000000000011010 0000000000101100 0000000000000000 0000000000000000 0000000000000000 0000000000000000 0000000111110010 0000000000000000 0000000000000000 0000000000000000 0000000000000000 0000000000000000 0000000000000000 0000000000000000 0000000000000000 0000000000000000 0000000000000000 0000000000000000 0000000100010001 0000000000000000 0000000000000000 0000000000000000 0000000000110010 0000000010100001 0000001010110111 0000000110011111 0000000000000000 0000000000000000 0000000000000000 0000000000000000 0000000000000000 0000000000000000 0000000011110110 0000000001110000 0000000110011010 0000000010110010 0000000000000000 0000000101011010 0000000000000000 0000000000000000 0000000000000000 0000000000000000 0000000000000000 0000000000000000 0000000010000000 0000000000000000 0000000011110101 0000000010011101 0000000101101010 0000000000000000 0000000000000000 0000000001011111 0000000000000000 0000000000000000 0000000111010000 0000000010101010 0000000000000000 0000000000000000 0000001001110000 0000000001111010 0000000000000000 0000000001011100 0000000000000000 0000000000000000 0000000000000000 0000000001110000 0000000000000000 0000000000101010 0000000000000000 0000000011011001 0000000000000000 0000000000000000 0000000000000000 0000000000000000 0000000000000000 0000000010001110 0000000000000000 0000000000000000 0000000000000000 0000000000000000 0000000010110110 0000000000000000 0000000000100101 0000000000000000 0000000000000000 0000000000000000 0000000000000000 0000000000100001 0000000101011111 0000000000000000 0000000000000000 0000000000000000 0000000000000000 0000000000000000 0000000101110110 0000000000000000 0000000001101111 0000000100001101 0000001001000100 0000000000000010 0000000000000000 0000001000011111 0000000000000000 0000000000000000 0000000000000000 0000000000010000 0000000000000000 0000000000000000 0000000010111110 0000000000000000 0000000110000101 0000000000000000 0000000010111101 0000000000000000 0000000011100000 0000000000000000 0000000000000000 0000000000000000 0000000110100110 0000000000000000 0000000000000000 0000000000000000 0000000000000000 0000000101000000 0000000000100100 0000000000011101 0000000000000000 0000000100111110 0000000000000000 0000000000000000 0000000000000000 0000000000000000 0000000000000000 0000000011101010 0000001000100111 0000000001100110 0000000000000000 0000000000000000 0000000000000000 0000000000000000 0000000100110100 0000000000000000 0000000000000000 0000000000000000 0000000011000110 0000000000000000 0000000000000000 0000000000000000 0000000000000000 0000000101000111 0000000000000000 0000000001010000 0000000000000000 0000000000000000 0000000000000000 0000000000000000 0000000100110100 0000000000000000 0000000001000000 0000000000000000 0000000000000000 0000000000000000 0000000011101111 0000000001010101 0000000000000000 0000000101101011 0000000000000000 0000000000000000 0000000000000000 0000001100000100 0000000000000000 0000000000000000 0000000000000000 0000000000000000 0000000111001110 0000000000000000 0000000000000000 0000000000000000 0000000100101011 0000000000000000 0000000010101110 0000000000000000 0000000010011010 0000000000000000 0000000000000000 0000000000000000 0000000000000000 0000000110001101 0000000101110110 0000000010001100 0000000000000000 0000000110110101 0000000000000000 0000000000000000 0000000000000000 0000000000000000 0000000000000000 0000001011110000 0000000001011100 0000000111010011 0000000000000000 0000000000000000 0000000000000000 0000000000000000 0000001001011100 0000000000000000 0000000000000000 0000000000000000 0000000101010010 0000000000000000 0000000001100011 0000000000000000 \n"
     ]
    }
   ],
   "source": [
    "outputString = ''\n",
    "noChar = 0\n",
    "for i in conv_pixels:\n",
    "    outputString += i\n",
    "    outputString += ' '\n",
    "    noChar += 1\n",
    "print(outputString)"
   ]
  },
  {
   "cell_type": "code",
   "execution_count": 360,
   "id": "1c2a46bf",
   "metadata": {},
   "outputs": [
    {
     "name": "stdout",
     "output_type": "stream",
     "text": [
      "7488\n"
     ]
    }
   ],
   "source": [
    "print(noChar)"
   ]
  },
  {
   "cell_type": "code",
   "execution_count": 361,
   "id": "322ef797",
   "metadata": {},
   "outputs": [],
   "source": [
    "text_file = open(\"E:\\HTerm\\InputsAllVHDL.txt\", \"w\")\n",
    "text_file.write(\"%s\" % outputString)\n",
    "text_file.close()"
   ]
  }
 ],
 "metadata": {
  "kernelspec": {
   "display_name": "Python 3",
   "language": "python",
   "name": "python3"
  },
  "language_info": {
   "codemirror_mode": {
    "name": "ipython",
    "version": 3
   },
   "file_extension": ".py",
   "mimetype": "text/x-python",
   "name": "python",
   "nbconvert_exporter": "python",
   "pygments_lexer": "ipython3",
   "version": "3.8.8"
  }
 },
 "nbformat": 4,
 "nbformat_minor": 5
}
