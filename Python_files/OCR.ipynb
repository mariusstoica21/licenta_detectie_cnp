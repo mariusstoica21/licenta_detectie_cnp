{
 "cells": [
  {
   "cell_type": "markdown",
   "id": "5a092d16",
   "metadata": {},
   "source": [
    "<h1>Optical Character Recognition</h1>"
   ]
  },
  {
   "cell_type": "markdown",
   "id": "9adeddb2",
   "metadata": {},
   "source": [
    "Optical Character Recognition sau OCR este un algoritm folosit pentru a detecta și localiza caracterele dintr-o imagine. Folosind OCR, vor fi detectate cifrele care formează codul numeric personal într-o imagine cu un act de identitate. OCR are mai multe implementări. Pentru lucrarea de cercetare de față, a fost aleasă implementarea OCR folosind tesseract."
   ]
  },
  {
   "cell_type": "code",
   "execution_count": 2,
   "id": "3a376ae0",
   "metadata": {},
   "outputs": [],
   "source": [
    "import pytesseract\n",
    "import numpy as np\n",
    "import cv2\n",
    "import matplotlib as plt\n",
    "from PIL import Image\n",
    "from PIL import ImageFont, ImageDraw, ImageEnhance"
   ]
  },
  {
   "cell_type": "markdown",
   "id": "139418c1",
   "metadata": {},
   "source": [
    "Folosind librăria OpenCV, este citită o imaginea cu un act de identitate."
   ]
  },
  {
   "cell_type": "code",
   "execution_count": 3,
   "id": "75179c72",
   "metadata": {},
   "outputs": [],
   "source": [
    "img = cv2.imread(\"buletinBeianAdriana.jpg\")"
   ]
  },
  {
   "cell_type": "code",
   "execution_count": 5,
   "id": "5e14bcea",
   "metadata": {},
   "outputs": [],
   "source": [
    "img = cv2.imread(\"buletinBeianDragos.jpg\")"
   ]
  },
  {
   "cell_type": "code",
   "execution_count": 25,
   "id": "977c648a",
   "metadata": {},
   "outputs": [],
   "source": [
    "img = cv2.imread(\"buletinTatarLiliana.jpg\")"
   ]
  },
  {
   "cell_type": "code",
   "execution_count": 96,
   "id": "f1dfeb6d",
   "metadata": {},
   "outputs": [],
   "source": [
    "img = cv2.imread(\"buletinStoicaMarius.jpg\")"
   ]
  },
  {
   "cell_type": "code",
   "execution_count": 75,
   "id": "1aec19db",
   "metadata": {},
   "outputs": [],
   "source": [
    "img = cv2.imread(\"buletinKissSandor.jpg\")"
   ]
  },
  {
   "cell_type": "markdown",
   "id": "fbac5e6b",
   "metadata": {},
   "source": [
    "Imaginea a fost redimensionată, având ca și parametrii fx = 2 și fy = 2. Parametrii fx și fy au valori diferite pentru imagini diferite. Valorile vor fi stabilite prin încercări multiple, de la 0.5, fiind incrementat cu câte 0.5, uneori ajungând chiar până la 3.0. "
   ]
  },
  {
   "cell_type": "code",
   "execution_count": 4,
   "id": "41ba623d",
   "metadata": {},
   "outputs": [],
   "source": [
    "img = cv2.resize(img,None,fx = 2.5,fy = 2.5)"
   ]
  },
  {
   "cell_type": "code",
   "execution_count": 6,
   "id": "dea9804d",
   "metadata": {},
   "outputs": [],
   "source": [
    "img = cv2.resize(img,None,fx = 2.0,fy = 2.0)"
   ]
  },
  {
   "cell_type": "code",
   "execution_count": 26,
   "id": "be8e3baa",
   "metadata": {},
   "outputs": [],
   "source": [
    "img = cv2.resize(img,None,fx = 2.0,fy = 2.0)"
   ]
  },
  {
   "cell_type": "code",
   "execution_count": 97,
   "id": "d240b711",
   "metadata": {},
   "outputs": [],
   "source": [
    "img = cv2.resize(img,None,fx = 1.5,fy = 1.5)"
   ]
  },
  {
   "cell_type": "code",
   "execution_count": 76,
   "id": "19943854",
   "metadata": {},
   "outputs": [],
   "source": [
    "img = cv2.resize(img,None,fx = 1.2,fy = 1.2)"
   ]
  },
  {
   "cell_type": "code",
   "execution_count": 5,
   "id": "41803957",
   "metadata": {},
   "outputs": [],
   "source": [
    "img.shape\n",
    "hImage = img.shape[0]\n",
    "wImage = img.shape[1]"
   ]
  },
  {
   "cell_type": "code",
   "execution_count": 6,
   "id": "e300d97b",
   "metadata": {},
   "outputs": [
    {
     "name": "stdout",
     "output_type": "stream",
     "text": [
      "1000 750\n"
     ]
    }
   ],
   "source": [
    "print(hImage,wImage)"
   ]
  },
  {
   "cell_type": "markdown",
   "id": "94976b1c",
   "metadata": {},
   "source": [
    "Imaginea redimensionată va fi afișată."
   ]
  },
  {
   "cell_type": "code",
   "execution_count": 50,
   "id": "9d18deee",
   "metadata": {},
   "outputs": [
    {
     "data": {
      "text/plain": [
       "-1"
      ]
     },
     "execution_count": 50,
     "metadata": {},
     "output_type": "execute_result"
    }
   ],
   "source": [
    "cv2.imshow(\"Img\",img)\n",
    "cv2.waitKey(0)"
   ]
  },
  {
   "cell_type": "code",
   "execution_count": 7,
   "id": "49ed3007",
   "metadata": {},
   "outputs": [
    {
     "data": {
      "text/plain": [
       "(1000, 750, 3)"
      ]
     },
     "execution_count": 7,
     "metadata": {},
     "output_type": "execute_result"
    }
   ],
   "source": [
    "img.shape"
   ]
  },
  {
   "cell_type": "markdown",
   "id": "2c72ab94",
   "metadata": {},
   "source": [
    "În cele ce urmează sunt implementate funcții de preprocesare a imaginii, înainte de a aplica algoritmul OCR."
   ]
  },
  {
   "cell_type": "code",
   "execution_count": 8,
   "id": "a1826cea",
   "metadata": {},
   "outputs": [],
   "source": [
    "# get grayscale image\n",
    "def get_grayscale(image):\n",
    "    return cv2.cvtColor(image, cv2.COLOR_BGR2GRAY)\n",
    "\n",
    "#canny edge detection\n",
    "def canny(image):\n",
    "    return cv2.Canny(image, 100, 200)\n",
    "\n"
   ]
  },
  {
   "cell_type": "markdown",
   "id": "d6a693b9",
   "metadata": {},
   "source": [
    "Funcția get_grayscale face ca o imagine RGB cu 3 canale de culoare, să devină o imagine grayscale, cu un singur canal de culoare. Funcția thresholding preia imaginea grayscale și o binarizează, folosind un threshold. Funcția opening are rolul de a elimina zgomotele din imagine. Funcția canny are rolul de a detecta muchiile."
   ]
  },
  {
   "cell_type": "code",
   "execution_count": 9,
   "id": "729cd6d3",
   "metadata": {},
   "outputs": [],
   "source": [
    "gray = get_grayscale(img)\n",
    "canny = canny(gray)"
   ]
  },
  {
   "cell_type": "code",
   "execution_count": 10,
   "id": "6ce29ad2",
   "metadata": {},
   "outputs": [
    {
     "data": {
      "text/plain": [
       "-1"
      ]
     },
     "execution_count": 10,
     "metadata": {},
     "output_type": "execute_result"
    }
   ],
   "source": [
    "cv2.imshow(\"Img\",gray)\n",
    "cv2.waitKey(0)"
   ]
  },
  {
   "cell_type": "code",
   "execution_count": 11,
   "id": "663ab0af",
   "metadata": {},
   "outputs": [
    {
     "data": {
      "text/plain": [
       "-1"
      ]
     },
     "execution_count": 11,
     "metadata": {},
     "output_type": "execute_result"
    }
   ],
   "source": [
    "cv2.imshow(\"Canny\",canny)\n",
    "cv2.waitKey(0)"
   ]
  },
  {
   "cell_type": "markdown",
   "id": "c49d79bb",
   "metadata": {},
   "source": [
    "În folderul Tesseract-OCR a fost instalată aplicația tesseract. Pentru a putea fi folosit tesseract în aplicația de față, este necesară încărcarea executabilului din folderul Tesseract-OCR."
   ]
  },
  {
   "cell_type": "code",
   "execution_count": 12,
   "id": "4e655856",
   "metadata": {},
   "outputs": [],
   "source": [
    "pytesseract.pytesseract.tesseract_cmd = r\"C:\\Program Files\\Tesseract-OCR\\tesseract.exe\""
   ]
  },
  {
   "cell_type": "code",
   "execution_count": 13,
   "id": "475d49a0",
   "metadata": {},
   "outputs": [],
   "source": [
    "img.shape\n",
    "hImage = img.shape[0]\n",
    "wImage = img.shape[1]"
   ]
  },
  {
   "cell_type": "code",
   "execution_count": 14,
   "id": "a9dbfb9f",
   "metadata": {},
   "outputs": [
    {
     "data": {
      "text/plain": [
       "(1000, 750)"
      ]
     },
     "execution_count": 14,
     "metadata": {},
     "output_type": "execute_result"
    }
   ],
   "source": [
    "hImage,wImage"
   ]
  },
  {
   "cell_type": "markdown",
   "id": "3006e4c9",
   "metadata": {},
   "source": [
    "Folosind funcția image_to_boxes, aplicată pe imaginea canny, au fost detectate multe dintre caracterele din imagine."
   ]
  },
  {
   "cell_type": "code",
   "execution_count": 15,
   "id": "c153a7ee",
   "metadata": {},
   "outputs": [],
   "source": [
    "boxes = pytesseract.image_to_boxes(canny)"
   ]
  },
  {
   "cell_type": "code",
   "execution_count": 16,
   "id": "b2d17e85",
   "metadata": {},
   "outputs": [
    {
     "name": "stdout",
     "output_type": "stream",
     "text": [
      "~ 144 872 738 877 0\n",
      "m 0 795 38 855 0\n",
      "a 28 795 84 857 0\n",
      "m 69 797 114 861 0\n",
      "e 102 797 156 863 0\n",
      "T 175 792 208 838 0\n",
      "L 200 795 233 816 0\n",
      "O 232 795 312 851 0\n",
      "R 284 787 319 846 0\n",
      "C 348 795 363 843 0\n",
      "E 352 792 421 856 0\n",
      "7 479 799 491 847 0\n",
      "7 517 800 543 848 0\n",
      "] 542 800 543 848 0\n",
      "R 622 809 650 843 0\n",
      "O 652 809 688 843 0\n",
      "M 690 809 750 843 0\n",
      "~ 1 754 45 761 0\n",
      "~ 46 731 103 763 0\n",
      "o 179 739 194 756 0\n",
      "i 189 739 202 776 0\n",
      "f 199 740 228 775 0\n",
      "i 219 740 249 775 0\n",
      "t 245 742 271 776 0\n",
      "h 270 742 280 756 0\n",
      "a 282 742 295 758 0\n",
      "“ 362 760 376 778 0\n",
      "E 375 732 401 778 0\n",
      "a 397 732 432 778 0\n",
      "s 432 734 486 779 0\n",
      "a 494 734 520 778 0\n",
      "n 509 734 525 780 0\n",
      "e 528 734 561 781 0\n",
      "e 562 735 581 781 0\n",
      "r 579 735 593 781 0\n",
      "i 589 735 635 781 0\n",
      "e 621 734 635 781 0\n",
      "e 167 704 188 720 0\n",
      "x 181 691 196 735 0\n",
      "e 188 705 206 720 0\n",
      "2 214 702 230 728 0\n",
      "7 229 702 246 728 0\n",
      "6 247 702 263 728 0\n",
      "0 264 702 281 728 0\n",
      "4 282 702 298 728 0\n",
      "2 298 702 316 730 0\n",
      "9 316 702 333 729 0\n",
      "2 335 704 351 730 0\n",
      "6 352 704 368 730 0\n",
      "4 370 704 386 730 0\n",
      "3 387 704 403 730 0\n",
      "8 405 704 423 731 0\n",
      "2 424 704 440 731 0\n",
      "\\ 101 668 121 730 0\n",
      "A 169 674 193 690 0\n",
      "n 194 675 209 688 0\n",
      "o 209 675 363 691 0\n",
      "e 317 664 330 702 0\n",
      "M 329 664 340 702 0\n",
      "m 339 664 359 702 0\n",
      "~ 399 664 422 702 0\n",
      "\\ 443 668 458 696 0\n",
      ") 490 677 498 698 0\n",
      "E 624 692 641 716 0\n",
      "O 642 692 660 718 0\n",
      "K 662 692 679 716 0\n",
      "O 680 691 698 718 0\n",
      "L 699 692 716 716 0\n",
      "| 109 589 123 668 0\n",
      "4 169 645 187 668 0\n",
      "e 169 645 203 670 0\n",
      "r 205 646 242 670 0\n",
      "e 235 647 253 670 0\n",
      "C 165 618 180 648 0\n",
      "u 180 618 188 648 0\n",
      "c 169 624 208 641 0\n",
      "a 200 618 213 648 0\n",
      "m 209 625 221 636 0\n",
      "o 222 624 253 640 0\n",
      "i 245 623 255 644 0\n",
      "P 254 625 266 641 0\n",
      "r 267 627 274 638 0\n",
      "o 275 623 285 644 0\n",
      "n 285 623 298 644 0\n",
      "e 274 625 330 641 0\n",
      "a 307 623 320 644 0\n",
      "y 332 623 428 644 0\n",
      "F 332 618 340 648 0\n",
      "L 340 618 353 648 0\n",
      "A 352 618 365 648 0\n",
      "a 377 618 390 648 0\n",
      "g 390 618 403 648 0\n",
      "a 402 618 430 648 0\n",
      "A 169 595 185 618 0\n",
      "D 187 595 208 618 0\n",
      "R 201 593 219 621 0\n",
      "I 208 595 230 618 0\n",
      "A 232 595 249 619 0\n",
      "N 249 595 275 620 0\n",
      "A 272 603 281 620 0\n",
      "- 275 597 298 614 0\n",
      "C 298 597 321 620 0\n",
      "A 317 607 323 613 0\n",
      "S 321 596 346 620 0\n",
      "T 347 597 368 620 0\n",
      "A 361 593 379 621 0\n",
      "N 368 597 391 621 0\n",
      "A 391 593 413 621 0\n",
      "S 167 575 181 591 0\n",
      "c 178 572 191 591 0\n",
      "i 182 575 198 589 0\n",
      "y 200 573 216 590 0\n",
      "i 214 572 216 586 0\n",
      "c 217 575 233 588 0\n",
      "a 231 577 243 590 0\n",
      "l 238 572 248 591 0\n",
      "o 244 575 261 590 0\n",
      "m 261 576 276 590 0\n",
      "o 270 572 286 591 0\n",
      "r 274 575 321 590 0\n",
      "e 298 572 308 591 0\n",
      "n 308 572 321 591 0\n",
      "a 320 572 331 591 0\n",
      "l 322 577 343 590 0\n",
      "i 343 576 349 589 0\n",
      "c 350 576 366 588 0\n",
      "n 362 576 380 590 0\n",
      "O 381 576 398 592 0\n",
      "C 399 577 404 591 0\n",
      "A 404 574 438 588 0\n",
      "N 428 572 436 592 0\n",
      "I 439 577 444 591 0\n",
      "L 445 576 451 591 0\n",
      "I 453 572 461 592 0\n",
      "y 452 572 468 592 0\n",
      "S 692 575 706 593 0\n",
      "a 692 575 734 593 0\n",
      "m 734 575 750 593 0\n",
      "a 89 522 114 601 0\n",
      "R 169 545 186 568 0\n",
      "o 185 545 202 563 0\n",
      "m 204 545 221 563 0\n",
      "é 222 545 236 570 0\n",
      "n 239 545 253 563 0\n",
      "é 257 545 271 571 0\n",
      "/ 285 545 298 571 0\n",
      "R 312 545 328 568 0\n",
      "O 329 545 347 568 0\n",
      "U 349 545 366 569 0\n",
      "( 167 524 176 538 0\n",
      "e 175 524 182 538 0\n",
      "s 167 524 201 538 0\n",
      "s 186 524 197 538 0\n",
      "a 207 521 218 540 0\n",
      "r 207 522 236 537 0\n",
      "i 233 521 243 538 0\n",
      "q 245 524 262 536 0\n",
      "o 262 523 278 536 0\n",
      "U 282 527 291 540 0\n",
      "i 279 524 306 540 0\n",
      "n 299 521 308 540 0\n",
      "w 307 524 318 536 0\n",
      "€ 324 524 336 541 0\n",
      "o 337 524 346 536 0\n",
      "a 352 524 373 538 0\n",
      "o 364 524 373 538 0\n",
      "S 391 524 401 536 0\n",
      "C 400 521 409 539 0\n",
      "s 402 524 423 539 0\n",
      "y 417 521 423 533 0\n",
      "o 417 494 448 542 0\n",
      "n 452 524 464 541 0\n",
      "e 464 505 503 540 0\n",
      "@ 509 523 521 536 0\n",
      "f 517 519 529 540 0\n",
      "B 534 524 548 540 0\n",
      "l 543 519 552 540 0\n",
      "o 552 521 565 538 0\n",
      "g 559 519 568 540 0\n",
      "h 566 524 574 539 0\n",
      "J 169 497 183 520 0\n",
      "u 184 497 199 514 0\n",
      "d 202 496 218 521 0\n",
      ". 220 496 225 503 0\n",
      "A 227 496 238 519 0\n",
      "i 237 496 246 520 0\n",
      "s 246 495 261 520 0\n",
      "M 272 495 288 519 0\n",
      "u 290 495 306 514 0\n",
      "a 307 495 323 513 0\n",
      ". 327 496 333 503 0\n",
      "T 334 495 350 518 0\n",
      "a 352 495 365 520 0\n",
      "r 366 495 380 513 0\n",
      "n 382 493 398 513 0\n",
      "e 400 494 415 520 0\n",
      "w 414 495 433 513 0\n",
      "a 449 489 468 513 0\n",
      "N 465 480 485 513 0\n",
      "S 558 499 572 516 0\n",
      "O 167 474 181 490 0\n",
      "r 182 474 193 483 0\n",
      "r 182 475 213 490 0\n",
      "n 199 473 205 490 0\n",
      "l 204 473 214 490 0\n",
      "e 213 473 224 490 0\n",
      "l 214 474 240 490 0\n",
      "i 230 473 241 490 0\n",
      "w 238 474 251 488 0\n",
      "a 252 477 258 488 0\n",
      "d 257 474 288 489 0\n",
      "i 281 473 292 490 0\n",
      "c 290 474 300 486 0\n",
      "r 297 473 321 486 0\n",
      "r 310 473 323 490 0\n",
      "e 322 473 331 486 0\n",
      "A 337 474 351 488 0\n",
      "O 352 472 371 488 0\n",
      "C 364 469 413 488 0\n",
      "L 399 465 405 494 0\n",
      "D 404 465 417 494 0\n",
      "e 1 383 225 533 0\n",
      "e 224 437 261 512 0\n",
      "k 270 444 283 468 0\n",
      "l 280 445 288 468 0\n",
      "u 290 444 305 464 0\n",
      "a 307 444 323 463 0\n",
      ". 327 445 333 450 0\n",
      "P 334 443 350 468 0\n",
      "a 351 443 365 468 0\n",
      "i 367 442 370 461 0\n",
      "r 370 445 381 462 0\n",
      "g 382 437 398 461 0\n",
      "u 399 443 416 461 0\n",
      "[ 427 419 438 467 0\n",
      "l 436 442 443 466 0\n",
      "u 450 405 462 471 0\n",
      "r 447 441 478 462 0\n",
      "e 477 409 495 461 0\n",
      "s 494 409 510 461 0\n",
      "\\ 527 421 565 502 0\n",
      "o 507 409 525 435 0\n",
      "m 527 409 545 436 0\n",
      "e 544 421 558 436 0\n",
      "S 169 412 183 436 0\n",
      "e 185 412 212 434 0\n",
      "r 212 412 218 418 0\n",
      "I 222 412 233 437 0\n",
      "n 235 412 251 430 0\n",
      "t 251 404 266 437 0\n",
      "r 252 411 279 436 0\n",
      "a 280 412 295 436 0\n",
      "t 294 404 309 437 0\n",
      "i 297 404 321 436 0\n",
      "c 322 410 346 428 0\n",
      "l 339 409 356 436 0\n",
      "n 367 410 383 428 0\n",
      "r 384 410 398 428 0\n",
      ". 399 409 405 417 0\n",
      "1 407 409 418 435 0\n",
      "4 422 409 438 435 0\n",
      "a 449 409 463 428 0\n",
      "p 462 402 474 430 0\n",
      ". 464 402 483 430 0\n",
      "C 7 374 76 416 0\n",
      "a 57 370 91 420 0\n",
      "i 99 384 106 408 0\n",
      "L 172 392 178 403 0\n",
      "~ 212 387 213 406 0\n",
      "O 212 389 221 403 0\n",
      "d 227 387 238 404 0\n",
      "o 239 387 251 401 0\n",
      "' 247 387 256 406 0\n",
      "B 251 387 283 406 0\n",
      "e 287 389 288 395 0\n",
      "s 289 387 297 401 0\n",
      "c 297 387 320 401 0\n",
      "o 313 377 320 410 0\n",
      "C 333 377 342 410 0\n",
      "o 333 384 358 401 0\n",
      "r 349 377 358 410 0\n",
      "t 366 384 375 403 0\n",
      "e 374 384 383 403 0\n",
      "a 364 384 413 402 0\n",
      "n 367 387 418 403 0\n",
      "c 399 384 408 403 0\n",
      "d 412 385 433 396 0\n",
      "b 426 382 435 402 0\n",
      "y 424 382 445 402 0\n",
      "V 580 385 592 400 0\n",
      "o 587 384 603 400 0\n",
      "l 600 374 611 406 0\n",
      "o 604 384 618 398 0\n",
      "D 624 384 643 399 0\n",
      "e 644 384 648 400 0\n",
      "n 649 382 673 398 0\n",
      "e 674 382 686 396 0\n",
      "W 693 384 701 398 0\n",
      "a 704 374 715 406 0\n",
      "t 714 374 726 406 0\n",
      "e 701 382 750 398 0\n",
      "S 169 359 183 383 0\n",
      "P 185 359 201 383 0\n",
      "C 202 359 217 383 0\n",
      "L 219 357 233 382 0\n",
      "E 234 357 251 381 0\n",
      "P 252 357 268 381 0\n",
      "T 277 357 293 381 0\n",
      "q 292 352 308 376 0\n",
      ". 312 357 316 363 0\n",
      "M 319 357 336 381 0\n",
      "u 337 357 354 375 0\n",
      "r 357 356 371 373 0\n",
      "e 367 355 386 373 0\n",
      "g 387 347 401 373 0\n",
      "2 539 352 556 380 0\n",
      "3 557 352 573 378 0\n",
      ", 575 353 582 360 0\n",
      "0 584 352 601 380 0\n",
      "6 602 352 622 378 0\n",
      ". 622 352 628 359 0\n",
      "2 630 352 646 378 0\n",
      "1 648 352 660 378 0\n",
      "° 662 361 679 368 0\n",
      "2 677 352 693 378 0\n",
      "9 694 352 713 378 0\n",
      ", 714 352 721 358 0\n",
      "0 722 352 750 378 0\n",
      "¢ 737 352 749 380 0\n",
      "S 0 313 11 336 0\n",
      "O 17 312 33 336 0\n",
      "U 39 312 56 335 0\n",
      "B 62 312 78 334 0\n",
      "E 84 310 100 333 0\n",
      "T 109 310 120 333 0\n",
      "A 129 309 146 333 0\n",
      "N 152 309 168 333 0\n",
      "< 175 310 191 331 0\n",
      "< 199 309 215 331 0\n",
      "A 222 307 238 330 0\n",
      "D 245 307 261 330 0\n",
      "R 269 306 283 330 0\n",
      "I 293 305 305 330 0\n",
      "A 315 305 331 328 0\n",
      "N 339 305 356 328 0\n",
      "A 362 304 378 328 0\n",
      "C 387 305 403 328 0\n",
      "C 410 304 425 328 0\n",
      "A 434 302 451 326 0\n",
      "S 459 302 475 326 0\n",
      "I 485 302 498 326 0\n",
      "A 507 302 523 325 0\n",
      "N 532 302 548 325 0\n",
      "A 555 301 573 325 0\n",
      "C 581 302 598 324 0\n",
      "K 605 300 746 323 0\n",
      "K 632 292 652 340 0\n",
      "K 652 292 676 340 0\n",
      "K 676 292 696 340 0\n",
      "K 704 292 724 340 0\n",
      "K 724 292 748 340 0\n",
      "1 0 259 8 283 0\n",
      "8 17 257 33 283 0\n",
      "8 39 257 56 283 0\n",
      "1 64 257 75 281 0\n",
      "1 85 256 98 280 0\n",
      "6 107 254 123 280 0\n",
      "< 130 255 145 278 0\n",
      "6 152 253 168 278 0\n",
      "R 176 252 191 276 0\n",
      "O 197 252 215 276 0\n",
      "U 220 252 238 275 0\n",
      "7 244 251 261 276 0\n",
      "6 267 250 284 275 0\n",
      "E 278 234 292 287 0\n",
      "0 290 249 308 276 0\n",
      "4 314 249 331 275 0\n",
      "2 339 247 354 275 0\n",
      "9 362 247 378 273 0\n",
      "0 385 247 403 273 0\n",
      "F 412 247 424 271 0\n",
      "3 441 247 450 271 0\n",
      "1 460 245 471 271 0\n",
      "0 482 244 500 271 0\n",
      "6 507 244 523 270 0\n",
      "2 532 244 548 271 0\n",
      "9 555 243 573 270 0\n",
      "7 580 243 596 268 0\n",
      "2 605 242 621 268 0\n",
      "2 630 242 646 268 0\n",
      "6 654 242 671 268 0\n",
      "4 678 242 695 267 0\n",
      "3 703 242 720 268 0\n",
      "8 727 242 746 268 0\n",
      "~ 7 167 729 186 0\n",
      "~ 31 165 729 185 0\n",
      "~ 31 166 729 185 0\n",
      "~ 31 166 729 185 0\n",
      "C 263 124 291 142 0\n",
      "e 348 124 656 162 0\n",
      "e 599 120 659 171 0\n",
      "\n"
     ]
    }
   ],
   "source": [
    "print(boxes)"
   ]
  },
  {
   "cell_type": "markdown",
   "id": "c8ec2eb1",
   "metadata": {},
   "source": [
    "Caracterele au fost introduse într-un array unidimensional."
   ]
  },
  {
   "cell_type": "code",
   "execution_count": 86,
   "id": "0c91a4fd",
   "metadata": {},
   "outputs": [],
   "source": [
    "l = []\n",
    "for b in boxes.splitlines():\n",
    "    b = b.split(' ')\n",
    "    l.append(b[0])"
   ]
  },
  {
   "cell_type": "code",
   "execution_count": 87,
   "id": "527ae94e",
   "metadata": {},
   "outputs": [
    {
     "name": "stdout",
     "output_type": "stream",
     "text": [
      "['_', 'o', 'r', 'l', 'a', 'a', 'a', 'n', 't', 'r', 's', 'c', 'a', 'r', 'n', '2', 'S', 'a', 'w', '1', '9', '2', '1', '0', '1', '7', '2', '8', '0', '0', '1', '2', 'a', 'e', 'a', '<', 'J', '°', '«', 'i', 'e', 'm', 'O', 'U', 'R', 'A', 'R', 'E', 'I', 'E', 'R', 'u', 'O', 'M', 'e', 'A', 'N', 'I', 'A', 'A', 'T', 'e', 'O', 'w', 'y', 'e', '€', 'a', 'a', 'n', 't', 'a', 'G', 'c', 'v', '—', 'I', 'D', 'O', 'R', 'M', 'I', 'A', 'L', 'Y', 'R', 'O', '8', 'l', 'e', 's', '5', 'I', 'D', 'O', 'R', '-', 'M', 'Z', 'H', 'A', 'L', 'Y', 'C', 'a', 'l', 'f', 'i', 'v', 'a', 'm', 'a', 'i', 'm', 'e', 'v', 'o', 'e', 'n', 'i', 'i', 't', 'a', 'i', 'N', 'o', 'u', 'e', 'n', 'a', 'l', 'l', 'i', 'i', 'y', '“', 'R', 'o', 'm', 'a', 'n', 'd', '/', 'R', 'O', 'U', 'f', 'f', '«', 'J', 'n', 'e', 'o', 'u', 's', 'M', 'u', 'r', 'o', 't', 'f', 'o', 'o', 'n', 'u', 'r', 'e', 's', '.', '@', ')', 'B', 'i', 'e', 'i', 'u', 'n', '.', 'T', 'r', 'e', 'y', 'a', 'u', 'r', 'e', 's', '|', 'D', 'o', 'n', 'm', 'e', 's', 'i', 't', 'i', 'e', 'n', 'l', 'a', 'd', 's', 'K', 'A', 'J', 'u', 'd', '.', 'l', 'S', 'a', 'i', 'a', '(', 'C', 'o', 'm', '.', 'L', 'i', 'v', 'e', 'z', 'e', 'n', '=', 'C', 'a', 'l', '.', 'R', 'o', 'm', 'a', 'n', 'd', 'n', 'r', '.', 'C', '5', 'E', 'm', 'i', 's', 'o', 'd', 'o', 'i', 'O', 'e', 'l', 'w', 'e', 's', 'p', 'o', 'd', 't', 's', 's', 'u', 'c', 'd', 'Y', 'o', 't', 'o', 't', 'b', 'i', 'l', 'l', 'i', 'e', '1', 'O', '.', 'F', '3', '2', '5', 'M', 's', 'S', 'P', 'C', 'L', 'E', 'P', 'T', 'g', 'l', 'u', 'r', 'e', 'g', '2', '2', '.', '1', '0', '.', '1', '8', '-', '1', '7', '.', '4', 'I', 'O', 'R', 'O', 'U', 'K', 'I', 'S', 'S', '<', '<', 'S', 'A', 'N', 'D', 'O', 'R', 'K', 'M', 'I', 'H', 'A', 'L', 'Y', '<', '<', '<', '<', 'K', '<', '<', '<', '<', '<', '2', '$', '0', '6', '3', '1', '6', '3', '<', '2', 'R', '0', 'U', '9', '2', '1', '0', '1', '7', '0', 'N', '2', '8', '1', '0', '1', '7', '9', '1', '2', '6', '0', '0', 'a', 'a', 'e', 's']\n"
     ]
    }
   ],
   "source": [
    "print(l)"
   ]
  },
  {
   "cell_type": "markdown",
   "id": "8519bc64",
   "metadata": {},
   "source": [
    "<h2>Detectie serie</h2>"
   ]
  },
  {
   "cell_type": "markdown",
   "id": "5b24e7eb",
   "metadata": {},
   "source": [
    "Algoritmul de mai jos are rolul de a detecta seria din buletin. Una dintre posibilele aplicații ale algoritmului ar fi putut detecta CNP-ul și blura cifrele acestuia, fiind afișate doar datele care nu sunt atât de compromițătoare, precum seria. Array-ul unidimensional de caractere este parcurs. Dacă se ajunge la un caracter numeric, se marchează începutul unui șir de numere, folosind variabila okLeft, și se salvează indexul poziției de început, în variabila left. Dacă șirul de numere citit aparține seriei, vor fi citite 6 numere, urmate de un caracter care nu este numeric. Se salvează și indexul poziției ultimei cifre care aparține seriei."
   ]
  },
  {
   "cell_type": "code",
   "execution_count": 80,
   "id": "9a6af856",
   "metadata": {},
   "outputs": [
    {
     "name": "stdout",
     "output_type": "stream",
     "text": [
      "322 330\n"
     ]
    }
   ],
   "source": [
    "cnt = 0\n",
    "maxx = 0\n",
    "count = 0\n",
    "okLeft = 0\n",
    "maxLeft = maxRight = 0\n",
    "for i in l:\n",
    "    if i.isnumeric() :\n",
    "        if okLeft == 0:\n",
    "            left = cnt\n",
    "            okLeft = 1\n",
    "        count = count + 1\n",
    "    else :\n",
    "        if count > maxx:\n",
    "            maxx = count\n",
    "            maxLeft = left\n",
    "            maxRight = cnt - 1\n",
    "            if count == 6:\n",
    "                break\n",
    "        count = 0\n",
    "        okLeft = 0\n",
    "    cnt = cnt + 1          \n",
    "print(maxLeft,maxRight)"
   ]
  },
  {
   "cell_type": "markdown",
   "id": "5b0a7521",
   "metadata": {},
   "source": [
    "Sunt afișate cifrele de la indexul poziției primei cifre din serie, până la indexul ultimei cifre din serie."
   ]
  },
  {
   "cell_type": "code",
   "execution_count": 20,
   "id": "94198bc8",
   "metadata": {},
   "outputs": [
    {
     "name": "stdout",
     "output_type": "stream",
     "text": [
      "1\n",
      "8\n",
      "8\n",
      "1\n",
      "1\n",
      "6\n"
     ]
    }
   ],
   "source": [
    "cnt = 0\n",
    "for i in l:\n",
    "    if cnt >= maxLeft and cnt <= maxRight:\n",
    "        print(i)\n",
    "    cnt = cnt + 1"
   ]
  },
  {
   "cell_type": "markdown",
   "id": "3d3401eb",
   "metadata": {},
   "source": [
    "Cifrele din serie au fost detectate și localizate. Pentru fiecare cifră, se preiau coordonatele x,y, width-ul și height-ul. Fiecare cifră va fi încadrată într-o imagine de 18X18. Scopul este crearea unei imagini de 28X28, astfel încât cifra șă fie cât mai mult centrată în imagine. Dacă cifra nu este centrată în imagine, clasificarea va fi greu de realizat. În jurul celor 18X18 pixeli cu cifra vor fi introduși pixeli negri pentru a umple imaginea de 28X28. Cifrele detectate au culoarea negru pe fundal alb. A fost necesară modificarea imaginii într-una cu cifre albe pe fundal negru, de aici scăderea fiecărei valori din imagine cu 255. Cele 6 imagini cu cifrele din serie vor fi salvate pentru a fi utilizate în rețeaua neuronală convoluțională.  "
   ]
  },
  {
   "cell_type": "code",
   "execution_count": 70,
   "id": "f0c90c6e",
   "metadata": {},
   "outputs": [
    {
     "name": "stdout",
     "output_type": "stream",
     "text": [
      "1000\n",
      "(18, 18)\n",
      "roi0.jpg\n",
      "['2', '214', '702', '230', '728', '0']\n",
      "(18, 18)\n",
      "roi1.jpg\n",
      "['7', '229', '702', '246', '728', '0']\n",
      "(18, 18)\n",
      "roi2.jpg\n",
      "['6', '247', '702', '263', '728', '0']\n",
      "(18, 18)\n",
      "roi3.jpg\n",
      "['0', '264', '702', '281', '728', '0']\n",
      "(18, 18)\n",
      "roi4.jpg\n",
      "['4', '282', '702', '298', '728', '0']\n",
      "(18, 18)\n",
      "roi5.jpg\n",
      "['2', '298', '702', '316', '730', '0']\n",
      "(18, 18)\n",
      "roi6.jpg\n",
      "['9', '316', '702', '333', '729', '0']\n",
      "(18, 18)\n",
      "roi7.jpg\n",
      "['2', '335', '704', '351', '730', '0']\n",
      "(18, 18)\n",
      "roi8.jpg\n",
      "['6', '352', '704', '368', '730', '0']\n",
      "(18, 18)\n",
      "roi9.jpg\n",
      "['4', '370', '704', '386', '730', '0']\n",
      "(18, 18)\n",
      "roi10.jpg\n",
      "['3', '387', '704', '403', '730', '0']\n",
      "(18, 18)\n",
      "roi11.jpg\n",
      "['8', '405', '704', '423', '731', '0']\n",
      "(18, 18)\n",
      "roi12.jpg\n",
      "['2', '424', '704', '440', '731', '0']\n",
      "2760429264382\n"
     ]
    },
    {
     "data": {
      "text/plain": [
       "-1"
      ]
     },
     "execution_count": 70,
     "metadata": {},
     "output_type": "execute_result"
    }
   ],
   "source": [
    "cnt = 0\n",
    "count = 0\n",
    "width = 18\n",
    "height = 18\n",
    "w1 = 28\n",
    "h1 = 28\n",
    "dim = (width,height)\n",
    "print(hImage)\n",
    "\n",
    "for b in boxes.splitlines():\n",
    "    b = b.split(' ')\n",
    "    if cnt >= maxLeft and cnt <= maxRight:\n",
    "        x,y,w,h = int(b[1]),int(b[2]),int(b[3]),int(b[4])\n",
    "        p1 = x\n",
    "        p2 = hImage - y\n",
    "        p3 = w\n",
    "        p4 = hImage - h\n",
    "        roi = img[hImage - h:hImage - y,x:w]\n",
    "        resized = cv2.resize(roi, dim, interpolation = cv2.INTER_AREA)\n",
    "        resized = cv2.cvtColor(resized, cv2.COLOR_BGR2GRAY)\n",
    "        resized = 255 - resized\n",
    "        canvas = np.zeros((28,28),dtype=int)\n",
    "        canvas[5:23, 5:23] = resized\n",
    "        name = \"roi\" + str(count) + \".jpg\"\n",
    "        cv2.imwrite(name,canvas)\n",
    "        image = cv2.rectangle(img,(p1,p2),(p3,p4),(255,0,0),1)\n",
    "        cv2.putText(img,b[0],(x,hImage - y + 25),cv2.FONT_HERSHEY_COMPLEX,1,(50,255,255),2)\n",
    "        cnp+=b[0]\n",
    "        print(resized.shape)\n",
    "        print(name)\n",
    "        print(b)\n",
    "        count = count + 1\n",
    "    cnt = cnt + 1\n",
    "print(cnp)\n",
    "cv2.imshow('Result',img)\n",
    "cv2.waitKey(0)  "
   ]
  },
  {
   "cell_type": "code",
   "execution_count": 71,
   "id": "a2bf1207",
   "metadata": {},
   "outputs": [],
   "source": [
    "# font\n",
    "font = cv2.FONT_HERSHEY_SIMPLEX\n",
    "  \n",
    "# org\n",
    "org = (int(wImage/2), 50)\n",
    "  \n",
    "# fontScale\n",
    "fontScale = 1\n",
    "   \n",
    "# Blue color in BGR\n",
    "color = (255, 0, 0)\n",
    "  \n",
    "# Line thickness of 2 px\n",
    "thickness = 2\n",
    "   \n",
    "# Using cv2.putText() method\n",
    "image = cv2.putText(img, 'CNP ' + cnp, org, font, \n",
    "                   fontScale, color, thickness, cv2.LINE_AA)"
   ]
  },
  {
   "cell_type": "code",
   "execution_count": 72,
   "id": "83a2f71c",
   "metadata": {},
   "outputs": [
    {
     "data": {
      "text/plain": [
       "-1"
      ]
     },
     "execution_count": 72,
     "metadata": {},
     "output_type": "execute_result"
    }
   ],
   "source": [
    "cv2.imshow(\"Img\",img)\n",
    "cv2.waitKey(0)"
   ]
  },
  {
   "cell_type": "markdown",
   "id": "d8142197",
   "metadata": {},
   "source": [
    "<h2>Detectie CNP</h2>"
   ]
  },
  {
   "cell_type": "markdown",
   "id": "e2939f2a",
   "metadata": {},
   "source": [
    "Caracterele au fost introduse într-un array unidimensional."
   ]
  },
  {
   "cell_type": "code",
   "execution_count": 17,
   "id": "14d310f3",
   "metadata": {},
   "outputs": [],
   "source": [
    "l = []\n",
    "for b in boxes.splitlines():\n",
    "    b = b.split(' ')\n",
    "    l.append(b[0])"
   ]
  },
  {
   "cell_type": "code",
   "execution_count": 18,
   "id": "47f7a8ba",
   "metadata": {},
   "outputs": [
    {
     "name": "stdout",
     "output_type": "stream",
     "text": [
      "['~', 'm', 'a', 'm', 'e', 'T', 'L', 'O', 'R', 'C', 'E', '7', '7', ']', 'R', 'O', 'M', '~', '~', 'o', 'i', 'f', 'i', 't', 'h', 'a', '“', 'E', 'a', 's', 'a', 'n', 'e', 'e', 'r', 'i', 'e', 'e', 'x', 'e', '2', '7', '6', '0', '4', '2', '9', '2', '6', '4', '3', '8', '2', '\\\\', 'A', 'n', 'o', 'e', 'M', 'm', '~', '\\\\', ')', 'E', 'O', 'K', 'O', 'L', '|', '4', 'e', 'r', 'e', 'C', 'u', 'c', 'a', 'm', 'o', 'i', 'P', 'r', 'o', 'n', 'e', 'a', 'y', 'F', 'L', 'A', 'a', 'g', 'a', 'A', 'D', 'R', 'I', 'A', 'N', 'A', '-', 'C', 'A', 'S', 'T', 'A', 'N', 'A', 'S', 'c', 'i', 'y', 'i', 'c', 'a', 'l', 'o', 'm', 'o', 'r', 'e', 'n', 'a', 'l', 'i', 'c', 'n', 'O', 'C', 'A', 'N', 'I', 'L', 'I', 'y', 'S', 'a', 'm', 'a', 'R', 'o', 'm', 'é', 'n', 'é', '/', 'R', 'O', 'U', '(', 'e', 's', 's', 'a', 'r', 'i', 'q', 'o', 'U', 'i', 'n', 'w', '€', 'o', 'a', 'o', 'S', 'C', 's', 'y', 'o', 'n', 'e', '@', 'f', 'B', 'l', 'o', 'g', 'h', 'J', 'u', 'd', '.', 'A', 'i', 's', 'M', 'u', 'a', '.', 'T', 'a', 'r', 'n', 'e', 'w', 'a', 'N', 'S', 'O', 'r', 'r', 'n', 'l', 'e', 'l', 'i', 'w', 'a', 'd', 'i', 'c', 'r', 'r', 'e', 'A', 'O', 'C', 'L', 'D', 'e', 'e', 'k', 'l', 'u', 'a', '.', 'P', 'a', 'i', 'r', 'g', 'u', '[', 'l', 'u', 'r', 'e', 's', '\\\\', 'o', 'm', 'e', 'S', 'e', 'r', 'I', 'n', 't', 'r', 'a', 't', 'i', 'c', 'l', 'n', 'r', '.', '1', '4', 'a', 'p', '.', 'C', 'a', 'i', 'L', '~', 'O', 'd', 'o', \"'\", 'B', 'e', 's', 'c', 'o', 'C', 'o', 'r', 't', 'e', 'a', 'n', 'c', 'd', 'b', 'y', 'V', 'o', 'l', 'o', 'D', 'e', 'n', 'e', 'W', 'a', 't', 'e', 'S', 'P', 'C', 'L', 'E', 'P', 'T', 'q', '.', 'M', 'u', 'r', 'e', 'g', '2', '3', ',', '0', '6', '.', '2', '1', '°', '2', '9', ',', '0', '¢', 'S', 'O', 'U', 'B', 'E', 'T', 'A', 'N', '<', '<', 'A', 'D', 'R', 'I', 'A', 'N', 'A', 'C', 'C', 'A', 'S', 'I', 'A', 'N', 'A', 'C', 'K', 'K', 'K', 'K', 'K', 'K', '1', '8', '8', '1', '1', '6', '<', '6', 'R', 'O', 'U', '7', '6', 'E', '0', '4', '2', '9', '0', 'F', '3', '1', '0', '6', '2', '9', '7', '2', '2', '6', '4', '3', '8', '~', '~', '~', '~', 'C', 'e', 'e']\n"
     ]
    }
   ],
   "source": [
    "print(l)"
   ]
  },
  {
   "cell_type": "markdown",
   "id": "96da6829",
   "metadata": {},
   "source": [
    "Algoritmul de mai jos are rolul de a detecta codul numeric personal din buletin. Array-ul unidimensional de caractere este parcurs. Dacă se ajunge la un caracter numeric, se marchează începutul unui șir de numere, folosind variabila okLeft, și se salvează indexul poziției de început, în variabila left. Dacă șirul de numere citit aparține CNP-ului, vor fi citite 13 numere, urmate de un caracter care nu este numeric. Se salvează și indexul poziției ultimei cifre care aparține CNP-ului."
   ]
  },
  {
   "cell_type": "code",
   "execution_count": 19,
   "id": "40f3ab4e",
   "metadata": {},
   "outputs": [
    {
     "name": "stdout",
     "output_type": "stream",
     "text": [
      "40 52\n"
     ]
    }
   ],
   "source": [
    "cnt = 0\n",
    "maxx = 0\n",
    "count = 0\n",
    "okLeft = 0\n",
    "maxLeft = maxRight = 0\n",
    "for i in l:\n",
    "    if i.isnumeric() :\n",
    "        if okLeft == 0:\n",
    "            left = cnt\n",
    "            okLeft = 1\n",
    "        count = count + 1\n",
    "    else :\n",
    "        if count > maxx:\n",
    "            maxx = count\n",
    "            maxLeft = left\n",
    "            maxRight = cnt - 1\n",
    "            if count == 13:\n",
    "                break\n",
    "        count = 0\n",
    "        okLeft = 0\n",
    "    cnt = cnt + 1          \n",
    "print(maxLeft,maxRight)"
   ]
  },
  {
   "cell_type": "code",
   "execution_count": 20,
   "id": "f1448309",
   "metadata": {},
   "outputs": [
    {
     "name": "stdout",
     "output_type": "stream",
     "text": [
      "2\n",
      "7\n",
      "6\n",
      "0\n",
      "4\n",
      "2\n",
      "9\n",
      "2\n",
      "6\n",
      "4\n",
      "3\n",
      "8\n",
      "2\n"
     ]
    }
   ],
   "source": [
    "cnt = 0\n",
    "for i in l:\n",
    "    if cnt >= maxLeft and cnt <= maxRight:\n",
    "        print(i)\n",
    "    cnt = cnt + 1"
   ]
  },
  {
   "cell_type": "markdown",
   "id": "717143cd",
   "metadata": {},
   "source": [
    "Cifrele din CNP au fost detectate și localizate. Pentru fiecare cifră, se preiau coordonatele x,y, width-ul și height-ul. Fiecare cifră va fi încadrată într-o imagine de 18X18. Scopul este crearea unei imagini de 28X28, astfel încât cifra șă fie cât mai mult centrată în imagine. Dacă cifra nu este centrată în imagine, clasificarea va fi greu de realizat. În jurul celor 18X18 pixeli cu cifra vor fi introduși pixeli negri pentru a umple imaginea de 28X28. Cifrele detectate au culoarea negru pe fundal alb. A fost necesară modificarea imaginii într-una cu cifre albe pe fundal negru, de aici scăderea fiecărei valori din imagine cu 255. Cele 13 imagini cu cifrele din serie vor fi salvate pentru a fi utilizate în rețeaua neuronală convoluțională.  "
   ]
  },
  {
   "cell_type": "code",
   "execution_count": 21,
   "id": "2ef140ab",
   "metadata": {},
   "outputs": [
    {
     "name": "stdout",
     "output_type": "stream",
     "text": [
      "1000\n",
      "['2', '214', '702', '230', '728', '0']\n",
      "['7', '229', '702', '246', '728', '0']\n",
      "['6', '247', '702', '263', '728', '0']\n",
      "['0', '264', '702', '281', '728', '0']\n",
      "['4', '282', '702', '298', '728', '0']\n",
      "['2', '298', '702', '316', '730', '0']\n",
      "['9', '316', '702', '333', '729', '0']\n",
      "['2', '335', '704', '351', '730', '0']\n",
      "['6', '352', '704', '368', '730', '0']\n",
      "['4', '370', '704', '386', '730', '0']\n",
      "['3', '387', '704', '403', '730', '0']\n",
      "['8', '405', '704', '423', '731', '0']\n",
      "['2', '424', '704', '440', '731', '0']\n",
      "2760429264382\n"
     ]
    },
    {
     "data": {
      "text/plain": [
       "-1"
      ]
     },
     "execution_count": 21,
     "metadata": {},
     "output_type": "execute_result"
    }
   ],
   "source": [
    "cnt = 0\n",
    "count = 0\n",
    "\n",
    "width = 18\n",
    "height = 18\n",
    "\n",
    "dim = (width,height)\n",
    "cnp = ''\n",
    "print(hImage)\n",
    "for b in boxes.splitlines():\n",
    "    b = b.split(' ')\n",
    "    if cnt >= maxLeft and cnt <= maxRight:\n",
    "        x,y,w,h = int(b[1]),int(b[2]),int(b[3]),int(b[4])\n",
    "        p1 = x\n",
    "        p2 = hImage - y\n",
    "        p3 = w\n",
    "        p4 = hImage - h\n",
    "        roi = img[hImage - h:hImage - y,x:w]\n",
    "        resized = cv2.resize(roi, dim, interpolation = cv2.INTER_AREA)\n",
    "        resized = cv2.cvtColor(resized, cv2.COLOR_BGR2GRAY)\n",
    "        resized = 255 - resized\n",
    "        canvas = np.zeros((28,28),dtype=int)\n",
    "        canvas[5:23, 5:23] = resized\n",
    "        name = \"cnp\" + str(count) + \".jpg\"\n",
    "        cv2.imwrite(name,canvas)\n",
    "        image2 = img.copy()\n",
    "        #image = cv2.rectangle(img,(p1,p2),(p3,p4),(255,0,0),1)\n",
    "        cv2.putText(img,b[0],(x,hImage - y + 25),cv2.FONT_HERSHEY_COMPLEX,1,(50,255,255),2)\n",
    "        cnp += b[0]\n",
    "        #img[hImage - h:hImage - y,x:w] = cv2.blur(img[hImage - h:hImage - y,x:w], (23, 23))\n",
    "        print(b)\n",
    "        count = count + 1\n",
    "    cnt = cnt + 1\n",
    "#cv2.rectangle(img,(p1f,p2f),(p3f,p4f),(255,0,0),-1)\n",
    "print(cnp)\n",
    "cv2.imshow('Result',img)\n",
    "cv2.waitKey(0)  "
   ]
  },
  {
   "cell_type": "code",
   "execution_count": 22,
   "id": "62523678",
   "metadata": {},
   "outputs": [],
   "source": [
    "start_point = (0, 0) \n",
    "end_point = (370, 100) \n",
    "  \n",
    "# Blue color in BGR \n",
    "color = (0, 0, 0) \n",
    "  \n",
    "# Line thickness of 2 px \n",
    "thickness = 2\n",
    "  \n",
    "# Using cv2.rectangle() method \n",
    "# Draw a rectangle with blue line borders of thickness of 2 px \n",
    "image = cv2.rectangle(img, start_point, end_point, color, -1) "
   ]
  },
  {
   "cell_type": "code",
   "execution_count": 23,
   "id": "61f49457",
   "metadata": {},
   "outputs": [],
   "source": [
    "# font\n",
    "font = cv2.FONT_HERSHEY_SIMPLEX\n",
    "  \n",
    "# org\n",
    "org = (10, 50)\n",
    "  \n",
    "# fontScale\n",
    "fontScale = 1\n",
    "   \n",
    "# Blue color in BGR\n",
    "color = (255, 255, 255)\n",
    "  \n",
    "# Line thickness of 2 px\n",
    "thickness = 2\n",
    "   \n",
    "# Using cv2.putText() method\n",
    "image = cv2.putText(img, 'CNP ' + cnp, org, font, \n",
    "                   fontScale, color, thickness, cv2.LINE_AA)"
   ]
  },
  {
   "cell_type": "code",
   "execution_count": 24,
   "id": "42bc873a",
   "metadata": {},
   "outputs": [
    {
     "data": {
      "text/plain": [
       "-1"
      ]
     },
     "execution_count": 24,
     "metadata": {},
     "output_type": "execute_result"
    }
   ],
   "source": [
    "cv2.imshow(\"Img\",img)\n",
    "cv2.waitKey(0)"
   ]
  }
 ],
 "metadata": {
  "kernelspec": {
   "display_name": "Python 3",
   "language": "python",
   "name": "python3"
  },
  "language_info": {
   "codemirror_mode": {
    "name": "ipython",
    "version": 3
   },
   "file_extension": ".py",
   "mimetype": "text/x-python",
   "name": "python",
   "nbconvert_exporter": "python",
   "pygments_lexer": "ipython3",
   "version": "3.8.8"
  }
 },
 "nbformat": 4,
 "nbformat_minor": 5
}
