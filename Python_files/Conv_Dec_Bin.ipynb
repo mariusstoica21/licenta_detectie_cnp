{
 "cells": [
  {
   "cell_type": "markdown",
   "id": "d6e49524",
   "metadata": {},
   "source": [
    "<h1>Binary representation of floating point numbers</h1>"
   ]
  },
  {
   "cell_type": "markdown",
   "id": "c171098a",
   "metadata": {},
   "source": [
    "Script-ul de față are rolul de a converti numerele din virgulă mobilă în reprezentarea fixed point numbers."
   ]
  },
  {
   "cell_type": "code",
   "execution_count": 2,
   "id": "50f47b0b",
   "metadata": {},
   "outputs": [],
   "source": [
    "def complement(x):\n",
    "    c1 = ''\n",
    "    for i in x:\n",
    "        if (i == '0') :\n",
    "            c1 = c1 + '1' \n",
    "        else :\n",
    "            c1 = c1 + '0'\n",
    "    return c1"
   ]
  },
  {
   "cell_type": "markdown",
   "id": "2e2d8436",
   "metadata": {},
   "source": [
    "<h3>Funcția convInt(pi)</h3><br>\n",
    "Se va continua conversia numerelor pe exemplul cu valorile 1.5, respectiv -2.3. Pentru valoarea 1.5 se va apela convInt(1), iar pentru -2.3, se va apela convInt(-3). Pentru convInt(1), se va verifica dacă valoarea transmisă ca și parametru este mai mare sau egală cu 0, caz în care este convertită în binar, pe 8 biți. Astfel, pib (partea întreagă binar) va fi 0000 0001. Dacă valoarea transmisă ca și parametru este mai mică decât 0, precum în cazul convInt(-3), se va converti, în primă fază, în - (x), adică 3. Valoarea 3 va fi reprezentată în binar, pe 8 biți, pib = 0000 0011. Se va calcula complementul lui pib, practic biții de 0 vor deveni 1, iar biții de 1 vor deveni 0. Astfel, complementul lui 0000 0011 va fi 1111 1100. Se va adăuga 1 la complement, iar valoarea finală va fi partea întreagă binară a numărului -2.3, adică 1111 1101.  "
   ]
  },
  {
   "cell_type": "markdown",
   "id": "22e6aa50",
   "metadata": {},
   "source": [
    "convert(1.5)  => convInt(1)  => 0000 0001<br>\n",
    "convert(-2.3) => convInt(-3) => 1111 1101"
   ]
  },
  {
   "cell_type": "code",
   "execution_count": 3,
   "id": "6086c897",
   "metadata": {},
   "outputs": [],
   "source": [
    "def convInt(pi):\n",
    "    if (pi>=0):\n",
    "        pib = \"{0:08b}\".format(pi)\n",
    "    else :\n",
    "        pipoz = -pi;\n",
    "        pib = \"{0:08b}\".format(pipoz)\n",
    "        c1 = complement(pib)\n",
    "        bc1 = bin(int(c1, 2))\n",
    "        final = bin(int(bc1,2) + int('00000001',2))\n",
    "        pib = final[2:]\n",
    "        pib = str(pib).zfill(8)\n",
    "    return pib"
   ]
  },
  {
   "cell_type": "markdown",
   "id": "41f256dd",
   "metadata": {},
   "source": [
    "<h3>Funcția convFrac(x)</h3><br>\n",
    "Se va continua conversia numerelor pe exemplul cu valorile 1.5, respectiv -2.3. Pentru valoarea 1.5 se va apela convFrac(0.5), iar pentru -2.3, se va apela convFrac(0.7). Se vor compune, rând pe rând, cei 8 biți ai părții fracționale. Se va calcula dublul lui 0.5. Dacă dublul este mai mare sau egal cu 1, atunci bitul corespunzător poziției va fi 1, și se va scădea 1 din valoarea dublului. Dacă dublul este mai mic decât 1, atunci bitul corespunzător poziției va fi 0. Acțiunea se repetă de 8 ori, pentru fiecare bit al părții fracționale. Astfel, după conversie, valoarea lui convFrac(0.5) va fi 1000 000, în timp ce valoarea lui convFrac(0.7) va fi 1011 0011."
   ]
  },
  {
   "cell_type": "code",
   "execution_count": 10,
   "id": "650410de",
   "metadata": {},
   "outputs": [
    {
     "data": {
      "text/plain": [
       "'10110011'"
      ]
     },
     "execution_count": 10,
     "metadata": {},
     "output_type": "execute_result"
    }
   ],
   "source": [
    "convFrac(0.7)"
   ]
  },
  {
   "cell_type": "code",
   "execution_count": 4,
   "id": "677572a4",
   "metadata": {},
   "outputs": [],
   "source": [
    "def convFrac(x):\n",
    "    double = x\n",
    "    arr = []\n",
    "    bits = []\n",
    "    contor = 0\n",
    "    n = 8\n",
    "    s = ''\n",
    "    while(contor != n):\n",
    "        double = double * 2\n",
    "        if(double >= 1):\n",
    "            bits.append('1')\n",
    "            double = double - 1\n",
    "        else :\n",
    "            bits.append('0')\n",
    "        double = float(\"{:.8f}\".format(double))\n",
    "        arr.append(double)\n",
    "        contor = contor + 1\n",
    "    for i in bits:\n",
    "        s += i\n",
    "    return s"
   ]
  },
  {
   "cell_type": "markdown",
   "id": "7f3c601e",
   "metadata": {},
   "source": [
    "<h3>Funcția convert(x)</h3><br>\n",
    "Dacă x este un număr pozitiv, partea întreagă a lui x va fi int(x), iar partea fracțională va fi x - int(x). De exemplu, pentru 1.5, partea înteagă este int(1.5) adică 1, iar partea fracțională este 1.5 - int(1.5), adică 1.5 - 1, care este egal cu 0.5. Dacă x este un număr negativ, cu partea fracțională diferită de 0.0, atunci partea întreagă se va calcula ca fiind int(x) - 1, iar partea fracțională va fi 1 + (x - int(x)). De exemplu, pentru numărul -2.3, partea întreagă va fi -2.0 - 1, adică -3, iar partea fracțională va fi 1 + (-2.3 - (-2)), adică 1 + (-0.3), adică 0.7. \n",
    "Pe cele două valori, pi (partea întreagă) și pf (partea fracțională), se vor aplica funcțiile convInt(pi) și convFrac(pf), care vor converti cele două părți în valori fixed point. După conversia celor două părți, în câte 8 biți fiecare, acestea se vor concatena și vor compune un singur număr, valoarea conversiei din virgulă mobilă în fixed point representation."
   ]
  },
  {
   "cell_type": "markdown",
   "id": "b6888fb8",
   "metadata": {},
   "source": [
    "convert(1.5) =>  pi = 1  | pf = 0.5 <br>\n",
    "convert(-2.3) => pi = -3 | pf = 0.7"
   ]
  },
  {
   "cell_type": "code",
   "execution_count": 5,
   "id": "d721cf69",
   "metadata": {},
   "outputs": [],
   "source": [
    "def convert(x):\n",
    "    pi = int(x)\n",
    "    pf = float(\"{:.8f}\".format(x - int(x)))\n",
    "    if(x<0):\n",
    "        if pf != 0.0:\n",
    "            pi = pi - 1\n",
    "            pf = -pf\n",
    "            pf = 1 - pf\n",
    "            pf = float(\"{:.8f}\".format(pf))\n",
    "    bi = convInt(pi)\n",
    "    bf = convFrac(pf)\n",
    "    s = bi + bf\n",
    "    return s"
   ]
  },
  {
   "cell_type": "code",
   "execution_count": 11,
   "id": "9c2ecb3d",
   "metadata": {},
   "outputs": [
    {
     "data": {
      "text/plain": [
       "'1111001000110000'"
      ]
     },
     "execution_count": 11,
     "metadata": {},
     "output_type": "execute_result"
    }
   ],
   "source": [
    "convert(-13.8125)"
   ]
  },
  {
   "cell_type": "code",
   "execution_count": 7,
   "id": "f453f37f",
   "metadata": {},
   "outputs": [
    {
     "data": {
      "text/plain": [
       "-22.884300000000003"
      ]
     },
     "execution_count": 7,
     "metadata": {},
     "output_type": "execute_result"
    }
   ],
   "source": [
    "5.41 * -4.23"
   ]
  },
  {
   "cell_type": "code",
   "execution_count": 6,
   "id": "2114e37b",
   "metadata": {},
   "outputs": [
    {
     "name": "stdout",
     "output_type": "stream",
     "text": [
      "1111111010100110\n",
      "1111110110011110\n",
      "1111111100110011\n",
      "0000010010110011\n",
      "1111011111001100\n"
     ]
    }
   ],
   "source": [
    "a = convert(-1.35)\n",
    "b = convert(-2.38)\n",
    "c = convert(-0.8)\n",
    "d = convert(4.7)\n",
    "e = convert(-8.2)\n",
    "print(a)\n",
    "print(b)\n",
    "print(c)\n",
    "print(d)\n",
    "print(e)"
   ]
  },
  {
   "cell_type": "code",
   "execution_count": 16,
   "id": "e40d4876",
   "metadata": {},
   "outputs": [
    {
     "data": {
      "text/plain": [
       "-3.73"
      ]
     },
     "execution_count": 16,
     "metadata": {},
     "output_type": "execute_result"
    }
   ],
   "source": [
    "-1.35-2.38"
   ]
  },
  {
   "cell_type": "code",
   "execution_count": 17,
   "id": "701cef39",
   "metadata": {},
   "outputs": [
    {
     "data": {
      "text/plain": [
       "'1111110001000101'"
      ]
     },
     "execution_count": 17,
     "metadata": {},
     "output_type": "execute_result"
    }
   ],
   "source": [
    "convert(-3.73)"
   ]
  },
  {
   "cell_type": "code",
   "execution_count": 15,
   "id": "0444eb1e",
   "metadata": {},
   "outputs": [
    {
     "name": "stdout",
     "output_type": "stream",
     "text": [
      "0000001100110110\n"
     ]
    }
   ],
   "source": [
    "print(convert(3.213))"
   ]
  },
  {
   "cell_type": "code",
   "execution_count": 18,
   "id": "394f7fe1",
   "metadata": {},
   "outputs": [
    {
     "data": {
      "text/plain": [
       "3.213"
      ]
     },
     "execution_count": 18,
     "metadata": {},
     "output_type": "execute_result"
    }
   ],
   "source": [
    "1.35*2.38"
   ]
  },
  {
   "cell_type": "code",
   "execution_count": 16,
   "id": "54867c69",
   "metadata": {},
   "outputs": [
    {
     "name": "stdout",
     "output_type": "stream",
     "text": [
      "-3.2699999999999996 -99.06321600000001\n"
     ]
    }
   ],
   "source": [
    "print(suma,produs)"
   ]
  },
  {
   "cell_type": "code",
   "execution_count": 17,
   "id": "1c17b066",
   "metadata": {},
   "outputs": [
    {
     "data": {
      "text/plain": [
       "'1001110011101111'"
      ]
     },
     "execution_count": 17,
     "metadata": {},
     "output_type": "execute_result"
    }
   ],
   "source": [
    "convert(produs)"
   ]
  },
  {
   "cell_type": "code",
   "execution_count": 18,
   "id": "cf20ef9a",
   "metadata": {},
   "outputs": [
    {
     "data": {
      "text/plain": [
       "'1111011110111010'"
      ]
     },
     "execution_count": 18,
     "metadata": {},
     "output_type": "execute_result"
    }
   ],
   "source": [
    "convert(-8.27)"
   ]
  },
  {
   "cell_type": "code",
   "execution_count": 19,
   "id": "159d6947",
   "metadata": {},
   "outputs": [
    {
     "name": "stdout",
     "output_type": "stream",
     "text": [
      "1111011111001100\n"
     ]
    }
   ],
   "source": [
    "print(e)"
   ]
  }
 ],
 "metadata": {
  "kernelspec": {
   "display_name": "Python 3",
   "language": "python",
   "name": "python3"
  },
  "language_info": {
   "codemirror_mode": {
    "name": "ipython",
    "version": 3
   },
   "file_extension": ".py",
   "mimetype": "text/x-python",
   "name": "python",
   "nbconvert_exporter": "python",
   "pygments_lexer": "ipython3",
   "version": "3.8.8"
  }
 },
 "nbformat": 4,
 "nbformat_minor": 5
}
